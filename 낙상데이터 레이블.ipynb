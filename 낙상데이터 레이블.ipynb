{
 "cells": [
  {
   "cell_type": "code",
   "execution_count": 1,
   "id": "5303b345",
   "metadata": {},
   "outputs": [],
   "source": [
    "from scipy import io\n",
    "import numpy as np\n",
    "import matplotlib.pyplot as plt\n",
    "import matplotlib.animation as animation\n",
    "from sklearn.metrics import roc_curve, auc"
   ]
  },
  {
   "cell_type": "code",
   "execution_count": 2,
   "id": "61879bd0",
   "metadata": {},
   "outputs": [
    {
     "name": "stdout",
     "output_type": "stream",
     "text": [
      "---------------------------------\n",
      "---------------------------------\n",
      "(880, 768)\n",
      "(1000, 768)\n",
      "(1420, 768)\n",
      "(930, 768)\n",
      "(1340, 768)\n",
      "(1410, 768)\n",
      "(1270, 768)\n",
      "(930, 768)\n",
      "(950, 768)\n",
      "(940, 768)\n",
      "(1100, 768)\n",
      "(1110, 768)\n",
      "(1160, 768)\n",
      "(1020, 768)\n",
      "(1230, 768)\n",
      "---------------------------------\n",
      "(2900, 768)\n",
      "(1730, 768)\n",
      "(1970, 768)\n",
      "(1380, 768)\n",
      "(1250, 768)\n",
      "(1100, 768)\n",
      "(980, 768)\n",
      "(1250, 768)\n",
      "(990, 768)\n",
      "(1290, 768)\n",
      "(980, 768)\n",
      "(1260, 768)\n",
      "(1050, 768)\n",
      "(1210, 768)\n",
      "(1150, 768)\n",
      "---------------------------------\n",
      "(1010, 768)\n",
      "(960, 768)\n",
      "(1100, 768)\n",
      "(910, 768)\n",
      "(1015, 768)\n",
      "(1069, 768)\n",
      "(1290, 768)\n",
      "(940, 768)\n",
      "(1239, 768)\n",
      "(1240, 768)\n",
      "(1005, 768)\n",
      "(1130, 768)\n",
      "(1240, 768)\n",
      "(1215, 768)\n",
      "(1614, 768)\n",
      "---------------------------------\n",
      "---------------------------------\n",
      "(760, 768)\n",
      "(850, 768)\n",
      "(680, 768)\n",
      "(840, 768)\n",
      "(1230, 768)\n",
      "(1200, 768)\n",
      "(1000, 768)\n",
      "(830, 768)\n",
      "(810, 768)\n",
      "(870, 768)\n",
      "(1090, 768)\n",
      "(810, 768)\n",
      "(740, 768)\n",
      "(1001, 768)\n",
      "(970, 768)\n",
      "---------------------------------\n",
      "(710, 768)\n",
      "(760, 768)\n",
      "(620, 768)\n",
      "(510, 768)\n",
      "(1110, 768)\n",
      "(920, 768)\n",
      "(1050, 768)\n",
      "(730, 768)\n",
      "(560, 768)\n",
      "(680, 768)\n",
      "(930, 768)\n",
      "(610, 768)\n",
      "(690, 768)\n",
      "(630, 768)\n",
      "(730, 768)\n",
      "---------------------------------\n",
      "(1000, 768)\n",
      "(870, 768)\n",
      "(860, 768)\n",
      "(760, 768)\n",
      "(1250, 768)\n",
      "(1270, 768)\n",
      "(1000, 768)\n",
      "(760, 768)\n",
      "(970, 768)\n",
      "(890, 768)\n",
      "(970, 768)\n",
      "(720, 768)\n",
      "(910, 768)\n",
      "(870, 768)\n",
      "(990, 768)\n"
     ]
    }
   ],
   "source": [
    "cnt = 0\n",
    "\n",
    "i = 1\n",
    "j = 1\n",
    "z = 1\n",
    "for i in range(1,3):\n",
    "    print('---------------------------------')\n",
    "    for j in range(1,4):\n",
    "        print('---------------------------------')\n",
    "        for z in range(1,16):\n",
    "            if(z < 10 and z > 0):\n",
    "                mat_file = io.loadmat(f'./sensors-19-04565-s001/eHomeSeniors dataset/melexis sensor/datos matlab/melexis-G{i}-{j}-f0{z}-data.mat')\n",
    "                print(mat_file.get(f'melexisG{i}{j}f0{z}').shape)\n",
    "                cnt += mat_file.get(f'melexisG{i}{j}f0{z}').shape[0]\n",
    "            else:\n",
    "                mat_file = io.loadmat(f'./sensors-19-04565-s001/eHomeSeniors dataset/melexis sensor/datos matlab/melexis-G{i}-{j}-f{z}-data.mat')\n",
    "                print(mat_file.get(f'melexisG{i}{j}f{z}').shape)\n",
    "                cnt += mat_file.get(f'melexisG{i}{j}f{z}').shape[0]\n",
    "           \n",
    "                \n",
    "            \n",
    "#mat_file = io.loadmat('./sensors-19-04565-s001/eHomeSeniors dataset/melexis sensor/datos matlab/melexis-G1-1-f01-data.mat')"
   ]
  },
  {
   "cell_type": "code",
   "execution_count": 3,
   "id": "54767c27",
   "metadata": {},
   "outputs": [
    {
     "data": {
      "text/plain": [
       "93168"
      ]
     },
     "execution_count": 3,
     "metadata": {},
     "output_type": "execute_result"
    }
   ],
   "source": [
    "cnt"
   ]
  },
  {
   "cell_type": "code",
   "execution_count": 4,
   "id": "261e7c42",
   "metadata": {},
   "outputs": [],
   "source": [
    "# # melexis folder save\n",
    "# import os\n",
    "\n",
    "# current_path = os.getcwd()\n",
    "# os.makedirs(current_path + \"/\" + \"melexisSensor\")\n",
    "# for i in range(1,3):\n",
    "#     for j in range(1,4):\n",
    "#         for z in range(1, 16):\n",
    "#             if(z < 10 and z > 0):\n",
    "#                 os.makedirs(current_path + \"/melexisSensor/\" + f'melexisG{i}{j}f0{z}')\n",
    "                \n",
    "#             else:\n",
    "#                 os.makedirs(current_path + \"/melexisSensor/\" + f'melexisG{i}{j}f0{z}')"
   ]
  },
  {
   "cell_type": "code",
   "execution_count": 5,
   "id": "ca415026",
   "metadata": {},
   "outputs": [],
   "source": [
    "# for i in range(2,3):\n",
    "#     for j in range(1,4):\n",
    "#         for z in range(1,16):\n",
    "#             if(z < 10 and z > 0):\n",
    "#                 mat_file = io.loadmat(f'./sensors-19-04565-s001/eHomeSeniors dataset/melexis sensor/datos matlab/melexis-G{i}-{j}-f0{z}-data.mat')\n",
    "#                 print(mat_file.get(f'melexisG{i}{j}f0{z}').shape)\n",
    "#                 fig = plt.rcParams['figure.figsize'] = [24, 32]\n",
    "#                 for img in range(len(mat_file.get(f'melexisG{i}{j}f0{z}'))):\n",
    "#                     melexis_img = np.array(mat_file.get(f'melexisG{i}{j}f0{z}')[img]).reshape(24,32)\n",
    "#                     ax = plt.imshow(melexis_img, vmin=17,vmax=23,cmap='viridis', interpolation='nearest')\n",
    "#                     plt.savefig(f'./melexisSensor/melexisG{i}{j}f0{z}/{img}.png', vmin=17,vmax=23,cmap='viridis' ,interpolation='nearest', dpi=50)\n",
    "#                     plt.close()\n",
    "#             else:\n",
    "#                 mat_file = io.loadmat(f'./sensors-19-04565-s001/eHomeSeniors dataset/melexis sensor/datos matlab/melexis-G{i}-{j}-f{z}-data.mat')\n",
    "#                 print(mat_file.get(f'melexisG{i}{j}f{z}').shape)\n",
    "#                 fig = plt.rcParams['figure.figsize'] = [24, 32]\n",
    "#                 for img in range(len(mat_file.get(f'melexisG{i}{j}f0{z}'))):\n",
    "#                     melexis_img = np.array(mat_file.get(f'melexisG{i}{j}f0{z}')[img]).reshape(24,32)\n",
    "#                     ax = plt.imshow(melexis_img, vmin=17,vmax=23,cmap='viridis', interpolation='nearest')\n",
    "#                     plt.savefig(f'./melexisSensor/melexisG{i}{j}f0{z}/{img}.png', vmin=17,vmax=23,cmap='viridis' ,interpolation='nearest', dpi=50)\n",
    "#                     plt.close()"
   ]
  },
  {
   "cell_type": "code",
   "execution_count": 6,
   "id": "3e517142",
   "metadata": {},
   "outputs": [],
   "source": [
    "def data_merge(data,x1, x2, x3, x4, x5, x6,x7, x8, x9, x10):\n",
    "    data.loc[0:x1-1,'label'] = 0\n",
    "    data.loc[x1:x2,'label'] = 1\n",
    "    data.loc[x2+1:x3-1,'label'] = 0 \n",
    "    data.loc[x3:x4,'label'] = 1 \n",
    "    data.loc[x4+1:x5-1,'label'] = 0 \n",
    "    data.loc[x5:x6,'label'] = 1\n",
    "    data.loc[x6+1:x7-1,'label'] = 0 \n",
    "    data.loc[x7:x8,'label'] = 1\n",
    "    data.loc[x8+1:x9-1,'label'] = 0 \n",
    "    data.loc[x9:x10,'label'] = 1\n",
    "    data.loc[x10 +1:,'label'] = 0\n",
    "    return data\n",
    "\n",
    "def data_merge2(data,x1, x2, x3, x4, x5, x6,x7, x8, x9, x10,x11,x12):\n",
    "    data.loc[0:x1-1,'label'] = 0\n",
    "    data.loc[x1:x2,'label'] = 1\n",
    "    data.loc[x2+1:x3-1,'label'] = 0 \n",
    "    data.loc[x3:x4,'label'] = 1 \n",
    "    data.loc[x4+1:x5-1,'label'] = 0 \n",
    "    data.loc[x5:x6,'label'] = 1\n",
    "    data.loc[x6+1:x7-1,'label'] = 0 \n",
    "    data.loc[x7:x8,'label'] = 1\n",
    "    data.loc[x8+1:x9-1,'label'] = 0 \n",
    "    data.loc[x9:x10,'label'] = 1\n",
    "    data.loc[x10 +1:x11-1,'label'] = 0\n",
    "    data.loc[x11:x12,'label'] = 1\n",
    "    data.loc[x12 +1:,'label'] = 0\n",
    "    return data"
   ]
  },
  {
   "cell_type": "markdown",
   "id": "889b69d1",
   "metadata": {},
   "source": [
    "## G11 지원자의 DataFrame"
   ]
  },
  {
   "cell_type": "code",
   "execution_count": 7,
   "id": "d37cb148",
   "metadata": {},
   "outputs": [
    {
     "name": "stdout",
     "output_type": "stream",
     "text": [
      "[[17.81 17.69 18.23 ... 20.01 18.87 19.17]\n",
      " [17.77 17.77 18.17 ... 20.03 21.55 19.19]\n",
      " [17.91 17.85 18.13 ... 20.07 20.83 19.07]\n",
      " ...\n",
      " [17.75 18.07 18.31 ... 19.67 18.79 17.57]\n",
      " [17.79 18.09 18.37 ... 19.73 18.79 17.91]\n",
      " [17.81 18.17 18.35 ... 19.71 18.77 18.17]]\n",
      "17.81\n"
     ]
    }
   ],
   "source": [
    "import pandas as pd\n",
    "import csv\n",
    "\n",
    "mat_file_G11_io = io.loadmat('./sensors-19-04565-s001/eHomeSeniors dataset/melexis sensor/datos matlab/melexis-G1-1-f01-data.mat')\n",
    "print(mat_file_G11_io.get('melexisG11f01'))\n",
    "print(mat_file_G11_io.get('melexisG11f01')[0][0])\n",
    "G11data1 = pd.DataFrame(mat_file_G11_io.get('melexisG11f01'))\n",
    "G11data1 = data_merge(G11data1,154, 195, 300, 336, 466, 493, 580, 666, 764, 823)\n",
    "\n",
    "mat_file_G11_io2 = io.loadmat('./sensors-19-04565-s001/eHomeSeniors dataset/melexis sensor/datos matlab/melexis-G1-1-f02-data.mat')\n",
    "G11data2 = pd.DataFrame(mat_file_G11_io2.get('melexisG11f02'))\n",
    "G11data2 = data_merge(G11data2,47, 127, 260, 334, 439, 500, 662, 725, 880, 951)\n",
    "\n",
    "mat_file_G11_io3 = io.loadmat('./sensors-19-04565-s001/eHomeSeniors dataset/melexis sensor/datos matlab/melexis-G1-1-f03-data.mat')\n",
    "G11data3 = pd.DataFrame(mat_file_G11_io3.get('melexisG11f03'))\n",
    "G11data3 = data_merge(G11data3,209, 289, 411, 466, 873, 930, 1130, 1184, 1292, 1340)\n",
    "\n",
    "mat_file_G11_io4 = io.loadmat('./sensors-19-04565-s001/eHomeSeniors dataset/melexis sensor/datos matlab/melexis-G1-1-f04-data.mat')\n",
    "G11data4 = pd.DataFrame(mat_file_G11_io4.get('melexisG11f04'))\n",
    "G11data4 = data_merge(G11data4,212, 255, 371, 411, 496, 548, 673, 718, 812, 873)\n",
    "\n",
    "mat_file_G11_io5 = io.loadmat('./sensors-19-04565-s001/eHomeSeniors dataset/melexis sensor/datos matlab/melexis-G1-1-f05-data.mat')\n",
    "G11data5 = pd.DataFrame(mat_file_G11_io5.get('melexisG11f05'))\n",
    "G11data5 = data_merge(G11data5,176, 212, 366, 415, 510, 556, 815, 873, 1070, 1143)\n",
    "\n",
    "mat_file_G11_io6 = io.loadmat('./sensors-19-04565-s001/eHomeSeniors dataset/melexis sensor/datos matlab/melexis-G1-1-f06-data.mat')\n",
    "G11data6 = pd.DataFrame(mat_file_G11_io6.get('melexisG11f06'))\n",
    "G11data6 = data_merge2(G11data6,20, 66, 440, 503, 670, 721, 928, 988, 1104, 1151,1301,1409)\n",
    "\n",
    "mat_file_G11_io7 = io.loadmat('./sensors-19-04565-s001/eHomeSeniors dataset/melexis sensor/datos matlab/melexis-G1-1-f07-data.mat')\n",
    "G11data7 = pd.DataFrame(mat_file_G11_io7.get('melexisG11f07'))\n",
    "G11data7 = data_merge(G11data7,148, 199, 414, 459, 608, 668, 976, 1010, 1175, 1269)\n",
    "\n",
    "mat_file_G11_io8 = io.loadmat('./sensors-19-04565-s001/eHomeSeniors dataset/melexis sensor/datos matlab/melexis-G1-1-f08-data.mat')\n",
    "G11data8 = pd.DataFrame(mat_file_G11_io8.get('melexisG11f08'))\n",
    "G11data8 = data_merge(G11data8,212, 270, 372, 414, 505, 557, 645, 719, 830, 881)\n",
    "\n",
    "mat_file_G11_io9 = io.loadmat('./sensors-19-04565-s001/eHomeSeniors dataset/melexis sensor/datos matlab/melexis-G1-1-f09-data.mat')\n",
    "G11data9 = pd.DataFrame(mat_file_G11_io9.get('melexisG11f09'))\n",
    "G11data9 = data_merge(G11data9,186, 231, 378, 417, 512, 565, 701, 749, 863, 938)\n",
    "\n",
    "mat_file_G11_io10 = io.loadmat('./sensors-19-04565-s001/eHomeSeniors dataset/melexis sensor/datos matlab/melexis-G1-1-f10-data.mat')\n",
    "G11data10 = pd.DataFrame(mat_file_G11_io10.get('melexisG11f10'))\n",
    "G11data10 = data_merge(G11data10,147, 196, 320, 350, 484, 525, 655, 700, 825, 900)\n",
    "\n",
    "mat_file_G11_io11 = io.loadmat('./sensors-19-04565-s001/eHomeSeniors dataset/melexis sensor/datos matlab/melexis-G1-1-f11-data.mat')\n",
    "G11data11 = pd.DataFrame(mat_file_G11_io11.get('melexisG11f11'))\n",
    "G11data11 = data_merge(G11data11,321, 360, 484, 519, 613, 639, 763, 810, 979, 1036)\n",
    "\n",
    "mat_file_G11_io12 = io.loadmat('./sensors-19-04565-s001/eHomeSeniors dataset/melexis sensor/datos matlab/melexis-G1-1-f12-data.mat')\n",
    "G11data12 = pd.DataFrame(mat_file_G11_io12.get('melexisG11f12'))\n",
    "G11data12 = data_merge(G11data12,228, 275, 434, 475, 625, 670, 833, 873, 940, 1048)\n",
    "\n",
    "mat_file_G11_io13 = io.loadmat('./sensors-19-04565-s001/eHomeSeniors dataset/melexis sensor/datos matlab/melexis-G1-1-f13-data.mat')\n",
    "G11data13 = pd.DataFrame(mat_file_G11_io13.get('melexisG11f13'))\n",
    "G11data13 = data_merge(G11data13,197, 232, 404, 453, 636, 684, 841, 904, 1075, 1140)\n",
    "\n",
    "mat_file_G11_io14 = io.loadmat('./sensors-19-04565-s001/eHomeSeniors dataset/melexis sensor/datos matlab/melexis-G1-1-f14-data.mat')\n",
    "G11data14 = pd.DataFrame(mat_file_G11_io14.get('melexisG11f14'))\n",
    "G11data14 = data_merge(G11data14,265, 307, 408, 465, 585, 630, 739, 794, 943, 1019)\n",
    "\n",
    "mat_file_G11_io15 = io.loadmat('./sensors-19-04565-s001/eHomeSeniors dataset/melexis sensor/datos matlab/melexis-G1-1-f15-data.mat')\n",
    "G11data15 = pd.DataFrame(mat_file_G11_io15.get('melexisG11f15'))\n",
    "G11data15 = data_merge(G11data15,198, 250, 457, 494, 654, 694, 859, 921, 1108, 1229)\n",
    "\n",
    "#result = pd.concat([data, data2,data3, data4, data5, data6, data7, data8, data9])\n",
    "\n",
    "#print(y)\n",
    "# print(df)\n",
    "# f = open('./melexisG11f01.csv', 'w', encoding='utf-8', newline='')\n",
    "# wr = csv.writer(f)\n",
    "# wr.writerow(df, 0)\n",
    "# f.close()"
   ]
  },
  {
   "cell_type": "code",
   "execution_count": 8,
   "id": "511d4035",
   "metadata": {},
   "outputs": [
    {
     "name": "stdout",
     "output_type": "stream",
     "text": [
      "(120, 769)\n",
      "(144, 769)\n",
      "(128, 769)\n",
      "(118, 769)\n"
     ]
    }
   ],
   "source": [
    "G11dataf1 = G11data1[:760]\n",
    "G11data1_test = G11data1[760:]\n",
    "G11dataf2 = G11data2[:856]\n",
    "G11data2_test = G11data2[856:]\n",
    "G11dataf3 = G11data3[:1292]\n",
    "G11data3_test = G11data3[1292:]\n",
    "G11dataf4 = G11data4[:812]\n",
    "G11data4_test = G11data4[812:]\n",
    "G11dataf5 = G11data5[:1070]\n",
    "G11data5_test = G11data5[1070:]\n",
    "G11dataf6 = G11data6[:1192]\n",
    "G11data6_test = G11data6[1192:]\n",
    "G11dataf7 = G11data7[:1080]\n",
    "G11data7_test = G11data7[1080:]\n",
    "G11dataf8 = G11data8[:826]\n",
    "G11data8_test = G11data8[826:]\n",
    "G11dataf9 = G11data9[:798]\n",
    "G11data9_test = G11data9[798:]\n",
    "G11dataf10 = G11data10[:788]\n",
    "G11data10_test = G11data10[788:]\n",
    "G11dataf11 = G11data11[:984]\n",
    "G11data11_test = G11data11[984:]\n",
    "G11dataf12 = G11data12[:884]\n",
    "G11data12_test = G11data12[884:]\n",
    "G11dataf13 = G11data13[:1028]\n",
    "G11data13_test = G11data13[1028:]\n",
    "G11dataf14 = G11data14[:866]\n",
    "G11data14_test = G11data14[866:]\n",
    "G11dataf15 = G11data15[:986]\n",
    "G11data15_test = G11data15[986:]\n",
    "print(G11data1_test.shape)\n",
    "print(G11data2_test.shape)\n",
    "print(G11data3_test.shape)\n",
    "print(G11data4_test.shape)"
   ]
  },
  {
   "cell_type": "markdown",
   "id": "8286b0c5",
   "metadata": {},
   "source": [
    "## G12 지원자 DataFrame"
   ]
  },
  {
   "cell_type": "code",
   "execution_count": 9,
   "id": "c58b85df",
   "metadata": {},
   "outputs": [
    {
     "name": "stdout",
     "output_type": "stream",
     "text": [
      "[[18.73 18.79 19.11 ... 20.01 19.67 19.45]\n",
      " [18.67 18.79 19.07 ... 19.99 19.71 19.47]\n",
      " [18.63 18.73 19.05 ... 19.91 19.53 19.49]\n",
      " ...\n",
      " [18.11 18.07 18.65 ... 20.13 19.23 19.33]\n",
      " [18.05 18.07 18.59 ... 20.25 19.31 19.39]\n",
      " [18.03 18.05 18.55 ... 20.29 19.51 19.47]]\n",
      "18.73\n"
     ]
    }
   ],
   "source": [
    "mat_file_G12_io = io.loadmat('./sensors-19-04565-s001/eHomeSeniors dataset/melexis sensor/datos matlab/melexis-G1-2-f01-data.mat')\n",
    "print(mat_file_G12_io.get('melexisG12f01'))\n",
    "print(mat_file_G12_io.get('melexisG12f01')[0][0])\n",
    "G12data1 = pd.DataFrame(mat_file_G12_io.get('melexisG12f01'))\n",
    "G12data1 = data_merge(G12data1,673, 738, 1418, 1489, 1725, 1814, 2341, 2454, 2796, 2899)\n",
    "mat_file_G12_io2 = io.loadmat('./sensors-19-04565-s001/eHomeSeniors dataset/melexis sensor/datos matlab/melexis-G1-2-f02-data.mat')\n",
    "G12data2 = pd.DataFrame(mat_file_G12_io2.get('melexisG12f02'))\n",
    "G12data2 = data_merge(G12data2,240, 290, 533, 610, 920, 974, 1240, 1320, 1600, 1729)\n",
    "\n",
    "mat_file_G12_io3 = io.loadmat('./sensors-19-04565-s001/eHomeSeniors dataset/melexis sensor/datos matlab/melexis-G1-2-f03-data.mat')\n",
    "G12data3 = pd.DataFrame(mat_file_G12_io3.get('melexisG12f03'))\n",
    "G12data3 = data_merge(G12data3,217, 279, 510, 660, 1097, 1191, 1559, 1622, 1880, 1969)\n",
    "\n",
    "mat_file_G12_io4 = io.loadmat('./sensors-19-04565-s001/eHomeSeniors dataset/melexis sensor/datos matlab/melexis-G1-2-f04-data.mat')\n",
    "G12data4 = pd.DataFrame(mat_file_G12_io4.get('melexisG12f04'))\n",
    "G12data4 = data_merge(G12data4,449, 499, 700, 734, 893, 955, 1091, 1150, 1310, 1379)\n",
    "\n",
    "mat_file_G12_io5 = io.loadmat('./sensors-19-04565-s001/eHomeSeniors dataset/melexis sensor/datos matlab/melexis-G1-2-f05-data.mat')\n",
    "G12data5 = pd.DataFrame(mat_file_G12_io5.get('melexisG12f05'))\n",
    "G12data5 = data_merge(G12data5,310, 363, 539, 579, 712, 765, 902, 952, 1136, 1204)\n",
    "\n",
    "mat_file_G12_io6 = io.loadmat('./sensors-19-04565-s001/eHomeSeniors dataset/melexis sensor/datos matlab/melexis-G1-2-f06-data.mat')\n",
    "G12data6 = pd.DataFrame(mat_file_G12_io6.get('melexisG12f06'))\n",
    "G12data6 = data_merge(G12data6, 156, 259, 415, 469, 658, 717, 823, 950, 1040, 1099)\n",
    "\n",
    "mat_file_G12_io7 = io.loadmat('./sensors-19-04565-s001/eHomeSeniors dataset/melexis sensor/datos matlab/melexis-G1-2-f07-data.mat')\n",
    "G12data7 = pd.DataFrame(mat_file_G12_io7.get('melexisG12f07'))\n",
    "G12data7 = data_merge(G12data7,143, 193, 346, 388, 530, 600, 704, 759, 896, 967)\n",
    "\n",
    "mat_file_G12_io8 = io.loadmat('./sensors-19-04565-s001/eHomeSeniors dataset/melexis sensor/datos matlab/melexis-G1-2-f08-data.mat')\n",
    "G12data8 = pd.DataFrame(mat_file_G12_io8.get('melexisG12f08'))\n",
    "G12data8 = data_merge(G12data8,245,307,470,556,717,771,940,998,1164,1249)\n",
    "\n",
    "mat_file_G12_io9 = io.loadmat('./sensors-19-04565-s001/eHomeSeniors dataset/melexis sensor/datos matlab/melexis-G1-2-f09-data.mat')\n",
    "G12data9 = pd.DataFrame(mat_file_G12_io9.get('melexisG12f09'))\n",
    "G12data9 = data_merge(G12data9,155,228,340,400,511,591,704,767,934,989)\n",
    "\n",
    "mat_file_G12_io10 = io.loadmat('./sensors-19-04565-s001/eHomeSeniors dataset/melexis sensor/datos matlab/melexis-G1-2-f10-data.mat')\n",
    "G12data10 = pd.DataFrame(mat_file_G12_io10.get('melexisG12f10'))\n",
    "G12data10 = data_merge(G12data10,160,251,381,440,603,665,934,1005,1215,1277)\n",
    "\n",
    "mat_file_G12_io11 = io.loadmat('./sensors-19-04565-s001/eHomeSeniors dataset/melexis sensor/datos matlab/melexis-G1-2-f11-data.mat')\n",
    "G12data11 = pd.DataFrame(mat_file_G12_io11.get('melexisG12f11'))\n",
    "G12data11 = data_merge(G12data11,221,278,400,456,568,634,726,775,894,979)\n",
    "\n",
    "mat_file_G12_io12 = io.loadmat('./sensors-19-04565-s001/eHomeSeniors dataset/melexis sensor/datos matlab/melexis-G1-2-f12-data.mat')\n",
    "G12data12 = pd.DataFrame(mat_file_G12_io12.get('melexisG12f12'))\n",
    "G12data12 = data_merge(G12data12,485,570,675,720,820,870,1000,1070,1180,1259)\n",
    "\n",
    "mat_file_G12_io13 = io.loadmat('./sensors-19-04565-s001/eHomeSeniors dataset/melexis sensor/datos matlab/melexis-G1-2-f13-data.mat')\n",
    "G12data13 = pd.DataFrame(mat_file_G12_io13.get('melexisG12f13'))\n",
    "G12data13 = data_merge(G12data13,198,269,427,507,628,680,780,835,957,1049)\n",
    "\n",
    "mat_file_G12_io14 = io.loadmat('./sensors-19-04565-s001/eHomeSeniors dataset/melexis sensor/datos matlab/melexis-G1-2-f14-data.mat')\n",
    "G12data14 = pd.DataFrame(mat_file_G12_io14.get('melexisG12f14'))\n",
    "G12data14 = data_merge(G12data14,182,274,555,620,770,828,961,1030,1140,1209)\n",
    "\n",
    "mat_file_G12_io15 = io.loadmat('./sensors-19-04565-s001/eHomeSeniors dataset/melexis sensor/datos matlab/melexis-G1-2-f15-data.mat')\n",
    "G12data15 = pd.DataFrame(mat_file_G12_io15.get('melexisG12f15'))\n",
    "G12data15 = data_merge(G12data15,137,188,394,440,598,650,815,865,1075,1149)"
   ]
  },
  {
   "cell_type": "code",
   "execution_count": 10,
   "id": "4d6f0c91",
   "metadata": {},
   "outputs": [],
   "source": [
    "G12dataf1 = G12data1[:2692]\n",
    "G12data1_test = G12data1[2692:]\n",
    "G12dataf2 = G12data2[:1470]\n",
    "G12data2_test = G12data2[1470:]\n",
    "G12dataf3 = G12data3[:1790]\n",
    "G12data3_test = G12data3[1790:]\n",
    "G12dataf4 = G12data4[:1240]\n",
    "G12data4_test = G12data4[1240:]\n",
    "G12dataf5 = G12data5[:1112]\n",
    "G12data5_test = G12data5[1112:]\n",
    "G12dataf6 = G12data6[:980]\n",
    "G12data6_test = G12data6[980:]\n",
    "G12dataf7 = G12data7[:836]\n",
    "G12data7_test = G12data7[836:]\n",
    "G12dataf8 = G12data8[:1078]\n",
    "G12data8_test = G12data8[1078:]\n",
    "G12dataf9 = G12data9[:878]\n",
    "G12data9_test = G12data9[878:]\n",
    "G12dataf10 = G12data10[:1164]\n",
    "G12data10_test = G12data10[1164:]\n",
    "G12dataf11 = G12data11[:808]\n",
    "G12data11_test = G12data11[808:]\n",
    "G12dataf12 = G12data12[:1100]\n",
    "G12data12_test = G12data12[1100:]\n",
    "G12dataf13 = G12data13[:864]\n",
    "G12data13_test = G12data13[864:]\n",
    "G12dataf14 = G12data14[:1070]\n",
    "G12data14_test = G12data14[1070:]\n",
    "G12dataf15 = G12data15[:1000]\n",
    "G12data15_test = G12data15[1000:]"
   ]
  },
  {
   "cell_type": "markdown",
   "id": "45d872f1",
   "metadata": {},
   "source": [
    "## G13 지원자 DataFrame"
   ]
  },
  {
   "cell_type": "code",
   "execution_count": 11,
   "id": "81b06416",
   "metadata": {},
   "outputs": [
    {
     "name": "stdout",
     "output_type": "stream",
     "text": [
      "[[18.97 18.83 18.85 ... 20.45 20.09 19.43]\n",
      " [18.97 18.85 18.85 ... 20.37 20.01 19.49]\n",
      " [18.97 18.87 19.05 ... 20.51 20.01 19.49]\n",
      " ...\n",
      " [18.87 18.91 19.01 ... 20.21 19.37 20.29]\n",
      " [18.83 18.99 18.99 ... 20.35 19.41 20.33]\n",
      " [18.79 18.95 18.95 ... 20.31 19.43 20.35]]\n",
      "18.97\n"
     ]
    }
   ],
   "source": [
    "mat_file_G13_io = io.loadmat('./sensors-19-04565-s001/eHomeSeniors dataset/melexis sensor/datos matlab/melexis-G1-3-f01-data.mat')\n",
    "print(mat_file_G13_io.get('melexisG13f01'))\n",
    "print(mat_file_G13_io.get('melexisG13f01')[0][0])\n",
    "G13data1 = pd.DataFrame(mat_file_G13_io.get('melexisG13f01'))\n",
    "G13data1 = data_merge(G13data1,122, 180, 288, 380, 478, 580, 680, 794, 892, 982)\n",
    "\n",
    "mat_file_G13_io2 = io.loadmat('./sensors-19-04565-s001/eHomeSeniors dataset/melexis sensor/datos matlab/melexis-G1-3-f02-data.mat')\n",
    "G13data2 = pd.DataFrame(mat_file_G13_io2.get('melexisG13f02'))\n",
    "G13data2 = data_merge(G13data2,100, 155, 298, 372, 510, 570, 712, 774, 880, 943)\n",
    "\n",
    "mat_file_G13_io3 = io.loadmat('./sensors-19-04565-s001/eHomeSeniors dataset/melexis sensor/datos matlab/melexis-G1-3-f03-data.mat')\n",
    "G13data3 = pd.DataFrame(mat_file_G13_io3.get('melexisG13f03'))\n",
    "G13data3 = data_merge(G13data3,78, 150, 304, 364, 583, 670, 834, 880, 1028, 1090)\n",
    "\n",
    "mat_file_G13_io4 = io.loadmat('./sensors-19-04565-s001/eHomeSeniors dataset/melexis sensor/datos matlab/melexis-G1-3-f04-data.mat')\n",
    "G13data4 = pd.DataFrame(mat_file_G13_io4.get('melexisG13f04'))\n",
    "G13data4 = data_merge(G13data4,79, 140, 279, 320, 443, 497, 615, 662, 824, 873)\n",
    "\n",
    "mat_file_G13_io5 = io.loadmat('./sensors-19-04565-s001/eHomeSeniors dataset/melexis sensor/datos matlab/melexis-G1-3-f05-data.mat')\n",
    "G13data5 = pd.DataFrame(mat_file_G13_io5.get('melexisG13f05'))\n",
    "G13data5 = data_merge(G13data5,109, 159, 317, 377, 511, 565, 743, 805, 920, 988)\n",
    "\n",
    "mat_file_G13_io6 = io.loadmat('./sensors-19-04565-s001/eHomeSeniors dataset/melexis sensor/datos matlab/melexis-G1-3-f06-data.mat')\n",
    "G13data6 = pd.DataFrame(mat_file_G13_io6.get('melexisG13f06'))\n",
    "G13data6 = data_merge(G13data6, 114, 194, 354, 410, 570, 620, 762, 799, 978, 1040)\n",
    "\n",
    "mat_file_G13_io7 = io.loadmat('./sensors-19-04565-s001/eHomeSeniors dataset/melexis sensor/datos matlab/melexis-G1-3-f07-data.mat')\n",
    "G13data7 = pd.DataFrame(mat_file_G13_io7.get('melexisG13f07'))\n",
    "G13data7 = data_merge(G13data7,80, 200, 296, 338, 525, 573, 748, 803, 1200, 1260)\n",
    "\n",
    "mat_file_G13_io8 = io.loadmat('./sensors-19-04565-s001/eHomeSeniors dataset/melexis sensor/datos matlab/melexis-G1-3-f08-data.mat')\n",
    "G13data8 = pd.DataFrame(mat_file_G13_io8.get('melexisG13f08'))\n",
    "G13data8 = data_merge(G13data8,88, 134, 247, 289, 451, 510, 668, 730, 833, 884)\n",
    "\n",
    "mat_file_G13_io9 = io.loadmat('./sensors-19-04565-s001/eHomeSeniors dataset/melexis sensor/datos matlab/melexis-G1-3-f09-data.mat')\n",
    "G13data9 = pd.DataFrame(mat_file_G13_io9.get('melexisG13f09'))\n",
    "G13data9 = data_merge(G13data9,119, 189, 342, 408, 555, 629, 869, 922, 1084, 1144)\n",
    "\n",
    "mat_file_G13_io10 = io.loadmat('./sensors-19-04565-s001/eHomeSeniors dataset/melexis sensor/datos matlab/melexis-G1-3-f10-data.mat')\n",
    "G13data10 = pd.DataFrame(mat_file_G13_io10.get('melexisG13f10'))\n",
    "G13data10 = data_merge(G13data10,118, 190, 350, 420, 560, 660, 873, 973, 1087, 1166)\n",
    "\n",
    "mat_file_G13_io11 = io.loadmat('./sensors-19-04565-s001/eHomeSeniors dataset/melexis sensor/datos matlab/melexis-G1-3-f11-data.mat')\n",
    "G13data11 = pd.DataFrame(mat_file_G13_io11.get('melexisG13f11'))\n",
    "G13data11 = data_merge(G13data11,63, 120, 290, 333, 530, 590, 718, 770, 911, 968)\n",
    "\n",
    "mat_file_G13_io12 = io.loadmat('./sensors-19-04565-s001/eHomeSeniors dataset/melexis sensor/datos matlab/melexis-G1-3-f12-data.mat')\n",
    "G13data12 = pd.DataFrame(mat_file_G13_io12.get('melexisG13f12'))\n",
    "G13data12 = data_merge(G13data12,144, 230, 450, 520, 655, 730, 863, 928, 1047, 1114)\n",
    "\n",
    "mat_file_G13_io13 = io.loadmat('./sensors-19-04565-s001/eHomeSeniors dataset/melexis sensor/datos matlab/melexis-G1-3-f13-data.mat')\n",
    "G13data13 = pd.DataFrame(mat_file_G13_io13.get('melexisG13f13'))\n",
    "G13data13 = data_merge(G13data13,169, 246, 410, 535, 692, 750, 905, 970, 1157, 1220)\n",
    "\n",
    "mat_file_G13_io14 = io.loadmat('./sensors-19-04565-s001/eHomeSeniors dataset/melexis sensor/datos matlab/melexis-G1-3-f14-data.mat')\n",
    "G13data14 = pd.DataFrame(mat_file_G13_io14.get('melexisG13f14'))\n",
    "G13data14 = data_merge(G13data14,121, 197, 372, 434, 588, 651, 794, 861, 1037, 1131)\n",
    "\n",
    "mat_file_G13_io15 = io.loadmat('./sensors-19-04565-s001/eHomeSeniors dataset/melexis sensor/datos matlab/melexis-G1-3-f15-data.mat')\n",
    "G13data15 = pd.DataFrame(mat_file_G13_io15.get('melexisG13f15'))\n",
    "G13data15 = data_merge(G13data15,194, 272, 644, 679, 960, 1023, 1234, 1303, 1518, 1590)"
   ]
  },
  {
   "cell_type": "code",
   "execution_count": 12,
   "id": "26ee4f29",
   "metadata": {},
   "outputs": [
    {
     "name": "stdout",
     "output_type": "stream",
     "text": [
      "(128, 769)\n"
     ]
    }
   ],
   "source": [
    "G13dataf1 = G13data1[:828]\n",
    "G13data1_test = G13data1[828:]\n",
    "G13dataf2 = G13data2[:832]\n",
    "G13data2_test = G13data2[832:]\n",
    "G13dataf3 = G13data3[:974]\n",
    "G13data3_test = G13data3[974:]\n",
    "G13dataf4 = G13data4[:810]\n",
    "G13data4_test = G13data4[810:]\n",
    "G13dataf5 = G13data5[:877]\n",
    "G13data5_test = G13data5[877:]\n",
    "G13dataf6 = G13data6[:943]\n",
    "G13data6_test = G13data6[943:]\n",
    "G13dataf7 = G13data7[:1168]\n",
    "G13data7_test = G13data7[1168:]\n",
    "G13dataf8 = G13data8[:836]\n",
    "G13data8_test = G13data8[836:]\n",
    "G13dataf9 = G13data9[:1084]\n",
    "G13data9_test = G13data9[1084:]\n",
    "G13dataf10 = G13data10[:1080]\n",
    "G13data10_test = G13data10[1080:]\n",
    "G13dataf11 = G13data11[:889]\n",
    "G13data11_test = G13data11[889:]\n",
    "G13dataf12 = G13data12[:994]\n",
    "G13data12_test = G13data12[994:]\n",
    "G13dataf13 = G13data13[:1112]\n",
    "G13data13_test = G13data13[1112:]\n",
    "G13dataf14 = G13data14[:1025]\n",
    "G13data14_test = G13data14[1025:]\n",
    "G13dataf15 = G13data15[:1468]\n",
    "G13data15_test = G13data15[1468:]\n",
    "print(G13data2_test.shape)"
   ]
  },
  {
   "cell_type": "markdown",
   "id": "8aeca018",
   "metadata": {},
   "source": [
    "## G21 지원자 DataFrame"
   ]
  },
  {
   "cell_type": "code",
   "execution_count": 13,
   "id": "52f14917",
   "metadata": {},
   "outputs": [
    {
     "name": "stdout",
     "output_type": "stream",
     "text": [
      "[[17.97 18.07 17.79 ... 19.89 18.61 18.41]\n",
      " [18.01 18.07 17.87 ... 19.77 18.57 18.39]\n",
      " [18.03 18.09 17.97 ... 19.65 18.55 18.35]\n",
      " ...\n",
      " [17.79 18.01 17.79 ... 19.31 18.47 18.11]\n",
      " [17.87 17.93 17.85 ... 19.33 18.39 18.05]\n",
      " [17.79 17.87 17.77 ... 19.27 18.15 18.19]]\n",
      "17.97\n"
     ]
    }
   ],
   "source": [
    "mat_file_G21_io = io.loadmat('./sensors-19-04565-s001/eHomeSeniors dataset/melexis sensor/datos matlab/melexis-G2-1-f01-data.mat')\n",
    "print(mat_file_G21_io.get('melexisG21f01'))\n",
    "print(mat_file_G21_io.get('melexisG21f01')[0][0])\n",
    "G21data1 = pd.DataFrame(mat_file_G21_io.get('melexisG21f01'))\n",
    "G21data1 = data_merge(G21data1,57, 120, 218, 290, 408, 465, 566, 609, 719, 759)\n",
    "\n",
    "mat_file_G21_io2 = io.loadmat('./sensors-19-04565-s001/eHomeSeniors dataset/melexis sensor/datos matlab/melexis-G2-1-f02-data.mat')\n",
    "G21data2 = pd.DataFrame(mat_file_G21_io2.get('melexisG21f02'))\n",
    "G21data2 = data_merge(G21data2,147,192, 321,360, 471,510, 639,680, 809,849)\n",
    "\n",
    "mat_file_G21_io3 = io.loadmat('./sensors-19-04565-s001/eHomeSeniors dataset/melexis sensor/datos matlab/melexis-G2-1-f03-data.mat')\n",
    "G21data3 = pd.DataFrame(mat_file_G21_io3.get('melexisG21f03'))\n",
    "G21data3 = data_merge(G21data3,45, 90, 190, 239, 330, 375, 480, 523, 631, 679)\n",
    "\n",
    "mat_file_G21_io4 = io.loadmat('./sensors-19-04565-s001/eHomeSeniors dataset/melexis sensor/datos matlab/melexis-G2-1-f04-data.mat')\n",
    "G21data4 = pd.DataFrame(mat_file_G21_io4.get('melexisG21f04'))\n",
    "G21data4 = data_merge(G21data4,125, 160, 283, 331, 439, 486, 604, 666, 760, 839)\n",
    "\n",
    "mat_file_G21_io5 = io.loadmat('./sensors-19-04565-s001/eHomeSeniors dataset/melexis sensor/datos matlab/melexis-G2-1-f05-data.mat')\n",
    "G21data5 = pd.DataFrame(mat_file_G21_io5.get('melexisG21f05'))\n",
    "G21data5 = data_merge(G21data5,150, 213, 420, 462, 698, 752, 991, 1027, 1189, 1222)\n",
    "\n",
    "mat_file_G21_io6 = io.loadmat('./sensors-19-04565-s001/eHomeSeniors dataset/melexis sensor/datos matlab/melexis-G2-1-f06-data.mat')\n",
    "G21data6 = pd.DataFrame(mat_file_G21_io6.get('melexisG21f06'))\n",
    "G21data6 = data_merge(G21data6, 148, 193, 390, 437, 637, 680, 887, 925, 1117, 1188)\n",
    "\n",
    "mat_file_G21_io7 = io.loadmat('./sensors-19-04565-s001/eHomeSeniors dataset/melexis sensor/datos matlab/melexis-G2-1-f07-data.mat')\n",
    "G21data7 = pd.DataFrame(mat_file_G21_io7.get('melexisG21f07'))\n",
    "G21data7 = data_merge(G21data7,89, 135, 300, 347, 483, 525, 716, 751, 933, 985)\n",
    "\n",
    "mat_file_G21_io8 = io.loadmat('./sensors-19-04565-s001/eHomeSeniors dataset/melexis sensor/datos matlab/melexis-G2-1-f08-data.mat')\n",
    "G21data8 = pd.DataFrame(mat_file_G21_io8.get('melexisG21f08'))\n",
    "G21data8 = data_merge(G21data8,131, 181, 281, 305, 451, 481, 611, 665, 776, 829)\n",
    "\n",
    "mat_file_G21_io9 = io.loadmat('./sensors-19-04565-s001/eHomeSeniors dataset/melexis sensor/datos matlab/melexis-G2-1-f09-data.mat')\n",
    "G21data9 = pd.DataFrame(mat_file_G21_io9.get('melexisG21f09'))\n",
    "G21data9 = data_merge(G21data9,160, 197, 323, 376, 475, 503, 617, 658, 751, 791)\n",
    "\n",
    "mat_file_G21_io10 = io.loadmat('./sensors-19-04565-s001/eHomeSeniors dataset/melexis sensor/datos matlab/melexis-G2-1-f10-data.mat')\n",
    "G21data10 = pd.DataFrame(mat_file_G21_io10.get('melexisG21f10'))\n",
    "G21data10 = data_merge(G21data10,41, 100, 240, 287, 447, 480, 630, 672, 800, 840)\n",
    "\n",
    "mat_file_G21_io11 = io.loadmat('./sensors-19-04565-s001/eHomeSeniors dataset/melexis sensor/datos matlab/melexis-G2-1-f11-data.mat')\n",
    "G21data11 = pd.DataFrame(mat_file_G21_io11.get('melexisG21f11'))\n",
    "G21data11 = data_merge(G21data11,136, 182, 321, 341, 562, 603, 741, 780, 1004, 1072)\n",
    "\n",
    "mat_file_G21_io12 = io.loadmat('./sensors-19-04565-s001/eHomeSeniors dataset/melexis sensor/datos matlab/melexis-G2-1-f12-data.mat')\n",
    "G21data12 = pd.DataFrame(mat_file_G21_io12.get('melexisG21f12'))\n",
    "G21data12 = data_merge(G21data12,79, 112, 250, 302, 435, 483, 581, 640, 752, 809)\n",
    "\n",
    "mat_file_G21_io13 = io.loadmat('./sensors-19-04565-s001/eHomeSeniors dataset/melexis sensor/datos matlab/melexis-G2-1-f13-data.mat')\n",
    "G21data13 = pd.DataFrame(mat_file_G21_io13.get('melexisG21f13'))\n",
    "G21data13 = data_merge(G21data13,40, 92, 194, 269, 348, 415, 522, 579, 682, 727)\n",
    "\n",
    "mat_file_G21_io14 = io.loadmat('./sensors-19-04565-s001/eHomeSeniors dataset/melexis sensor/datos matlab/melexis-G2-1-f14-data.mat')\n",
    "G21data14 = pd.DataFrame(mat_file_G21_io14.get('melexisG21f14'))\n",
    "G21data14 = data_merge(G21data14,148, 191, 319, 374, 495, 546, 691, 752, 892, 945)\n",
    "\n",
    "mat_file_G21_io15 = io.loadmat('./sensors-19-04565-s001/eHomeSeniors dataset/melexis sensor/datos matlab/melexis-G2-1-f15-data.mat')\n",
    "G21data15 = pd.DataFrame(mat_file_G21_io15.get('melexisG21f15'))\n",
    "G21data15 = data_merge(G21data15,120, 141, 348, 389, 548, 584, 736, 767, 915, 957)"
   ]
  },
  {
   "cell_type": "code",
   "execution_count": 14,
   "id": "c404e9b4",
   "metadata": {},
   "outputs": [],
   "source": [
    "G21dataf1 = G21data1[:678]\n",
    "G21data1_test = G21data1[678:]\n",
    "G21dataf2 = G21data2[:774]\n",
    "G21data2_test = G21data2[774:]\n",
    "G21dataf3 = G21data3[:595]\n",
    "G21data3_test = G21data3[595:]\n",
    "G21dataf4 = G21data4[:682]\n",
    "G21data4_test = G21data4[682:]\n",
    "G21dataf5 = G21data5[:1162]\n",
    "G21data5_test = G21data5[1162:]\n",
    "G21dataf6 = G21data6[:1060]\n",
    "G21data6_test = G21data6[1060:]\n",
    "G21dataf7 = G21data7[:911]\n",
    "G21data7_test = G21data7[911:]\n",
    "G21dataf8 = G21data8[:727]\n",
    "G21data8_test = G21data8[727:]\n",
    "G21dataf9 = G21data9[:729]\n",
    "G21data9_test = G21data9[729:]\n",
    "G21dataf10 = G21data10[:803]\n",
    "G21data10_test = G21data10[803:]\n",
    "G21dataf11 = G21data11[:952]\n",
    "G21data11_test = G21data11[952:]\n",
    "G21dataf12 = G21data12[:694]\n",
    "G21data12_test = G21data12[694:]\n",
    "G21dataf13 = G21data13[:648]\n",
    "G21data13_test = G21data13[648:]\n",
    "G21dataf14 = G21data14[:893]\n",
    "G21data14_test = G21data14[893:]\n",
    "G21dataf15 = G21data15[:884]\n",
    "G21data15_test = G21data15[884:]"
   ]
  },
  {
   "cell_type": "markdown",
   "id": "ab3347aa",
   "metadata": {},
   "source": [
    "## G22 지원자 DataFrame"
   ]
  },
  {
   "cell_type": "code",
   "execution_count": 15,
   "id": "5218a414",
   "metadata": {},
   "outputs": [
    {
     "name": "stdout",
     "output_type": "stream",
     "text": [
      "[[17.85 17.83 17.93 ... 18.95 18.01 17.81]\n",
      " [17.83 17.83 17.95 ... 18.99 18.11 17.75]\n",
      " [17.79 17.73 17.95 ... 19.01 18.07 17.67]\n",
      " ...\n",
      " [17.51 17.67 17.51 ... 19.17 18.09 18.33]\n",
      " [17.37 17.69 17.49 ... 19.11 18.07 18.31]\n",
      " [17.39 17.71 17.47 ... 19.07 18.07 18.53]]\n",
      "17.85\n"
     ]
    }
   ],
   "source": [
    "mat_file_G22_io = io.loadmat('./sensors-19-04565-s001/eHomeSeniors dataset/melexis sensor/datos matlab/melexis-G2-2-f01-data.mat')\n",
    "print(mat_file_G22_io.get('melexisG22f01'))\n",
    "print(mat_file_G22_io.get('melexisG22f01')[0][0])\n",
    "G22data1 = pd.DataFrame(mat_file_G22_io.get('melexisG22f01'))\n",
    "G22data1 = data_merge(G22data1,90, 112, 228, 254, 382, 401, 525, 550, 660, 699)\n",
    "\n",
    "mat_file_G22_io2 = io.loadmat('./sensors-19-04565-s001/eHomeSeniors dataset/melexis sensor/datos matlab/melexis-G2-2-f02-data.mat')\n",
    "G22data2 = pd.DataFrame(mat_file_G22_io2.get('melexisG22f02'))\n",
    "G22data2 = data_merge(G22data2,102, 138, 230, 257, 365, 391, 496, 526, 699, 727)\n",
    "\n",
    "mat_file_G22_io3 = io.loadmat('./sensors-19-04565-s001/eHomeSeniors dataset/melexis sensor/datos matlab/melexis-G2-2-f03-data.mat')\n",
    "G22data3 = pd.DataFrame(mat_file_G22_io3.get('melexisG22f03'))\n",
    "G22data3 = data_merge(G22data3,65, 89, 177, 207, 325, 365, 426, 448, 572, 614)\n",
    "\n",
    "mat_file_G22_io4 = io.loadmat('./sensors-19-04565-s001/eHomeSeniors dataset/melexis sensor/datos matlab/melexis-G2-2-f04-data.mat')\n",
    "G22data4 = pd.DataFrame(mat_file_G22_io4.get('melexisG22f04'))\n",
    "G22data4 = data_merge(G22data4,66, 89, 171, 199, 259, 285, 367, 389, 476, 509)\n",
    "\n",
    "mat_file_G22_io5 = io.loadmat('./sensors-19-04565-s001/eHomeSeniors dataset/melexis sensor/datos matlab/melexis-G2-2-f05-data.mat')\n",
    "G22data5 = pd.DataFrame(mat_file_G22_io5.get('melexisG22f05'))\n",
    "G22data5 = data_merge(G22data5,0, 33, 142, 250, 550, 586, 705, 743, 1007, 1080)\n",
    "\n",
    "mat_file_G22_io6 = io.loadmat('./sensors-19-04565-s001/eHomeSeniors dataset/melexis sensor/datos matlab/melexis-G2-2-f06-data.mat')\n",
    "G22data6 = pd.DataFrame(mat_file_G22_io6.get('melexisG22f06'))\n",
    "G22data6 = data_merge(G22data6, 47, 88, 260, 282, 465, 498, 620, 671, 847, 888)\n",
    "\n",
    "mat_file_G22_io7 = io.loadmat('./sensors-19-04565-s001/eHomeSeniors dataset/melexis sensor/datos matlab/melexis-G2-2-f07-data.mat')\n",
    "G22data7 = pd.DataFrame(mat_file_G22_io7.get('melexisG22f07'))\n",
    "G22data7 = data_merge(G22data7,235, 274, 398, 430, 578, 608, 806, 840, 992, 1043)\n",
    "\n",
    "mat_file_G22_io8 = io.loadmat('./sensors-19-04565-s001/eHomeSeniors dataset/melexis sensor/datos matlab/melexis-G2-2-f08-data.mat')\n",
    "G22data8 = pd.DataFrame(mat_file_G22_io8.get('melexisG22f08'))\n",
    "G22data8 = data_merge(G22data8,172, 210, 347, 380, 462, 485, 577, 600, 678, 708)\n",
    "\n",
    "mat_file_G22_io9 = io.loadmat('./sensors-19-04565-s001/eHomeSeniors dataset/melexis sensor/datos matlab/melexis-G2-2-f09-data.mat')\n",
    "G22data9 = pd.DataFrame(mat_file_G22_io9.get('melexisG22f09'))\n",
    "G22data9 = data_merge(G22data9,100, 130, 218, 243, 332, 373, 428, 458, 527, 559)\n",
    "\n",
    "mat_file_G22_io10 = io.loadmat('./sensors-19-04565-s001/eHomeSeniors dataset/melexis sensor/datos matlab/melexis-G2-2-f10-data.mat')\n",
    "G22data10 = pd.DataFrame(mat_file_G22_io10.get('melexisG22f10'))\n",
    "G22data10 = data_merge(G22data10,54, 84, 208, 240, 350, 370, 490, 513, 610, 637)\n",
    "\n",
    "mat_file_G22_io11 = io.loadmat('./sensors-19-04565-s001/eHomeSeniors dataset/melexis sensor/datos matlab/melexis-G2-2-f11-data.mat')\n",
    "G22data11 = pd.DataFrame(mat_file_G22_io11.get('melexisG22f11'))\n",
    "G22data11 = data_merge(G22data11,20, 57, 179, 214, 385, 430, 631, 679, 870, 925)\n",
    "\n",
    "mat_file_G22_io12 = io.loadmat('./sensors-19-04565-s001/eHomeSeniors dataset/melexis sensor/datos matlab/melexis-G2-2-f12-data.mat')\n",
    "G22data12 = pd.DataFrame(mat_file_G22_io12.get('melexisG22f12'))\n",
    "G22data12 = data_merge(G22data12,87, 110, 213, 231, 317, 351, 454, 475, 565, 587)\n",
    "\n",
    "mat_file_G22_io13 = io.loadmat('./sensors-19-04565-s001/eHomeSeniors dataset/melexis sensor/datos matlab/melexis-G2-2-f13-data.mat')\n",
    "G22data13 = pd.DataFrame(mat_file_G22_io13.get('melexisG22f13'))\n",
    "G22data13 = data_merge(G22data13,145, 171, 269, 300, 405, 440, 529, 563, 647, 689)\n",
    "\n",
    "mat_file_G22_io14 = io.loadmat('./sensors-19-04565-s001/eHomeSeniors dataset/melexis sensor/datos matlab/melexis-G2-2-f14-data.mat')\n",
    "G22data14 = pd.DataFrame(mat_file_G22_io14.get('melexisG22f14'))\n",
    "G22data14 = data_merge(G22data14,67, 88, 192, 220, 330, 354, 454, 481, 577, 600)\n",
    "\n",
    "mat_file_G22_io15 = io.loadmat('./sensors-19-04565-s001/eHomeSeniors dataset/melexis sensor/datos matlab/melexis-G2-2-f15-data.mat')\n",
    "G22data15 = pd.DataFrame(mat_file_G22_io15.get('melexisG22f15'))\n",
    "G22data15 = data_merge(G22data15,77, 110, 224, 254, 388, 416, 540, 571, 683, 729)"
   ]
  },
  {
   "cell_type": "code",
   "execution_count": 16,
   "id": "dfeff458",
   "metadata": {},
   "outputs": [],
   "source": [
    "G22dataf1 = G22data1[:635]\n",
    "G22data1_test = G22data1[635:]\n",
    "G22dataf2 = G22data2[:709]\n",
    "G22data2_test = G22data2[709:]\n",
    "G22dataf3 = G22data3[:534]\n",
    "G22data3_test = G22data3[534:]\n",
    "G22dataf4 = G22data4[:453]\n",
    "G22data4_test = G22data4[453:]\n",
    "G22dataf5 = G22data5[:1052]\n",
    "G22data5_test = G22data5[1052:]\n",
    "G22dataf6 = G22data6[:858]\n",
    "G22data6_test = G22data6[858:]\n",
    "G22dataf7 = G22data7[:992]\n",
    "G22data7_test = G22data7[992:]\n",
    "G22dataf8 = G22data8[:688]\n",
    "G22data8_test = G22data8[688:]\n",
    "G22dataf9 = G22data9[:492]\n",
    "G22data9_test = G22data9[492:]\n",
    "G22dataf10 = G22data10[:610]\n",
    "G22data10_test = G22data10[610:]\n",
    "G22dataf11 = G22data11[:818]\n",
    "G22data11_test = G22data11[818:]\n",
    "G22dataf12 = G22data12[:566]\n",
    "G22data12_test = G22data12[566:]\n",
    "G22dataf13 = G22data13[:604]\n",
    "G22data13_test = G22data13[604:]\n",
    "G22dataf14 = G22data14[:587]\n",
    "G22data14_test = G22data14[587:]\n",
    "G22dataf15 = G22data15[:636]\n",
    "G22data15_test = G22data15[636:]"
   ]
  },
  {
   "cell_type": "markdown",
   "id": "a1be435a",
   "metadata": {},
   "source": [
    "## G23 지원자 DataFrame"
   ]
  },
  {
   "cell_type": "code",
   "execution_count": 17,
   "id": "74b854c3",
   "metadata": {},
   "outputs": [
    {
     "name": "stdout",
     "output_type": "stream",
     "text": [
      "[[17.67 17.75 17.59 ... 18.83 18.13 18.57]\n",
      " [17.75 17.83 17.55 ... 18.79 18.01 18.43]\n",
      " [17.83 17.93 17.53 ... 18.77 17.93 18.33]\n",
      " ...\n",
      " [17.53 17.37 17.91 ... 19.03 17.65 15.91]\n",
      " [17.49 17.41 17.91 ... 19.13 17.67 15.91]\n",
      " [17.45 17.43 17.89 ... 19.13 17.77 15.89]]\n",
      "17.67\n"
     ]
    }
   ],
   "source": [
    "mat_file_G23_io = io.loadmat('./sensors-19-04565-s001/eHomeSeniors dataset/melexis sensor/datos matlab/melexis-G2-3-f01-data.mat')\n",
    "print(mat_file_G23_io.get('melexisG23f01'))\n",
    "print(mat_file_G23_io.get('melexisG23f01')[0][0])\n",
    "G23data1 = pd.DataFrame(mat_file_G23_io.get('melexisG23f01'))\n",
    "G23data1 = data_merge(G23data1,98, 194, 337, 430, 538, 600, 736, 793, 925, 999)\n",
    "\n",
    "mat_file_G23_io2 = io.loadmat('./sensors-19-04565-s001/eHomeSeniors dataset/melexis sensor/datos matlab/melexis-G2-3-f02-data.mat')\n",
    "G23data2 = pd.DataFrame(mat_file_G23_io2.get('melexisG23f02'))\n",
    "G23data2 = data_merge(G23data2,76, 132, 261, 312, 447, 497, 630, 682, 790, 838)\n",
    "\n",
    "mat_file_G23_io3 = io.loadmat('./sensors-19-04565-s001/eHomeSeniors dataset/melexis sensor/datos matlab/melexis-G2-3-f03-data.mat')\n",
    "G23data3 = pd.DataFrame(mat_file_G23_io3.get('melexisG23f03'))\n",
    "G23data3 = data_merge(G23data3,67, 136, 230, 310, 431, 500, 609, 672, 789, 850)\n",
    "\n",
    "mat_file_G23_io4 = io.loadmat('./sensors-19-04565-s001/eHomeSeniors dataset/melexis sensor/datos matlab/melexis-G2-3-f04-data.mat')\n",
    "G23data4 = pd.DataFrame(mat_file_G23_io4.get('melexisG23f04'))\n",
    "G23data4 = data_merge(G23data4,86, 150, 265, 320, 414, 463, 585, 642, 718, 759)\n",
    "\n",
    "mat_file_G23_io5 = io.loadmat('./sensors-19-04565-s001/eHomeSeniors dataset/melexis sensor/datos matlab/melexis-G2-3-f05-data.mat')\n",
    "G23data5 = pd.DataFrame(mat_file_G23_io5.get('melexisG23f05'))\n",
    "G23data5 = data_merge(G23data5,144, 176, 341, 374, 626, 675, 902, 941, 1185, 1243)\n",
    "\n",
    "mat_file_G23_io6 = io.loadmat('./sensors-19-04565-s001/eHomeSeniors dataset/melexis sensor/datos matlab/melexis-G2-3-f06-data.mat')\n",
    "G23data6 = pd.DataFrame(mat_file_G23_io6.get('melexisG23f06'))\n",
    "G23data6 = data_merge(G23data6, 56, 158, 463, 501, 746, 820, 1004, 1070, 1215, 1269)\n",
    "\n",
    "mat_file_G23_io7 = io.loadmat('./sensors-19-04565-s001/eHomeSeniors dataset/melexis sensor/datos matlab/melexis-G2-3-f07-data.mat')\n",
    "G23data7 = pd.DataFrame(mat_file_G23_io7.get('melexisG23f07'))\n",
    "G23data7 = data_merge(G23data7,94, 145, 325, 377, 552, 594, 723, 790, 950, 999)\n",
    "\n",
    "mat_file_G23_io8 = io.loadmat('./sensors-19-04565-s001/eHomeSeniors dataset/melexis sensor/datos matlab/melexis-G2-3-f08-data.mat')\n",
    "G23data8 = pd.DataFrame(mat_file_G23_io8.get('melexisG23f08'))\n",
    "G23data8 = data_merge(G23data8,32, 92, 228, 267, 380, 436, 542, 595, 711, 759)\n",
    "\n",
    "mat_file_G23_io9 = io.loadmat('./sensors-19-04565-s001/eHomeSeniors dataset/melexis sensor/datos matlab/melexis-G2-3-f09-data.mat')\n",
    "G23data9 = pd.DataFrame(mat_file_G23_io9.get('melexisG23f09'))\n",
    "G23data9 = data_merge(G23data9,148,204, 330, 396, 571, 626, 749, 799, 917, 969)\n",
    "\n",
    "mat_file_G23_io10 = io.loadmat('./sensors-19-04565-s001/eHomeSeniors dataset/melexis sensor/datos matlab/melexis-G2-3-f10-data.mat')\n",
    "G23data10 = pd.DataFrame(mat_file_G23_io10.get('melexisG23f10'))\n",
    "G23data10 = data_merge(G23data10,49, 140, 289, 365, 458, 530, 634, 695, 834, 889)\n",
    "\n",
    "mat_file_G23_io11 = io.loadmat('./sensors-19-04565-s001/eHomeSeniors dataset/melexis sensor/datos matlab/melexis-G2-3-f11-data.mat')\n",
    "G23data11 = pd.DataFrame(mat_file_G23_io11.get('melexisG23f11'))\n",
    "G23data11 = data_merge(G23data11,64, 140, 254, 311, 476, 554, 664, 733, 912, 969)\n",
    "\n",
    "mat_file_G23_io12 = io.loadmat('./sensors-19-04565-s001/eHomeSeniors dataset/melexis sensor/datos matlab/melexis-G2-3-f12-data.mat')\n",
    "G23data12 = pd.DataFrame(mat_file_G23_io12.get('melexisG23f12'))\n",
    "G23data12 = data_merge(G23data12,56, 101, 204, 262, 366, 430, 517, 580, 666, 719)\n",
    "\n",
    "mat_file_G23_io13 = io.loadmat('./sensors-19-04565-s001/eHomeSeniors dataset/melexis sensor/datos matlab/melexis-G2-3-f13-data.mat')\n",
    "G23data13 = pd.DataFrame(mat_file_G23_io13.get('melexisG23f13'))\n",
    "G23data13 = data_merge(G23data13,75, 160, 315, 393, 510, 580, 678, 744, 857, 909)\n",
    "\n",
    "mat_file_G23_io14 = io.loadmat('./sensors-19-04565-s001/eHomeSeniors dataset/melexis sensor/datos matlab/melexis-G2-3-f14-data.mat')\n",
    "G23data14 = pd.DataFrame(mat_file_G23_io14.get('melexisG23f14'))\n",
    "G23data14 = data_merge(G23data14,79, 126, 250, 304, 443, 492, 608, 677, 804, 869)\n",
    "\n",
    "mat_file_G23_io15 = io.loadmat('./sensors-19-04565-s001/eHomeSeniors dataset/melexis sensor/datos matlab/melexis-G2-3-f15-data.mat')\n",
    "G23data15 = pd.DataFrame(mat_file_G23_io15.get('melexisG23f15'))\n",
    "G23data15 = data_merge(G23data15,114, 170, 274, 325, 459, 578, 719, 797, 935, 989)"
   ]
  },
  {
   "cell_type": "code",
   "execution_count": 18,
   "id": "48507aad",
   "metadata": {},
   "outputs": [
    {
     "name": "stdout",
     "output_type": "stream",
     "text": [
      "(110, 769)\n"
     ]
    }
   ],
   "source": [
    "G23dataf1 = G23data1[:850]\n",
    "G23data1_test = G23data1[850:]\n",
    "G23dataf2 = G23data2[:772]\n",
    "G23data2_test = G23data2[772:]\n",
    "G23dataf3 = G23data3[:736]\n",
    "G23data3_test = G23data3[736:]\n",
    "G23dataf4 = G23data4[:676]\n",
    "G23data4_test = G23data4[676:]\n",
    "G23dataf5 = G23data5[:1132]\n",
    "G23data5_test = G23data5[1132:]\n",
    "G23dataf6 = G23data6[:1160]\n",
    "G23data6_test = G23data6[1160:]\n",
    "G23dataf7 = G23data7[:900]\n",
    "G23data7_test = G23data7[900:]\n",
    "G23dataf8 = G23data8[:660]\n",
    "G23data8_test = G23data8[660:]\n",
    "G23dataf9 = G23data9[:850]\n",
    "G23data9_test = G23data9[850:]\n",
    "G23dataf10 = G23data10[:780]\n",
    "G23data10_test = G23data10[780:]\n",
    "G23dataf11 = G23data11[:860]\n",
    "G23data11_test = G23data11[860:]\n",
    "G23dataf12 = G23data12[:610]\n",
    "G23data12_test = G23data12[610:]\n",
    "G23dataf13 = G23data13[:800]\n",
    "G23data13_test = G23data13[800:]\n",
    "G23dataf14 = G23data14[:740]\n",
    "G23data14_test = G23data14[740:]\n",
    "G23dataf15 = G23data15[:880]\n",
    "G23data15_test = G23data15[880:]\n",
    "print(G23data15_test.shape)"
   ]
  },
  {
   "cell_type": "code",
   "execution_count": 19,
   "id": "c9e14ada",
   "metadata": {},
   "outputs": [
    {
     "name": "stdout",
     "output_type": "stream",
     "text": [
      "(82056, 769)\n",
      "(82056, 768)\n",
      "(82056,)\n"
     ]
    }
   ],
   "source": [
    "result = pd.concat([G11dataf1, G11dataf2,G11dataf3, G11dataf4, G11dataf5, G11dataf6, G11dataf7, G11dataf8, G11dataf9, G11dataf10,\n",
    "                    G11dataf11, G11dataf12, G11dataf13, G11dataf14, G11dataf15,G12dataf1, G12dataf2,G12dataf3, G12dataf4, G12dataf5, \n",
    "                    G12dataf6, G12dataf7, G12dataf8, G12dataf9, G12dataf10, G12dataf11, G12dataf12, G12dataf13, G12dataf14, G12dataf15,\n",
    "                    G13dataf1, G13dataf2,G13dataf3, G13dataf4, G13dataf5, G13dataf6, G13dataf7, G13dataf8, G13dataf9, G13dataf10,\n",
    "                    G13dataf11, G13dataf12,G13dataf13, G13dataf14, G13dataf15,G21dataf1, G21dataf2,G21dataf3, G21dataf4, G21dataf5, \n",
    "                    G21dataf6, G21dataf7, G21dataf8, G21dataf9, G21dataf10, G21dataf11, G21dataf12, G21dataf13, G21dataf14, G21dataf15,\n",
    "                    G22dataf1, G22dataf2,G22dataf3, G22dataf4, G22dataf5, G22dataf6, G22dataf7, G22dataf8, G22dataf9, G22dataf10,\n",
    "                    G22dataf11, G22dataf12, G22dataf13, G22dataf14, G22dataf15,G23dataf1, G23dataf2,G23dataf3, G23dataf4, G23dataf5, \n",
    "                    G23dataf6, G23dataf7, G23dataf8, G23dataf9, G23dataf10, G23dataf11, G23dataf12, G23dataf13, G23dataf14, G23dataf15])\n",
    "print(result.shape)\n",
    "X, y = result.drop(['label'], axis=1), result['label']\n",
    "print(X.shape)\n",
    "print(y.shape)"
   ]
  },
  {
   "cell_type": "code",
   "execution_count": 20,
   "id": "bfdda846",
   "metadata": {},
   "outputs": [
    {
     "name": "stdout",
     "output_type": "stream",
     "text": [
      "(11112, 768)\n",
      "(11112,)\n",
      "(11112, 769)\n"
     ]
    }
   ],
   "source": [
    "result_test = pd.concat([G11data1_test, G11data2_test,G11data3_test, G11data4_test, G11data5_test, G11data6_test, G11data7_test, G11data8_test, G11data9_test, G11data10_test, G11data11_test, G11data12_test, \n",
    "                    G11data13_test, G11data14_test, G11data15_test,G12data1_test, G12data2_test,G12data3_test, G12data4_test, G12data5_test, G12data6_test, G12data7_test, G12data8_test, G12data9_test, \n",
    "                    G12data10_test, G12data11_test, G12data12_test,G12data13_test, G12data14_test, G12data15_test,G13data1_test, G13data2_test,G13data3_test, G13data4_test, G13data5_test, G13data6_test, \n",
    "                    G13data7_test, G13data8_test, G13data9_test, G13data10_test, G13data11_test, G13data12_test,G13data13_test, G13data14_test, G13data15_test,G21data1_test, G21data2_test,G21data3_test, \n",
    "                    G21data4_test, G21data5_test, G21data6_test, G21data7_test, G21data8_test, G21data9_test, G21data10_test, G21data11_test, G21data12_test,G21data13_test, G21data14_test, G21data15_test,\n",
    "                   G22data1_test, G22data2_test,G22data3_test, G22data4_test, G22data5_test, G22data6_test, G22data7_test, G22data8_test, G22data9_test, G22data10_test, G22data11_test, G22data12_test,\n",
    "                    G22data13_test, G22data14_test, G22data15_test,G23data1_test, G23data2_test,G23data3_test, G23data4_test, G23data5_test, G23data6_test, G23data7_test, G23data8_test, G23data9_test, \n",
    "                    G23data10_test, G23data11_test, G23data12_test, G23data13_test, G23data14_test, G23data15_test])\n",
    "X_test, y_test = result_test.drop(['label'],axis=1), result_test['label']\n",
    "print(X_test.shape)\n",
    "print(y_test.shape)\n",
    "print(result_test.shape)"
   ]
  },
  {
   "cell_type": "code",
   "execution_count": 21,
   "id": "9375ca56",
   "metadata": {},
   "outputs": [
    {
     "name": "stdout",
     "output_type": "stream",
     "text": [
      "0      0\n",
      "1      0\n",
      "2      0\n",
      "3      0\n",
      "4      0\n",
      "      ..\n",
      "763    0\n",
      "764    0\n",
      "765    0\n",
      "766    0\n",
      "767    0\n",
      "Length: 768, dtype: int64\n"
     ]
    }
   ],
   "source": [
    "X = X.where(pd.notnull(X), X.mean(), axis='columns')\n",
    "print(X.isnull().sum())"
   ]
  },
  {
   "cell_type": "code",
   "execution_count": 22,
   "id": "5acfe01c",
   "metadata": {},
   "outputs": [
    {
     "data": {
      "text/plain": [
       "(11112, 768)"
      ]
     },
     "execution_count": 22,
     "metadata": {},
     "output_type": "execute_result"
    }
   ],
   "source": [
    "X_test.shape"
   ]
  },
  {
   "cell_type": "markdown",
   "id": "1b77805a",
   "metadata": {},
   "source": [
    "## 각 지원자 null 값 제거"
   ]
  },
  {
   "cell_type": "code",
   "execution_count": 23,
   "id": "a7361b2b",
   "metadata": {},
   "outputs": [],
   "source": [
    "G11data1_test=G11data1_test.where(pd.notnull(G11data1_test),G11data1_test.mean(), axis='columns')\n",
    "G11data2_test=G11data2_test.where(pd.notnull(G11data2_test),G11data2_test.mean(), axis='columns')\n",
    "G11data3_test=G11data3_test.where(pd.notnull(G11data3_test),G11data3_test.mean(), axis='columns')\n",
    "G11data4_test=G11data4_test.where(pd.notnull(G11data4_test),G11data4_test.mean(), axis='columns')\n",
    "G11data5_test=G11data5_test.where(pd.notnull(G11data5_test),G11data5_test.mean(), axis='columns')\n",
    "G11data6_test=G11data6_test.where(pd.notnull(G11data6_test),G11data6_test.mean(), axis='columns')\n",
    "G11data7_test=G11data7_test.where(pd.notnull(G11data7_test),G11data7_test.mean(), axis='columns')\n",
    "G11data8_test=G11data8_test.where(pd.notnull(G11data8_test),G11data8_test.mean(), axis='columns')\n",
    "G11data9_test=G11data9_test.where(pd.notnull(G11data9_test),G11data9_test.mean(), axis='columns')\n",
    "G11data10_test=G11data10_test.where(pd.notnull(G11data10_test),G11data10_test.mean(), axis='columns')\n",
    "G11data11_test=G11data11_test.where(pd.notnull(G11data11_test),G11data11_test.mean(), axis='columns')\n",
    "G11data12_test=G11data12_test.where(pd.notnull(G11data12_test),G11data12_test.mean(), axis='columns')\n",
    "G11data13_test=G11data13_test.where(pd.notnull(G11data13_test),G11data13_test.mean(), axis='columns')\n",
    "G11data14_test=G11data14_test.where(pd.notnull(G11data14_test),G11data14_test.mean(), axis='columns')\n",
    "G11data15_test=G11data15_test.where(pd.notnull(G11data15_test),G11data15_test.mean(), axis='columns')\n",
    "G12data1_test=G12data1_test.where(pd.notnull(G12data1_test),G12data1_test.mean(), axis='columns')\n",
    "G12data2_test=G12data2_test.where(pd.notnull(G12data2_test),G12data2_test.mean(), axis='columns')\n",
    "G12data3_test=G12data3_test.where(pd.notnull(G12data3_test),G12data3_test.mean(), axis='columns')\n",
    "G12data4_test=G12data4_test.where(pd.notnull(G12data4_test),G12data4_test.mean(), axis='columns')\n",
    "G12data5_test=G12data5_test.where(pd.notnull(G12data5_test),G12data5_test.mean(), axis='columns')\n",
    "G12data6_test=G12data6_test.where(pd.notnull(G12data6_test),G12data6_test.mean(), axis='columns')\n",
    "G12data7_test=G12data7_test.where(pd.notnull(G12data7_test),G12data7_test.mean(), axis='columns')\n",
    "G12data8_test=G12data8_test.where(pd.notnull(G12data8_test),G12data8_test.mean(), axis='columns')\n",
    "G12data9_test=G12data9_test.where(pd.notnull(G12data9_test),G12data9_test.mean(), axis='columns')\n",
    "G12data10_test=G12data10_test.where(pd.notnull(G12data10_test),G12data10_test.mean(), axis='columns')\n",
    "G12data11_test=G12data11_test.where(pd.notnull(G12data11_test),G12data11_test.mean(), axis='columns')\n",
    "G12data12_test=G12data12_test.where(pd.notnull(G12data12_test),G12data12_test.mean(), axis='columns')\n",
    "G12data13_test=G12data13_test.where(pd.notnull(G12data13_test),G12data13_test.mean(), axis='columns')\n",
    "G12data14_test=G12data14_test.where(pd.notnull(G12data14_test),G12data14_test.mean(), axis='columns')\n",
    "G12data15_test=G12data15_test.where(pd.notnull(G12data15_test),G12data15_test.mean(), axis='columns')\n",
    "G13data1_test=G13data1_test.where(pd.notnull(G13data1_test),G13data1_test.mean(), axis='columns')\n",
    "G13data2_test=G13data2_test.where(pd.notnull(G13data2_test),G13data2_test.mean(), axis='columns')\n",
    "G13data3_test=G13data3_test.where(pd.notnull(G13data3_test),G13data3_test.mean(), axis='columns')\n",
    "G13data4_test=G13data4_test.where(pd.notnull(G13data4_test),G13data4_test.mean(), axis='columns')\n",
    "G13data5_test=G13data5_test.where(pd.notnull(G13data5_test),G13data5_test.mean(), axis='columns')\n",
    "G13data6_test=G13data6_test.where(pd.notnull(G13data6_test),G13data6_test.mean(), axis='columns')\n",
    "G13data7_test=G13data7_test.where(pd.notnull(G13data7_test),G13data7_test.mean(), axis='columns')\n",
    "G13data8_test=G13data8_test.where(pd.notnull(G13data8_test),G13data8_test.mean(), axis='columns')\n",
    "G13data9_test=G13data9_test.where(pd.notnull(G13data9_test),G13data9_test.mean(), axis='columns')\n",
    "G13data10_test=G13data10_test.where(pd.notnull(G13data10_test),G13data10_test.mean(), axis='columns')\n",
    "G13data11_test=G13data11_test.where(pd.notnull(G13data11_test),G13data11_test.mean(), axis='columns')\n",
    "G13data12_test=G13data12_test.where(pd.notnull(G13data12_test),G13data12_test.mean(), axis='columns')\n",
    "G13data13_test=G13data13_test.where(pd.notnull(G13data13_test),G13data13_test.mean(), axis='columns')\n",
    "G13data14_test=G13data14_test.where(pd.notnull(G13data14_test),G13data14_test.mean(), axis='columns')\n",
    "G13data15_test=G13data15_test.where(pd.notnull(G13data15_test),G13data15_test.mean(), axis='columns')\n",
    "G21data1_test=G21data1_test.where(pd.notnull(G21data1_test),G21data1_test.mean(), axis='columns')\n",
    "G21data2_test=G21data2_test.where(pd.notnull(G21data2_test),G21data2_test.mean(), axis='columns')\n",
    "G21data3_test=G21data3_test.where(pd.notnull(G21data3_test),G21data3_test.mean(), axis='columns')\n",
    "G21data4_test=G21data4_test.where(pd.notnull(G21data4_test),G21data4_test.mean(), axis='columns')\n",
    "G21data5_test=G21data5_test.where(pd.notnull(G21data5_test),G21data5_test.mean(), axis='columns')\n",
    "G21data6_test=G21data6_test.where(pd.notnull(G21data6_test),G21data6_test.mean(), axis='columns')\n",
    "G21data7_test=G21data7_test.where(pd.notnull(G21data7_test),G21data7_test.mean(), axis='columns')\n",
    "G21data8_test=G21data8_test.where(pd.notnull(G21data8_test),G21data8_test.mean(), axis='columns')\n",
    "G21data9_test=G21data9_test.where(pd.notnull(G21data9_test),G21data9_test.mean(), axis='columns')\n",
    "G21data10_test=G21data10_test.where(pd.notnull(G21data10_test),G21data10_test.mean(), axis='columns')\n",
    "G21data11_test=G21data11_test.where(pd.notnull(G21data11_test),G21data11_test.mean(), axis='columns')\n",
    "G21data12_test=G21data12_test.where(pd.notnull(G21data12_test),G21data12_test.mean(), axis='columns')\n",
    "G21data13_test=G21data13_test.where(pd.notnull(G21data13_test),G21data13_test.mean(), axis='columns')\n",
    "G21data14_test=G21data14_test.where(pd.notnull(G21data14_test),G21data14_test.mean(), axis='columns')\n",
    "G21data15_test=G21data15_test.where(pd.notnull(G21data15_test),G21data15_test.mean(), axis='columns')\n",
    "G22data1_test=G22data1_test.where(pd.notnull(G22data1_test),G22data1_test.mean(), axis='columns')\n",
    "G22data2_test=G22data2_test.where(pd.notnull(G22data2_test),G22data2_test.mean(), axis='columns')\n",
    "G22data3_test=G22data3_test.where(pd.notnull(G22data3_test),G22data3_test.mean(), axis='columns')\n",
    "G22data4_test=G22data4_test.where(pd.notnull(G22data4_test),G22data4_test.mean(), axis='columns')\n",
    "G22data5_test=G22data5_test.where(pd.notnull(G22data5_test),G22data5_test.mean(), axis='columns')\n",
    "G22data6_test=G22data6_test.where(pd.notnull(G22data6_test),G22data6_test.mean(), axis='columns')\n",
    "G22data7_test=G22data7_test.where(pd.notnull(G22data7_test),G22data7_test.mean(), axis='columns')\n",
    "G22data8_test=G22data8_test.where(pd.notnull(G22data8_test),G22data8_test.mean(), axis='columns')\n",
    "G22data9_test=G22data9_test.where(pd.notnull(G22data9_test),G22data9_test.mean(), axis='columns')\n",
    "G22data10_test=G22data10_test.where(pd.notnull(G22data10_test),G22data10_test.mean(), axis='columns')\n",
    "G22data11_test=G22data11_test.where(pd.notnull(G22data11_test),G22data11_test.mean(), axis='columns')\n",
    "G22data12_test=G22data12_test.where(pd.notnull(G22data12_test),G22data12_test.mean(), axis='columns')\n",
    "G22data13_test=G22data13_test.where(pd.notnull(G22data13_test),G22data13_test.mean(), axis='columns')\n",
    "G22data14_test=G22data14_test.where(pd.notnull(G22data14_test),G22data14_test.mean(), axis='columns')\n",
    "G22data15_test=G22data15_test.where(pd.notnull(G22data15_test),G22data15_test.mean(), axis='columns')\n",
    "G23data1_test=G23data1_test.where(pd.notnull(G23data1_test),G23data1_test.mean(), axis='columns')\n",
    "G23data2_test=G23data2_test.where(pd.notnull(G23data2_test),G23data2_test.mean(), axis='columns')\n",
    "G23data3_test=G23data3_test.where(pd.notnull(G23data3_test),G23data3_test.mean(), axis='columns')\n",
    "G23data4_test=G23data4_test.where(pd.notnull(G23data4_test),G23data4_test.mean(), axis='columns')\n",
    "G23data5_test=G23data5_test.where(pd.notnull(G23data5_test),G23data5_test.mean(), axis='columns')\n",
    "G23data6_test=G23data6_test.where(pd.notnull(G23data6_test),G23data6_test.mean(), axis='columns')\n",
    "G23data7_test=G23data7_test.where(pd.notnull(G23data7_test),G23data7_test.mean(), axis='columns')\n",
    "G23data8_test=G23data8_test.where(pd.notnull(G23data8_test),G23data8_test.mean(), axis='columns')\n",
    "G23data9_test=G23data9_test.where(pd.notnull(G23data9_test),G23data9_test.mean(), axis='columns')\n",
    "G23data10_test=G23data10_test.where(pd.notnull(G23data10_test),G23data10_test.mean(), axis='columns')\n",
    "G23data11_test=G23data11_test.where(pd.notnull(G23data11_test),G23data11_test.mean(), axis='columns')\n",
    "G23data12_test=G23data12_test.where(pd.notnull(G23data12_test),G23data12_test.mean(), axis='columns')\n",
    "G23data13_test=G23data13_test.where(pd.notnull(G23data13_test),G23data13_test.mean(), axis='columns')\n",
    "G23data14_test=G23data14_test.where(pd.notnull(G23data14_test),G23data14_test.mean(), axis='columns')\n",
    "G23data15_test=G23data15_test.where(pd.notnull(G23data15_test),G23data15_test.mean(), axis='columns')"
   ]
  },
  {
   "cell_type": "code",
   "execution_count": 24,
   "id": "c6a9ebfa",
   "metadata": {},
   "outputs": [
    {
     "name": "stdout",
     "output_type": "stream",
     "text": [
      "0        0\n",
      "1        0\n",
      "2        0\n",
      "3        0\n",
      "4        0\n",
      "        ..\n",
      "764      0\n",
      "765      0\n",
      "766      0\n",
      "767      0\n",
      "label    0\n",
      "Length: 769, dtype: int64\n"
     ]
    }
   ],
   "source": [
    "print(G11data5_test.isnull().sum())"
   ]
  },
  {
   "cell_type": "code",
   "execution_count": 25,
   "id": "8dffef05",
   "metadata": {},
   "outputs": [
    {
     "data": {
      "text/plain": [
       "0.0    62297\n",
       "1.0    19759\n",
       "Name: label, dtype: int64"
      ]
     },
     "execution_count": 25,
     "metadata": {},
     "output_type": "execute_result"
    }
   ],
   "source": [
    "y.value_counts()"
   ]
  },
  {
   "cell_type": "code",
   "execution_count": 26,
   "id": "5074acdb",
   "metadata": {},
   "outputs": [
    {
     "data": {
      "text/plain": [
       "0.0    5627\n",
       "1.0    5485\n",
       "Name: label, dtype: int64"
      ]
     },
     "execution_count": 26,
     "metadata": {},
     "output_type": "execute_result"
    }
   ],
   "source": [
    "y_test.value_counts()"
   ]
  },
  {
   "cell_type": "code",
   "execution_count": 27,
   "id": "1d5cd13a",
   "metadata": {},
   "outputs": [
    {
     "data": {
      "text/plain": [
       "(11112, 768)"
      ]
     },
     "execution_count": 27,
     "metadata": {},
     "output_type": "execute_result"
    }
   ],
   "source": [
    "X_test.shape"
   ]
  },
  {
   "cell_type": "code",
   "execution_count": 28,
   "id": "ba3b8b34",
   "metadata": {},
   "outputs": [
    {
     "name": "stdout",
     "output_type": "stream",
     "text": [
      "0      0\n",
      "1      0\n",
      "2      0\n",
      "3      0\n",
      "4      0\n",
      "      ..\n",
      "763    0\n",
      "764    0\n",
      "765    0\n",
      "766    0\n",
      "767    0\n",
      "Length: 768, dtype: int64\n"
     ]
    }
   ],
   "source": [
    "X = X.where(pd.notnull(X), X.mean(), axis='columns')\n",
    "print(X.isnull().sum())"
   ]
  },
  {
   "cell_type": "code",
   "execution_count": 29,
   "id": "2e888b79",
   "metadata": {},
   "outputs": [],
   "source": [
    "X_test = X_test.where(pd.notnull(X_test), X_test.mean(), axis='columns')"
   ]
  },
  {
   "cell_type": "code",
   "execution_count": 30,
   "id": "a7449f08",
   "metadata": {},
   "outputs": [
    {
     "data": {
      "text/plain": [
       "(11112, 768)"
      ]
     },
     "execution_count": 30,
     "metadata": {},
     "output_type": "execute_result"
    }
   ],
   "source": [
    "X_test.shape"
   ]
  },
  {
   "cell_type": "code",
   "execution_count": 31,
   "id": "13f84a98",
   "metadata": {},
   "outputs": [
    {
     "name": "stdout",
     "output_type": "stream",
     "text": [
      "0      0\n",
      "1      0\n",
      "2      0\n",
      "3      0\n",
      "4      0\n",
      "      ..\n",
      "763    0\n",
      "764    0\n",
      "765    0\n",
      "766    0\n",
      "767    0\n",
      "Length: 768, dtype: int64\n"
     ]
    }
   ],
   "source": [
    "print(X_test.isnull().sum())"
   ]
  },
  {
   "cell_type": "code",
   "execution_count": 32,
   "id": "217387a5",
   "metadata": {},
   "outputs": [],
   "source": [
    "X_train, y_train = X, y"
   ]
  },
  {
   "cell_type": "code",
   "execution_count": 33,
   "id": "f732f9f0",
   "metadata": {},
   "outputs": [
    {
     "data": {
      "text/plain": [
       "(82056, 768)"
      ]
     },
     "execution_count": 33,
     "metadata": {},
     "output_type": "execute_result"
    }
   ],
   "source": [
    "X.shape"
   ]
  },
  {
   "cell_type": "code",
   "execution_count": 34,
   "id": "23656920",
   "metadata": {},
   "outputs": [
    {
     "data": {
      "text/plain": [
       "(11112, 768)"
      ]
     },
     "execution_count": 34,
     "metadata": {},
     "output_type": "execute_result"
    }
   ],
   "source": [
    "X_test.shape"
   ]
  },
  {
   "cell_type": "code",
   "execution_count": 35,
   "id": "02c9234d",
   "metadata": {},
   "outputs": [],
   "source": [
    "# X_train, X_test,y_train, y_test = X[:70944], X[70944:], y[:70944], y[70944:]"
   ]
  },
  {
   "cell_type": "code",
   "execution_count": 36,
   "id": "ab887304",
   "metadata": {},
   "outputs": [
    {
     "data": {
      "text/plain": [
       "(11112, 768)"
      ]
     },
     "execution_count": 36,
     "metadata": {},
     "output_type": "execute_result"
    }
   ],
   "source": [
    "X_test.shape"
   ]
  },
  {
   "cell_type": "code",
   "execution_count": 37,
   "id": "77ae6dc8",
   "metadata": {},
   "outputs": [],
   "source": [
    "def plot_roc_curve(fprs, tprs):\n",
    "    \"\"\"Plot the Receiver Operating Characteristic from a list\n",
    "    of true positive rates and false positive rates.\"\"\"\n",
    "    \n",
    "    # Initialize useful lists + the plot axes.\n",
    "    tprs_interp = []\n",
    "    aucs = []\n",
    "    mean_fpr = np.linspace(0, 1, 100)\n",
    "    f, ax = plt.subplots(figsize=(14,10))\n",
    "    \n",
    "    # Plot ROC for each K-Fold + compute AUC scores.\n",
    "    for i, (fpr, tpr) in enumerate(zip(fprs, tprs)):\n",
    "        tprs_interp.append(np.interp(mean_fpr, fpr, tpr))\n",
    "        tprs_interp[-1][0] = 0.0\n",
    "        roc_auc = auc(fpr, tpr)\n",
    "        aucs.append(roc_auc)\n",
    "        ax.plot(fpr, tpr, lw=1, alpha=0.3,\n",
    "                 label='ROC fold %d (AUC = %0.2f)' % (i, roc_auc))\n",
    "        \n",
    "    # Plot the luck line.\n",
    "    plt.plot([0, 1], [0, 1], linestyle='--', lw=2, color='r',\n",
    "             label='Luck', alpha=.8)\n",
    "    \n",
    "    # Plot the mean ROC.\n",
    "    mean_tpr = np.mean(tprs_interp, axis=0)\n",
    "    mean_tpr[-1] = 1.0\n",
    "    mean_auc = auc(mean_fpr, mean_tpr)\n",
    "    std_auc = np.std(aucs)\n",
    "    ax.plot(mean_fpr, mean_tpr, color='b',\n",
    "             label=r'Mean ROC (AUC = %0.2f $\\pm$ %0.2f)' % (mean_auc, std_auc),\n",
    "             lw=2, alpha=.8)\n",
    "    \n",
    "    # Plot the standard deviation around the mean ROC.\n",
    "    std_tpr = np.std(tprs_interp, axis=0)\n",
    "    tprs_upper = np.minimum(mean_tpr + std_tpr, 1)\n",
    "    tprs_lower = np.maximum(mean_tpr - std_tpr, 0)\n",
    "    ax.fill_between(mean_fpr, tprs_lower, tprs_upper, color='grey', alpha=.2,\n",
    "                     label=r'$\\pm$ 1 std. dev.')\n",
    "    \n",
    "    # Fine tune and show the plot.\n",
    "    ax.set_xlim([-0.05, 1.05])\n",
    "    ax.set_ylim([-0.05, 1.05])\n",
    "    ax.set_xlabel('False Positive Rate')\n",
    "    ax.set_ylabel('True Positive Rate')\n",
    "    ax.set_title('Receiver operating characteristic')\n",
    "    ax.legend(loc=\"lower right\")\n",
    "    plt.show()\n",
    "    return (f, ax)\n",
    "\n",
    "def compute_roc_auc(index):\n",
    "    y_predict = clf.predict_proba(X.iloc[index])[:,1]\n",
    "    fpr, tpr, thresholds = roc_curve(y.iloc[index], y_predict)\n",
    "    auc_score = auc(fpr, tpr)\n",
    "    return fpr, tpr, auc_score\n",
    "\n",
    "def plot_feature_importance(model):\n",
    "    n_features = X.shape[1]\n",
    "    plt.barh(np.arange(n_features), sorted(model.feature_importances_), align=\"center\")\n",
    "    plt.yticks(np.arange(n_features), X.columns)\n",
    "    plt.xlabel(\"Random Forest Feature Importance\")\n",
    "    plt.ylabel(\"Feature\")\n",
    "    plt.ylim(-1, n_features)"
   ]
  },
  {
   "cell_type": "code",
   "execution_count": 38,
   "id": "8764bd4e",
   "metadata": {},
   "outputs": [
    {
     "data": {
      "image/png": "[encoded data removed]",
      "text/plain": [
       "<Figure size 1008x720 with 1 Axes>"
      ]
     },
     "metadata": {
      "needs_background": "light"
     },
     "output_type": "display_data"
    },
    {
     "data": {
      "text/html": [
       "<div>\n",
       "<style scoped>\n",
       "    .dataframe tbody tr th:only-of-type {\n",
       "        vertical-align: middle;\n",
       "    }\n",
       "\n",
       "    .dataframe tbody tr th {\n",
       "        vertical-align: top;\n",
       "    }\n",
       "\n",
       "    .dataframe thead th {\n",
       "        text-align: right;\n",
       "    }\n",
       "</style>\n",
       "<table border=\"1\" class=\"dataframe\">\n",
       "  <thead>\n",
       "    <tr style=\"text-align: right;\">\n",
       "      <th></th>\n",
       "      <th>AUC Train</th>\n",
       "      <th>AUC Test</th>\n",
       "    </tr>\n",
       "  </thead>\n",
       "  <tbody>\n",
       "    <tr>\n",
       "      <th>0</th>\n",
       "      <td>1.0</td>\n",
       "      <td>0.999469</td>\n",
       "    </tr>\n",
       "    <tr>\n",
       "      <th>1</th>\n",
       "      <td>1.0</td>\n",
       "      <td>0.999415</td>\n",
       "    </tr>\n",
       "    <tr>\n",
       "      <th>2</th>\n",
       "      <td>1.0</td>\n",
       "      <td>0.999449</td>\n",
       "    </tr>\n",
       "    <tr>\n",
       "      <th>3</th>\n",
       "      <td>1.0</td>\n",
       "      <td>0.999344</td>\n",
       "    </tr>\n",
       "    <tr>\n",
       "      <th>4</th>\n",
       "      <td>1.0</td>\n",
       "      <td>0.999337</td>\n",
       "    </tr>\n",
       "  </tbody>\n",
       "</table>\n",
       "</div>"
      ],
      "text/plain": [
       "   AUC Train  AUC Test\n",
       "0        1.0  0.999469\n",
       "1        1.0  0.999415\n",
       "2        1.0  0.999449\n",
       "3        1.0  0.999344\n",
       "4        1.0  0.999337"
      ]
     },
     "execution_count": 38,
     "metadata": {},
     "output_type": "execute_result"
    }
   ],
   "source": [
    "from sklearn.ensemble import RandomForestClassifier\n",
    "from sklearn.model_selection import StratifiedKFold\n",
    "\n",
    "clf = RandomForestClassifier()\n",
    "\n",
    "cv = StratifiedKFold(n_splits=5, random_state=123, shuffle=True)\n",
    "results = pd.DataFrame(columns=['training_score', 'test_score'])\n",
    "fprs, tprs, scores = [], [], []\n",
    "\n",
    "for (train, test), i in zip(cv.split(X, y), range(5)):\n",
    "    clf.fit(X.iloc[train], y.iloc[train])\n",
    "    _, _, auc_score_train = compute_roc_auc(train)\n",
    "    fpr, tpr, auc_score = compute_roc_auc(test)\n",
    "    scores.append((auc_score_train, auc_score))\n",
    "    fprs.append(fpr)\n",
    "    tprs.append(tpr)\n",
    "\n",
    "plot_roc_curve(fprs, tprs)\n",
    "pd.DataFrame(scores, columns=['AUC Train', 'AUC Test'])"
   ]
  },
  {
   "cell_type": "markdown",
   "id": "7a80d8ec",
   "metadata": {},
   "source": [
    "-------------------------------------------"
   ]
  },
  {
   "cell_type": "code",
   "execution_count": null,
   "id": "eb3446c8",
   "metadata": {},
   "outputs": [],
   "source": [
    "import joblib\n",
    "joblib.dump(clf, 'save2222.pkl')"
   ]
  },
  {
   "cell_type": "code",
   "execution_count": null,
   "id": "a254651d",
   "metadata": {},
   "outputs": [],
   "source": [
    "load = joblib.load('./save2222.pkl')\n",
    "load.predict_proba(X_test)"
   ]
  },
  {
   "cell_type": "code",
   "execution_count": null,
   "id": "1e22481a",
   "metadata": {},
   "outputs": [],
   "source": [
    "import sklearn\n",
    "sklearn.__version__"
   ]
  },
  {
   "cell_type": "code",
   "execution_count": null,
   "id": "ec3abd66",
   "metadata": {},
   "outputs": [],
   "source": [
    "load.predict(X_test)"
   ]
  },
  {
   "cell_type": "code",
   "execution_count": 39,
   "id": "4358f65b",
   "metadata": {},
   "outputs": [
    {
     "name": "stdout",
     "output_type": "stream",
     "text": [
      "(11112,)\n",
      "정확도 : 0.8991\n"
     ]
    }
   ],
   "source": [
    "from sklearn.metrics import accuracy_score\n",
    "mypredictions = clf.predict(X_test)\n",
    "print(mypredictions.shape)\n",
    "print('정확도 : {0:.4f}'.format(accuracy_score(y_test, mypredictions)))"
   ]
  },
  {
   "cell_type": "markdown",
   "id": "f12565fe",
   "metadata": {},
   "source": [
    "## 낙상 유형별 테스트 검증"
   ]
  },
  {
   "cell_type": "code",
   "execution_count": null,
   "id": "e9aa5395",
   "metadata": {},
   "outputs": [],
   "source": [
    "for i in range(1,3):\n",
    "    for j in range(1,4):\n",
    "        for z in range(1, 16):\n",
    "            print('G' + str(i) + str(j) + 'dataF' + str(z)+'_X_test'+ ','+ 'G' + str(i)+str(j) + 'dataF' + str(z) + '_y_test'+ ' = '+ 'G' + str(i) + str(j) + 'data' + str(z) + '_test'+'.drop(['+'\\''+'label'+'\\''+'],axis=1),'  +'G' + str(i) + str(j) + 'data' + str(z) + '_test'+'['+'\\''+'label'+'\\''+']') \n",
    "\n",
    "            \n"
   ]
  },
  {
   "cell_type": "code",
   "execution_count": null,
   "id": "946caf65",
   "metadata": {},
   "outputs": [],
   "source": [
    "G11dataF1_X_test,G11dataF1_y_test = G11data1_test.drop(['label'],axis=1),G11data1_test['label']\n",
    "G11dataF2_X_test,G11dataF2_y_test = G11data2_test.drop(['label'],axis=1),G11data2_test['label']\n",
    "G11dataF3_X_test,G11dataF3_y_test = G11data3_test.drop(['label'],axis=1),G11data3_test['label']\n",
    "G11dataF4_X_test,G11dataF4_y_test = G11data4_test.drop(['label'],axis=1),G11data4_test['label']\n",
    "G11dataF5_X_test,G11dataF5_y_test = G11data5_test.drop(['label'],axis=1),G11data5_test['label']\n",
    "G11dataF6_X_test,G11dataF6_y_test = G11data6_test.drop(['label'],axis=1),G11data6_test['label']\n",
    "G11dataF7_X_test,G11dataF7_y_test = G11data7_test.drop(['label'],axis=1),G11data7_test['label']\n",
    "G11dataF8_X_test,G11dataF8_y_test = G11data8_test.drop(['label'],axis=1),G11data8_test['label']\n",
    "G11dataF9_X_test,G11dataF9_y_test = G11data9_test.drop(['label'],axis=1),G11data9_test['label']\n",
    "G11dataF10_X_test,G11dataF10_y_test = G11data10_test.drop(['label'],axis=1),G11data10_test['label']\n",
    "G11dataF11_X_test,G11dataF11_y_test = G11data11_test.drop(['label'],axis=1),G11data11_test['label']\n",
    "G11dataF12_X_test,G11dataF12_y_test = G11data12_test.drop(['label'],axis=1),G11data12_test['label']\n",
    "G11dataF13_X_test,G11dataF13_y_test = G11data13_test.drop(['label'],axis=1),G11data13_test['label']\n",
    "G11dataF14_X_test,G11dataF14_y_test = G11data14_test.drop(['label'],axis=1),G11data14_test['label']\n",
    "G11dataF15_X_test,G11dataF15_y_test = G11data15_test.drop(['label'],axis=1),G11data15_test['label']\n",
    "G12dataF1_X_test,G12dataF1_y_test = G12data1_test.drop(['label'],axis=1),G12data1_test['label']\n",
    "G12dataF2_X_test,G12dataF2_y_test = G12data2_test.drop(['label'],axis=1),G12data2_test['label']\n",
    "G12dataF3_X_test,G12dataF3_y_test = G12data3_test.drop(['label'],axis=1),G12data3_test['label']\n",
    "G12dataF4_X_test,G12dataF4_y_test = G12data4_test.drop(['label'],axis=1),G12data4_test['label']\n",
    "G12dataF5_X_test,G12dataF5_y_test = G12data5_test.drop(['label'],axis=1),G12data5_test['label']\n",
    "G12dataF6_X_test,G12dataF6_y_test = G12data6_test.drop(['label'],axis=1),G12data6_test['label']\n",
    "G12dataF7_X_test,G12dataF7_y_test = G12data7_test.drop(['label'],axis=1),G12data7_test['label']\n",
    "G12dataF8_X_test,G12dataF8_y_test = G12data8_test.drop(['label'],axis=1),G12data8_test['label']\n",
    "G12dataF9_X_test,G12dataF9_y_test = G12data9_test.drop(['label'],axis=1),G12data9_test['label']\n",
    "G12dataF10_X_test,G12dataF10_y_test = G12data10_test.drop(['label'],axis=1),G12data10_test['label']\n",
    "G12dataF11_X_test,G12dataF11_y_test = G12data11_test.drop(['label'],axis=1),G12data11_test['label']\n",
    "G12dataF12_X_test,G12dataF12_y_test = G12data12_test.drop(['label'],axis=1),G12data12_test['label']\n",
    "G12dataF13_X_test,G12dataF13_y_test = G12data13_test.drop(['label'],axis=1),G12data13_test['label']\n",
    "G12dataF14_X_test,G12dataF14_y_test = G12data14_test.drop(['label'],axis=1),G12data14_test['label']\n",
    "G12dataF15_X_test,G12dataF15_y_test = G12data15_test.drop(['label'],axis=1),G12data15_test['label']\n",
    "G13dataF1_X_test,G13dataF1_y_test = G13data1_test.drop(['label'],axis=1),G13data1_test['label']\n",
    "G13dataF2_X_test,G13dataF2_y_test = G13data2_test.drop(['label'],axis=1),G13data2_test['label']\n",
    "G13dataF3_X_test,G13dataF3_y_test = G13data3_test.drop(['label'],axis=1),G13data3_test['label']\n",
    "G13dataF4_X_test,G13dataF4_y_test = G13data4_test.drop(['label'],axis=1),G13data4_test['label']\n",
    "G13dataF5_X_test,G13dataF5_y_test = G13data5_test.drop(['label'],axis=1),G13data5_test['label']\n",
    "G13dataF6_X_test,G13dataF6_y_test = G13data6_test.drop(['label'],axis=1),G13data6_test['label']\n",
    "G13dataF7_X_test,G13dataF7_y_test = G13data7_test.drop(['label'],axis=1),G13data7_test['label']\n",
    "G13dataF8_X_test,G13dataF8_y_test = G13data8_test.drop(['label'],axis=1),G13data8_test['label']\n",
    "G13dataF9_X_test,G13dataF9_y_test = G13data9_test.drop(['label'],axis=1),G13data9_test['label']\n",
    "G13dataF10_X_test,G13dataF10_y_test = G13data10_test.drop(['label'],axis=1),G13data10_test['label']\n",
    "G13dataF11_X_test,G13dataF11_y_test = G13data11_test.drop(['label'],axis=1),G13data11_test['label']\n",
    "G13dataF12_X_test,G13dataF12_y_test = G13data12_test.drop(['label'],axis=1),G13data12_test['label']\n",
    "G13dataF13_X_test,G13dataF13_y_test = G13data13_test.drop(['label'],axis=1),G13data13_test['label']\n",
    "G13dataF14_X_test,G13dataF14_y_test = G13data14_test.drop(['label'],axis=1),G13data14_test['label']\n",
    "G13dataF15_X_test,G13dataF15_y_test = G13data15_test.drop(['label'],axis=1),G13data15_test['label']\n",
    "G21dataF1_X_test,G21dataF1_y_test = G21data1_test.drop(['label'],axis=1),G21data1_test['label']\n",
    "G21dataF2_X_test,G21dataF2_y_test = G21data2_test.drop(['label'],axis=1),G21data2_test['label']\n",
    "G21dataF3_X_test,G21dataF3_y_test = G21data3_test.drop(['label'],axis=1),G21data3_test['label']\n",
    "G21dataF4_X_test,G21dataF4_y_test = G21data4_test.drop(['label'],axis=1),G21data4_test['label']\n",
    "G21dataF5_X_test,G21dataF5_y_test = G21data5_test.drop(['label'],axis=1),G21data5_test['label']\n",
    "G21dataF6_X_test,G21dataF6_y_test = G21data6_test.drop(['label'],axis=1),G21data6_test['label']\n",
    "G21dataF7_X_test,G21dataF7_y_test = G21data7_test.drop(['label'],axis=1),G21data7_test['label']\n",
    "G21dataF8_X_test,G21dataF8_y_test = G21data8_test.drop(['label'],axis=1),G21data8_test['label']\n",
    "G21dataF9_X_test,G21dataF9_y_test = G21data9_test.drop(['label'],axis=1),G21data9_test['label']\n",
    "G21dataF10_X_test,G21dataF10_y_test = G21data10_test.drop(['label'],axis=1),G21data10_test['label']\n",
    "G21dataF11_X_test,G21dataF11_y_test = G21data11_test.drop(['label'],axis=1),G21data11_test['label']\n",
    "G21dataF12_X_test,G21dataF12_y_test = G21data12_test.drop(['label'],axis=1),G21data12_test['label']\n",
    "G21dataF13_X_test,G21dataF13_y_test = G21data13_test.drop(['label'],axis=1),G21data13_test['label']\n",
    "G21dataF14_X_test,G21dataF14_y_test = G21data14_test.drop(['label'],axis=1),G21data14_test['label']\n",
    "G21dataF15_X_test,G21dataF15_y_test = G21data15_test.drop(['label'],axis=1),G21data15_test['label']\n",
    "G22dataF1_X_test,G22dataF1_y_test = G22data1_test.drop(['label'],axis=1),G22data1_test['label']\n",
    "G22dataF2_X_test,G22dataF2_y_test = G22data2_test.drop(['label'],axis=1),G22data2_test['label']\n",
    "G22dataF3_X_test,G22dataF3_y_test = G22data3_test.drop(['label'],axis=1),G22data3_test['label']\n",
    "G22dataF4_X_test,G22dataF4_y_test = G22data4_test.drop(['label'],axis=1),G22data4_test['label']\n",
    "G22dataF5_X_test,G22dataF5_y_test = G22data5_test.drop(['label'],axis=1),G22data5_test['label']\n",
    "G22dataF6_X_test,G22dataF6_y_test = G22data6_test.drop(['label'],axis=1),G22data6_test['label']\n",
    "G22dataF7_X_test,G22dataF7_y_test = G22data7_test.drop(['label'],axis=1),G22data7_test['label']\n",
    "G22dataF8_X_test,G22dataF8_y_test = G22data8_test.drop(['label'],axis=1),G22data8_test['label']\n",
    "G22dataF9_X_test,G22dataF9_y_test = G22data9_test.drop(['label'],axis=1),G22data9_test['label']\n",
    "G22dataF10_X_test,G22dataF10_y_test = G22data10_test.drop(['label'],axis=1),G22data10_test['label']\n",
    "G22dataF11_X_test,G22dataF11_y_test = G22data11_test.drop(['label'],axis=1),G22data11_test['label']\n",
    "G22dataF12_X_test,G22dataF12_y_test = G22data12_test.drop(['label'],axis=1),G22data12_test['label']\n",
    "G22dataF13_X_test,G22dataF13_y_test = G22data13_test.drop(['label'],axis=1),G22data13_test['label']\n",
    "G22dataF14_X_test,G22dataF14_y_test = G22data14_test.drop(['label'],axis=1),G22data14_test['label']\n",
    "G22dataF15_X_test,G22dataF15_y_test = G22data15_test.drop(['label'],axis=1),G22data15_test['label']\n",
    "G23dataF1_X_test,G23dataF1_y_test = G23data1_test.drop(['label'],axis=1),G23data1_test['label']\n",
    "G23dataF2_X_test,G23dataF2_y_test = G23data2_test.drop(['label'],axis=1),G23data2_test['label']\n",
    "G23dataF3_X_test,G23dataF3_y_test = G23data3_test.drop(['label'],axis=1),G23data3_test['label']\n",
    "G23dataF4_X_test,G23dataF4_y_test = G23data4_test.drop(['label'],axis=1),G23data4_test['label']\n",
    "G23dataF5_X_test,G23dataF5_y_test = G23data5_test.drop(['label'],axis=1),G23data5_test['label']\n",
    "G23dataF6_X_test,G23dataF6_y_test = G23data6_test.drop(['label'],axis=1),G23data6_test['label']\n",
    "G23dataF7_X_test,G23dataF7_y_test = G23data7_test.drop(['label'],axis=1),G23data7_test['label']\n",
    "G23dataF8_X_test,G23dataF8_y_test = G23data8_test.drop(['label'],axis=1),G23data8_test['label']\n",
    "G23dataF9_X_test,G23dataF9_y_test = G23data9_test.drop(['label'],axis=1),G23data9_test['label']\n",
    "G23dataF10_X_test,G23dataF10_y_test = G23data10_test.drop(['label'],axis=1),G23data10_test['label']\n",
    "G23dataF11_X_test,G23dataF11_y_test = G23data11_test.drop(['label'],axis=1),G23data11_test['label']\n",
    "G23dataF12_X_test,G23dataF12_y_test = G23data12_test.drop(['label'],axis=1),G23data12_test['label']\n",
    "G23dataF13_X_test,G23dataF13_y_test = G23data13_test.drop(['label'],axis=1),G23data13_test['label']\n",
    "G23dataF14_X_test,G23dataF14_y_test = G23data14_test.drop(['label'],axis=1),G23data14_test['label']\n",
    "G23dataF15_X_test,G23dataF15_y_test = G23data15_test.drop(['label'],axis=1),G23data15_test['label']"
   ]
  },
  {
   "cell_type": "code",
   "execution_count": null,
   "id": "93760bcd",
   "metadata": {},
   "outputs": [],
   "source": [
    "G22dataF10_y_test.value_counts()"
   ]
  },
  {
   "cell_type": "code",
   "execution_count": null,
   "id": "71f52157",
   "metadata": {},
   "outputs": [],
   "source": [
    "G11dataF12_y_test.value_counts()"
   ]
  },
  {
   "cell_type": "code",
   "execution_count": null,
   "id": "4fb9e38b",
   "metadata": {},
   "outputs": [],
   "source": [
    "from sklearn.metrics import accuracy_score\n",
    "G11dataF1predictions = clf.predict(G11dataF1_X_test)\n",
    "print(G11dataF1predictions)\n",
    "print('정확도 : {0:.4f}'.format(accuracy_score(G11dataF1_y_test, G11dataF1predictions)))"
   ]
  },
  {
   "cell_type": "code",
   "execution_count": null,
   "id": "4296bf0c",
   "metadata": {},
   "outputs": [],
   "source": [
    "G11dataF5predictions=clf.predict(G11dataF5_X_test)\n",
    "print('정확도 : {0:.4f}'.format(accuracy_score(G11dataF5_y_test,G11dataF5predictions)))"
   ]
  },
  {
   "cell_type": "code",
   "execution_count": null,
   "id": "cc4a79da",
   "metadata": {},
   "outputs": [],
   "source": [
    "print('=================G11Result====================')\n",
    "G11dataF1predictions=clf.predict(G11dataF1_X_test)\n",
    "print('f1 정확도 : {0:.4f}'.format(accuracy_score(G11dataF1_y_test,G11dataF1predictions)))\n",
    "G11dataF2predictions=clf.predict(G11dataF2_X_test)\n",
    "print('f2 정확도 : {0:.4f}'.format(accuracy_score(G11dataF2_y_test,G11dataF2predictions)))\n",
    "G11dataF3predictions=clf.predict(G11dataF3_X_test)\n",
    "print('f3 정확도 : {0:.4f}'.format(accuracy_score(G11dataF3_y_test,G11dataF3predictions)))\n",
    "G11dataF4predictions=clf.predict(G11dataF4_X_test)\n",
    "print('f4 정확도 : {0:.4f}'.format(accuracy_score(G11dataF4_y_test,G11dataF4predictions)))\n",
    "G11dataF5predictions=clf.predict(G11dataF5_X_test)\n",
    "print('f5 정확도 : {0:.4f}'.format(accuracy_score(G11dataF5_y_test,G11dataF5predictions)))\n",
    "G11dataF6predictions=clf.predict(G11dataF6_X_test)\n",
    "print('f6 정확도 : {0:.4f}'.format(accuracy_score(G11dataF6_y_test,G11dataF6predictions)))\n",
    "G11dataF7predictions=clf.predict(G11dataF7_X_test)\n",
    "print('f7 정확도 : {0:.4f}'.format(accuracy_score(G11dataF7_y_test,G11dataF7predictions)))\n",
    "G11dataF8predictions=clf.predict(G11dataF8_X_test)\n",
    "print('f8 정확도 : {0:.4f}'.format(accuracy_score(G11dataF8_y_test,G11dataF8predictions)))\n",
    "G11dataF9predictions=clf.predict(G11dataF9_X_test)\n",
    "print('f9 정확도 : {0:.4f}'.format(accuracy_score(G11dataF9_y_test,G11dataF9predictions)))\n",
    "G11dataF10predictions=clf.predict(G11dataF10_X_test)\n",
    "print('f10 정확도 : {0:.4f}'.format(accuracy_score(G11dataF10_y_test,G11dataF10predictions)))\n",
    "G11dataF11predictions=clf.predict(G11dataF11_X_test)\n",
    "print('f11 정확도 : {0:.4f}'.format(accuracy_score(G11dataF11_y_test,G11dataF11predictions)))\n",
    "G11dataF12predictions=clf.predict(G11dataF12_X_test)\n",
    "print('f12 정확도 : {0:.4f}'.format(accuracy_score(G11dataF12_y_test,G11dataF12predictions)))\n",
    "G11dataF13predictions=clf.predict(G11dataF13_X_test)\n",
    "print('f13 정확도 : {0:.4f}'.format(accuracy_score(G11dataF13_y_test,G11dataF13predictions)))\n",
    "G11dataF14predictions=clf.predict(G11dataF14_X_test)\n",
    "print('f14 정확도 : {0:.4f}'.format(accuracy_score(G11dataF14_y_test,G11dataF14predictions)))\n",
    "G11dataF15predictions=clf.predict(G11dataF15_X_test)\n",
    "print('f15 정확도 : {0:.4f}'.format(accuracy_score(G11dataF15_y_test,G11dataF15predictions)))\n",
    "print('=================G12Result====================')\n",
    "G12dataF1predictions=clf.predict(G12dataF1_X_test)\n",
    "print('f1 정확도 : {0:.4f}'.format(accuracy_score(G12dataF1_y_test,G12dataF1predictions)))\n",
    "G12dataF2predictions=clf.predict(G12dataF2_X_test)\n",
    "print('f2 정확도 : {0:.4f}'.format(accuracy_score(G12dataF2_y_test,G12dataF2predictions)))\n",
    "G12dataF3predictions=clf.predict(G12dataF3_X_test)\n",
    "print('f3 정확도 : {0:.4f}'.format(accuracy_score(G12dataF3_y_test,G12dataF3predictions)))\n",
    "G12dataF4predictions=clf.predict(G12dataF4_X_test)\n",
    "print('f4 정확도 : {0:.4f}'.format(accuracy_score(G12dataF4_y_test,G12dataF4predictions)))\n",
    "G12dataF5predictions=clf.predict(G12dataF5_X_test)\n",
    "print('f5 정확도 : {0:.4f}'.format(accuracy_score(G12dataF5_y_test,G12dataF5predictions)))\n",
    "G12dataF6predictions=clf.predict(G12dataF6_X_test)\n",
    "print('f6 정확도 : {0:.4f}'.format(accuracy_score(G12dataF6_y_test,G12dataF6predictions)))\n",
    "G12dataF7predictions=clf.predict(G12dataF7_X_test)\n",
    "print('f7 정확도 : {0:.4f}'.format(accuracy_score(G12dataF7_y_test,G12dataF7predictions)))\n",
    "G12dataF8predictions=clf.predict(G12dataF8_X_test)\n",
    "print('f8 정확도 : {0:.4f}'.format(accuracy_score(G12dataF8_y_test,G12dataF8predictions)))\n",
    "G12dataF9predictions=clf.predict(G12dataF9_X_test)\n",
    "print('f9 정확도 : {0:.4f}'.format(accuracy_score(G12dataF9_y_test,G12dataF9predictions)))\n",
    "G12dataF10predictions=clf.predict(G12dataF10_X_test)\n",
    "print('f10 정확도 : {0:.4f}'.format(accuracy_score(G12dataF10_y_test,G12dataF10predictions)))\n",
    "G12dataF11predictions=clf.predict(G12dataF11_X_test)\n",
    "print('f11 정확도 : {0:.4f}'.format(accuracy_score(G12dataF11_y_test,G12dataF11predictions)))\n",
    "G12dataF12predictions=clf.predict(G12dataF12_X_test)\n",
    "print('f12 정확도 : {0:.4f}'.format(accuracy_score(G12dataF12_y_test,G12dataF12predictions)))\n",
    "G12dataF13predictions=clf.predict(G12dataF13_X_test)\n",
    "print('f13 정확도 : {0:.4f}'.format(accuracy_score(G12dataF13_y_test,G12dataF13predictions)))\n",
    "G12dataF14predictions=clf.predict(G12dataF14_X_test)\n",
    "print('f14 정확도 : {0:.4f}'.format(accuracy_score(G12dataF14_y_test,G12dataF14predictions)))\n",
    "G12dataF15predictions=clf.predict(G12dataF15_X_test)\n",
    "print('f15 정확도 : {0:.4f}'.format(accuracy_score(G12dataF15_y_test,G12dataF15predictions)))\n",
    "print('=================G13Result====================')\n",
    "G13dataF1predictions=clf.predict(G13dataF1_X_test)\n",
    "print('f1 정확도 : {0:.4f}'.format(accuracy_score(G13dataF1_y_test,G13dataF1predictions)))\n",
    "G13dataF2predictions=clf.predict(G13dataF2_X_test)\n",
    "print('f2 정확도 : {0:.4f}'.format(accuracy_score(G13dataF2_y_test,G13dataF2predictions)))\n",
    "G13dataF3predictions=clf.predict(G13dataF3_X_test)\n",
    "print('f3 정확도 : {0:.4f}'.format(accuracy_score(G13dataF3_y_test,G13dataF3predictions)))\n",
    "G13dataF4predictions=clf.predict(G13dataF4_X_test)\n",
    "print('f4 정확도 : {0:.4f}'.format(accuracy_score(G13dataF4_y_test,G13dataF4predictions)))\n",
    "G13dataF5predictions=clf.predict(G13dataF5_X_test)\n",
    "print('f5 정확도 : {0:.4f}'.format(accuracy_score(G13dataF5_y_test,G13dataF5predictions)))\n",
    "G13dataF6predictions=clf.predict(G13dataF6_X_test)\n",
    "print('f6 정확도 : {0:.4f}'.format(accuracy_score(G13dataF6_y_test,G13dataF6predictions)))\n",
    "G13dataF7predictions=clf.predict(G13dataF7_X_test)\n",
    "print('f7 정확도 : {0:.4f}'.format(accuracy_score(G13dataF7_y_test,G13dataF7predictions)))\n",
    "G13dataF8predictions=clf.predict(G13dataF8_X_test)\n",
    "print('f8 정확도 : {0:.4f}'.format(accuracy_score(G13dataF8_y_test,G13dataF8predictions)))\n",
    "G13dataF9predictions=clf.predict(G13dataF9_X_test)\n",
    "print('f9 정확도 : {0:.4f}'.format(accuracy_score(G13dataF9_y_test,G13dataF9predictions)))\n",
    "G13dataF10predictions=clf.predict(G13dataF10_X_test)\n",
    "print('f10 정확도 : {0:.4f}'.format(accuracy_score(G13dataF10_y_test,G13dataF10predictions)))\n",
    "G13dataF11predictions=clf.predict(G13dataF11_X_test)\n",
    "print('f11 정확도 : {0:.4f}'.format(accuracy_score(G13dataF11_y_test,G13dataF11predictions)))\n",
    "G13dataF12predictions=clf.predict(G13dataF12_X_test)\n",
    "print('f12 정확도 : {0:.4f}'.format(accuracy_score(G13dataF12_y_test,G13dataF12predictions)))\n",
    "G13dataF13predictions=clf.predict(G13dataF13_X_test)\n",
    "print('f13 정확도 : {0:.4f}'.format(accuracy_score(G13dataF13_y_test,G13dataF13predictions)))\n",
    "G13dataF14predictions=clf.predict(G13dataF14_X_test)\n",
    "print('f14 정확도 : {0:.4f}'.format(accuracy_score(G13dataF14_y_test,G13dataF14predictions)))\n",
    "G13dataF15predictions=clf.predict(G13dataF15_X_test)\n",
    "print('f15 정확도 : {0:.4f}'.format(accuracy_score(G13dataF15_y_test,G13dataF15predictions)))\n",
    "print('=================G21Result====================')\n",
    "G21dataF1predictions=clf.predict(G21dataF1_X_test)\n",
    "print('f1 정확도 : {0:.4f}'.format(accuracy_score(G21dataF1_y_test,G21dataF1predictions)))\n",
    "G21dataF2predictions=clf.predict(G21dataF2_X_test)\n",
    "print('f2 정확도 : {0:.4f}'.format(accuracy_score(G21dataF2_y_test,G21dataF2predictions)))\n",
    "G21dataF3predictions=clf.predict(G21dataF3_X_test)\n",
    "print('f3 정확도 : {0:.4f}'.format(accuracy_score(G21dataF3_y_test,G21dataF3predictions)))\n",
    "G21dataF4predictions=clf.predict(G21dataF4_X_test)\n",
    "print('f4 정확도 : {0:.4f}'.format(accuracy_score(G21dataF4_y_test,G21dataF4predictions)))\n",
    "G21dataF5predictions=clf.predict(G21dataF5_X_test)\n",
    "print('f5 정확도 : {0:.4f}'.format(accuracy_score(G21dataF5_y_test,G21dataF5predictions)))\n",
    "G21dataF6predictions=clf.predict(G21dataF6_X_test)\n",
    "print('f6 정확도 : {0:.4f}'.format(accuracy_score(G21dataF6_y_test,G21dataF6predictions)))\n",
    "G21dataF7predictions=clf.predict(G21dataF7_X_test)\n",
    "print('f7 정확도 : {0:.4f}'.format(accuracy_score(G21dataF7_y_test,G21dataF7predictions)))\n",
    "G21dataF8predictions=clf.predict(G21dataF8_X_test)\n",
    "print('f8 정확도 : {0:.4f}'.format(accuracy_score(G21dataF8_y_test,G21dataF8predictions)))\n",
    "G21dataF9predictions=clf.predict(G21dataF9_X_test)\n",
    "print('f9 정확도 : {0:.4f}'.format(accuracy_score(G21dataF9_y_test,G21dataF9predictions)))\n",
    "G21dataF10predictions=clf.predict(G21dataF10_X_test)\n",
    "print('f10 정확도 : {0:.4f}'.format(accuracy_score(G21dataF10_y_test,G21dataF10predictions)))\n",
    "G21dataF11predictions=clf.predict(G21dataF11_X_test)\n",
    "print('f11 정확도 : {0:.4f}'.format(accuracy_score(G21dataF11_y_test,G21dataF11predictions)))\n",
    "G21dataF12predictions=clf.predict(G21dataF12_X_test)\n",
    "print('f12 정확도 : {0:.4f}'.format(accuracy_score(G21dataF12_y_test,G21dataF12predictions)))\n",
    "G21dataF13predictions=clf.predict(G21dataF13_X_test)\n",
    "print('f13 정확도 : {0:.4f}'.format(accuracy_score(G21dataF13_y_test,G21dataF13predictions)))\n",
    "G21dataF14predictions=clf.predict(G21dataF14_X_test)\n",
    "print('f14 정확도 : {0:.4f}'.format(accuracy_score(G21dataF14_y_test,G21dataF14predictions)))\n",
    "G21dataF15predictions=clf.predict(G21dataF15_X_test)\n",
    "print('f15 정확도 : {0:.4f}'.format(accuracy_score(G21dataF15_y_test,G21dataF15predictions)))\n",
    "print('=================G22Result====================')\n",
    "G22dataF1predictions=clf.predict(G22dataF1_X_test)\n",
    "print('f1 정확도 : {0:.4f}'.format(accuracy_score(G22dataF1_y_test,G22dataF1predictions)))\n",
    "G22dataF2predictions=clf.predict(G22dataF2_X_test)\n",
    "print('f2 정확도 : {0:.4f}'.format(accuracy_score(G22dataF2_y_test,G22dataF2predictions)))\n",
    "G22dataF3predictions=clf.predict(G22dataF3_X_test)\n",
    "print('f3 정확도 : {0:.4f}'.format(accuracy_score(G22dataF3_y_test,G22dataF3predictions)))\n",
    "G22dataF4predictions=clf.predict(G22dataF4_X_test)\n",
    "print('f4 정확도 : {0:.4f}'.format(accuracy_score(G22dataF4_y_test,G22dataF4predictions)))\n",
    "G22dataF5predictions=clf.predict(G22dataF5_X_test)\n",
    "print('f5 정확도 : {0:.4f}'.format(accuracy_score(G22dataF5_y_test,G22dataF5predictions)))\n",
    "G22dataF6predictions=clf.predict(G22dataF6_X_test)\n",
    "print('f6 정확도 : {0:.4f}'.format(accuracy_score(G22dataF6_y_test,G22dataF6predictions)))\n",
    "G22dataF7predictions=clf.predict(G22dataF7_X_test)\n",
    "print('f7 정확도 : {0:.4f}'.format(accuracy_score(G22dataF7_y_test,G22dataF7predictions)))\n",
    "G22dataF8predictions=clf.predict(G22dataF8_X_test)\n",
    "print('f8 정확도 : {0:.4f}'.format(accuracy_score(G22dataF8_y_test,G22dataF8predictions)))\n",
    "G22dataF9predictions=clf.predict(G22dataF9_X_test)\n",
    "print('f9 정확도 : {0:.4f}'.format(accuracy_score(G22dataF9_y_test,G22dataF9predictions)))\n",
    "G22dataF10predictions=clf.predict(G22dataF10_X_test)\n",
    "print('f10 정확도 : {0:.4f}'.format(accuracy_score(G22dataF10_y_test,G22dataF10predictions)))\n",
    "G22dataF11predictions=clf.predict(G22dataF11_X_test)\n",
    "print('f11 정확도 : {0:.4f}'.format(accuracy_score(G22dataF11_y_test,G22dataF11predictions)))\n",
    "G22dataF12predictions=clf.predict(G22dataF12_X_test)\n",
    "print('f12 정확도 : {0:.4f}'.format(accuracy_score(G22dataF12_y_test,G22dataF12predictions)))\n",
    "G22dataF13predictions=clf.predict(G22dataF13_X_test)\n",
    "print('f13 정확도 : {0:.4f}'.format(accuracy_score(G22dataF13_y_test,G22dataF13predictions)))\n",
    "G22dataF14predictions=clf.predict(G22dataF14_X_test)\n",
    "print('f14 정확도 : {0:.4f}'.format(accuracy_score(G22dataF14_y_test,G22dataF14predictions)))\n",
    "G22dataF15predictions=clf.predict(G22dataF15_X_test)\n",
    "print('f15 정확도 : {0:.4f}'.format(accuracy_score(G22dataF15_y_test,G22dataF15predictions)))\n",
    "print('=================G23Result====================')\n",
    "G23dataF1predictions=clf.predict(G23dataF1_X_test)\n",
    "print('f1 정확도 : {0:.4f}'.format(accuracy_score(G23dataF1_y_test,G23dataF1predictions)))\n",
    "G23dataF2predictions=clf.predict(G23dataF2_X_test)\n",
    "print('f2 정확도 : {0:.4f}'.format(accuracy_score(G23dataF2_y_test,G23dataF2predictions)))\n",
    "G23dataF3predictions=clf.predict(G23dataF3_X_test)\n",
    "print('f3 정확도 : {0:.4f}'.format(accuracy_score(G23dataF3_y_test,G23dataF3predictions)))\n",
    "G23dataF4predictions=clf.predict(G23dataF4_X_test)\n",
    "print('f4 정확도 : {0:.4f}'.format(accuracy_score(G23dataF4_y_test,G23dataF4predictions)))\n",
    "G23dataF5predictions=clf.predict(G23dataF5_X_test)\n",
    "print('f5 정확도 : {0:.4f}'.format(accuracy_score(G23dataF5_y_test,G23dataF5predictions)))\n",
    "G23dataF6predictions=clf.predict(G23dataF6_X_test)\n",
    "print('f6 정확도 : {0:.4f}'.format(accuracy_score(G23dataF6_y_test,G23dataF6predictions)))\n",
    "G23dataF7predictions=clf.predict(G23dataF7_X_test)\n",
    "print('f7 정확도 : {0:.4f}'.format(accuracy_score(G23dataF7_y_test,G23dataF7predictions)))\n",
    "G23dataF8predictions=clf.predict(G23dataF8_X_test)\n",
    "print('f8 정확도 : {0:.4f}'.format(accuracy_score(G23dataF8_y_test,G23dataF8predictions)))\n",
    "G23dataF9predictions=clf.predict(G23dataF9_X_test)\n",
    "print('f9 정확도 : {0:.4f}'.format(accuracy_score(G23dataF9_y_test,G23dataF9predictions)))\n",
    "G23dataF10predictions=clf.predict(G23dataF10_X_test)\n",
    "print('f10 정확도 : {0:.4f}'.format(accuracy_score(G23dataF10_y_test,G23dataF10predictions)))\n",
    "G23dataF11predictions=clf.predict(G23dataF11_X_test)\n",
    "print('f11 정확도 : {0:.4f}'.format(accuracy_score(G23dataF11_y_test,G23dataF11predictions)))\n",
    "G23dataF12predictions=clf.predict(G23dataF12_X_test)\n",
    "print('f12 정확도 : {0:.4f}'.format(accuracy_score(G23dataF12_y_test,G23dataF12predictions)))\n",
    "G23dataF13predictions=clf.predict(G23dataF13_X_test)\n",
    "print('f13 정확도 : {0:.4f}'.format(accuracy_score(G23dataF13_y_test,G23dataF13predictions)))\n",
    "G23dataF14predictions=clf.predict(G23dataF14_X_test)\n",
    "print('f14 정확도 : {0:.4f}'.format(accuracy_score(G23dataF14_y_test,G23dataF14predictions)))\n",
    "G23dataF15predictions=clf.predict(G23dataF15_X_test)\n",
    "print('f15 정확도 : {0:.4f}'.format(accuracy_score(G23dataF15_y_test,G23dataF15predictions)))"
   ]
  },
  {
   "cell_type": "code",
   "execution_count": null,
   "id": "b2b21f49",
   "metadata": {},
   "outputs": [],
   "source": [
    "predict = []\n",
    "print(G23dataF5_y_test)\n",
    "print(G23dataF5predictions)\n",
    "# print(G13dataF10predictions[0])\n",
    "\n",
    "j = 1132\n",
    "for i in range(0,len(G23dataF5predictions)):\n",
    "    predict.append(j)\n",
    "    predict.append(G23dataF5predictions[i])\n",
    "    j = j+ 1\n",
    "print(predict)"
   ]
  },
  {
   "cell_type": "code",
   "execution_count": null,
   "id": "0d5b04f9",
   "metadata": {},
   "outputs": [],
   "source": [
    "mat_file_io = io.loadmat('./sensors-19-04565-s001/eHomeSeniors dataset/melexis sensor/datos matlab/melexis-G1-2-f02-data.mat')\n",
    "y_predict = []\n",
    "for i in range(len(mat_file_io.get('melexisG12f02'))):\n",
    "    y_predict.append(i)\n",
    "    y_predict.append(clf.predict(mat_file_io.get('melexisG12f02')[i].reshape((1,-1))))\n",
    "    \n",
    "print(y_predict)"
   ]
  },
  {
   "cell_type": "code",
   "execution_count": null,
   "id": "4a1dfe68",
   "metadata": {},
   "outputs": [],
   "source": [
    "mat_file_io = io.loadmat('./sensors-19-04565-s001/eHomeSeniors dataset/melexis sensor/datos matlab/melexis-G1-2-f03-data.mat')\n",
    "y_predict = []\n",
    "for i in range(len(mat_file_io.get('melexisG12f03'))):\n",
    "    y_predict.append(i)\n",
    "    y_predict.append(clf.predict(mat_file_io.get('melexisG12f03')[i].reshape((1,-1))))\n",
    "    \n",
    "print(y_predict)"
   ]
  },
  {
   "cell_type": "code",
   "execution_count": null,
   "id": "3c8ff28e",
   "metadata": {},
   "outputs": [],
   "source": [
    "from sklearn.model_selection import cross_val_score\n",
    "cross_val_score(clf, X_train, y_train, cv=3, scoring=\"accuracy\")"
   ]
  },
  {
   "cell_type": "code",
   "execution_count": null,
   "id": "bfd56cf7",
   "metadata": {},
   "outputs": [],
   "source": [
    "from sklearn.preprocessing import StandardScaler\n",
    "\n",
    "scaler = StandardScaler()\n",
    "X_train_scale = scaler.fit_transform(X_train)\n",
    "\n",
    "clf.fit(X_train_scale, y_train)\n",
    "cross_val_score(clf, X_train, y_train, cv=3, scoring=\"accuracy\")"
   ]
  },
  {
   "cell_type": "code",
   "execution_count": null,
   "id": "617249c1",
   "metadata": {},
   "outputs": [],
   "source": [
    "X_test_scale = scaler.fit_transform(X_test)\n",
    "prediction = clf.predict(X_test_scale)\n",
    "result = (prediction == y_test).mean()\n",
    "print(result)"
   ]
  },
  {
   "cell_type": "code",
   "execution_count": null,
   "id": "c5d15b0a",
   "metadata": {},
   "outputs": [],
   "source": [
    "fig = plt.figure()\n",
    "random_pick = np.random.randint(low=0, high=1879, size= 10)\n",
    "print(y[random_pick])\n",
    "for i in range(10):\n",
    "    idx = random_pick[i]\n",
    "    img = np.reshape(X[idx], (24, 32))\n",
    "    plot = fig.add_subplot(1, 10, i+ 1)\n",
    "    plot.imshow(img)"
   ]
  },
  {
   "cell_type": "code",
   "execution_count": 40,
   "id": "deddcee0",
   "metadata": {},
   "outputs": [
    {
     "name": "stdout",
     "output_type": "stream",
     "text": [
      "{'__header__': b'MATLAB 5.0 MAT-file, Platform: PCWIN64, Created on: Tue Jul  2 11:28:47 2019', '__version__': '1.0', '__globals__': [], 'melexisG11f01': array([[17.81, 17.69, 18.23, ..., 20.01, 18.87, 19.17],\n",
      "       [17.77, 17.77, 18.17, ..., 20.03, 21.55, 19.19],\n",
      "       [17.91, 17.85, 18.13, ..., 20.07, 20.83, 19.07],\n",
      "       ...,\n",
      "       [17.75, 18.07, 18.31, ..., 19.67, 18.79, 17.57],\n",
      "       [17.79, 18.09, 18.37, ..., 19.73, 18.79, 17.91],\n",
      "       [17.81, 18.17, 18.35, ..., 19.71, 18.77, 18.17]])}\n",
      "[[17.81 17.69 18.23 ... 20.01 18.87 19.17]\n",
      " [17.77 17.77 18.17 ... 20.03 21.55 19.19]\n",
      " [17.91 17.85 18.13 ... 20.07 20.83 19.07]\n",
      " ...\n",
      " [17.75 18.07 18.31 ... 19.67 18.79 17.57]\n",
      " [17.79 18.09 18.37 ... 19.73 18.79 17.91]\n",
      " [17.81 18.17 18.35 ... 19.71 18.77 18.17]]\n",
      "(880, 768)\n",
      "[[17.81 17.69 18.23 ... 20.01 18.87 19.17]\n",
      " [17.77 17.77 18.17 ... 20.03 21.55 19.19]\n",
      " [17.91 17.85 18.13 ... 20.07 20.83 19.07]\n",
      " ...\n",
      " [17.75 18.07 18.31 ... 19.67 18.79 17.57]\n",
      " [17.79 18.09 18.37 ... 19.73 18.79 17.91]\n",
      " [17.81 18.17 18.35 ... 19.71 18.77 18.17]]\n",
      "(24, 32)\n",
      "[[18.15 18.09 18.39 18.21 18.47 18.07 18.35 18.49 18.81 18.53 18.79 18.87\n",
      "  18.75 18.73 18.53 18.69 18.65 18.45 18.85 19.01 18.73 18.55 18.79 18.81\n",
      "  18.71 18.43 18.65 18.99 18.77 18.17 17.23 18.01]\n",
      " [18.05 18.15 18.41 18.03 18.53 18.43 18.71 18.51 18.79 18.69 18.71 18.67\n",
      "  18.61 18.69 18.97 18.57 18.59 18.57 18.79 18.53 18.73 18.69 18.97 18.57\n",
      "  18.47 18.65 19.11 18.93 18.55 18.23 17.69 17.97]\n",
      " [18.41 18.31 18.47 18.33 18.29 18.13 18.53 18.77 18.71 18.87 18.71 18.67\n",
      "  18.87 18.55 18.57 18.87 18.85 18.77 18.87 18.81 18.63 18.77 18.73 18.83\n",
      "  18.27 18.49 18.63 18.69 18.75 18.29 18.31 18.65]\n",
      " [18.13 18.47 18.89 18.47 18.53 18.39 18.61 18.95 18.75 19.07 18.83 18.73\n",
      "  18.73 18.75 19.01 18.89 18.63 18.59 18.85 18.71 18.99 18.83 18.75 18.75\n",
      "  18.47 18.67 19.09 18.71 18.67 18.67 18.83 18.57]\n",
      " [18.35 18.19 18.57 18.81 18.79 18.55 18.59 19.09 19.05 19.27 19.31 18.95\n",
      "  18.93 18.55 18.67 18.61 18.83 18.81 19.03 19.13 19.49 18.99 18.91 18.71\n",
      "  18.65 18.61 18.87 18.79 18.47 18.49 18.33 18.53]\n",
      " [18.17 18.63 18.77 18.83 18.83 18.67 18.65 18.91 19.01 19.15 19.59 19.03\n",
      "  18.69 18.85 18.99 18.83 19.05 18.89 19.11 19.29 19.59 18.93 18.75 18.69\n",
      "  18.87 18.83 18.97 18.87 18.77 18.57 18.29 18.19]\n",
      " [18.51 18.69 19.05 19.03 18.83 18.79 18.83 19.25 19.05 18.93 19.23 19.07\n",
      "  19.01 18.83 18.79 19.13 18.99 18.69 19.25 19.53 18.95 18.85 18.89 18.93\n",
      "  18.51 18.61 18.93 18.79 18.69 18.61 18.41 18.91]\n",
      " [18.79 18.71 18.95 18.99 18.87 18.65 19.01 18.69 18.91 18.91 19.07 18.81\n",
      "  18.93 18.87 18.91 18.85 18.97 18.59 19.09 18.99 18.73 18.93 18.91 18.57\n",
      "  18.57 18.87 19.15 18.91 18.89 18.79 18.83 18.87]\n",
      " [18.59 18.57 18.93 18.85 18.65 18.89 19.23 18.75 18.81 18.87 18.87 18.89\n",
      "  18.91 18.81 19.19 19.03 18.97 18.81 18.81 19.01 19.01 18.75 18.79 18.91\n",
      "  18.73 18.71 18.93 18.99 18.87 18.89 18.55 19.07]\n",
      " [18.53 18.53 18.99 18.55 18.53 18.67 19.09 18.81 18.77 18.87 18.87 18.89\n",
      "  18.79 18.85 19.03 18.75 18.99 18.83 19.11 18.87 18.87 18.75 19.03 18.75\n",
      "  18.67 18.81 18.87 18.97 19.83 19.83 18.93 19.21]\n",
      " [18.71 18.55 18.71 18.99 18.77 18.75 18.81 19.03 18.71 18.67 18.91 19.15\n",
      "  18.97 18.79 19.11 19.11 18.67 18.87 18.87 18.77 18.87 18.79 18.91 19.13\n",
      "  18.89 18.77 18.75 19.03 21.33 21.15 19.61 19.29]\n",
      " [18.39 18.53 18.85 18.73 18.67 18.51 18.99 18.77 18.63 18.81 19.03 18.97\n",
      "  18.99 18.93 19.19 18.97 18.69 18.79 18.89 18.73 18.67 18.95 19.05 18.97\n",
      "  18.77 18.83 19.21 19.13 21.43 22.05 20.53 19.29]\n",
      " [19.03 19.09 18.81 18.71 18.79 18.61 18.77 18.91 18.73 18.83 19.03 19.07\n",
      "  19.03 19.15 18.95 19.19 19.11 18.79 18.81 18.99 19.33 19.75 19.21 19.23\n",
      "  18.99 18.71 18.79 19.13 21.57 21.85 20.67 20.51]\n",
      " [19.37 19.97 19.87 18.91 18.67 18.79 18.81 18.97 18.67 18.85 19.17 19.23\n",
      "  18.99 18.97 19.15 19.19 19.09 18.93 19.03 18.77 19.11 19.71 19.31 18.95\n",
      "  18.77 18.59 18.81 19.33 21.13 21.75 20.91 20.51]\n",
      " [19.87 20.23 20.23 19.87 19.15 19.13 18.77 19.13 19.07 18.95 19.03 19.35\n",
      "  19.09 18.95 18.89 18.99 18.87 18.81 18.87 18.79 19.03 19.55 19.07 19.05\n",
      "  18.75 18.77 18.89 19.03 20.45 21.03 21.03 20.55]\n",
      " [19.95 20.05 20.05 19.59 19.03 19.23 18.89 18.95 18.85 19.05 19.23 19.07\n",
      "  18.93 19.05 19.13 18.77 19.09 18.87 18.89 18.77 18.77 19.55 19.09 18.99\n",
      "  18.53 18.67 18.95 19.03 20.71 21.39 21.21 20.35]\n",
      " [19.17 19.15 19.21 19.17 18.71 18.83 18.81 18.95 18.85 18.75 19.05 18.93\n",
      "  18.87 18.95 18.85 18.87 18.93 19.01 18.61 18.93 18.73 18.83 18.81 19.09\n",
      "  18.93 18.71 18.95 19.49 20.97 21.69 20.85 20.55]\n",
      " [19.03 19.03 19.15 18.75 18.61 18.81 18.77 18.67 18.55 18.57 18.83 18.61\n",
      "  18.69 18.81 18.67 18.57 18.71 18.83 18.69 18.67 18.67 18.93 18.67 18.55\n",
      "  18.81 18.59 18.93 19.27 20.71 21.17 20.39 20.05]\n",
      " [18.55 18.63 18.71 19.05 18.79 18.51 18.37 18.89 18.59 18.55 18.41 18.77\n",
      "  18.49 18.53 18.75 18.81 18.71 18.47 18.65 18.59 18.75 18.47 18.39 18.85\n",
      "  18.79 18.57 18.91 19.03 20.71 20.77 20.23 19.81]\n",
      " [18.39 18.43 18.87 18.93 18.65 18.73 18.59 18.67 18.69 18.49 18.49 18.53\n",
      "  18.77 18.73 18.91 18.53 18.75 18.55 18.81 18.77 18.71 18.63 18.63 18.51\n",
      "  18.59 18.57 18.93 18.85 20.33 20.63 20.17 19.89]\n",
      " [18.09 18.25 18.27 18.73 18.35 18.71 18.31 18.69 18.37 18.43 18.51 18.69\n",
      "  19.03 18.83 18.85 18.99 18.91 18.95 18.69 18.95 18.85 18.57 18.67 18.59\n",
      "  18.67 18.61 19.01 19.01 19.49 19.49 19.43 19.57]\n",
      " [18.13 18.23 18.37 18.35 18.25 18.45 18.55 18.25 18.57 18.49 18.83 18.71\n",
      "  19.15 18.79 19.09 19.17 19.13 19.11 18.87 19.11 18.73 18.65 18.61 18.73\n",
      "  18.61 18.77 18.93 18.93 18.95 19.11 19.21 19.35]\n",
      " [17.97 18.25 18.13 18.45 18.23 18.65 18.23 18.47 18.63 18.53 18.77 18.95\n",
      "  18.95 18.79 19.11 19.17 19.07 18.97 18.89 19.05 18.89 18.83 18.67 18.99\n",
      "  18.55 18.61 19.09 18.83 18.91 18.99 18.85 19.05]\n",
      " [18.21 18.07 18.29 18.25 18.19 18.41 18.17 18.27 18.49 18.63 18.83 18.97\n",
      "  18.79 18.85 19.27 19.19 19.03 19.03 19.01 18.87 18.75 18.65 18.85 18.91\n",
      "  18.59 18.89 19.65 20.05 20.39 20.17 19.53 18.75]]\n"
     ]
    },
    {
     "ename": "TypeError",
     "evalue": "imsave() got an unexpected keyword argument 'interpolation'",
     "output_type": "error",
     "traceback": [
      "\u001b[1;31m---------------------------------------------------------------------------\u001b[0m",
      "\u001b[1;31mTypeError\u001b[0m                                 Traceback (most recent call last)",
      "\u001b[1;32m~\\AppData\\Local\\Temp\\ipykernel_12956\\2582528991.py\u001b[0m in \u001b[0;36m<module>\u001b[1;34m\u001b[0m\n\u001b[0;32m     10\u001b[0m \u001b[0mprint\u001b[0m\u001b[1;33m(\u001b[0m\u001b[0mimg\u001b[0m\u001b[1;33m)\u001b[0m\u001b[1;33m\u001b[0m\u001b[1;33m\u001b[0m\u001b[0m\n\u001b[0;32m     11\u001b[0m \u001b[0mfig\u001b[0m \u001b[1;33m=\u001b[0m \u001b[0mplt\u001b[0m\u001b[1;33m.\u001b[0m\u001b[0mrcParams\u001b[0m\u001b[1;33m[\u001b[0m\u001b[1;34m'figure.figsize'\u001b[0m\u001b[1;33m]\u001b[0m \u001b[1;33m=\u001b[0m \u001b[1;33m[\u001b[0m\u001b[1;36m24\u001b[0m\u001b[1;33m,\u001b[0m \u001b[1;36m32\u001b[0m\u001b[1;33m]\u001b[0m\u001b[1;33m\u001b[0m\u001b[1;33m\u001b[0m\u001b[0m\n\u001b[1;32m---> 12\u001b[1;33m \u001b[0mplt\u001b[0m\u001b[1;33m.\u001b[0m\u001b[0mimsave\u001b[0m\u001b[1;33m(\u001b[0m\u001b[1;34m'./img.png'\u001b[0m\u001b[1;33m,\u001b[0m\u001b[0mimg\u001b[0m\u001b[1;33m,\u001b[0m \u001b[0mvmin\u001b[0m\u001b[1;33m=\u001b[0m\u001b[1;36m17\u001b[0m\u001b[1;33m,\u001b[0m\u001b[0mvmax\u001b[0m\u001b[1;33m=\u001b[0m\u001b[1;36m23\u001b[0m\u001b[1;33m,\u001b[0m\u001b[0mcmap\u001b[0m\u001b[1;33m=\u001b[0m\u001b[1;34m'viridis'\u001b[0m\u001b[1;33m,\u001b[0m \u001b[0minterpolation\u001b[0m\u001b[1;33m=\u001b[0m\u001b[1;34m'nearest'\u001b[0m\u001b[1;33m)\u001b[0m\u001b[1;33m\u001b[0m\u001b[1;33m\u001b[0m\u001b[0m\n\u001b[0m\u001b[0;32m     13\u001b[0m \u001b[1;31m#plt.colorbar(ax)\u001b[0m\u001b[1;33m\u001b[0m\u001b[1;33m\u001b[0m\u001b[1;33m\u001b[0m\u001b[0m\n\u001b[0;32m     14\u001b[0m \u001b[1;31m#plt.savefig('./img.png')\u001b[0m\u001b[1;33m\u001b[0m\u001b[1;33m\u001b[0m\u001b[1;33m\u001b[0m\u001b[0m\n",
      "\u001b[1;32m~\\anaconda3\\envs\\silcream\\lib\\site-packages\\matplotlib\\pyplot.py\u001b[0m in \u001b[0;36mimsave\u001b[1;34m(fname, arr, **kwargs)\u001b[0m\n\u001b[0;32m   2142\u001b[0m \u001b[1;33m@\u001b[0m\u001b[0m_copy_docstring_and_deprecators\u001b[0m\u001b[1;33m(\u001b[0m\u001b[0mmatplotlib\u001b[0m\u001b[1;33m.\u001b[0m\u001b[0mimage\u001b[0m\u001b[1;33m.\u001b[0m\u001b[0mimsave\u001b[0m\u001b[1;33m)\u001b[0m\u001b[1;33m\u001b[0m\u001b[1;33m\u001b[0m\u001b[0m\n\u001b[0;32m   2143\u001b[0m \u001b[1;32mdef\u001b[0m \u001b[0mimsave\u001b[0m\u001b[1;33m(\u001b[0m\u001b[0mfname\u001b[0m\u001b[1;33m,\u001b[0m \u001b[0marr\u001b[0m\u001b[1;33m,\u001b[0m \u001b[1;33m**\u001b[0m\u001b[0mkwargs\u001b[0m\u001b[1;33m)\u001b[0m\u001b[1;33m:\u001b[0m\u001b[1;33m\u001b[0m\u001b[1;33m\u001b[0m\u001b[0m\n\u001b[1;32m-> 2144\u001b[1;33m     \u001b[1;32mreturn\u001b[0m \u001b[0mmatplotlib\u001b[0m\u001b[1;33m.\u001b[0m\u001b[0mimage\u001b[0m\u001b[1;33m.\u001b[0m\u001b[0mimsave\u001b[0m\u001b[1;33m(\u001b[0m\u001b[0mfname\u001b[0m\u001b[1;33m,\u001b[0m \u001b[0marr\u001b[0m\u001b[1;33m,\u001b[0m \u001b[1;33m**\u001b[0m\u001b[0mkwargs\u001b[0m\u001b[1;33m)\u001b[0m\u001b[1;33m\u001b[0m\u001b[1;33m\u001b[0m\u001b[0m\n\u001b[0m\u001b[0;32m   2145\u001b[0m \u001b[1;33m\u001b[0m\u001b[0m\n\u001b[0;32m   2146\u001b[0m \u001b[1;33m\u001b[0m\u001b[0m\n",
      "\u001b[1;31mTypeError\u001b[0m: imsave() got an unexpected keyword argument 'interpolation'"
     ]
    }
   ],
   "source": [
    "mat_file = io.loadmat('./sensors-19-04565-s001/eHomeSeniors dataset/melexis sensor/datos matlab/melexis-G1-1-f01-data.mat')\n",
    "print(mat_file)\n",
    "print(mat_file.get('melexisG11f01'))\n",
    "print(mat_file.get('melexisG11f01').shape)\n",
    "print(mat_file.get('melexisG11f01'))\n",
    "#print(mat_file.get('depo1')[-1])\n",
    "\n",
    "img = np.array(mat_file.get('melexisG11f01')[10]).reshape(24,32)\n",
    "print(img.shape)\n",
    "print(img)\n",
    "fig = plt.rcParams['figure.figsize'] = [24, 32]\n",
    "plt.imsave('./img.png',img, vmin=17,vmax=23,cmap='viridis', interpolation='nearest')\n",
    "#plt.colorbar(ax)\n",
    "#plt.savefig('./img.png')"
   ]
  },
  {
   "cell_type": "code",
   "execution_count": null,
   "id": "718f0674",
   "metadata": {},
   "outputs": [],
   "source": [
    "# after \n",
    "frames = []\n",
    "\n",
    "for i in range(len(mat_file.get('melexisG11f03'))):\n",
    "    img = np.array(mat_file.get('melexisG11f03')[i]).reshape(24,32)\n",
    "    fig = plt.rcParams['figure.figsize'] = [24, 32]\n",
    "    #ax = plt.imshow(img, vmin=17,vmax=23,cmap='viridis', interpolation='nearest')\n",
    "    #plt.colorbar(ax)\n",
    "    frames.append([plt.imshow(img, vmin=17,vmax=23,cmap='viridis',animated=True ,interpolation='nearest')])\n"
   ]
  },
  {
   "cell_type": "code",
   "execution_count": null,
   "id": "0c6e3f46",
   "metadata": {},
   "outputs": [],
   "source": [
    "fig, ax = plt.subplots()\n",
    "ims = []\n",
    "for i in range(len(mat_file.get('melexisG11f03'))):\n",
    "    im = ax.imshow(np.array(mat_file.get('melexisG11f03')[i]).reshape(24,32))\n",
    "    ims.append([im])\n",
    "\n",
    "ani = animation.ArtistAnimation(fig, ims, interval=50, blit=True, repeat_delay=1000)\n",
    "ani.save(\"melexisG11f03.gif\")"
   ]
  },
  {
   "cell_type": "code",
   "execution_count": null,
   "id": "f3b9c8c5",
   "metadata": {},
   "outputs": [],
   "source": []
  },
  {
   "cell_type": "code",
   "execution_count": null,
   "id": "d2a66d6b",
   "metadata": {},
   "outputs": [],
   "source": [
    "ani = animation.Animation(fig, frames, blit=True)\n",
    "ani.save('1.mp4', fps=30, extra_args=['-vcodec', 'libx264'])"
   ]
  },
  {
   "cell_type": "code",
   "execution_count": null,
   "id": "e054e8d2",
   "metadata": {},
   "outputs": [],
   "source": [
    "for i in range(len(mat_file.get('melexisG21f01'))):\n",
    "    img = np.array(mat_file.get('melexisG21f01')[i]).reshape(24,32)\n",
    "    fig = plt.rcParams['figure.figsize'] = [24, 32]\n",
    "    ax = plt.imshow(img, vmin=17,vmax=23,cmap='viridis', interpolation='nearest')\n",
    "    ani = FuncAnimation(fig,img)\n",
    "    plt.colorbar(ax)\n",
    "    plt.show()\n",
    "# print(len(mat_file.get('melexisG21f01')))\n"
   ]
  },
  {
   "cell_type": "code",
   "execution_count": null,
   "id": "0f173f83",
   "metadata": {},
   "outputs": [],
   "source": [
    "ani = FuncAnimation(fig, frames=)"
   ]
  },
  {
   "cell_type": "code",
   "execution_count": null,
   "id": "eab880e2",
   "metadata": {},
   "outputs": [],
   "source": [
    "\n",
    "    "
   ]
  },
  {
   "cell_type": "code",
   "execution_count": null,
   "id": "a95ab2d2",
   "metadata": {},
   "outputs": [],
   "source": [
    "print(len(mat_file.get('melexisG11f11')))\n",
    "print(len(mat_file.get('melexisG11f11')[0]))\n",
    "print(mat_file.get('melexisG11f11')[0])\n",
    "for i in range(0, len(mat_file.get('melexisG11f11'))):\n",
    "    img = np.array(mat_file.get('melexisG11f11')[i]).reshape(32,24)\n",
    "    plt.rcParams['figure.figsize'] = [32, 24]\n",
    "    plt.imshow(img, cmap='hot', interpolation='nearest')\n",
    "    plt.savefig(f'{i}.png')\n",
    "               \n",
    "\n"
   ]
  },
  {
   "cell_type": "code",
   "execution_count": null,
   "id": "2bff2d81",
   "metadata": {},
   "outputs": [],
   "source": [
    "img = np.array(mat_file.get('melexisG11f11')[0]).reshape(32,24)\n",
    "plt.rcParams['figure.figsize'] = [32, 24]\n",
    "plt.imshow(img, cmap='hot', interpolation='nearest')\n",
    "plt.show()"
   ]
  },
  {
   "cell_type": "code",
   "execution_count": null,
   "id": "55cef188",
   "metadata": {},
   "outputs": [],
   "source": [
    "mat_file = io.loadmat('./sensors-19-04565-s001/eHomeSeniors dataset/melexis sensor/datos matlab/melexis-G2-1-f01-data.mat')\n",
    "fig, ax = plt.subplots()\n",
    "ims = []\n",
    "for i in range(len(mat_file.get('melexisG21f01'))):\n",
    "    im = ax.imshow(np.array(mat_file.get('melexisG21f01')[i]).reshape(24,32))\n",
    "    ims.append([im])\n",
    "\n",
    "ani = animation.ArtistAnimation(fig, ims, interval=50, blit=True, repeat_delay=1000)\n",
    "ani.save(\"melexisG21f01.gif\")"
   ]
  },
  {
   "cell_type": "code",
   "execution_count": null,
   "id": "ce5bdf2b",
   "metadata": {},
   "outputs": [],
   "source": [
    "mat_file = io.loadmat('./sensors-19-04565-s001/eHomeSeniors dataset/melexis sensor/datos matlab/melexis-G2-1-f02-data.mat')\n",
    "fig, ax = plt.subplots()\n",
    "ims = []\n",
    "for i in range(len(mat_file.get('melexisG21f02'))):\n",
    "    im = ax.imshow(np.array(mat_file.get('melexisG21f02')[i]).reshape(24,32))\n",
    "    ims.append([im])\n",
    "\n",
    "ani = animation.ArtistAnimation(fig, ims, interval=50, blit=True, repeat_delay=1000)\n",
    "ani.save(\"melexisG21f02.gif\")"
   ]
  },
  {
   "cell_type": "code",
   "execution_count": null,
   "id": "a7eac612",
   "metadata": {},
   "outputs": [],
   "source": [
    "# melexisG12f03 다시 만들고 melexisG13f03 생성\n",
    "mat_file = io.loadmat('./sensors-19-04565-s001/eHomeSeniors dataset/melexis sensor/datos matlab/melexis-G2-1-f03-data.mat')\n",
    "fig, ax = plt.subplots()\n",
    "ims = []\n",
    "for i in range(len(mat_file.get('melexisG21f03'))):\n",
    "    im = ax.imshow(np.array(mat_file.get('melexisG21f03')[i]).reshape(24,32))\n",
    "    ims.append([im])\n",
    "\n",
    "ani = animation.ArtistAnimation(fig, ims, interval=50, blit=True, repeat_delay=1000)\n",
    "ani.save(\"melexisG21f03.gif\")"
   ]
  },
  {
   "cell_type": "code",
   "execution_count": null,
   "id": "a73da4e8",
   "metadata": {},
   "outputs": [],
   "source": [
    "mat_file = io.loadmat('./sensors-19-04565-s001/eHomeSeniors dataset/melexis sensor/datos matlab/melexis-G2-1-f04-data.mat')"
   ]
  },
  {
   "cell_type": "code",
   "execution_count": null,
   "id": "f15f3de7",
   "metadata": {},
   "outputs": [],
   "source": [
    "fig, ax = plt.subplots()\n",
    "ims = []\n",
    "for i in range(len(mat_file.get('melexisG21f04'))):\n",
    "    im = ax.imshow(np.array(mat_file.get('melexisG21f04')[i]).reshape(24,32))\n",
    "    ims.append([im])\n",
    "\n",
    "ani = animation.ArtistAnimation(fig, ims, interval=50, blit=True, repeat_delay=1000)\n",
    "ani.save(\"melexisG21f04.gif\")"
   ]
  },
  {
   "cell_type": "code",
   "execution_count": null,
   "id": "09151007",
   "metadata": {},
   "outputs": [],
   "source": [
    "mat_file = io.loadmat('./sensors-19-04565-s001/eHomeSeniors dataset/melexis sensor/datos matlab/melexis-G2-1-f05-data.mat')\n",
    "fig, ax = plt.subplots()\n",
    "ims = []\n",
    "for i in range(len(mat_file.get('melexisG21f05'))):\n",
    "    im = ax.imshow(np.array(mat_file.get('melexisG21f05')[i]).reshape(24,32))\n",
    "    ims.append([im])\n",
    "\n",
    "ani = animation.ArtistAnimation(fig, ims, interval=50, blit=True, repeat_delay=1000)\n",
    "ani.save(\"melexisG21f05.gif\")"
   ]
  },
  {
   "cell_type": "code",
   "execution_count": null,
   "id": "150baacb",
   "metadata": {},
   "outputs": [],
   "source": [
    "mat_file = io.loadmat('./sensors-19-04565-s001/eHomeSeniors dataset/melexis sensor/datos matlab/melexis-G2-1-f06-data.mat')\n",
    "fig, ax = plt.subplots()\n",
    "ims = []\n",
    "for i in range(len(mat_file.get('melexisG21f06'))):\n",
    "    im = ax.imshow(np.array(mat_file.get('melexisG21f06')[i]).reshape(24,32))\n",
    "    ims.append([im])\n",
    "\n",
    "ani = animation.ArtistAnimation(fig, ims, interval=50, blit=True, repeat_delay=1000)\n",
    "ani.save(\"melexisG21f06.gif\")"
   ]
  },
  {
   "cell_type": "code",
   "execution_count": null,
   "id": "a911b3bc",
   "metadata": {},
   "outputs": [],
   "source": [
    "mat_file = io.loadmat('./sensors-19-04565-s001/eHomeSeniors dataset/melexis sensor/datos matlab/melexis-G2-1-f07-data.mat')\n",
    "fig, ax = plt.subplots()\n",
    "ims = []\n",
    "for i in range(len(mat_file.get('melexisG21f07'))):\n",
    "    im = ax.imshow(np.array(mat_file.get('melexisG21f07')[i]).reshape(24,32))\n",
    "    ims.append([im])\n",
    "\n",
    "ani = animation.ArtistAnimation(fig, ims, interval=50, blit=True, repeat_delay=1000)\n",
    "ani.save(\"melexisG21f07.gif\")"
   ]
  },
  {
   "cell_type": "code",
   "execution_count": null,
   "id": "fdbb867b",
   "metadata": {},
   "outputs": [],
   "source": [
    "mat_file = io.loadmat('./sensors-19-04565-s001/eHomeSeniors dataset/melexis sensor/datos matlab/melexis-G2-1-f08-data.mat')\n",
    "fig, ax = plt.subplots()\n",
    "ims = []\n",
    "for i in range(len(mat_file.get('melexisG21f08'))):\n",
    "    im = ax.imshow(np.array(mat_file.get('melexisG21f08')[i]).reshape(24,32))\n",
    "    ims.append([im])\n",
    "\n",
    "ani = animation.ArtistAnimation(fig, ims, interval=50, blit=True, repeat_delay=1000)\n",
    "ani.save(\"melexisG21f08.gif\")"
   ]
  },
  {
   "cell_type": "code",
   "execution_count": null,
   "id": "566e8f90",
   "metadata": {},
   "outputs": [],
   "source": [
    "mat_file = io.loadmat('./sensors-19-04565-s001/eHomeSeniors dataset/melexis sensor/datos matlab/melexis-G2-1-f09-data.mat')\n",
    "fig, ax = plt.subplots()\n",
    "ims = []\n",
    "for i in range(len(mat_file.get('melexisG21f09'))):\n",
    "    im = ax.imshow(np.array(mat_file.get('melexisG21f09')[i]).reshape(24,32))\n",
    "    ims.append([im])\n",
    "\n",
    "ani = animation.ArtistAnimation(fig, ims, interval=50, blit=True, repeat_delay=1000)\n",
    "ani.save(\"melexisG21f09.gif\")"
   ]
  },
  {
   "cell_type": "code",
   "execution_count": null,
   "id": "69a58235",
   "metadata": {},
   "outputs": [],
   "source": [
    "mat_file = io.loadmat('./sensors-19-04565-s001/eHomeSeniors dataset/melexis sensor/datos matlab/melexis-G2-1-f10-data.mat')\n",
    "fig, ax = plt.subplots()\n",
    "ims = []\n",
    "for i in range(len(mat_file.get('melexisG21f10'))):\n",
    "    im = ax.imshow(np.array(mat_file.get('melexisG21f10')[i]).reshape(24,32))\n",
    "    ims.append([im])\n",
    "\n",
    "ani = animation.ArtistAnimation(fig, ims, interval=50, blit=True, repeat_delay=1000)\n",
    "ani.save(\"melexisG21f10.gif\")"
   ]
  },
  {
   "cell_type": "code",
   "execution_count": null,
   "id": "b04f4785",
   "metadata": {},
   "outputs": [],
   "source": [
    "mat_file = io.loadmat('./sensors-19-04565-s001/eHomeSeniors dataset/melexis sensor/datos matlab/melexis-G2-1-f11-data.mat')\n",
    "fig, ax = plt.subplots()\n",
    "ims = []\n",
    "for i in range(len(mat_file.get('melexisG21f11'))):\n",
    "    im = ax.imshow(np.array(mat_file.get('melexisG21f11')[i]).reshape(24,32))\n",
    "    ims.append([im])\n",
    "\n",
    "ani = animation.ArtistAnimation(fig, ims, interval=50, blit=True, repeat_delay=1000)\n",
    "ani.save(\"melexisG21f11.gif\")"
   ]
  },
  {
   "cell_type": "code",
   "execution_count": null,
   "id": "73c51da2",
   "metadata": {},
   "outputs": [],
   "source": [
    "mat_file = io.loadmat('./sensors-19-04565-s001/eHomeSeniors dataset/melexis sensor/datos matlab/melexis-G2-1-f12-data.mat')\n",
    "fig, ax = plt.subplots()\n",
    "ims = []\n",
    "for i in range(len(mat_file.get('melexisG21f12'))):\n",
    "    im = ax.imshow(np.array(mat_file.get('melexisG21f12')[i]).reshape(24,32))\n",
    "    ims.append([im])\n",
    "\n",
    "ani = animation.ArtistAnimation(fig, ims, interval=50, blit=True, repeat_delay=1000)\n",
    "ani.save(\"melexisG21f12.gif\")"
   ]
  },
  {
   "cell_type": "code",
   "execution_count": null,
   "id": "3f041139",
   "metadata": {},
   "outputs": [],
   "source": [
    "mat_file = io.loadmat('./sensors-19-04565-s001/eHomeSeniors dataset/melexis sensor/datos matlab/melexis-G2-1-f13-data.mat')\n",
    "fig, ax = plt.subplots()\n",
    "ims = []\n",
    "for i in range(len(mat_file.get('melexisG21f13'))):\n",
    "    im = ax.imshow(np.array(mat_file.get('melexisG21f13')[i]).reshape(24,32))\n",
    "    ims.append([im])\n",
    "\n",
    "ani = animation.ArtistAnimation(fig, ims, interval=50, blit=True, repeat_delay=1000)\n",
    "ani.save(\"melexisG21f13.gif\")"
   ]
  },
  {
   "cell_type": "code",
   "execution_count": null,
   "id": "b015563d",
   "metadata": {},
   "outputs": [],
   "source": [
    "mat_file = io.loadmat('./sensors-19-04565-s001/eHomeSeniors dataset/melexis sensor/datos matlab/melexis-G2-1-f14-data.mat')\n",
    "fig, ax = plt.subplots()\n",
    "ims = []\n",
    "for i in range(len(mat_file.get('melexisG21f14'))):\n",
    "    im = ax.imshow(np.array(mat_file.get('melexisG21f14')[i]).reshape(24,32))\n",
    "    ims.append([im])\n",
    "\n",
    "ani = animation.ArtistAnimation(fig, ims, interval=50, blit=True, repeat_delay=1000)\n",
    "ani.save(\"melexisG21f14.gif\")"
   ]
  },
  {
   "cell_type": "code",
   "execution_count": null,
   "id": "f9630c30",
   "metadata": {},
   "outputs": [],
   "source": [
    "mat_file = io.loadmat('./sensors-19-04565-s001/eHomeSeniors dataset/melexis sensor/datos matlab/melexis-G2-1-f15-data.mat')\n",
    "fig, ax = plt.subplots()\n",
    "ims = []\n",
    "for i in range(len(mat_file.get('melexisG21f15'))):\n",
    "    im = ax.imshow(np.array(mat_file.get('melexisG21f15')[i]).reshape(24,32))\n",
    "    ims.append([im])\n",
    "\n",
    "ani = animation.ArtistAnimation(fig, ims, interval=50, blit=True, repeat_delay=1000)\n",
    "ani.save(\"melexisG21f15.gif\")"
   ]
  },
  {
   "cell_type": "code",
   "execution_count": null,
   "id": "2329031a",
   "metadata": {},
   "outputs": [],
   "source": []
  }
 ],
 "metadata": {
  "kernelspec": {
   "display_name": "silcream",
   "language": "python",
   "name": "silcream"
  },
  "language_info": {
   "codemirror_mode": {
    "name": "ipython",
    "version": 3
   },
   "file_extension": ".py",
   "mimetype": "text/x-python",
   "name": "python",
   "nbconvert_exporter": "python",
   "pygments_lexer": "ipython3",
   "version": "3.7.13"
  }
 },
 "nbformat": 4,
 "nbformat_minor": 5
}
