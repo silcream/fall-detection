{
 "cells": [
  {
   "cell_type": "code",
   "execution_count": 1,
   "id": "5303b345",
   "metadata": {},
   "outputs": [],
   "source": [
    "from scipy import io\n",
    "import numpy as np\n",
    "import matplotlib.pyplot as plt\n",
    "import matplotlib.animation as animation\n",
    "from sklearn.metrics import roc_curve, auc"
   ]
  },
  {
   "cell_type": "markdown",
   "id": "3d89569d",
   "metadata": {},
   "source": [
    "# 전체 mat파일 shape 읽기 "
   ]
  },
  {
   "cell_type": "code",
   "execution_count": 2,
   "id": "61879bd0",
   "metadata": {},
   "outputs": [
    {
     "name": "stdout",
     "output_type": "stream",
     "text": [
      "---------------------------------\n",
      "---------------------------------\n",
      "(880, 768)\n",
      "(1000, 768)\n",
      "(1420, 768)\n",
      "(930, 768)\n",
      "(1340, 768)\n",
      "(1410, 768)\n",
      "(1270, 768)\n",
      "(930, 768)\n",
      "(950, 768)\n",
      "(940, 768)\n",
      "(1100, 768)\n",
      "(1110, 768)\n",
      "(1160, 768)\n",
      "(1020, 768)\n",
      "(1230, 768)\n",
      "---------------------------------\n",
      "(2900, 768)\n",
      "(1730, 768)\n",
      "(1970, 768)\n",
      "(1380, 768)\n",
      "(1250, 768)\n",
      "(1100, 768)\n",
      "(980, 768)\n",
      "(1250, 768)\n",
      "(990, 768)\n",
      "(1290, 768)\n",
      "(980, 768)\n",
      "(1260, 768)\n",
      "(1050, 768)\n",
      "(1210, 768)\n",
      "(1150, 768)\n",
      "---------------------------------\n",
      "(1010, 768)\n",
      "(960, 768)\n",
      "(1100, 768)\n",
      "(910, 768)\n",
      "(1015, 768)\n",
      "(1069, 768)\n",
      "(1290, 768)\n",
      "(940, 768)\n",
      "(1239, 768)\n",
      "(1240, 768)\n",
      "(1005, 768)\n",
      "(1130, 768)\n",
      "(1240, 768)\n",
      "(1215, 768)\n",
      "(1614, 768)\n",
      "---------------------------------\n",
      "---------------------------------\n",
      "(760, 768)\n",
      "(850, 768)\n",
      "(680, 768)\n",
      "(840, 768)\n",
      "(1230, 768)\n",
      "(1200, 768)\n",
      "(1000, 768)\n",
      "(830, 768)\n",
      "(810, 768)\n",
      "(870, 768)\n",
      "(1090, 768)\n",
      "(810, 768)\n",
      "(740, 768)\n",
      "(1001, 768)\n",
      "(970, 768)\n",
      "---------------------------------\n",
      "(710, 768)\n",
      "(760, 768)\n",
      "(620, 768)\n",
      "(510, 768)\n",
      "(1110, 768)\n",
      "(920, 768)\n",
      "(1050, 768)\n",
      "(730, 768)\n",
      "(560, 768)\n",
      "(680, 768)\n",
      "(930, 768)\n",
      "(610, 768)\n",
      "(690, 768)\n",
      "(630, 768)\n",
      "(730, 768)\n",
      "---------------------------------\n",
      "(1000, 768)\n",
      "(870, 768)\n",
      "(860, 768)\n",
      "(760, 768)\n",
      "(1250, 768)\n",
      "(1270, 768)\n",
      "(1000, 768)\n",
      "(760, 768)\n",
      "(970, 768)\n",
      "(890, 768)\n",
      "(970, 768)\n",
      "(720, 768)\n",
      "(910, 768)\n",
      "(870, 768)\n",
      "(990, 768)\n"
     ]
    }
   ],
   "source": [
    "i = 1\n",
    "j = 1\n",
    "z = 1\n",
    "for i in range(1,3):\n",
    "    print('---------------------------------')\n",
    "    for j in range(1,4):\n",
    "        print('---------------------------------')\n",
    "        for z in range(1,16):\n",
    "            if(z < 10 and z > 0):\n",
    "                mat_file = io.loadmat(f'C:/Users/Flora/IR자료/IR자료최종/sensors-19-04565-s001/eHomeSeniors dataset/melexis sensor/datos matlab/melexis-G{i}-{j}-f0{z}-data.mat')\n",
    "                print(mat_file.get(f'melexisG{i}{j}f0{z}').shape)\n",
    "            else:\n",
    "                mat_file = io.loadmat(f'C:/Users/Flora/IR자료/IR자료최종/sensors-19-04565-s001/eHomeSeniors dataset/melexis sensor/datos matlab/melexis-G{i}-{j}-f{z}-data.mat')\n",
    "                print(mat_file.get(f'melexisG{i}{j}f{z}').shape)\n",
    "           \n",
    "                \n",
    "            \n",
    "#mat_file = io.loadmat('./sensors-19-04565-s001/eHomeSeniors dataset/melexis sensor/datos matlab/melexis-G1-1-f01-data.mat')"
   ]
  },
  {
   "cell_type": "code",
   "execution_count": 3,
   "id": "261e7c42",
   "metadata": {},
   "outputs": [],
   "source": [
    "# # melexis folder save\n",
    "# import os\n",
    "\n",
    "# current_path = os.getcwd()\n",
    "# os.makedirs(current_path + \"/\" + \"melexisSensor\")\n",
    "# for i in range(1,3):\n",
    "#     for j in range(1,4):\n",
    "#         for z in range(1, 16):\n",
    "#             if(z < 10 and z > 0):\n",
    "#                 os.makedirs(current_path + \"/melexisSensor/\" + f'melexisG{i}{j}f0{z}')\n",
    "                \n",
    "#             else:\n",
    "#                 os.makedirs(current_path + \"/melexisSensor/\" + f'melexisG{i}{j}f0{z}')"
   ]
  },
  {
   "cell_type": "code",
   "execution_count": 4,
   "id": "ca415026",
   "metadata": {},
   "outputs": [],
   "source": [
    "# for i in range(2,3):\n",
    "#     for j in range(1,4):\n",
    "#         for z in range(1,16):\n",
    "#             if(z < 10 and z > 0):\n",
    "#                 mat_file = io.loadmat(f'./sensors-19-04565-s001/eHomeSeniors dataset/melexis sensor/datos matlab/melexis-G{i}-{j}-f0{z}-data.mat')\n",
    "#                 print(mat_file.get(f'melexisG{i}{j}f0{z}').shape)\n",
    "#                 fig = plt.rcParams['figure.figsize'] = [24, 32]\n",
    "#                 for img in range(len(mat_file.get(f'melexisG{i}{j}f0{z}'))):\n",
    "#                     melexis_img = np.array(mat_file.get(f'melexisG{i}{j}f0{z}')[img]).reshape(24,32)\n",
    "#                     ax = plt.imshow(melexis_img, vmin=17,vmax=23,cmap='viridis', interpolation='nearest')\n",
    "#                     plt.savefig(f'./melexisSensor/melexisG{i}{j}f0{z}/{img}.png', vmin=17,vmax=23,cmap='viridis' ,interpolation='nearest', dpi=50)\n",
    "#                     plt.close()\n",
    "#             else:\n",
    "#                 mat_file = io.loadmat(f'./sensors-19-04565-s001/eHomeSeniors dataset/melexis sensor/datos matlab/melexis-G{i}-{j}-f{z}-data.mat')\n",
    "#                 print(mat_file.get(f'melexisG{i}{j}f{z}').shape)\n",
    "#                 fig = plt.rcParams['figure.figsize'] = [24, 32]\n",
    "#                 for img in range(len(mat_file.get(f'melexisG{i}{j}f0{z}'))):\n",
    "#                     melexis_img = np.array(mat_file.get(f'melexisG{i}{j}f0{z}')[img]).reshape(24,32)\n",
    "#                     ax = plt.imshow(melexis_img, vmin=17,vmax=23,cmap='viridis', interpolation='nearest')\n",
    "#                     plt.savefig(f'./melexisSensor/melexisG{i}{j}f0{z}/{img}.png', vmin=17,vmax=23,cmap='viridis' ,interpolation='nearest', dpi=50)\n",
    "#                     plt.close()"
   ]
  },
  {
   "cell_type": "markdown",
   "id": "628b783c",
   "metadata": {},
   "source": [
    "# 0과 1로 구분하여 정상데이터 구분"
   ]
  },
  {
   "cell_type": "code",
   "execution_count": 5,
   "id": "3e517142",
   "metadata": {},
   "outputs": [],
   "source": [
    "def data_merge(data,x1, x2, x3, x4, x5, x6,x7, x8, x9, x10):\n",
    "    data.loc[0:x1-1,'label'] = 0\n",
    "    data.loc[x1:x2,'label'] = 1\n",
    "    data.loc[x2+1:x3-1,'label'] = 0 \n",
    "    data.loc[x3:x4,'label'] = 1 \n",
    "    data.loc[x4+1:x5-1,'label'] = 0 \n",
    "    data.loc[x5:x6,'label'] = 1\n",
    "    data.loc[x6+1:x7-1,'label'] = 0 \n",
    "    data.loc[x7:x8,'label'] = 1\n",
    "    data.loc[x8+1:x9-1,'label'] = 0 \n",
    "    data.loc[x9:x10,'label'] = 1\n",
    "    data.loc[x10 +1:,'label'] = 0\n",
    "    return data\n",
    "\n",
    "def data_merge2(data,x1, x2, x3, x4, x5, x6,x7, x8, x9, x10,x11,x12):\n",
    "    data.loc[0:x1-1,'label'] = 0\n",
    "    data.loc[x1:x2,'label'] = 1\n",
    "    data.loc[x2+1:x3-1,'label'] = 0 \n",
    "    data.loc[x3:x4,'label'] = 1 \n",
    "    data.loc[x4+1:x5-1,'label'] = 0 \n",
    "    data.loc[x5:x6,'label'] = 1\n",
    "    data.loc[x6+1:x7-1,'label'] = 0 \n",
    "    data.loc[x7:x8,'label'] = 1\n",
    "    data.loc[x8+1:x9-1,'label'] = 0 \n",
    "    data.loc[x9:x10,'label'] = 1\n",
    "    data.loc[x10 +1:x11-1,'label'] = 0\n",
    "    data.loc[x11:x12,'label'] = 1\n",
    "    data.loc[x12 +1:,'label'] = 0\n",
    "    return data"
   ]
  },
  {
   "cell_type": "markdown",
   "id": "889b69d1",
   "metadata": {},
   "source": [
    "## G11 지원자의 DataFrame"
   ]
  },
  {
   "cell_type": "code",
   "execution_count": 6,
   "id": "d37cb148",
   "metadata": {},
   "outputs": [
    {
     "name": "stdout",
     "output_type": "stream",
     "text": [
      "[[17.81 17.69 18.23 ... 20.01 18.87 19.17]\n",
      " [17.77 17.77 18.17 ... 20.03 21.55 19.19]\n",
      " [17.91 17.85 18.13 ... 20.07 20.83 19.07]\n",
      " ...\n",
      " [17.75 18.07 18.31 ... 19.67 18.79 17.57]\n",
      " [17.79 18.09 18.37 ... 19.73 18.79 17.91]\n",
      " [17.81 18.17 18.35 ... 19.71 18.77 18.17]]\n",
      "17.81\n"
     ]
    }
   ],
   "source": [
    "import pandas as pd\n",
    "import csv\n",
    "\n",
    "mat_file_G11_io = io.loadmat('C:/Users/Flora/IR자료/IR자료최종/sensors-19-04565-s001/eHomeSeniors dataset/melexis sensor/datos matlab/melexis-G1-1-f01-data.mat')\n",
    "print(mat_file_G11_io.get('melexisG11f01'))\n",
    "print(mat_file_G11_io.get('melexisG11f01')[0][0])\n",
    "G11data1 = pd.DataFrame(mat_file_G11_io.get('melexisG11f01'))\n",
    "G11data1 = data_merge(G11data1,154, 195, 300, 336, 466, 493, 580, 666, 764, 823)\n",
    "\n",
    "mat_file_G11_io2 = io.loadmat('C:/Users/Flora/IR자료/IR자료최종/sensors-19-04565-s001/eHomeSeniors dataset/melexis sensor/datos matlab/melexis-G1-1-f02-data.mat')\n",
    "G11data2 = pd.DataFrame(mat_file_G11_io2.get('melexisG11f02'))\n",
    "G11data2 = data_merge(G11data2,47, 127, 260, 334, 439, 500, 662, 725, 880, 951)\n",
    "\n",
    "mat_file_G11_io3 = io.loadmat('C:/Users/Flora/IR자료/IR자료최종/sensors-19-04565-s001/eHomeSeniors dataset/melexis sensor/datos matlab/melexis-G1-1-f03-data.mat')\n",
    "G11data3 = pd.DataFrame(mat_file_G11_io3.get('melexisG11f03'))\n",
    "G11data3 = data_merge(G11data3,209, 289, 411, 466, 873, 930, 1130, 1184, 1292, 1340)\n",
    "\n",
    "mat_file_G11_io4 = io.loadmat('C:/Users/Flora/IR자료/IR자료최종/sensors-19-04565-s001/eHomeSeniors dataset/melexis sensor/datos matlab/melexis-G1-1-f04-data.mat')\n",
    "G11data4 = pd.DataFrame(mat_file_G11_io4.get('melexisG11f04'))\n",
    "G11data4 = data_merge(G11data4,212, 255, 371, 411, 496, 548, 673, 718, 812, 873)\n",
    "\n",
    "mat_file_G11_io5 = io.loadmat('C:/Users/Flora/IR자료/IR자료최종/sensors-19-04565-s001/eHomeSeniors dataset/melexis sensor/datos matlab/melexis-G1-1-f05-data.mat')\n",
    "G11data5 = pd.DataFrame(mat_file_G11_io5.get('melexisG11f05'))\n",
    "G11data5 = data_merge(G11data5,176, 212, 366, 415, 510, 556, 815, 873, 1070, 1143)\n",
    "\n",
    "mat_file_G11_io6 = io.loadmat('./sensors-19-04565-s001/eHomeSeniors dataset/melexis sensor/datos matlab/melexis-G1-1-f06-data.mat')\n",
    "G11data6 = pd.DataFrame(mat_file_G11_io6.get('melexisG11f06'))\n",
    "G11data6 = data_merge2(G11data6,20, 66, 440, 503, 670, 721, 928, 988, 1104, 1151,1301,1409)\n",
    "\n",
    "mat_file_G11_io7 = io.loadmat('./sensors-19-04565-s001/eHomeSeniors dataset/melexis sensor/datos matlab/melexis-G1-1-f07-data.mat')\n",
    "G11data7 = pd.DataFrame(mat_file_G11_io7.get('melexisG11f07'))\n",
    "G11data7 = data_merge(G11data7,148, 199, 414, 459, 608, 668, 976, 1010, 1175, 1269)\n",
    "\n",
    "mat_file_G11_io8 = io.loadmat('./sensors-19-04565-s001/eHomeSeniors dataset/melexis sensor/datos matlab/melexis-G1-1-f08-data.mat')\n",
    "G11data8 = pd.DataFrame(mat_file_G11_io8.get('melexisG11f08'))\n",
    "G11data8 = data_merge(G11data8,212, 270, 372, 414, 505, 557, 645, 719, 830, 881)\n",
    "\n",
    "mat_file_G11_io9 = io.loadmat('./sensors-19-04565-s001/eHomeSeniors dataset/melexis sensor/datos matlab/melexis-G1-1-f09-data.mat')\n",
    "G11data9 = pd.DataFrame(mat_file_G11_io9.get('melexisG11f09'))\n",
    "G11data9 = data_merge(G11data9,186, 231, 378, 417, 512, 565, 701, 749, 863, 938)\n",
    "\n",
    "mat_file_G11_io10 = io.loadmat('./sensors-19-04565-s001/eHomeSeniors dataset/melexis sensor/datos matlab/melexis-G1-1-f10-data.mat')\n",
    "G11data10 = pd.DataFrame(mat_file_G11_io10.get('melexisG11f10'))\n",
    "G11data10 = data_merge(G11data10,147, 196, 320, 350, 484, 525, 655, 700, 825, 900)\n",
    "\n",
    "mat_file_G11_io11 = io.loadmat('./sensors-19-04565-s001/eHomeSeniors dataset/melexis sensor/datos matlab/melexis-G1-1-f11-data.mat')\n",
    "G11data11 = pd.DataFrame(mat_file_G11_io11.get('melexisG11f11'))\n",
    "G11data11 = data_merge(G11data11,321, 360, 484, 519, 613, 639, 763, 810, 979, 1036)\n",
    "\n",
    "mat_file_G11_io12 = io.loadmat('./sensors-19-04565-s001/eHomeSeniors dataset/melexis sensor/datos matlab/melexis-G1-1-f12-data.mat')\n",
    "G11data12 = pd.DataFrame(mat_file_G11_io12.get('melexisG11f12'))\n",
    "G11data12 = data_merge(G11data12,228, 275, 434, 475, 625, 670, 833, 873, 940, 1048)\n",
    "\n",
    "mat_file_G11_io13 = io.loadmat('./sensors-19-04565-s001/eHomeSeniors dataset/melexis sensor/datos matlab/melexis-G1-1-f13-data.mat')\n",
    "G11data13 = pd.DataFrame(mat_file_G11_io13.get('melexisG11f13'))\n",
    "G11data13 = data_merge(G11data13,197, 232, 404, 453, 636, 684, 841, 904, 1075, 1140)\n",
    "\n",
    "mat_file_G11_io14 = io.loadmat('./sensors-19-04565-s001/eHomeSeniors dataset/melexis sensor/datos matlab/melexis-G1-1-f14-data.mat')\n",
    "G11data14 = pd.DataFrame(mat_file_G11_io14.get('melexisG11f14'))\n",
    "G11data14 = data_merge(G11data14,265, 307, 408, 465, 585, 630, 739, 794, 943, 1019)\n",
    "\n",
    "mat_file_G11_io15 = io.loadmat('./sensors-19-04565-s001/eHomeSeniors dataset/melexis sensor/datos matlab/melexis-G1-1-f15-data.mat')\n",
    "G11data15 = pd.DataFrame(mat_file_G11_io15.get('melexisG11f15'))\n",
    "G11data15 = data_merge(G11data15,198, 250, 457, 494, 654, 694, 859, 921, 1108, 1229)\n",
    "\n",
    "#result = pd.concat([data, data2,data3, data4, data5, data6, data7, data8, data9])\n",
    "\n",
    "#print(y)\n",
    "# print(df)\n",
    "# f = open('./melexisG11f01.csv', 'w', encoding='utf-8', newline='')\n",
    "# wr = csv.writer(f)\n",
    "# wr.writerow(df, 0)\n",
    "# f.close()"
   ]
  },
  {
   "cell_type": "code",
   "execution_count": 7,
   "id": "511d4035",
   "metadata": {},
   "outputs": [
    {
     "name": "stdout",
     "output_type": "stream",
     "text": [
      "(120, 769)\n",
      "(144, 769)\n",
      "(128, 769)\n",
      "(118, 769)\n"
     ]
    }
   ],
   "source": [
    "G11dataf1 = G11data1[:760]\n",
    "G11data1_test = G11data1[760:]\n",
    "G11dataf2 = G11data2[:856]\n",
    "G11data2_test = G11data2[856:]\n",
    "G11dataf3 = G11data3[:1292]\n",
    "G11data3_test = G11data3[1292:]\n",
    "G11dataf4 = G11data4[:812]\n",
    "G11data4_test = G11data4[812:]\n",
    "G11dataf5 = G11data5[:1070]\n",
    "G11data5_test = G11data5[1070:]\n",
    "G11dataf6 = G11data6[:1192]\n",
    "G11data6_test = G11data6[1192:]\n",
    "G11dataf7 = G11data7[:1080]\n",
    "G11data7_test = G11data7[1080:]\n",
    "G11dataf8 = G11data8[:826]\n",
    "G11data8_test = G11data8[826:]\n",
    "G11dataf9 = G11data9[:798]\n",
    "G11data9_test = G11data9[798:]\n",
    "G11dataf10 = G11data10[:788]\n",
    "G11data10_test = G11data10[788:]\n",
    "G11dataf11 = G11data11[:984]\n",
    "G11data11_test = G11data11[984:]\n",
    "G11dataf12 = G11data12[:884]\n",
    "G11data12_test = G11data12[884:]\n",
    "G11dataf13 = G11data13[:1028]\n",
    "G11data13_test = G11data13[1028:]\n",
    "G11dataf14 = G11data14[:866]\n",
    "G11data14_test = G11data14[866:]\n",
    "G11dataf15 = G11data15[:986]\n",
    "G11data15_test = G11data15[986:]\n",
    "print(G11data1_test.shape)\n",
    "print(G11data2_test.shape)\n",
    "print(G11data3_test.shape)\n",
    "print(G11data4_test.shape)"
   ]
  },
  {
   "cell_type": "markdown",
   "id": "8286b0c5",
   "metadata": {},
   "source": [
    "## G12 지원자 DataFrame"
   ]
  },
  {
   "cell_type": "code",
   "execution_count": 8,
   "id": "c58b85df",
   "metadata": {},
   "outputs": [
    {
     "name": "stdout",
     "output_type": "stream",
     "text": [
      "[[18.73 18.79 19.11 ... 20.01 19.67 19.45]\n",
      " [18.67 18.79 19.07 ... 19.99 19.71 19.47]\n",
      " [18.63 18.73 19.05 ... 19.91 19.53 19.49]\n",
      " ...\n",
      " [18.11 18.07 18.65 ... 20.13 19.23 19.33]\n",
      " [18.05 18.07 18.59 ... 20.25 19.31 19.39]\n",
      " [18.03 18.05 18.55 ... 20.29 19.51 19.47]]\n",
      "18.73\n"
     ]
    }
   ],
   "source": [
    "mat_file_G12_io = io.loadmat('./sensors-19-04565-s001/eHomeSeniors dataset/melexis sensor/datos matlab/melexis-G1-2-f01-data.mat')\n",
    "print(mat_file_G12_io.get('melexisG12f01'))\n",
    "print(mat_file_G12_io.get('melexisG12f01')[0][0])\n",
    "G12data1 = pd.DataFrame(mat_file_G12_io.get('melexisG12f01'))\n",
    "G12data1 = data_merge(G12data1,673, 738, 1418, 1489, 1725, 1814, 2341, 2454, 2796, 2899)\n",
    "mat_file_G12_io2 = io.loadmat('./sensors-19-04565-s001/eHomeSeniors dataset/melexis sensor/datos matlab/melexis-G1-2-f02-data.mat')\n",
    "G12data2 = pd.DataFrame(mat_file_G12_io2.get('melexisG12f02'))\n",
    "G12data2 = data_merge(G12data2,240, 290, 533, 610, 920, 974, 1240, 1320, 1600, 1729)\n",
    "\n",
    "mat_file_G12_io3 = io.loadmat('./sensors-19-04565-s001/eHomeSeniors dataset/melexis sensor/datos matlab/melexis-G1-2-f03-data.mat')\n",
    "G12data3 = pd.DataFrame(mat_file_G12_io3.get('melexisG12f03'))\n",
    "G12data3 = data_merge(G12data3,217, 279, 510, 660, 1097, 1191, 1559, 1622, 1880, 1969)\n",
    "\n",
    "mat_file_G12_io4 = io.loadmat('./sensors-19-04565-s001/eHomeSeniors dataset/melexis sensor/datos matlab/melexis-G1-2-f04-data.mat')\n",
    "G12data4 = pd.DataFrame(mat_file_G12_io4.get('melexisG12f04'))\n",
    "G12data4 = data_merge(G12data4,449, 499, 700, 734, 893, 955, 1091, 1150, 1310, 1379)\n",
    "\n",
    "mat_file_G12_io5 = io.loadmat('./sensors-19-04565-s001/eHomeSeniors dataset/melexis sensor/datos matlab/melexis-G1-2-f05-data.mat')\n",
    "G12data5 = pd.DataFrame(mat_file_G12_io5.get('melexisG12f05'))\n",
    "G12data5 = data_merge(G12data5,310, 363, 539, 579, 712, 765, 902, 952, 1136, 1204)\n",
    "\n",
    "mat_file_G12_io6 = io.loadmat('./sensors-19-04565-s001/eHomeSeniors dataset/melexis sensor/datos matlab/melexis-G1-2-f06-data.mat')\n",
    "G12data6 = pd.DataFrame(mat_file_G12_io6.get('melexisG12f06'))\n",
    "G12data6 = data_merge(G12data6, 156, 259, 415, 469, 658, 717, 823, 950, 1040, 1099)\n",
    "\n",
    "mat_file_G12_io7 = io.loadmat('./sensors-19-04565-s001/eHomeSeniors dataset/melexis sensor/datos matlab/melexis-G1-2-f07-data.mat')\n",
    "G12data7 = pd.DataFrame(mat_file_G12_io7.get('melexisG12f07'))\n",
    "G12data7 = data_merge(G12data7,143, 193, 346, 388, 530, 600, 704, 759, 896, 967)\n",
    "\n",
    "mat_file_G12_io8 = io.loadmat('./sensors-19-04565-s001/eHomeSeniors dataset/melexis sensor/datos matlab/melexis-G1-2-f08-data.mat')\n",
    "G12data8 = pd.DataFrame(mat_file_G12_io8.get('melexisG12f08'))\n",
    "G12data8 = data_merge(G12data8,245,307,470,556,717,771,940,998,1164,1249)\n",
    "\n",
    "mat_file_G12_io9 = io.loadmat('./sensors-19-04565-s001/eHomeSeniors dataset/melexis sensor/datos matlab/melexis-G1-2-f09-data.mat')\n",
    "G12data9 = pd.DataFrame(mat_file_G12_io9.get('melexisG12f09'))\n",
    "G12data9 = data_merge(G12data9,155,228,340,400,511,591,704,767,934,989)\n",
    "\n",
    "mat_file_G12_io10 = io.loadmat('./sensors-19-04565-s001/eHomeSeniors dataset/melexis sensor/datos matlab/melexis-G1-2-f10-data.mat')\n",
    "G12data10 = pd.DataFrame(mat_file_G12_io10.get('melexisG12f10'))\n",
    "G12data10 = data_merge(G12data10,160,251,381,440,603,665,934,1005,1215,1277)\n",
    "\n",
    "mat_file_G12_io11 = io.loadmat('./sensors-19-04565-s001/eHomeSeniors dataset/melexis sensor/datos matlab/melexis-G1-2-f11-data.mat')\n",
    "G12data11 = pd.DataFrame(mat_file_G12_io11.get('melexisG12f11'))\n",
    "G12data11 = data_merge(G12data11,221,278,400,456,568,634,726,775,894,979)\n",
    "\n",
    "mat_file_G12_io12 = io.loadmat('./sensors-19-04565-s001/eHomeSeniors dataset/melexis sensor/datos matlab/melexis-G1-2-f12-data.mat')\n",
    "G12data12 = pd.DataFrame(mat_file_G12_io12.get('melexisG12f12'))\n",
    "G12data12 = data_merge(G12data12,485,570,675,720,820,870,1000,1070,1180,1259)\n",
    "\n",
    "mat_file_G12_io13 = io.loadmat('./sensors-19-04565-s001/eHomeSeniors dataset/melexis sensor/datos matlab/melexis-G1-2-f13-data.mat')\n",
    "G12data13 = pd.DataFrame(mat_file_G12_io13.get('melexisG12f13'))\n",
    "G12data13 = data_merge(G12data13,198,269,427,507,628,680,780,835,957,1049)\n",
    "\n",
    "mat_file_G12_io14 = io.loadmat('./sensors-19-04565-s001/eHomeSeniors dataset/melexis sensor/datos matlab/melexis-G1-2-f14-data.mat')\n",
    "G12data14 = pd.DataFrame(mat_file_G12_io14.get('melexisG12f14'))\n",
    "G12data14 = data_merge(G12data14,182,274,555,620,770,828,961,1030,1140,1209)\n",
    "\n",
    "mat_file_G12_io15 = io.loadmat('./sensors-19-04565-s001/eHomeSeniors dataset/melexis sensor/datos matlab/melexis-G1-2-f15-data.mat')\n",
    "G12data15 = pd.DataFrame(mat_file_G12_io15.get('melexisG12f15'))\n",
    "G12data15 = data_merge(G12data15,137,188,394,440,598,650,815,865,1075,1149)"
   ]
  },
  {
   "cell_type": "code",
   "execution_count": 9,
   "id": "4d6f0c91",
   "metadata": {},
   "outputs": [],
   "source": [
    "G12dataf1 = G12data1[:2692]\n",
    "G12data1_test = G12data1[2692:]\n",
    "G12dataf2 = G12data2[:1470]\n",
    "G12data2_test = G12data2[1470:]\n",
    "G12dataf3 = G12data3[:1790]\n",
    "G12data3_test = G12data3[1790:]\n",
    "G12dataf4 = G12data4[:1240]\n",
    "G12data4_test = G12data4[1240:]\n",
    "G12dataf5 = G12data5[:1112]\n",
    "G12data5_test = G12data5[1112:]\n",
    "G12dataf6 = G12data6[:980]\n",
    "G12data6_test = G12data6[980:]\n",
    "G12dataf7 = G12data7[:836]\n",
    "G12data7_test = G12data7[836:]\n",
    "G12dataf8 = G12data8[:1078]\n",
    "G12data8_test = G12data8[1078:]\n",
    "G12dataf9 = G12data9[:878]\n",
    "G12data9_test = G12data9[878:]\n",
    "G12dataf10 = G12data10[:1164]\n",
    "G12data10_test = G12data10[1164:]\n",
    "G12dataf11 = G12data11[:808]\n",
    "G12data11_test = G12data11[808:]\n",
    "G12dataf12 = G12data12[:1100]\n",
    "G12data12_test = G12data12[1100:]\n",
    "G12dataf13 = G12data13[:864]\n",
    "G12data13_test = G12data13[864:]\n",
    "G12dataf14 = G12data14[:1070]\n",
    "G12data14_test = G12data14[1070:]\n",
    "G12dataf15 = G12data15[:1000]\n",
    "G12data15_test = G12data15[1000:]"
   ]
  },
  {
   "cell_type": "markdown",
   "id": "45d872f1",
   "metadata": {},
   "source": [
    "## G13 지원자 DataFrame"
   ]
  },
  {
   "cell_type": "code",
   "execution_count": 10,
   "id": "81b06416",
   "metadata": {},
   "outputs": [
    {
     "name": "stdout",
     "output_type": "stream",
     "text": [
      "[[18.97 18.83 18.85 ... 20.45 20.09 19.43]\n",
      " [18.97 18.85 18.85 ... 20.37 20.01 19.49]\n",
      " [18.97 18.87 19.05 ... 20.51 20.01 19.49]\n",
      " ...\n",
      " [18.87 18.91 19.01 ... 20.21 19.37 20.29]\n",
      " [18.83 18.99 18.99 ... 20.35 19.41 20.33]\n",
      " [18.79 18.95 18.95 ... 20.31 19.43 20.35]]\n",
      "18.97\n"
     ]
    }
   ],
   "source": [
    "mat_file_G13_io = io.loadmat('./sensors-19-04565-s001/eHomeSeniors dataset/melexis sensor/datos matlab/melexis-G1-3-f01-data.mat')\n",
    "print(mat_file_G13_io.get('melexisG13f01'))\n",
    "print(mat_file_G13_io.get('melexisG13f01')[0][0])\n",
    "G13data1 = pd.DataFrame(mat_file_G13_io.get('melexisG13f01'))\n",
    "G13data1 = data_merge(G13data1,122, 180, 288, 380, 478, 580, 680, 794, 892, 982)\n",
    "\n",
    "mat_file_G13_io2 = io.loadmat('./sensors-19-04565-s001/eHomeSeniors dataset/melexis sensor/datos matlab/melexis-G1-3-f02-data.mat')\n",
    "G13data2 = pd.DataFrame(mat_file_G13_io2.get('melexisG13f02'))\n",
    "G13data2 = data_merge(G13data2,100, 155, 298, 372, 510, 570, 712, 774, 880, 943)\n",
    "\n",
    "mat_file_G13_io3 = io.loadmat('./sensors-19-04565-s001/eHomeSeniors dataset/melexis sensor/datos matlab/melexis-G1-3-f03-data.mat')\n",
    "G13data3 = pd.DataFrame(mat_file_G13_io3.get('melexisG13f03'))\n",
    "G13data3 = data_merge(G13data3,78, 150, 304, 364, 583, 670, 834, 880, 1028, 1090)\n",
    "\n",
    "mat_file_G13_io4 = io.loadmat('./sensors-19-04565-s001/eHomeSeniors dataset/melexis sensor/datos matlab/melexis-G1-3-f04-data.mat')\n",
    "G13data4 = pd.DataFrame(mat_file_G13_io4.get('melexisG13f04'))\n",
    "G13data4 = data_merge(G13data4,79, 140, 279, 320, 443, 497, 615, 662, 824, 873)\n",
    "\n",
    "mat_file_G13_io5 = io.loadmat('./sensors-19-04565-s001/eHomeSeniors dataset/melexis sensor/datos matlab/melexis-G1-3-f05-data.mat')\n",
    "G13data5 = pd.DataFrame(mat_file_G13_io5.get('melexisG13f05'))\n",
    "G13data5 = data_merge(G13data5,109, 159, 317, 377, 511, 565, 743, 805, 920, 988)\n",
    "\n",
    "mat_file_G13_io6 = io.loadmat('./sensors-19-04565-s001/eHomeSeniors dataset/melexis sensor/datos matlab/melexis-G1-3-f06-data.mat')\n",
    "G13data6 = pd.DataFrame(mat_file_G13_io6.get('melexisG13f06'))\n",
    "G13data6 = data_merge(G13data6, 114, 194, 354, 410, 570, 620, 762, 799, 978, 1040)\n",
    "\n",
    "mat_file_G13_io7 = io.loadmat('./sensors-19-04565-s001/eHomeSeniors dataset/melexis sensor/datos matlab/melexis-G1-3-f07-data.mat')\n",
    "G13data7 = pd.DataFrame(mat_file_G13_io7.get('melexisG13f07'))\n",
    "G13data7 = data_merge(G13data7,80, 200, 296, 338, 525, 573, 748, 803, 1200, 1260)\n",
    "\n",
    "mat_file_G13_io8 = io.loadmat('./sensors-19-04565-s001/eHomeSeniors dataset/melexis sensor/datos matlab/melexis-G1-3-f08-data.mat')\n",
    "G13data8 = pd.DataFrame(mat_file_G13_io8.get('melexisG13f08'))\n",
    "G13data8 = data_merge(G13data8,88, 134, 247, 289, 451, 510, 668, 730, 833, 884)\n",
    "\n",
    "mat_file_G13_io9 = io.loadmat('./sensors-19-04565-s001/eHomeSeniors dataset/melexis sensor/datos matlab/melexis-G1-3-f09-data.mat')\n",
    "G13data9 = pd.DataFrame(mat_file_G13_io9.get('melexisG13f09'))\n",
    "G13data9 = data_merge(G13data9,119, 189, 342, 408, 555, 629, 869, 922, 1084, 1144)\n",
    "\n",
    "mat_file_G13_io10 = io.loadmat('./sensors-19-04565-s001/eHomeSeniors dataset/melexis sensor/datos matlab/melexis-G1-3-f10-data.mat')\n",
    "G13data10 = pd.DataFrame(mat_file_G13_io10.get('melexisG13f10'))\n",
    "G13data10 = data_merge(G13data10,118, 190, 350, 420, 560, 660, 873, 973, 1087, 1166)\n",
    "\n",
    "mat_file_G13_io11 = io.loadmat('./sensors-19-04565-s001/eHomeSeniors dataset/melexis sensor/datos matlab/melexis-G1-3-f11-data.mat')\n",
    "G13data11 = pd.DataFrame(mat_file_G13_io11.get('melexisG13f11'))\n",
    "G13data11 = data_merge(G13data11,63, 120, 290, 333, 530, 590, 718, 770, 911, 968)\n",
    "\n",
    "mat_file_G13_io12 = io.loadmat('./sensors-19-04565-s001/eHomeSeniors dataset/melexis sensor/datos matlab/melexis-G1-3-f12-data.mat')\n",
    "G13data12 = pd.DataFrame(mat_file_G13_io12.get('melexisG13f12'))\n",
    "G13data12 = data_merge(G13data12,144, 230, 450, 520, 655, 730, 863, 928, 1047, 1114)\n",
    "\n",
    "mat_file_G13_io13 = io.loadmat('./sensors-19-04565-s001/eHomeSeniors dataset/melexis sensor/datos matlab/melexis-G1-3-f13-data.mat')\n",
    "G13data13 = pd.DataFrame(mat_file_G13_io13.get('melexisG13f13'))\n",
    "G13data13 = data_merge(G13data13,169, 246, 410, 535, 692, 750, 905, 970, 1157, 1220)\n",
    "\n",
    "mat_file_G13_io14 = io.loadmat('./sensors-19-04565-s001/eHomeSeniors dataset/melexis sensor/datos matlab/melexis-G1-3-f14-data.mat')\n",
    "G13data14 = pd.DataFrame(mat_file_G13_io14.get('melexisG13f14'))\n",
    "G13data14 = data_merge(G13data14,121, 197, 372, 434, 588, 651, 794, 861, 1037, 1131)\n",
    "\n",
    "mat_file_G13_io15 = io.loadmat('./sensors-19-04565-s001/eHomeSeniors dataset/melexis sensor/datos matlab/melexis-G1-3-f15-data.mat')\n",
    "G13data15 = pd.DataFrame(mat_file_G13_io15.get('melexisG13f15'))\n",
    "G13data15 = data_merge(G13data15,194, 272, 644, 679, 960, 1023, 1234, 1303, 1518, 1590)"
   ]
  },
  {
   "cell_type": "code",
   "execution_count": 11,
   "id": "26ee4f29",
   "metadata": {},
   "outputs": [
    {
     "name": "stdout",
     "output_type": "stream",
     "text": [
      "(128, 769)\n"
     ]
    }
   ],
   "source": [
    "G13dataf1 = G13data1[:828]\n",
    "G13data1_test = G13data1[828:]\n",
    "G13dataf2 = G13data2[:832]\n",
    "G13data2_test = G13data2[832:]\n",
    "G13dataf3 = G13data3[:974]\n",
    "G13data3_test = G13data3[974:]\n",
    "G13dataf4 = G13data4[:810]\n",
    "G13data4_test = G13data4[810:]\n",
    "G13dataf5 = G13data5[:877]\n",
    "G13data5_test = G13data5[877:]\n",
    "G13dataf6 = G13data6[:943]\n",
    "G13data6_test = G13data6[943:]\n",
    "G13dataf7 = G13data7[:1168]\n",
    "G13data7_test = G13data7[1168:]\n",
    "G13dataf8 = G13data8[:836]\n",
    "G13data8_test = G13data8[836:]\n",
    "G13dataf9 = G13data9[:1084]\n",
    "G13data9_test = G13data9[1084:]\n",
    "G13dataf10 = G13data10[:1080]\n",
    "G13data10_test = G13data10[1080:]\n",
    "G13dataf11 = G13data11[:889]\n",
    "G13data11_test = G13data11[889:]\n",
    "G13dataf12 = G13data12[:994]\n",
    "G13data12_test = G13data12[994:]\n",
    "G13dataf13 = G13data13[:1112]\n",
    "G13data13_test = G13data13[1112:]\n",
    "G13dataf14 = G13data14[:1025]\n",
    "G13data14_test = G13data14[1025:]\n",
    "G13dataf15 = G13data15[:1468]\n",
    "G13data15_test = G13data15[1468:]\n",
    "print(G13data2_test.shape)"
   ]
  },
  {
   "cell_type": "markdown",
   "id": "8aeca018",
   "metadata": {},
   "source": [
    "## G21 지원자 DataFrame"
   ]
  },
  {
   "cell_type": "code",
   "execution_count": 12,
   "id": "52f14917",
   "metadata": {},
   "outputs": [
    {
     "name": "stdout",
     "output_type": "stream",
     "text": [
      "[[17.97 18.07 17.79 ... 19.89 18.61 18.41]\n",
      " [18.01 18.07 17.87 ... 19.77 18.57 18.39]\n",
      " [18.03 18.09 17.97 ... 19.65 18.55 18.35]\n",
      " ...\n",
      " [17.79 18.01 17.79 ... 19.31 18.47 18.11]\n",
      " [17.87 17.93 17.85 ... 19.33 18.39 18.05]\n",
      " [17.79 17.87 17.77 ... 19.27 18.15 18.19]]\n",
      "17.97\n"
     ]
    }
   ],
   "source": [
    "mat_file_G21_io = io.loadmat('./sensors-19-04565-s001/eHomeSeniors dataset/melexis sensor/datos matlab/melexis-G2-1-f01-data.mat')\n",
    "print(mat_file_G21_io.get('melexisG21f01'))\n",
    "print(mat_file_G21_io.get('melexisG21f01')[0][0])\n",
    "G21data1 = pd.DataFrame(mat_file_G21_io.get('melexisG21f01'))\n",
    "G21data1 = data_merge(G21data1,57, 120, 218, 290, 408, 465, 566, 609, 719, 759)\n",
    "\n",
    "mat_file_G21_io2 = io.loadmat('./sensors-19-04565-s001/eHomeSeniors dataset/melexis sensor/datos matlab/melexis-G2-1-f02-data.mat')\n",
    "G21data2 = pd.DataFrame(mat_file_G21_io2.get('melexisG21f02'))\n",
    "G21data2 = data_merge(G21data2,147,192, 321,360, 471,510, 639,680, 809,849)\n",
    "\n",
    "mat_file_G21_io3 = io.loadmat('./sensors-19-04565-s001/eHomeSeniors dataset/melexis sensor/datos matlab/melexis-G2-1-f03-data.mat')\n",
    "G21data3 = pd.DataFrame(mat_file_G21_io3.get('melexisG21f03'))\n",
    "G21data3 = data_merge(G21data3,45, 90, 190, 239, 330, 375, 480, 523, 631, 679)\n",
    "\n",
    "mat_file_G21_io4 = io.loadmat('./sensors-19-04565-s001/eHomeSeniors dataset/melexis sensor/datos matlab/melexis-G2-1-f04-data.mat')\n",
    "G21data4 = pd.DataFrame(mat_file_G21_io4.get('melexisG21f04'))\n",
    "G21data4 = data_merge(G21data4,125, 160, 283, 331, 439, 486, 604, 666, 760, 839)\n",
    "\n",
    "mat_file_G21_io5 = io.loadmat('./sensors-19-04565-s001/eHomeSeniors dataset/melexis sensor/datos matlab/melexis-G2-1-f05-data.mat')\n",
    "G21data5 = pd.DataFrame(mat_file_G21_io5.get('melexisG21f05'))\n",
    "G21data5 = data_merge(G21data5,150, 213, 420, 462, 698, 752, 991, 1027, 1189, 1222)\n",
    "\n",
    "mat_file_G21_io6 = io.loadmat('./sensors-19-04565-s001/eHomeSeniors dataset/melexis sensor/datos matlab/melexis-G2-1-f06-data.mat')\n",
    "G21data6 = pd.DataFrame(mat_file_G21_io6.get('melexisG21f06'))\n",
    "G21data6 = data_merge(G21data6, 148, 193, 390, 437, 637, 680, 887, 925, 1117, 1188)\n",
    "\n",
    "mat_file_G21_io7 = io.loadmat('./sensors-19-04565-s001/eHomeSeniors dataset/melexis sensor/datos matlab/melexis-G2-1-f07-data.mat')\n",
    "G21data7 = pd.DataFrame(mat_file_G21_io7.get('melexisG21f07'))\n",
    "G21data7 = data_merge(G21data7,89, 135, 300, 347, 483, 525, 716, 751, 933, 985)\n",
    "\n",
    "mat_file_G21_io8 = io.loadmat('./sensors-19-04565-s001/eHomeSeniors dataset/melexis sensor/datos matlab/melexis-G2-1-f08-data.mat')\n",
    "G21data8 = pd.DataFrame(mat_file_G21_io8.get('melexisG21f08'))\n",
    "G21data8 = data_merge(G21data8,131, 181, 281, 305, 451, 481, 611, 665, 776, 829)\n",
    "\n",
    "mat_file_G21_io9 = io.loadmat('./sensors-19-04565-s001/eHomeSeniors dataset/melexis sensor/datos matlab/melexis-G2-1-f09-data.mat')\n",
    "G21data9 = pd.DataFrame(mat_file_G21_io9.get('melexisG21f09'))\n",
    "G21data9 = data_merge(G21data9,160, 197, 323, 376, 475, 503, 617, 658, 751, 791)\n",
    "\n",
    "mat_file_G21_io10 = io.loadmat('./sensors-19-04565-s001/eHomeSeniors dataset/melexis sensor/datos matlab/melexis-G2-1-f10-data.mat')\n",
    "G21data10 = pd.DataFrame(mat_file_G21_io10.get('melexisG21f10'))\n",
    "G21data10 = data_merge(G21data10,41, 100, 240, 287, 447, 480, 630, 672, 800, 840)\n",
    "\n",
    "mat_file_G21_io11 = io.loadmat('./sensors-19-04565-s001/eHomeSeniors dataset/melexis sensor/datos matlab/melexis-G2-1-f11-data.mat')\n",
    "G21data11 = pd.DataFrame(mat_file_G21_io11.get('melexisG21f11'))\n",
    "G21data11 = data_merge(G21data11,136, 182, 321, 341, 562, 603, 741, 780, 1004, 1072)\n",
    "\n",
    "mat_file_G21_io12 = io.loadmat('./sensors-19-04565-s001/eHomeSeniors dataset/melexis sensor/datos matlab/melexis-G2-1-f12-data.mat')\n",
    "G21data12 = pd.DataFrame(mat_file_G21_io12.get('melexisG21f12'))\n",
    "G21data12 = data_merge(G21data12,79, 112, 250, 302, 435, 483, 581, 640, 752, 809)\n",
    "\n",
    "mat_file_G21_io13 = io.loadmat('./sensors-19-04565-s001/eHomeSeniors dataset/melexis sensor/datos matlab/melexis-G2-1-f13-data.mat')\n",
    "G21data13 = pd.DataFrame(mat_file_G21_io13.get('melexisG21f13'))\n",
    "G21data13 = data_merge(G21data13,40, 92, 194, 269, 348, 415, 522, 579, 682, 727)\n",
    "\n",
    "mat_file_G21_io14 = io.loadmat('./sensors-19-04565-s001/eHomeSeniors dataset/melexis sensor/datos matlab/melexis-G2-1-f14-data.mat')\n",
    "G21data14 = pd.DataFrame(mat_file_G21_io14.get('melexisG21f14'))\n",
    "G21data14 = data_merge(G21data14,148, 191, 319, 374, 495, 546, 691, 752, 892, 945)\n",
    "\n",
    "mat_file_G21_io15 = io.loadmat('./sensors-19-04565-s001/eHomeSeniors dataset/melexis sensor/datos matlab/melexis-G2-1-f15-data.mat')\n",
    "G21data15 = pd.DataFrame(mat_file_G21_io15.get('melexisG21f15'))\n",
    "G21data15 = data_merge(G21data15,120, 141, 348, 389, 548, 584, 736, 767, 915, 957)"
   ]
  },
  {
   "cell_type": "code",
   "execution_count": 13,
   "id": "c404e9b4",
   "metadata": {},
   "outputs": [],
   "source": [
    "G21dataf1 = G21data1[:678]\n",
    "G21data1_test = G21data1[678:]\n",
    "G21dataf2 = G21data2[:774]\n",
    "G21data2_test = G21data2[774:]\n",
    "G21dataf3 = G21data3[:595]\n",
    "G21data3_test = G21data3[595:]\n",
    "G21dataf4 = G21data4[:682]\n",
    "G21data4_test = G21data4[682:]\n",
    "G21dataf5 = G21data5[:1162]\n",
    "G21data5_test = G21data5[1162:]\n",
    "G21dataf6 = G21data6[:1060]\n",
    "G21data6_test = G21data6[1060:]\n",
    "G21dataf7 = G21data7[:911]\n",
    "G21data7_test = G21data7[911:]\n",
    "G21dataf8 = G21data8[:727]\n",
    "G21data8_test = G21data8[727:]\n",
    "G21dataf9 = G21data9[:729]\n",
    "G21data9_test = G21data9[729:]\n",
    "G21dataf10 = G21data10[:803]\n",
    "G21data10_test = G21data10[803:]\n",
    "G21dataf11 = G21data11[:952]\n",
    "G21data11_test = G21data11[952:]\n",
    "G21dataf12 = G21data12[:694]\n",
    "G21data12_test = G21data12[694:]\n",
    "G21dataf13 = G21data13[:648]\n",
    "G21data13_test = G21data13[648:]\n",
    "G21dataf14 = G21data14[:893]\n",
    "G21data14_test = G21data14[893:]\n",
    "G21dataf15 = G21data15[:884]\n",
    "G21data15_test = G21data15[884:]"
   ]
  },
  {
   "cell_type": "markdown",
   "id": "ab3347aa",
   "metadata": {},
   "source": [
    "## G22 지원자 DataFrame"
   ]
  },
  {
   "cell_type": "code",
   "execution_count": 14,
   "id": "5218a414",
   "metadata": {},
   "outputs": [
    {
     "name": "stdout",
     "output_type": "stream",
     "text": [
      "[[17.85 17.83 17.93 ... 18.95 18.01 17.81]\n",
      " [17.83 17.83 17.95 ... 18.99 18.11 17.75]\n",
      " [17.79 17.73 17.95 ... 19.01 18.07 17.67]\n",
      " ...\n",
      " [17.51 17.67 17.51 ... 19.17 18.09 18.33]\n",
      " [17.37 17.69 17.49 ... 19.11 18.07 18.31]\n",
      " [17.39 17.71 17.47 ... 19.07 18.07 18.53]]\n",
      "17.85\n"
     ]
    }
   ],
   "source": [
    "mat_file_G22_io = io.loadmat('./sensors-19-04565-s001/eHomeSeniors dataset/melexis sensor/datos matlab/melexis-G2-2-f01-data.mat')\n",
    "print(mat_file_G22_io.get('melexisG22f01'))\n",
    "print(mat_file_G22_io.get('melexisG22f01')[0][0])\n",
    "G22data1 = pd.DataFrame(mat_file_G22_io.get('melexisG22f01'))\n",
    "G22data1 = data_merge(G22data1,90, 112, 228, 254, 382, 401, 525, 550, 660, 699)\n",
    "\n",
    "mat_file_G22_io2 = io.loadmat('./sensors-19-04565-s001/eHomeSeniors dataset/melexis sensor/datos matlab/melexis-G2-2-f02-data.mat')\n",
    "G22data2 = pd.DataFrame(mat_file_G22_io2.get('melexisG22f02'))\n",
    "G22data2 = data_merge(G22data2,102, 138, 230, 257, 365, 391, 496, 526, 699, 727)\n",
    "\n",
    "mat_file_G22_io3 = io.loadmat('./sensors-19-04565-s001/eHomeSeniors dataset/melexis sensor/datos matlab/melexis-G2-2-f03-data.mat')\n",
    "G22data3 = pd.DataFrame(mat_file_G22_io3.get('melexisG22f03'))\n",
    "G22data3 = data_merge(G22data3,65, 89, 177, 207, 325, 365, 426, 448, 572, 614)\n",
    "\n",
    "mat_file_G22_io4 = io.loadmat('./sensors-19-04565-s001/eHomeSeniors dataset/melexis sensor/datos matlab/melexis-G2-2-f04-data.mat')\n",
    "G22data4 = pd.DataFrame(mat_file_G22_io4.get('melexisG22f04'))\n",
    "G22data4 = data_merge(G22data4,66, 89, 171, 199, 259, 285, 367, 389, 476, 509)\n",
    "\n",
    "mat_file_G22_io5 = io.loadmat('./sensors-19-04565-s001/eHomeSeniors dataset/melexis sensor/datos matlab/melexis-G2-2-f05-data.mat')\n",
    "G22data5 = pd.DataFrame(mat_file_G22_io5.get('melexisG22f05'))\n",
    "G22data5 = data_merge(G22data5,0, 33, 142, 250, 550, 586, 705, 743, 1007, 1080)\n",
    "\n",
    "mat_file_G22_io6 = io.loadmat('./sensors-19-04565-s001/eHomeSeniors dataset/melexis sensor/datos matlab/melexis-G2-2-f06-data.mat')\n",
    "G22data6 = pd.DataFrame(mat_file_G22_io6.get('melexisG22f06'))\n",
    "G22data6 = data_merge(G22data6, 47, 88, 260, 282, 465, 498, 620, 671, 847, 888)\n",
    "\n",
    "mat_file_G22_io7 = io.loadmat('./sensors-19-04565-s001/eHomeSeniors dataset/melexis sensor/datos matlab/melexis-G2-2-f07-data.mat')\n",
    "G22data7 = pd.DataFrame(mat_file_G22_io7.get('melexisG22f07'))\n",
    "G22data7 = data_merge(G22data7,235, 274, 398, 430, 578, 608, 806, 840, 992, 1043)\n",
    "\n",
    "mat_file_G22_io8 = io.loadmat('./sensors-19-04565-s001/eHomeSeniors dataset/melexis sensor/datos matlab/melexis-G2-2-f08-data.mat')\n",
    "G22data8 = pd.DataFrame(mat_file_G22_io8.get('melexisG22f08'))\n",
    "G22data8 = data_merge(G22data8,172, 210, 347, 380, 462, 485, 577, 600, 678, 708)\n",
    "\n",
    "mat_file_G22_io9 = io.loadmat('./sensors-19-04565-s001/eHomeSeniors dataset/melexis sensor/datos matlab/melexis-G2-2-f09-data.mat')\n",
    "G22data9 = pd.DataFrame(mat_file_G22_io9.get('melexisG22f09'))\n",
    "G22data9 = data_merge(G22data9,100, 130, 218, 243, 332, 373, 428, 458, 527, 559)\n",
    "\n",
    "mat_file_G22_io10 = io.loadmat('./sensors-19-04565-s001/eHomeSeniors dataset/melexis sensor/datos matlab/melexis-G2-2-f10-data.mat')\n",
    "G22data10 = pd.DataFrame(mat_file_G22_io10.get('melexisG22f10'))\n",
    "G22data10 = data_merge(G22data10,54, 84, 208, 240, 350, 370, 490, 513, 610, 637)\n",
    "\n",
    "mat_file_G22_io11 = io.loadmat('./sensors-19-04565-s001/eHomeSeniors dataset/melexis sensor/datos matlab/melexis-G2-2-f11-data.mat')\n",
    "G22data11 = pd.DataFrame(mat_file_G22_io11.get('melexisG22f11'))\n",
    "G22data11 = data_merge(G22data11,20, 57, 179, 214, 385, 430, 631, 679, 870, 925)\n",
    "\n",
    "mat_file_G22_io12 = io.loadmat('./sensors-19-04565-s001/eHomeSeniors dataset/melexis sensor/datos matlab/melexis-G2-2-f12-data.mat')\n",
    "G22data12 = pd.DataFrame(mat_file_G22_io12.get('melexisG22f12'))\n",
    "G22data12 = data_merge(G22data12,87, 110, 213, 231, 317, 351, 454, 475, 565, 587)\n",
    "\n",
    "mat_file_G22_io13 = io.loadmat('./sensors-19-04565-s001/eHomeSeniors dataset/melexis sensor/datos matlab/melexis-G2-2-f13-data.mat')\n",
    "G22data13 = pd.DataFrame(mat_file_G22_io13.get('melexisG22f13'))\n",
    "G22data13 = data_merge(G22data13,145, 171, 269, 300, 405, 440, 529, 563, 647, 689)\n",
    "\n",
    "mat_file_G22_io14 = io.loadmat('./sensors-19-04565-s001/eHomeSeniors dataset/melexis sensor/datos matlab/melexis-G2-2-f14-data.mat')\n",
    "G22data14 = pd.DataFrame(mat_file_G22_io14.get('melexisG22f14'))\n",
    "G22data14 = data_merge(G22data14,67, 88, 192, 220, 330, 354, 454, 481, 577, 600)\n",
    "\n",
    "mat_file_G22_io15 = io.loadmat('./sensors-19-04565-s001/eHomeSeniors dataset/melexis sensor/datos matlab/melexis-G2-2-f15-data.mat')\n",
    "G22data15 = pd.DataFrame(mat_file_G22_io15.get('melexisG22f15'))\n",
    "G22data15 = data_merge(G22data15,77, 110, 224, 254, 388, 416, 540, 571, 683, 729)"
   ]
  },
  {
   "cell_type": "code",
   "execution_count": 15,
   "id": "dfeff458",
   "metadata": {},
   "outputs": [],
   "source": [
    "G22dataf1 = G22data1[:635]\n",
    "G22data1_test = G22data1[635:]\n",
    "G22dataf2 = G22data2[:709]\n",
    "G22data2_test = G22data2[709:]\n",
    "G22dataf3 = G22data3[:534]\n",
    "G22data3_test = G22data3[534:]\n",
    "G22dataf4 = G22data4[:453]\n",
    "G22data4_test = G22data4[453:]\n",
    "G22dataf5 = G22data5[:1052]\n",
    "G22data5_test = G22data5[1052:]\n",
    "G22dataf6 = G22data6[:858]\n",
    "G22data6_test = G22data6[858:]\n",
    "G22dataf7 = G22data7[:992]\n",
    "G22data7_test = G22data7[992:]\n",
    "G22dataf8 = G22data8[:688]\n",
    "G22data8_test = G22data8[688:]\n",
    "G22dataf9 = G22data9[:492]\n",
    "G22data9_test = G22data9[492:]\n",
    "G22dataf10 = G22data10[:610]\n",
    "G22data10_test = G22data10[610:]\n",
    "G22dataf11 = G22data11[:818]\n",
    "G22data11_test = G22data11[818:]\n",
    "G22dataf12 = G22data12[:566]\n",
    "G22data12_test = G22data12[566:]\n",
    "G22dataf13 = G22data13[:604]\n",
    "G22data13_test = G22data13[604:]\n",
    "G22dataf14 = G22data14[:587]\n",
    "G22data14_test = G22data14[587:]\n",
    "G22dataf15 = G22data15[:636]\n",
    "G22data15_test = G22data15[636:]"
   ]
  },
  {
   "cell_type": "markdown",
   "id": "a1be435a",
   "metadata": {},
   "source": [
    "## G23 지원자 DataFrame"
   ]
  },
  {
   "cell_type": "code",
   "execution_count": 16,
   "id": "74b854c3",
   "metadata": {},
   "outputs": [
    {
     "name": "stdout",
     "output_type": "stream",
     "text": [
      "[[17.67 17.75 17.59 ... 18.83 18.13 18.57]\n",
      " [17.75 17.83 17.55 ... 18.79 18.01 18.43]\n",
      " [17.83 17.93 17.53 ... 18.77 17.93 18.33]\n",
      " ...\n",
      " [17.53 17.37 17.91 ... 19.03 17.65 15.91]\n",
      " [17.49 17.41 17.91 ... 19.13 17.67 15.91]\n",
      " [17.45 17.43 17.89 ... 19.13 17.77 15.89]]\n",
      "17.67\n"
     ]
    }
   ],
   "source": [
    "mat_file_G23_io = io.loadmat('./sensors-19-04565-s001/eHomeSeniors dataset/melexis sensor/datos matlab/melexis-G2-3-f01-data.mat')\n",
    "print(mat_file_G23_io.get('melexisG23f01'))\n",
    "print(mat_file_G23_io.get('melexisG23f01')[0][0])\n",
    "G23data1 = pd.DataFrame(mat_file_G23_io.get('melexisG23f01'))\n",
    "G23data1 = data_merge(G23data1,98, 194, 337, 430, 538, 600, 736, 793, 925, 999)\n",
    "\n",
    "mat_file_G23_io2 = io.loadmat('./sensors-19-04565-s001/eHomeSeniors dataset/melexis sensor/datos matlab/melexis-G2-3-f02-data.mat')\n",
    "G23data2 = pd.DataFrame(mat_file_G23_io2.get('melexisG23f02'))\n",
    "G23data2 = data_merge(G23data2,76, 132, 261, 312, 447, 497, 630, 682, 790, 838)\n",
    "\n",
    "mat_file_G23_io3 = io.loadmat('./sensors-19-04565-s001/eHomeSeniors dataset/melexis sensor/datos matlab/melexis-G2-3-f03-data.mat')\n",
    "G23data3 = pd.DataFrame(mat_file_G23_io3.get('melexisG23f03'))\n",
    "G23data3 = data_merge(G23data3,67, 136, 230, 310, 431, 500, 609, 672, 789, 850)\n",
    "\n",
    "mat_file_G23_io4 = io.loadmat('./sensors-19-04565-s001/eHomeSeniors dataset/melexis sensor/datos matlab/melexis-G2-3-f04-data.mat')\n",
    "G23data4 = pd.DataFrame(mat_file_G23_io4.get('melexisG23f04'))\n",
    "G23data4 = data_merge(G23data4,86, 150, 265, 320, 414, 463, 585, 642, 718, 759)\n",
    "\n",
    "mat_file_G23_io5 = io.loadmat('./sensors-19-04565-s001/eHomeSeniors dataset/melexis sensor/datos matlab/melexis-G2-3-f05-data.mat')\n",
    "G23data5 = pd.DataFrame(mat_file_G23_io5.get('melexisG23f05'))\n",
    "G23data5 = data_merge(G23data5,144, 176, 341, 374, 626, 675, 902, 941, 1185, 1243)\n",
    "\n",
    "mat_file_G23_io6 = io.loadmat('./sensors-19-04565-s001/eHomeSeniors dataset/melexis sensor/datos matlab/melexis-G2-3-f06-data.mat')\n",
    "G23data6 = pd.DataFrame(mat_file_G23_io6.get('melexisG23f06'))\n",
    "G23data6 = data_merge(G23data6, 56, 158, 463, 501, 746, 820, 1004, 1070, 1215, 1269)\n",
    "\n",
    "mat_file_G23_io7 = io.loadmat('./sensors-19-04565-s001/eHomeSeniors dataset/melexis sensor/datos matlab/melexis-G2-3-f07-data.mat')\n",
    "G23data7 = pd.DataFrame(mat_file_G23_io7.get('melexisG23f07'))\n",
    "G23data7 = data_merge(G23data7,94, 145, 325, 377, 552, 594, 723, 790, 950, 999)\n",
    "\n",
    "mat_file_G23_io8 = io.loadmat('./sensors-19-04565-s001/eHomeSeniors dataset/melexis sensor/datos matlab/melexis-G2-3-f08-data.mat')\n",
    "G23data8 = pd.DataFrame(mat_file_G23_io8.get('melexisG23f08'))\n",
    "G23data8 = data_merge(G23data8,32, 92, 228, 267, 380, 436, 542, 595, 711, 759)\n",
    "\n",
    "mat_file_G23_io9 = io.loadmat('./sensors-19-04565-s001/eHomeSeniors dataset/melexis sensor/datos matlab/melexis-G2-3-f09-data.mat')\n",
    "G23data9 = pd.DataFrame(mat_file_G23_io9.get('melexisG23f09'))\n",
    "G23data9 = data_merge(G23data9,148,204, 330, 396, 571, 626, 749, 799, 917, 969)\n",
    "\n",
    "mat_file_G23_io10 = io.loadmat('./sensors-19-04565-s001/eHomeSeniors dataset/melexis sensor/datos matlab/melexis-G2-3-f10-data.mat')\n",
    "G23data10 = pd.DataFrame(mat_file_G23_io10.get('melexisG23f10'))\n",
    "G23data10 = data_merge(G23data10,49, 140, 289, 365, 458, 530, 634, 695, 834, 889)\n",
    "\n",
    "mat_file_G23_io11 = io.loadmat('./sensors-19-04565-s001/eHomeSeniors dataset/melexis sensor/datos matlab/melexis-G2-3-f11-data.mat')\n",
    "G23data11 = pd.DataFrame(mat_file_G23_io11.get('melexisG23f11'))\n",
    "G23data11 = data_merge(G23data11,64, 140, 254, 311, 476, 554, 664, 733, 912, 969)\n",
    "\n",
    "mat_file_G23_io12 = io.loadmat('./sensors-19-04565-s001/eHomeSeniors dataset/melexis sensor/datos matlab/melexis-G2-3-f12-data.mat')\n",
    "G23data12 = pd.DataFrame(mat_file_G23_io12.get('melexisG23f12'))\n",
    "G23data12 = data_merge(G23data12,56, 101, 204, 262, 366, 430, 517, 580, 666, 719)\n",
    "\n",
    "mat_file_G23_io13 = io.loadmat('./sensors-19-04565-s001/eHomeSeniors dataset/melexis sensor/datos matlab/melexis-G2-3-f13-data.mat')\n",
    "G23data13 = pd.DataFrame(mat_file_G23_io13.get('melexisG23f13'))\n",
    "G23data13 = data_merge(G23data13,75, 160, 315, 393, 510, 580, 678, 744, 857, 909)\n",
    "\n",
    "mat_file_G23_io14 = io.loadmat('./sensors-19-04565-s001/eHomeSeniors dataset/melexis sensor/datos matlab/melexis-G2-3-f14-data.mat')\n",
    "G23data14 = pd.DataFrame(mat_file_G23_io14.get('melexisG23f14'))\n",
    "G23data14 = data_merge(G23data14,79, 126, 250, 304, 443, 492, 608, 677, 804, 869)\n",
    "\n",
    "mat_file_G23_io15 = io.loadmat('./sensors-19-04565-s001/eHomeSeniors dataset/melexis sensor/datos matlab/melexis-G2-3-f15-data.mat')\n",
    "G23data15 = pd.DataFrame(mat_file_G23_io15.get('melexisG23f15'))\n",
    "G23data15 = data_merge(G23data15,114, 170, 274, 325, 459, 578, 719, 797, 935, 989)"
   ]
  },
  {
   "cell_type": "code",
   "execution_count": 17,
   "id": "48507aad",
   "metadata": {},
   "outputs": [
    {
     "name": "stdout",
     "output_type": "stream",
     "text": [
      "(110, 769)\n"
     ]
    }
   ],
   "source": [
    "G23dataf1 = G23data1[:850]\n",
    "G23data1_test = G23data1[850:]\n",
    "G23dataf2 = G23data2[:772]\n",
    "G23data2_test = G23data2[772:]\n",
    "G23dataf3 = G23data3[:736]\n",
    "G23data3_test = G23data3[736:]\n",
    "G23dataf4 = G23data4[:676]\n",
    "G23data4_test = G23data4[676:]\n",
    "G23dataf5 = G23data5[:1132]\n",
    "G23data5_test = G23data5[1132:]\n",
    "G23dataf6 = G23data6[:1160]\n",
    "G23data6_test = G23data6[1160:]\n",
    "G23dataf7 = G23data7[:900]\n",
    "G23data7_test = G23data7[900:]\n",
    "G23dataf8 = G23data8[:660]\n",
    "G23data8_test = G23data8[660:]\n",
    "G23dataf9 = G23data9[:850]\n",
    "G23data9_test = G23data9[850:]\n",
    "G23dataf10 = G23data10[:780]\n",
    "G23data10_test = G23data10[780:]\n",
    "G23dataf11 = G23data11[:860]\n",
    "G23data11_test = G23data11[860:]\n",
    "G23dataf12 = G23data12[:610]\n",
    "G23data12_test = G23data12[610:]\n",
    "G23dataf13 = G23data13[:800]\n",
    "G23data13_test = G23data13[800:]\n",
    "G23dataf14 = G23data14[:740]\n",
    "G23data14_test = G23data14[740:]\n",
    "G23dataf15 = G23data15[:880]\n",
    "G23data15_test = G23data15[880:]\n",
    "print(G23data15_test.shape)"
   ]
  },
  {
   "cell_type": "markdown",
   "id": "50168ed0",
   "metadata": {},
   "source": [
    "# 다 합쳐서 테스트 데이터 만듦"
   ]
  },
  {
   "cell_type": "code",
   "execution_count": 18,
   "id": "c9e14ada",
   "metadata": {},
   "outputs": [
    {
     "name": "stdout",
     "output_type": "stream",
     "text": [
      "(82056, 769)\n",
      "(82056, 768)\n",
      "(82056,)\n"
     ]
    }
   ],
   "source": [
    "result = pd.concat([G11dataf1, G11dataf2,G11dataf3, G11dataf4, G11dataf5, G11dataf6, G11dataf7, G11dataf8, G11dataf9, G11dataf10,\n",
    "                    G11dataf11, G11dataf12, G11dataf13, G11dataf14, G11dataf15,G12dataf1, G12dataf2,G12dataf3, G12dataf4, G12dataf5, \n",
    "                    G12dataf6, G12dataf7, G12dataf8, G12dataf9, G12dataf10, G12dataf11, G12dataf12, G12dataf13, G12dataf14, G12dataf15,\n",
    "                    G13dataf1, G13dataf2,G13dataf3, G13dataf4, G13dataf5, G13dataf6, G13dataf7, G13dataf8, G13dataf9, G13dataf10,\n",
    "                    G13dataf11, G13dataf12,G13dataf13, G13dataf14, G13dataf15,G21dataf1, G21dataf2,G21dataf3, G21dataf4, G21dataf5, \n",
    "                    G21dataf6, G21dataf7, G21dataf8, G21dataf9, G21dataf10, G21dataf11, G21dataf12, G21dataf13, G21dataf14, G21dataf15,\n",
    "                    G22dataf1, G22dataf2,G22dataf3, G22dataf4, G22dataf5, G22dataf6, G22dataf7, G22dataf8, G22dataf9, G22dataf10,\n",
    "                    G22dataf11, G22dataf12, G22dataf13, G22dataf14, G22dataf15,G23dataf1, G23dataf2,G23dataf3, G23dataf4, G23dataf5, \n",
    "                    G23dataf6, G23dataf7, G23dataf8, G23dataf9, G23dataf10, G23dataf11, G23dataf12, G23dataf13, G23dataf14, G23dataf15])\n",
    "print(result.shape)\n",
    "X, y = result.drop(['label'], axis=1), result['label']\n",
    "print(X.shape)\n",
    "print(y.shape)"
   ]
  },
  {
   "cell_type": "code",
   "execution_count": 19,
   "id": "bfdda846",
   "metadata": {},
   "outputs": [
    {
     "name": "stdout",
     "output_type": "stream",
     "text": [
      "(11112, 768)\n",
      "(11112,)\n",
      "(11112, 769)\n"
     ]
    }
   ],
   "source": [
    "result_test = pd.concat([G11data1_test, G11data2_test,G11data3_test, G11data4_test, G11data5_test, G11data6_test, G11data7_test, G11data8_test, G11data9_test, G11data10_test, G11data11_test, G11data12_test, \n",
    "                    G11data13_test, G11data14_test, G11data15_test,G12data1_test, G12data2_test,G12data3_test, G12data4_test, G12data5_test, G12data6_test, G12data7_test, G12data8_test, G12data9_test, \n",
    "                    G12data10_test, G12data11_test, G12data12_test,G12data13_test, G12data14_test, G12data15_test,G13data1_test, G13data2_test,G13data3_test, G13data4_test, G13data5_test, G13data6_test, \n",
    "                    G13data7_test, G13data8_test, G13data9_test, G13data10_test, G13data11_test, G13data12_test,G13data13_test, G13data14_test, G13data15_test,G21data1_test, G21data2_test,G21data3_test, \n",
    "                    G21data4_test, G21data5_test, G21data6_test, G21data7_test, G21data8_test, G21data9_test, G21data10_test, G21data11_test, G21data12_test,G21data13_test, G21data14_test, G21data15_test,\n",
    "                   G22data1_test, G22data2_test,G22data3_test, G22data4_test, G22data5_test, G22data6_test, G22data7_test, G22data8_test, G22data9_test, G22data10_test, G22data11_test, G22data12_test,\n",
    "                    G22data13_test, G22data14_test, G22data15_test,G23data1_test, G23data2_test,G23data3_test, G23data4_test, G23data5_test, G23data6_test, G23data7_test, G23data8_test, G23data9_test, \n",
    "                    G23data10_test, G23data11_test, G23data12_test, G23data13_test, G23data14_test, G23data15_test])\n",
    "X_test, y_test = result_test.drop(['label'],axis=1), result_test['label']\n",
    "print(X_test.shape)\n",
    "print(y_test.shape)\n",
    "print(result_test.shape)"
   ]
  },
  {
   "cell_type": "code",
   "execution_count": 20,
   "id": "9375ca56",
   "metadata": {},
   "outputs": [
    {
     "name": "stdout",
     "output_type": "stream",
     "text": [
      "0      0\n",
      "1      0\n",
      "2      0\n",
      "3      0\n",
      "4      0\n",
      "      ..\n",
      "763    0\n",
      "764    0\n",
      "765    0\n",
      "766    0\n",
      "767    0\n",
      "Length: 768, dtype: int64\n"
     ]
    }
   ],
   "source": [
    "X = X.where(pd.notnull(X), X.mean(), axis='columns')\n",
    "print(X.isnull().sum())"
   ]
  },
  {
   "cell_type": "markdown",
   "id": "1b77805a",
   "metadata": {},
   "source": [
    "## 각 지원자 null 값 제거"
   ]
  },
  {
   "cell_type": "code",
   "execution_count": 21,
   "id": "a7361b2b",
   "metadata": {},
   "outputs": [],
   "source": [
    "G11data1_test=G11data1_test.where(pd.notnull(G11data1_test),G11data1_test.mean(), axis='columns')\n",
    "G11data2_test=G11data2_test.where(pd.notnull(G11data2_test),G11data2_test.mean(), axis='columns')\n",
    "G11data3_test=G11data3_test.where(pd.notnull(G11data3_test),G11data3_test.mean(), axis='columns')\n",
    "G11data4_test=G11data4_test.where(pd.notnull(G11data4_test),G11data4_test.mean(), axis='columns')\n",
    "G11data5_test=G11data5_test.where(pd.notnull(G11data5_test),G11data5_test.mean(), axis='columns')\n",
    "G11data6_test=G11data6_test.where(pd.notnull(G11data6_test),G11data6_test.mean(), axis='columns')\n",
    "G11data7_test=G11data7_test.where(pd.notnull(G11data7_test),G11data7_test.mean(), axis='columns')\n",
    "G11data8_test=G11data8_test.where(pd.notnull(G11data8_test),G11data8_test.mean(), axis='columns')\n",
    "G11data9_test=G11data9_test.where(pd.notnull(G11data9_test),G11data9_test.mean(), axis='columns')\n",
    "G11data10_test=G11data10_test.where(pd.notnull(G11data10_test),G11data10_test.mean(), axis='columns')\n",
    "G11data11_test=G11data11_test.where(pd.notnull(G11data11_test),G11data11_test.mean(), axis='columns')\n",
    "G11data12_test=G11data12_test.where(pd.notnull(G11data12_test),G11data12_test.mean(), axis='columns')\n",
    "G11data13_test=G11data13_test.where(pd.notnull(G11data13_test),G11data13_test.mean(), axis='columns')\n",
    "G11data14_test=G11data14_test.where(pd.notnull(G11data14_test),G11data14_test.mean(), axis='columns')\n",
    "G11data15_test=G11data15_test.where(pd.notnull(G11data15_test),G11data15_test.mean(), axis='columns')\n",
    "G12data1_test=G12data1_test.where(pd.notnull(G12data1_test),G12data1_test.mean(), axis='columns')\n",
    "G12data2_test=G12data2_test.where(pd.notnull(G12data2_test),G12data2_test.mean(), axis='columns')\n",
    "G12data3_test=G12data3_test.where(pd.notnull(G12data3_test),G12data3_test.mean(), axis='columns')\n",
    "G12data4_test=G12data4_test.where(pd.notnull(G12data4_test),G12data4_test.mean(), axis='columns')\n",
    "G12data5_test=G12data5_test.where(pd.notnull(G12data5_test),G12data5_test.mean(), axis='columns')\n",
    "G12data6_test=G12data6_test.where(pd.notnull(G12data6_test),G12data6_test.mean(), axis='columns')\n",
    "G12data7_test=G12data7_test.where(pd.notnull(G12data7_test),G12data7_test.mean(), axis='columns')\n",
    "G12data8_test=G12data8_test.where(pd.notnull(G12data8_test),G12data8_test.mean(), axis='columns')\n",
    "G12data9_test=G12data9_test.where(pd.notnull(G12data9_test),G12data9_test.mean(), axis='columns')\n",
    "G12data10_test=G12data10_test.where(pd.notnull(G12data10_test),G12data10_test.mean(), axis='columns')\n",
    "G12data11_test=G12data11_test.where(pd.notnull(G12data11_test),G12data11_test.mean(), axis='columns')\n",
    "G12data12_test=G12data12_test.where(pd.notnull(G12data12_test),G12data12_test.mean(), axis='columns')\n",
    "G12data13_test=G12data13_test.where(pd.notnull(G12data13_test),G12data13_test.mean(), axis='columns')\n",
    "G12data14_test=G12data14_test.where(pd.notnull(G12data14_test),G12data14_test.mean(), axis='columns')\n",
    "G12data15_test=G12data15_test.where(pd.notnull(G12data15_test),G12data15_test.mean(), axis='columns')\n",
    "G13data1_test=G13data1_test.where(pd.notnull(G13data1_test),G13data1_test.mean(), axis='columns')\n",
    "G13data2_test=G13data2_test.where(pd.notnull(G13data2_test),G13data2_test.mean(), axis='columns')\n",
    "G13data3_test=G13data3_test.where(pd.notnull(G13data3_test),G13data3_test.mean(), axis='columns')\n",
    "G13data4_test=G13data4_test.where(pd.notnull(G13data4_test),G13data4_test.mean(), axis='columns')\n",
    "G13data5_test=G13data5_test.where(pd.notnull(G13data5_test),G13data5_test.mean(), axis='columns')\n",
    "G13data6_test=G13data6_test.where(pd.notnull(G13data6_test),G13data6_test.mean(), axis='columns')\n",
    "G13data7_test=G13data7_test.where(pd.notnull(G13data7_test),G13data7_test.mean(), axis='columns')\n",
    "G13data8_test=G13data8_test.where(pd.notnull(G13data8_test),G13data8_test.mean(), axis='columns')\n",
    "G13data9_test=G13data9_test.where(pd.notnull(G13data9_test),G13data9_test.mean(), axis='columns')\n",
    "G13data10_test=G13data10_test.where(pd.notnull(G13data10_test),G13data10_test.mean(), axis='columns')\n",
    "G13data11_test=G13data11_test.where(pd.notnull(G13data11_test),G13data11_test.mean(), axis='columns')\n",
    "G13data12_test=G13data12_test.where(pd.notnull(G13data12_test),G13data12_test.mean(), axis='columns')\n",
    "G13data13_test=G13data13_test.where(pd.notnull(G13data13_test),G13data13_test.mean(), axis='columns')\n",
    "G13data14_test=G13data14_test.where(pd.notnull(G13data14_test),G13data14_test.mean(), axis='columns')\n",
    "G13data15_test=G13data15_test.where(pd.notnull(G13data15_test),G13data15_test.mean(), axis='columns')\n",
    "G21data1_test=G21data1_test.where(pd.notnull(G21data1_test),G21data1_test.mean(), axis='columns')\n",
    "G21data2_test=G21data2_test.where(pd.notnull(G21data2_test),G21data2_test.mean(), axis='columns')\n",
    "G21data3_test=G21data3_test.where(pd.notnull(G21data3_test),G21data3_test.mean(), axis='columns')\n",
    "G21data4_test=G21data4_test.where(pd.notnull(G21data4_test),G21data4_test.mean(), axis='columns')\n",
    "G21data5_test=G21data5_test.where(pd.notnull(G21data5_test),G21data5_test.mean(), axis='columns')\n",
    "G21data6_test=G21data6_test.where(pd.notnull(G21data6_test),G21data6_test.mean(), axis='columns')\n",
    "G21data7_test=G21data7_test.where(pd.notnull(G21data7_test),G21data7_test.mean(), axis='columns')\n",
    "G21data8_test=G21data8_test.where(pd.notnull(G21data8_test),G21data8_test.mean(), axis='columns')\n",
    "G21data9_test=G21data9_test.where(pd.notnull(G21data9_test),G21data9_test.mean(), axis='columns')\n",
    "G21data10_test=G21data10_test.where(pd.notnull(G21data10_test),G21data10_test.mean(), axis='columns')\n",
    "G21data11_test=G21data11_test.where(pd.notnull(G21data11_test),G21data11_test.mean(), axis='columns')\n",
    "G21data12_test=G21data12_test.where(pd.notnull(G21data12_test),G21data12_test.mean(), axis='columns')\n",
    "G21data13_test=G21data13_test.where(pd.notnull(G21data13_test),G21data13_test.mean(), axis='columns')\n",
    "G21data14_test=G21data14_test.where(pd.notnull(G21data14_test),G21data14_test.mean(), axis='columns')\n",
    "G21data15_test=G21data15_test.where(pd.notnull(G21data15_test),G21data15_test.mean(), axis='columns')\n",
    "G22data1_test=G22data1_test.where(pd.notnull(G22data1_test),G22data1_test.mean(), axis='columns')\n",
    "G22data2_test=G22data2_test.where(pd.notnull(G22data2_test),G22data2_test.mean(), axis='columns')\n",
    "G22data3_test=G22data3_test.where(pd.notnull(G22data3_test),G22data3_test.mean(), axis='columns')\n",
    "G22data4_test=G22data4_test.where(pd.notnull(G22data4_test),G22data4_test.mean(), axis='columns')\n",
    "G22data5_test=G22data5_test.where(pd.notnull(G22data5_test),G22data5_test.mean(), axis='columns')\n",
    "G22data6_test=G22data6_test.where(pd.notnull(G22data6_test),G22data6_test.mean(), axis='columns')\n",
    "G22data7_test=G22data7_test.where(pd.notnull(G22data7_test),G22data7_test.mean(), axis='columns')\n",
    "G22data8_test=G22data8_test.where(pd.notnull(G22data8_test),G22data8_test.mean(), axis='columns')\n",
    "G22data9_test=G22data9_test.where(pd.notnull(G22data9_test),G22data9_test.mean(), axis='columns')\n",
    "G22data10_test=G22data10_test.where(pd.notnull(G22data10_test),G22data10_test.mean(), axis='columns')\n",
    "G22data11_test=G22data11_test.where(pd.notnull(G22data11_test),G22data11_test.mean(), axis='columns')\n",
    "G22data12_test=G22data12_test.where(pd.notnull(G22data12_test),G22data12_test.mean(), axis='columns')\n",
    "G22data13_test=G22data13_test.where(pd.notnull(G22data13_test),G22data13_test.mean(), axis='columns')\n",
    "G22data14_test=G22data14_test.where(pd.notnull(G22data14_test),G22data14_test.mean(), axis='columns')\n",
    "G22data15_test=G22data15_test.where(pd.notnull(G22data15_test),G22data15_test.mean(), axis='columns')\n",
    "G23data1_test=G23data1_test.where(pd.notnull(G23data1_test),G23data1_test.mean(), axis='columns')\n",
    "G23data2_test=G23data2_test.where(pd.notnull(G23data2_test),G23data2_test.mean(), axis='columns')\n",
    "G23data3_test=G23data3_test.where(pd.notnull(G23data3_test),G23data3_test.mean(), axis='columns')\n",
    "G23data4_test=G23data4_test.where(pd.notnull(G23data4_test),G23data4_test.mean(), axis='columns')\n",
    "G23data5_test=G23data5_test.where(pd.notnull(G23data5_test),G23data5_test.mean(), axis='columns')\n",
    "G23data6_test=G23data6_test.where(pd.notnull(G23data6_test),G23data6_test.mean(), axis='columns')\n",
    "G23data7_test=G23data7_test.where(pd.notnull(G23data7_test),G23data7_test.mean(), axis='columns')\n",
    "G23data8_test=G23data8_test.where(pd.notnull(G23data8_test),G23data8_test.mean(), axis='columns')\n",
    "G23data9_test=G23data9_test.where(pd.notnull(G23data9_test),G23data9_test.mean(), axis='columns')\n",
    "G23data10_test=G23data10_test.where(pd.notnull(G23data10_test),G23data10_test.mean(), axis='columns')\n",
    "G23data11_test=G23data11_test.where(pd.notnull(G23data11_test),G23data11_test.mean(), axis='columns')\n",
    "G23data12_test=G23data12_test.where(pd.notnull(G23data12_test),G23data12_test.mean(), axis='columns')\n",
    "G23data13_test=G23data13_test.where(pd.notnull(G23data13_test),G23data13_test.mean(), axis='columns')\n",
    "G23data14_test=G23data14_test.where(pd.notnull(G23data14_test),G23data14_test.mean(), axis='columns')\n",
    "G23data15_test=G23data15_test.where(pd.notnull(G23data15_test),G23data15_test.mean(), axis='columns')"
   ]
  },
  {
   "cell_type": "code",
   "execution_count": 22,
   "id": "c6a9ebfa",
   "metadata": {},
   "outputs": [
    {
     "name": "stdout",
     "output_type": "stream",
     "text": [
      "0        0\n",
      "1        0\n",
      "2        0\n",
      "3        0\n",
      "4        0\n",
      "        ..\n",
      "764      0\n",
      "765      0\n",
      "766      0\n",
      "767      0\n",
      "label    0\n",
      "Length: 769, dtype: int64\n"
     ]
    }
   ],
   "source": [
    "print(G11data5_test.isnull().sum())"
   ]
  },
  {
   "cell_type": "code",
   "execution_count": 23,
   "id": "8dffef05",
   "metadata": {},
   "outputs": [
    {
     "data": {
      "text/plain": [
       "0.0    62297\n",
       "1.0    19759\n",
       "Name: label, dtype: int64"
      ]
     },
     "execution_count": 23,
     "metadata": {},
     "output_type": "execute_result"
    }
   ],
   "source": [
    "y.value_counts()"
   ]
  },
  {
   "cell_type": "code",
   "execution_count": 24,
   "id": "5074acdb",
   "metadata": {},
   "outputs": [
    {
     "data": {
      "text/plain": [
       "0.0    5627\n",
       "1.0    5485\n",
       "Name: label, dtype: int64"
      ]
     },
     "execution_count": 24,
     "metadata": {},
     "output_type": "execute_result"
    }
   ],
   "source": [
    "y_test.value_counts()"
   ]
  },
  {
   "cell_type": "code",
   "execution_count": null,
   "id": "1d5cd13a",
   "metadata": {},
   "outputs": [],
   "source": []
  },
  {
   "cell_type": "code",
   "execution_count": 25,
   "id": "ba3b8b34",
   "metadata": {},
   "outputs": [
    {
     "name": "stdout",
     "output_type": "stream",
     "text": [
      "0      0\n",
      "1      0\n",
      "2      0\n",
      "3      0\n",
      "4      0\n",
      "      ..\n",
      "763    0\n",
      "764    0\n",
      "765    0\n",
      "766    0\n",
      "767    0\n",
      "Length: 768, dtype: int64\n"
     ]
    }
   ],
   "source": [
    "X = X.where(pd.notnull(X), X.mean(), axis='columns')\n",
    "print(X.isnull().sum())"
   ]
  },
  {
   "cell_type": "code",
   "execution_count": 26,
   "id": "2e888b79",
   "metadata": {},
   "outputs": [],
   "source": [
    "X_test = X_test.where(pd.notnull(X_test), X_test.mean(), axis='columns')"
   ]
  },
  {
   "cell_type": "code",
   "execution_count": 27,
   "id": "13f84a98",
   "metadata": {
    "scrolled": true
   },
   "outputs": [
    {
     "name": "stdout",
     "output_type": "stream",
     "text": [
      "0      0\n",
      "1      0\n",
      "2      0\n",
      "3      0\n",
      "4      0\n",
      "      ..\n",
      "763    0\n",
      "764    0\n",
      "765    0\n",
      "766    0\n",
      "767    0\n",
      "Length: 768, dtype: int64\n"
     ]
    }
   ],
   "source": [
    "print(X_test.isnull().sum())"
   ]
  },
  {
   "cell_type": "code",
   "execution_count": null,
   "id": "fe99fc6a",
   "metadata": {},
   "outputs": [],
   "source": []
  },
  {
   "cell_type": "code",
   "execution_count": 28,
   "id": "217387a5",
   "metadata": {},
   "outputs": [],
   "source": [
    "X_train, y_train = X, y"
   ]
  },
  {
   "cell_type": "code",
   "execution_count": 29,
   "id": "02c9234d",
   "metadata": {},
   "outputs": [],
   "source": [
    "# X_train, X_test,y_train, y_test = X[:70944], X[70944:], y[:70944], y[70944:]"
   ]
  },
  {
   "cell_type": "code",
   "execution_count": 30,
   "id": "77ae6dc8",
   "metadata": {},
   "outputs": [],
   "source": [
    "def plot_roc_curve(fprs, tprs):\n",
    "    \"\"\"Plot the Receiver Operating Characteristic from a list\n",
    "    of true positive rates and false positive rates.\"\"\"\n",
    "    \n",
    "    # Initialize useful lists + the plot axes.\n",
    "    tprs_interp = []\n",
    "    aucs = []\n",
    "    mean_fpr = np.linspace(0, 1, 100)\n",
    "    f, ax = plt.subplots(figsize=(14,10))\n",
    "    \n",
    "    # Plot ROC for each K-Fold + compute AUC scores.\n",
    "    for i, (fpr, tpr) in enumerate(zip(fprs, tprs)):\n",
    "        tprs_interp.append(np.interp(mean_fpr, fpr, tpr))\n",
    "        tprs_interp[-1][0] = 0.0\n",
    "        roc_auc = auc(fpr, tpr)\n",
    "        aucs.append(roc_auc)\n",
    "        ax.plot(fpr, tpr, lw=1, alpha=0.3,\n",
    "                 label='ROC fold %d (AUC = %0.2f)' % (i, roc_auc))\n",
    "        \n",
    "    # Plot the luck line.\n",
    "    plt.plot([0, 1], [0, 1], linestyle='--', lw=2, color='r',\n",
    "             label='Luck', alpha=.8)\n",
    "    \n",
    "    # Plot the mean ROC.\n",
    "    mean_tpr = np.mean(tprs_interp, axis=0)\n",
    "    mean_tpr[-1] = 1.0\n",
    "    mean_auc = auc(mean_fpr, mean_tpr)\n",
    "    std_auc = np.std(aucs)\n",
    "    ax.plot(mean_fpr, mean_tpr, color='b',\n",
    "             label=r'Mean ROC (AUC = %0.2f $\\pm$ %0.2f)' % (mean_auc, std_auc),\n",
    "             lw=2, alpha=.8)\n",
    "    \n",
    "    # Plot the standard deviation around the mean ROC.\n",
    "    std_tpr = np.std(tprs_interp, axis=0)\n",
    "    tprs_upper = np.minimum(mean_tpr + std_tpr, 1)\n",
    "    tprs_lower = np.maximum(mean_tpr - std_tpr, 0)\n",
    "    ax.fill_between(mean_fpr, tprs_lower, tprs_upper, color='grey', alpha=.2,\n",
    "                     label=r'$\\pm$ 1 std. dev.')\n",
    "    \n",
    "    # Fine tune and show the plot.\n",
    "    ax.set_xlim([-0.05, 1.05])\n",
    "    ax.set_ylim([-0.05, 1.05])\n",
    "    ax.set_xlabel('False Positive Rate')\n",
    "    ax.set_ylabel('True Positive Rate')\n",
    "    ax.set_title('Receiver operating characteristic')\n",
    "    ax.legend(loc=\"lower right\")\n",
    "    plt.show()\n",
    "    return (f, ax)\n",
    "\n",
    "def compute_roc_auc(index):\n",
    "    y_predict = clf.predict_proba(X.iloc[index])[:,1]\n",
    "    fpr, tpr, thresholds = roc_curve(y.iloc[index], y_predict)\n",
    "    auc_score = auc(fpr, tpr)\n",
    "    return fpr, tpr, auc_score\n",
    "\n",
    "def plot_feature_importance(model):\n",
    "    n_features = X.shape[1]\n",
    "    plt.barh(np.arange(n_features), sorted(model.feature_importances_), align=\"center\")\n",
    "    plt.yticks(np.arange(n_features), X.columns)\n",
    "    plt.xlabel(\"DecisionTreeClassifier Feature Importance\")\n",
    "    plt.ylabel(\"Feature\")\n",
    "    plt.ylim(-1, n_features)"
   ]
  },
  {
   "cell_type": "code",
   "execution_count": 31,
   "id": "1c63ccf7",
   "metadata": {},
   "outputs": [
    {
     "data": {
      "text/plain": [
       "((82056, 768), (11112, 768))"
      ]
     },
     "execution_count": 31,
     "metadata": {},
     "output_type": "execute_result"
    }
   ],
   "source": [
    "X_train.shape, X_test.shape"
   ]
  },
  {
   "cell_type": "code",
   "execution_count": 32,
   "id": "8764bd4e",
   "metadata": {},
   "outputs": [],
   "source": [
    "from sklearn.ensemble import RandomForestClassifier\n",
    "from sklearn.model_selection import StratifiedKFold\n",
    "from sklearn.tree import DecisionTreeClassifier #의사결정나무\n",
    "from sklearn.ensemble import GradientBoostingClassifier #그래디언트 부스팅\n",
    "from tqdm import tqdm\n",
    "from sklearn.linear_model import LogisticRegression\n",
    "\n",
    "clf = LogisticRegression()\n",
    "\n",
    "cv = StratifiedKFold(n_splits=5, random_state=123, shuffle=True)\n",
    "results = pd.DataFrame(columns=['training_score', 'test_score'])\n",
    "fprs, tprs, scores = [], [], []\n",
    "\n"
   ]
  },
  {
   "cell_type": "code",
   "execution_count": 33,
   "id": "61b8a9cd",
   "metadata": {},
   "outputs": [
    {
     "name": "stderr",
     "output_type": "stream",
     "text": [
      "0it [00:00, ?it/s]C:\\Users\\Flora\\anaconda3\\envs\\silcream\\lib\\site-packages\\sklearn\\linear_model\\_logistic.py:818: ConvergenceWarning: lbfgs failed to converge (status=1):\n",
      "STOP: TOTAL NO. of ITERATIONS REACHED LIMIT.\n",
      "\n",
      "Increase the number of iterations (max_iter) or scale the data as shown in:\n",
      "    https://scikit-learn.org/stable/modules/preprocessing.html\n",
      "Please also refer to the documentation for alternative solver options:\n",
      "    https://scikit-learn.org/stable/modules/linear_model.html#logistic-regression\n",
      "  extra_warning_msg=_LOGISTIC_SOLVER_CONVERGENCE_MSG,\n",
      "1it [00:05,  5.54s/it]C:\\Users\\Flora\\anaconda3\\envs\\silcream\\lib\\site-packages\\sklearn\\linear_model\\_logistic.py:818: ConvergenceWarning: lbfgs failed to converge (status=1):\n",
      "STOP: TOTAL NO. of ITERATIONS REACHED LIMIT.\n",
      "\n",
      "Increase the number of iterations (max_iter) or scale the data as shown in:\n",
      "    https://scikit-learn.org/stable/modules/preprocessing.html\n",
      "Please also refer to the documentation for alternative solver options:\n",
      "    https://scikit-learn.org/stable/modules/linear_model.html#logistic-regression\n",
      "  extra_warning_msg=_LOGISTIC_SOLVER_CONVERGENCE_MSG,\n",
      "2it [00:10,  5.48s/it]C:\\Users\\Flora\\anaconda3\\envs\\silcream\\lib\\site-packages\\sklearn\\linear_model\\_logistic.py:818: ConvergenceWarning: lbfgs failed to converge (status=1):\n",
      "STOP: TOTAL NO. of ITERATIONS REACHED LIMIT.\n",
      "\n",
      "Increase the number of iterations (max_iter) or scale the data as shown in:\n",
      "    https://scikit-learn.org/stable/modules/preprocessing.html\n",
      "Please also refer to the documentation for alternative solver options:\n",
      "    https://scikit-learn.org/stable/modules/linear_model.html#logistic-regression\n",
      "  extra_warning_msg=_LOGISTIC_SOLVER_CONVERGENCE_MSG,\n",
      "3it [00:16,  5.55s/it]C:\\Users\\Flora\\anaconda3\\envs\\silcream\\lib\\site-packages\\sklearn\\linear_model\\_logistic.py:818: ConvergenceWarning: lbfgs failed to converge (status=1):\n",
      "STOP: TOTAL NO. of ITERATIONS REACHED LIMIT.\n",
      "\n",
      "Increase the number of iterations (max_iter) or scale the data as shown in:\n",
      "    https://scikit-learn.org/stable/modules/preprocessing.html\n",
      "Please also refer to the documentation for alternative solver options:\n",
      "    https://scikit-learn.org/stable/modules/linear_model.html#logistic-regression\n",
      "  extra_warning_msg=_LOGISTIC_SOLVER_CONVERGENCE_MSG,\n",
      "4it [00:22,  5.64s/it]C:\\Users\\Flora\\anaconda3\\envs\\silcream\\lib\\site-packages\\sklearn\\linear_model\\_logistic.py:818: ConvergenceWarning: lbfgs failed to converge (status=1):\n",
      "STOP: TOTAL NO. of ITERATIONS REACHED LIMIT.\n",
      "\n",
      "Increase the number of iterations (max_iter) or scale the data as shown in:\n",
      "    https://scikit-learn.org/stable/modules/preprocessing.html\n",
      "Please also refer to the documentation for alternative solver options:\n",
      "    https://scikit-learn.org/stable/modules/linear_model.html#logistic-regression\n",
      "  extra_warning_msg=_LOGISTIC_SOLVER_CONVERGENCE_MSG,\n",
      "5it [00:27,  5.60s/it]\n"
     ]
    },
    {
     "data": {
      "image/png": "[encoded data removed]",
      "text/plain": [
       "<Figure size 1008x720 with 1 Axes>"
      ]
     },
     "metadata": {
      "needs_background": "light"
     },
     "output_type": "display_data"
    },
    {
     "data": {
      "text/html": [
       "<div>\n",
       "<style scoped>\n",
       "    .dataframe tbody tr th:only-of-type {\n",
       "        vertical-align: middle;\n",
       "    }\n",
       "\n",
       "    .dataframe tbody tr th {\n",
       "        vertical-align: top;\n",
       "    }\n",
       "\n",
       "    .dataframe thead th {\n",
       "        text-align: right;\n",
       "    }\n",
       "</style>\n",
       "<table border=\"1\" class=\"dataframe\">\n",
       "  <thead>\n",
       "    <tr style=\"text-align: right;\">\n",
       "      <th></th>\n",
       "      <th>AUC Train</th>\n",
       "      <th>AUC Test</th>\n",
       "    </tr>\n",
       "  </thead>\n",
       "  <tbody>\n",
       "    <tr>\n",
       "      <th>0</th>\n",
       "      <td>0.961592</td>\n",
       "      <td>0.960967</td>\n",
       "    </tr>\n",
       "    <tr>\n",
       "      <th>1</th>\n",
       "      <td>0.962107</td>\n",
       "      <td>0.962624</td>\n",
       "    </tr>\n",
       "    <tr>\n",
       "      <th>2</th>\n",
       "      <td>0.966723</td>\n",
       "      <td>0.966008</td>\n",
       "    </tr>\n",
       "    <tr>\n",
       "      <th>3</th>\n",
       "      <td>0.963915</td>\n",
       "      <td>0.962862</td>\n",
       "    </tr>\n",
       "    <tr>\n",
       "      <th>4</th>\n",
       "      <td>0.962387</td>\n",
       "      <td>0.962180</td>\n",
       "    </tr>\n",
       "  </tbody>\n",
       "</table>\n",
       "</div>"
      ],
      "text/plain": [
       "   AUC Train  AUC Test\n",
       "0   0.961592  0.960967\n",
       "1   0.962107  0.962624\n",
       "2   0.966723  0.966008\n",
       "3   0.963915  0.962862\n",
       "4   0.962387  0.962180"
      ]
     },
     "execution_count": 33,
     "metadata": {},
     "output_type": "execute_result"
    }
   ],
   "source": [
    "for (train, test), i in tqdm(zip(cv.split(X, y), range(5))):\n",
    "    clf.fit(X.iloc[train], y.iloc[train])\n",
    "    _, _, auc_score_train = compute_roc_auc(train)\n",
    "    fpr, tpr, auc_score = compute_roc_auc(test)\n",
    "    scores.append((auc_score_train, auc_score))\n",
    "    fprs.append(fpr)\n",
    "    tprs.append(tpr)\n",
    "\n",
    "plot_roc_curve(fprs, tprs)\n",
    "pd.DataFrame(scores, columns=['AUC Train', 'AUC Test'])"
   ]
  },
  {
   "cell_type": "code",
   "execution_count": 34,
   "id": "eb3446c8",
   "metadata": {},
   "outputs": [
    {
     "data": {
      "text/plain": [
       "['savelog1.pkl']"
      ]
     },
     "execution_count": 34,
     "metadata": {},
     "output_type": "execute_result"
    }
   ],
   "source": [
    "import joblib\n",
    "joblib.dump(clf, 'savelog1.pkl')"
   ]
  },
  {
   "cell_type": "code",
   "execution_count": 35,
   "id": "a254651d",
   "metadata": {},
   "outputs": [
    {
     "data": {
      "text/plain": [
       "array([[0.39157967, 0.60842033],\n",
       "       [0.33204533, 0.66795467],\n",
       "       [0.326702  , 0.673298  ],\n",
       "       ...,\n",
       "       [0.08019541, 0.91980459],\n",
       "       [0.07574098, 0.92425902],\n",
       "       [0.06970471, 0.93029529]])"
      ]
     },
     "execution_count": 35,
     "metadata": {},
     "output_type": "execute_result"
    }
   ],
   "source": [
    "load = joblib.load('./savelog1.pkl')\n",
    "load.predict_proba(X_test)"
   ]
  },
  {
   "cell_type": "code",
   "execution_count": 36,
   "id": "1e22481a",
   "metadata": {},
   "outputs": [
    {
     "data": {
      "text/plain": [
       "'1.0.2'"
      ]
     },
     "execution_count": 36,
     "metadata": {},
     "output_type": "execute_result"
    }
   ],
   "source": [
    "import sklearn\n",
    "sklearn.__version__"
   ]
  },
  {
   "cell_type": "code",
   "execution_count": 37,
   "id": "ec3abd66",
   "metadata": {},
   "outputs": [
    {
     "data": {
      "text/plain": [
       "array([1., 1., 1., ..., 1., 1., 1.])"
      ]
     },
     "execution_count": 37,
     "metadata": {},
     "output_type": "execute_result"
    }
   ],
   "source": [
    "load.predict(X_test)"
   ]
  },
  {
   "cell_type": "code",
   "execution_count": 38,
   "id": "4358f65b",
   "metadata": {},
   "outputs": [
    {
     "name": "stdout",
     "output_type": "stream",
     "text": [
      "(11112,)\n",
      "정확도 : 0.8604\n"
     ]
    }
   ],
   "source": [
    "from sklearn.metrics import accuracy_score\n",
    "mypredictions = clf.predict(X_test)\n",
    "print(mypredictions.shape)\n",
    "print('정확도 : {0:.4f}'.format(accuracy_score(y_test, mypredictions)))"
   ]
  },
  {
   "cell_type": "markdown",
   "id": "f12565fe",
   "metadata": {},
   "source": [
    "## 낙상 유형별 테스트 검증"
   ]
  },
  {
   "cell_type": "code",
   "execution_count": 39,
   "id": "e9aa5395",
   "metadata": {},
   "outputs": [
    {
     "name": "stdout",
     "output_type": "stream",
     "text": [
      "G11dataF1_X_test,G11dataF1_y_test = G11data1_test.drop(['label'],axis=1),G11data1_test['label']\n",
      "G11dataF2_X_test,G11dataF2_y_test = G11data2_test.drop(['label'],axis=1),G11data2_test['label']\n",
      "G11dataF3_X_test,G11dataF3_y_test = G11data3_test.drop(['label'],axis=1),G11data3_test['label']\n",
      "G11dataF4_X_test,G11dataF4_y_test = G11data4_test.drop(['label'],axis=1),G11data4_test['label']\n",
      "G11dataF5_X_test,G11dataF5_y_test = G11data5_test.drop(['label'],axis=1),G11data5_test['label']\n",
      "G11dataF6_X_test,G11dataF6_y_test = G11data6_test.drop(['label'],axis=1),G11data6_test['label']\n",
      "G11dataF7_X_test,G11dataF7_y_test = G11data7_test.drop(['label'],axis=1),G11data7_test['label']\n",
      "G11dataF8_X_test,G11dataF8_y_test = G11data8_test.drop(['label'],axis=1),G11data8_test['label']\n",
      "G11dataF9_X_test,G11dataF9_y_test = G11data9_test.drop(['label'],axis=1),G11data9_test['label']\n",
      "G11dataF10_X_test,G11dataF10_y_test = G11data10_test.drop(['label'],axis=1),G11data10_test['label']\n",
      "G11dataF11_X_test,G11dataF11_y_test = G11data11_test.drop(['label'],axis=1),G11data11_test['label']\n",
      "G11dataF12_X_test,G11dataF12_y_test = G11data12_test.drop(['label'],axis=1),G11data12_test['label']\n",
      "G11dataF13_X_test,G11dataF13_y_test = G11data13_test.drop(['label'],axis=1),G11data13_test['label']\n",
      "G11dataF14_X_test,G11dataF14_y_test = G11data14_test.drop(['label'],axis=1),G11data14_test['label']\n",
      "G11dataF15_X_test,G11dataF15_y_test = G11data15_test.drop(['label'],axis=1),G11data15_test['label']\n",
      "G12dataF1_X_test,G12dataF1_y_test = G12data1_test.drop(['label'],axis=1),G12data1_test['label']\n",
      "G12dataF2_X_test,G12dataF2_y_test = G12data2_test.drop(['label'],axis=1),G12data2_test['label']\n",
      "G12dataF3_X_test,G12dataF3_y_test = G12data3_test.drop(['label'],axis=1),G12data3_test['label']\n",
      "G12dataF4_X_test,G12dataF4_y_test = G12data4_test.drop(['label'],axis=1),G12data4_test['label']\n",
      "G12dataF5_X_test,G12dataF5_y_test = G12data5_test.drop(['label'],axis=1),G12data5_test['label']\n",
      "G12dataF6_X_test,G12dataF6_y_test = G12data6_test.drop(['label'],axis=1),G12data6_test['label']\n",
      "G12dataF7_X_test,G12dataF7_y_test = G12data7_test.drop(['label'],axis=1),G12data7_test['label']\n",
      "G12dataF8_X_test,G12dataF8_y_test = G12data8_test.drop(['label'],axis=1),G12data8_test['label']\n",
      "G12dataF9_X_test,G12dataF9_y_test = G12data9_test.drop(['label'],axis=1),G12data9_test['label']\n",
      "G12dataF10_X_test,G12dataF10_y_test = G12data10_test.drop(['label'],axis=1),G12data10_test['label']\n",
      "G12dataF11_X_test,G12dataF11_y_test = G12data11_test.drop(['label'],axis=1),G12data11_test['label']\n",
      "G12dataF12_X_test,G12dataF12_y_test = G12data12_test.drop(['label'],axis=1),G12data12_test['label']\n",
      "G12dataF13_X_test,G12dataF13_y_test = G12data13_test.drop(['label'],axis=1),G12data13_test['label']\n",
      "G12dataF14_X_test,G12dataF14_y_test = G12data14_test.drop(['label'],axis=1),G12data14_test['label']\n",
      "G12dataF15_X_test,G12dataF15_y_test = G12data15_test.drop(['label'],axis=1),G12data15_test['label']\n",
      "G13dataF1_X_test,G13dataF1_y_test = G13data1_test.drop(['label'],axis=1),G13data1_test['label']\n",
      "G13dataF2_X_test,G13dataF2_y_test = G13data2_test.drop(['label'],axis=1),G13data2_test['label']\n",
      "G13dataF3_X_test,G13dataF3_y_test = G13data3_test.drop(['label'],axis=1),G13data3_test['label']\n",
      "G13dataF4_X_test,G13dataF4_y_test = G13data4_test.drop(['label'],axis=1),G13data4_test['label']\n",
      "G13dataF5_X_test,G13dataF5_y_test = G13data5_test.drop(['label'],axis=1),G13data5_test['label']\n",
      "G13dataF6_X_test,G13dataF6_y_test = G13data6_test.drop(['label'],axis=1),G13data6_test['label']\n",
      "G13dataF7_X_test,G13dataF7_y_test = G13data7_test.drop(['label'],axis=1),G13data7_test['label']\n",
      "G13dataF8_X_test,G13dataF8_y_test = G13data8_test.drop(['label'],axis=1),G13data8_test['label']\n",
      "G13dataF9_X_test,G13dataF9_y_test = G13data9_test.drop(['label'],axis=1),G13data9_test['label']\n",
      "G13dataF10_X_test,G13dataF10_y_test = G13data10_test.drop(['label'],axis=1),G13data10_test['label']\n",
      "G13dataF11_X_test,G13dataF11_y_test = G13data11_test.drop(['label'],axis=1),G13data11_test['label']\n",
      "G13dataF12_X_test,G13dataF12_y_test = G13data12_test.drop(['label'],axis=1),G13data12_test['label']\n",
      "G13dataF13_X_test,G13dataF13_y_test = G13data13_test.drop(['label'],axis=1),G13data13_test['label']\n",
      "G13dataF14_X_test,G13dataF14_y_test = G13data14_test.drop(['label'],axis=1),G13data14_test['label']\n",
      "G13dataF15_X_test,G13dataF15_y_test = G13data15_test.drop(['label'],axis=1),G13data15_test['label']\n",
      "G21dataF1_X_test,G21dataF1_y_test = G21data1_test.drop(['label'],axis=1),G21data1_test['label']\n",
      "G21dataF2_X_test,G21dataF2_y_test = G21data2_test.drop(['label'],axis=1),G21data2_test['label']\n",
      "G21dataF3_X_test,G21dataF3_y_test = G21data3_test.drop(['label'],axis=1),G21data3_test['label']\n",
      "G21dataF4_X_test,G21dataF4_y_test = G21data4_test.drop(['label'],axis=1),G21data4_test['label']\n",
      "G21dataF5_X_test,G21dataF5_y_test = G21data5_test.drop(['label'],axis=1),G21data5_test['label']\n",
      "G21dataF6_X_test,G21dataF6_y_test = G21data6_test.drop(['label'],axis=1),G21data6_test['label']\n",
      "G21dataF7_X_test,G21dataF7_y_test = G21data7_test.drop(['label'],axis=1),G21data7_test['label']\n",
      "G21dataF8_X_test,G21dataF8_y_test = G21data8_test.drop(['label'],axis=1),G21data8_test['label']\n",
      "G21dataF9_X_test,G21dataF9_y_test = G21data9_test.drop(['label'],axis=1),G21data9_test['label']\n",
      "G21dataF10_X_test,G21dataF10_y_test = G21data10_test.drop(['label'],axis=1),G21data10_test['label']\n",
      "G21dataF11_X_test,G21dataF11_y_test = G21data11_test.drop(['label'],axis=1),G21data11_test['label']\n",
      "G21dataF12_X_test,G21dataF12_y_test = G21data12_test.drop(['label'],axis=1),G21data12_test['label']\n",
      "G21dataF13_X_test,G21dataF13_y_test = G21data13_test.drop(['label'],axis=1),G21data13_test['label']\n",
      "G21dataF14_X_test,G21dataF14_y_test = G21data14_test.drop(['label'],axis=1),G21data14_test['label']\n",
      "G21dataF15_X_test,G21dataF15_y_test = G21data15_test.drop(['label'],axis=1),G21data15_test['label']\n",
      "G22dataF1_X_test,G22dataF1_y_test = G22data1_test.drop(['label'],axis=1),G22data1_test['label']\n",
      "G22dataF2_X_test,G22dataF2_y_test = G22data2_test.drop(['label'],axis=1),G22data2_test['label']\n",
      "G22dataF3_X_test,G22dataF3_y_test = G22data3_test.drop(['label'],axis=1),G22data3_test['label']\n",
      "G22dataF4_X_test,G22dataF4_y_test = G22data4_test.drop(['label'],axis=1),G22data4_test['label']\n",
      "G22dataF5_X_test,G22dataF5_y_test = G22data5_test.drop(['label'],axis=1),G22data5_test['label']\n",
      "G22dataF6_X_test,G22dataF6_y_test = G22data6_test.drop(['label'],axis=1),G22data6_test['label']\n",
      "G22dataF7_X_test,G22dataF7_y_test = G22data7_test.drop(['label'],axis=1),G22data7_test['label']\n",
      "G22dataF8_X_test,G22dataF8_y_test = G22data8_test.drop(['label'],axis=1),G22data8_test['label']\n",
      "G22dataF9_X_test,G22dataF9_y_test = G22data9_test.drop(['label'],axis=1),G22data9_test['label']\n",
      "G22dataF10_X_test,G22dataF10_y_test = G22data10_test.drop(['label'],axis=1),G22data10_test['label']\n",
      "G22dataF11_X_test,G22dataF11_y_test = G22data11_test.drop(['label'],axis=1),G22data11_test['label']\n",
      "G22dataF12_X_test,G22dataF12_y_test = G22data12_test.drop(['label'],axis=1),G22data12_test['label']\n",
      "G22dataF13_X_test,G22dataF13_y_test = G22data13_test.drop(['label'],axis=1),G22data13_test['label']\n",
      "G22dataF14_X_test,G22dataF14_y_test = G22data14_test.drop(['label'],axis=1),G22data14_test['label']\n",
      "G22dataF15_X_test,G22dataF15_y_test = G22data15_test.drop(['label'],axis=1),G22data15_test['label']\n",
      "G23dataF1_X_test,G23dataF1_y_test = G23data1_test.drop(['label'],axis=1),G23data1_test['label']\n",
      "G23dataF2_X_test,G23dataF2_y_test = G23data2_test.drop(['label'],axis=1),G23data2_test['label']\n",
      "G23dataF3_X_test,G23dataF3_y_test = G23data3_test.drop(['label'],axis=1),G23data3_test['label']\n",
      "G23dataF4_X_test,G23dataF4_y_test = G23data4_test.drop(['label'],axis=1),G23data4_test['label']\n",
      "G23dataF5_X_test,G23dataF5_y_test = G23data5_test.drop(['label'],axis=1),G23data5_test['label']\n",
      "G23dataF6_X_test,G23dataF6_y_test = G23data6_test.drop(['label'],axis=1),G23data6_test['label']\n",
      "G23dataF7_X_test,G23dataF7_y_test = G23data7_test.drop(['label'],axis=1),G23data7_test['label']\n",
      "G23dataF8_X_test,G23dataF8_y_test = G23data8_test.drop(['label'],axis=1),G23data8_test['label']\n",
      "G23dataF9_X_test,G23dataF9_y_test = G23data9_test.drop(['label'],axis=1),G23data9_test['label']\n",
      "G23dataF10_X_test,G23dataF10_y_test = G23data10_test.drop(['label'],axis=1),G23data10_test['label']\n",
      "G23dataF11_X_test,G23dataF11_y_test = G23data11_test.drop(['label'],axis=1),G23data11_test['label']\n",
      "G23dataF12_X_test,G23dataF12_y_test = G23data12_test.drop(['label'],axis=1),G23data12_test['label']\n",
      "G23dataF13_X_test,G23dataF13_y_test = G23data13_test.drop(['label'],axis=1),G23data13_test['label']\n",
      "G23dataF14_X_test,G23dataF14_y_test = G23data14_test.drop(['label'],axis=1),G23data14_test['label']\n",
      "G23dataF15_X_test,G23dataF15_y_test = G23data15_test.drop(['label'],axis=1),G23data15_test['label']\n"
     ]
    }
   ],
   "source": [
    "for i in range(1,3):\n",
    "    for j in range(1,4):\n",
    "        for z in range(1, 16):\n",
    "            print('G' + str(i) + str(j) + 'dataF' + str(z)+'_X_test'+ ','+ 'G' + str(i)+str(j) + 'dataF' + str(z) + '_y_test'+ ' = '+ 'G' + str(i) + str(j) + 'data' + str(z) + '_test'+'.drop(['+'\\''+'label'+'\\''+'],axis=1),'  +'G' + str(i) + str(j) + 'data' + str(z) + '_test'+'['+'\\''+'label'+'\\''+']') \n",
    "\n",
    "            \n"
   ]
  },
  {
   "cell_type": "code",
   "execution_count": 40,
   "id": "946caf65",
   "metadata": {},
   "outputs": [],
   "source": [
    "G11dataF1_X_test,G11dataF1_y_test = G11data1_test.drop(['label'],axis=1),G11data1_test['label']\n",
    "G11dataF2_X_test,G11dataF2_y_test = G11data2_test.drop(['label'],axis=1),G11data2_test['label']\n",
    "G11dataF3_X_test,G11dataF3_y_test = G11data3_test.drop(['label'],axis=1),G11data3_test['label']\n",
    "G11dataF4_X_test,G11dataF4_y_test = G11data4_test.drop(['label'],axis=1),G11data4_test['label']\n",
    "G11dataF5_X_test,G11dataF5_y_test = G11data5_test.drop(['label'],axis=1),G11data5_test['label']\n",
    "G11dataF6_X_test,G11dataF6_y_test = G11data6_test.drop(['label'],axis=1),G11data6_test['label']\n",
    "G11dataF7_X_test,G11dataF7_y_test = G11data7_test.drop(['label'],axis=1),G11data7_test['label']\n",
    "G11dataF8_X_test,G11dataF8_y_test = G11data8_test.drop(['label'],axis=1),G11data8_test['label']\n",
    "G11dataF9_X_test,G11dataF9_y_test = G11data9_test.drop(['label'],axis=1),G11data9_test['label']\n",
    "G11dataF10_X_test,G11dataF10_y_test = G11data10_test.drop(['label'],axis=1),G11data10_test['label']\n",
    "G11dataF11_X_test,G11dataF11_y_test = G11data11_test.drop(['label'],axis=1),G11data11_test['label']\n",
    "G11dataF12_X_test,G11dataF12_y_test = G11data12_test.drop(['label'],axis=1),G11data12_test['label']\n",
    "G11dataF13_X_test,G11dataF13_y_test = G11data13_test.drop(['label'],axis=1),G11data13_test['label']\n",
    "G11dataF14_X_test,G11dataF14_y_test = G11data14_test.drop(['label'],axis=1),G11data14_test['label']\n",
    "G11dataF15_X_test,G11dataF15_y_test = G11data15_test.drop(['label'],axis=1),G11data15_test['label']\n",
    "G12dataF1_X_test,G12dataF1_y_test = G12data1_test.drop(['label'],axis=1),G12data1_test['label']\n",
    "G12dataF2_X_test,G12dataF2_y_test = G12data2_test.drop(['label'],axis=1),G12data2_test['label']\n",
    "G12dataF3_X_test,G12dataF3_y_test = G12data3_test.drop(['label'],axis=1),G12data3_test['label']\n",
    "G12dataF4_X_test,G12dataF4_y_test = G12data4_test.drop(['label'],axis=1),G12data4_test['label']\n",
    "G12dataF5_X_test,G12dataF5_y_test = G12data5_test.drop(['label'],axis=1),G12data5_test['label']\n",
    "G12dataF6_X_test,G12dataF6_y_test = G12data6_test.drop(['label'],axis=1),G12data6_test['label']\n",
    "G12dataF7_X_test,G12dataF7_y_test = G12data7_test.drop(['label'],axis=1),G12data7_test['label']\n",
    "G12dataF8_X_test,G12dataF8_y_test = G12data8_test.drop(['label'],axis=1),G12data8_test['label']\n",
    "G12dataF9_X_test,G12dataF9_y_test = G12data9_test.drop(['label'],axis=1),G12data9_test['label']\n",
    "G12dataF10_X_test,G12dataF10_y_test = G12data10_test.drop(['label'],axis=1),G12data10_test['label']\n",
    "G12dataF11_X_test,G12dataF11_y_test = G12data11_test.drop(['label'],axis=1),G12data11_test['label']\n",
    "G12dataF12_X_test,G12dataF12_y_test = G12data12_test.drop(['label'],axis=1),G12data12_test['label']\n",
    "G12dataF13_X_test,G12dataF13_y_test = G12data13_test.drop(['label'],axis=1),G12data13_test['label']\n",
    "G12dataF14_X_test,G12dataF14_y_test = G12data14_test.drop(['label'],axis=1),G12data14_test['label']\n",
    "G12dataF15_X_test,G12dataF15_y_test = G12data15_test.drop(['label'],axis=1),G12data15_test['label']\n",
    "G13dataF1_X_test,G13dataF1_y_test = G13data1_test.drop(['label'],axis=1),G13data1_test['label']\n",
    "G13dataF2_X_test,G13dataF2_y_test = G13data2_test.drop(['label'],axis=1),G13data2_test['label']\n",
    "G13dataF3_X_test,G13dataF3_y_test = G13data3_test.drop(['label'],axis=1),G13data3_test['label']\n",
    "G13dataF4_X_test,G13dataF4_y_test = G13data4_test.drop(['label'],axis=1),G13data4_test['label']\n",
    "G13dataF5_X_test,G13dataF5_y_test = G13data5_test.drop(['label'],axis=1),G13data5_test['label']\n",
    "G13dataF6_X_test,G13dataF6_y_test = G13data6_test.drop(['label'],axis=1),G13data6_test['label']\n",
    "G13dataF7_X_test,G13dataF7_y_test = G13data7_test.drop(['label'],axis=1),G13data7_test['label']\n",
    "G13dataF8_X_test,G13dataF8_y_test = G13data8_test.drop(['label'],axis=1),G13data8_test['label']\n",
    "G13dataF9_X_test,G13dataF9_y_test = G13data9_test.drop(['label'],axis=1),G13data9_test['label']\n",
    "G13dataF10_X_test,G13dataF10_y_test = G13data10_test.drop(['label'],axis=1),G13data10_test['label']\n",
    "G13dataF11_X_test,G13dataF11_y_test = G13data11_test.drop(['label'],axis=1),G13data11_test['label']\n",
    "G13dataF12_X_test,G13dataF12_y_test = G13data12_test.drop(['label'],axis=1),G13data12_test['label']\n",
    "G13dataF13_X_test,G13dataF13_y_test = G13data13_test.drop(['label'],axis=1),G13data13_test['label']\n",
    "G13dataF14_X_test,G13dataF14_y_test = G13data14_test.drop(['label'],axis=1),G13data14_test['label']\n",
    "G13dataF15_X_test,G13dataF15_y_test = G13data15_test.drop(['label'],axis=1),G13data15_test['label']\n",
    "G21dataF1_X_test,G21dataF1_y_test = G21data1_test.drop(['label'],axis=1),G21data1_test['label']\n",
    "G21dataF2_X_test,G21dataF2_y_test = G21data2_test.drop(['label'],axis=1),G21data2_test['label']\n",
    "G21dataF3_X_test,G21dataF3_y_test = G21data3_test.drop(['label'],axis=1),G21data3_test['label']\n",
    "G21dataF4_X_test,G21dataF4_y_test = G21data4_test.drop(['label'],axis=1),G21data4_test['label']\n",
    "G21dataF5_X_test,G21dataF5_y_test = G21data5_test.drop(['label'],axis=1),G21data5_test['label']\n",
    "G21dataF6_X_test,G21dataF6_y_test = G21data6_test.drop(['label'],axis=1),G21data6_test['label']\n",
    "G21dataF7_X_test,G21dataF7_y_test = G21data7_test.drop(['label'],axis=1),G21data7_test['label']\n",
    "G21dataF8_X_test,G21dataF8_y_test = G21data8_test.drop(['label'],axis=1),G21data8_test['label']\n",
    "G21dataF9_X_test,G21dataF9_y_test = G21data9_test.drop(['label'],axis=1),G21data9_test['label']\n",
    "G21dataF10_X_test,G21dataF10_y_test = G21data10_test.drop(['label'],axis=1),G21data10_test['label']\n",
    "G21dataF11_X_test,G21dataF11_y_test = G21data11_test.drop(['label'],axis=1),G21data11_test['label']\n",
    "G21dataF12_X_test,G21dataF12_y_test = G21data12_test.drop(['label'],axis=1),G21data12_test['label']\n",
    "G21dataF13_X_test,G21dataF13_y_test = G21data13_test.drop(['label'],axis=1),G21data13_test['label']\n",
    "G21dataF14_X_test,G21dataF14_y_test = G21data14_test.drop(['label'],axis=1),G21data14_test['label']\n",
    "G21dataF15_X_test,G21dataF15_y_test = G21data15_test.drop(['label'],axis=1),G21data15_test['label']\n",
    "G22dataF1_X_test,G22dataF1_y_test = G22data1_test.drop(['label'],axis=1),G22data1_test['label']\n",
    "G22dataF2_X_test,G22dataF2_y_test = G22data2_test.drop(['label'],axis=1),G22data2_test['label']\n",
    "G22dataF3_X_test,G22dataF3_y_test = G22data3_test.drop(['label'],axis=1),G22data3_test['label']\n",
    "G22dataF4_X_test,G22dataF4_y_test = G22data4_test.drop(['label'],axis=1),G22data4_test['label']\n",
    "G22dataF5_X_test,G22dataF5_y_test = G22data5_test.drop(['label'],axis=1),G22data5_test['label']\n",
    "G22dataF6_X_test,G22dataF6_y_test = G22data6_test.drop(['label'],axis=1),G22data6_test['label']\n",
    "G22dataF7_X_test,G22dataF7_y_test = G22data7_test.drop(['label'],axis=1),G22data7_test['label']\n",
    "G22dataF8_X_test,G22dataF8_y_test = G22data8_test.drop(['label'],axis=1),G22data8_test['label']\n",
    "G22dataF9_X_test,G22dataF9_y_test = G22data9_test.drop(['label'],axis=1),G22data9_test['label']\n",
    "G22dataF10_X_test,G22dataF10_y_test = G22data10_test.drop(['label'],axis=1),G22data10_test['label']\n",
    "G22dataF11_X_test,G22dataF11_y_test = G22data11_test.drop(['label'],axis=1),G22data11_test['label']\n",
    "G22dataF12_X_test,G22dataF12_y_test = G22data12_test.drop(['label'],axis=1),G22data12_test['label']\n",
    "G22dataF13_X_test,G22dataF13_y_test = G22data13_test.drop(['label'],axis=1),G22data13_test['label']\n",
    "G22dataF14_X_test,G22dataF14_y_test = G22data14_test.drop(['label'],axis=1),G22data14_test['label']\n",
    "G22dataF15_X_test,G22dataF15_y_test = G22data15_test.drop(['label'],axis=1),G22data15_test['label']\n",
    "G23dataF1_X_test,G23dataF1_y_test = G23data1_test.drop(['label'],axis=1),G23data1_test['label']\n",
    "G23dataF2_X_test,G23dataF2_y_test = G23data2_test.drop(['label'],axis=1),G23data2_test['label']\n",
    "G23dataF3_X_test,G23dataF3_y_test = G23data3_test.drop(['label'],axis=1),G23data3_test['label']\n",
    "G23dataF4_X_test,G23dataF4_y_test = G23data4_test.drop(['label'],axis=1),G23data4_test['label']\n",
    "G23dataF5_X_test,G23dataF5_y_test = G23data5_test.drop(['label'],axis=1),G23data5_test['label']\n",
    "G23dataF6_X_test,G23dataF6_y_test = G23data6_test.drop(['label'],axis=1),G23data6_test['label']\n",
    "G23dataF7_X_test,G23dataF7_y_test = G23data7_test.drop(['label'],axis=1),G23data7_test['label']\n",
    "G23dataF8_X_test,G23dataF8_y_test = G23data8_test.drop(['label'],axis=1),G23data8_test['label']\n",
    "G23dataF9_X_test,G23dataF9_y_test = G23data9_test.drop(['label'],axis=1),G23data9_test['label']\n",
    "G23dataF10_X_test,G23dataF10_y_test = G23data10_test.drop(['label'],axis=1),G23data10_test['label']\n",
    "G23dataF11_X_test,G23dataF11_y_test = G23data11_test.drop(['label'],axis=1),G23data11_test['label']\n",
    "G23dataF12_X_test,G23dataF12_y_test = G23data12_test.drop(['label'],axis=1),G23data12_test['label']\n",
    "G23dataF13_X_test,G23dataF13_y_test = G23data13_test.drop(['label'],axis=1),G23data13_test['label']\n",
    "G23dataF14_X_test,G23dataF14_y_test = G23data14_test.drop(['label'],axis=1),G23data14_test['label']\n",
    "G23dataF15_X_test,G23dataF15_y_test = G23data15_test.drop(['label'],axis=1),G23data15_test['label']"
   ]
  },
  {
   "cell_type": "code",
   "execution_count": 41,
   "id": "93760bcd",
   "metadata": {},
   "outputs": [
    {
     "data": {
      "text/plain": [
       "0.0    42\n",
       "1.0    28\n",
       "Name: label, dtype: int64"
      ]
     },
     "execution_count": 41,
     "metadata": {},
     "output_type": "execute_result"
    }
   ],
   "source": [
    "G22dataF10_y_test.value_counts()"
   ]
  },
  {
   "cell_type": "code",
   "execution_count": 42,
   "id": "71f52157",
   "metadata": {},
   "outputs": [
    {
     "data": {
      "text/plain": [
       "0.0    117\n",
       "1.0    109\n",
       "Name: label, dtype: int64"
      ]
     },
     "execution_count": 42,
     "metadata": {},
     "output_type": "execute_result"
    }
   ],
   "source": [
    "G11dataF12_y_test.value_counts()"
   ]
  },
  {
   "cell_type": "code",
   "execution_count": 43,
   "id": "4fb9e38b",
   "metadata": {},
   "outputs": [
    {
     "name": "stdout",
     "output_type": "stream",
     "text": [
      "[1. 1. 1. 1. 1. 1. 1. 1. 1. 1. 1. 1. 1. 1. 1. 1. 1. 1. 1. 1. 1. 1. 1. 1.\n",
      " 1. 1. 1. 1. 1. 1. 1. 1. 1. 1. 1. 1. 1. 1. 1. 1. 1. 1. 1. 1. 1. 1. 1. 1.\n",
      " 1. 1. 1. 1. 1. 1. 1. 1. 1. 1. 1. 1. 1. 1. 1. 1. 1. 1. 1. 1. 1. 1. 1. 1.\n",
      " 1. 1. 1. 1. 1. 1. 1. 0. 0. 0. 0. 0. 0. 0. 0. 0. 0. 0. 0. 0. 0. 0. 0. 0.\n",
      " 0. 0. 0. 0. 0. 0. 0. 0. 0. 0. 0. 0. 0. 0. 0. 0. 0. 0. 0. 0. 0. 0. 0. 0.]\n",
      "정확도 : 0.8417\n"
     ]
    }
   ],
   "source": [
    "from sklearn.metrics import accuracy_score\n",
    "G11dataF1predictions = clf.predict(G11dataF1_X_test)\n",
    "print(G11dataF1predictions)\n",
    "print('정확도 : {0:.4f}'.format(accuracy_score(G11dataF1_y_test, G11dataF1predictions)))"
   ]
  },
  {
   "cell_type": "code",
   "execution_count": 44,
   "id": "4296bf0c",
   "metadata": {},
   "outputs": [
    {
     "name": "stdout",
     "output_type": "stream",
     "text": [
      "정확도 : 0.9259\n"
     ]
    }
   ],
   "source": [
    "G11dataF5predictions=clf.predict(G11dataF5_X_test)\n",
    "print('정확도 : {0:.4f}'.format(accuracy_score(G11dataF5_y_test,G11dataF5predictions)))"
   ]
  },
  {
   "cell_type": "code",
   "execution_count": 45,
   "id": "cc4a79da",
   "metadata": {},
   "outputs": [
    {
     "name": "stdout",
     "output_type": "stream",
     "text": [
      "=================G11Result====================\n",
      "f1 정확도 : 0.8417\n",
      "f2 정확도 : 0.8264\n",
      "f3 정확도 : 0.9453\n",
      "f4 정확도 : 0.7712\n",
      "f5 정확도 : 0.9259\n",
      "f6 정확도 : 0.9954\n",
      "f7 정확도 : 0.8947\n",
      "f8 정확도 : 0.5769\n",
      "f9 정확도 : 0.9079\n",
      "f10 정확도 : 0.5461\n",
      "f11 정확도 : 0.6897\n",
      "f12 정확도 : 0.7212\n",
      "f13 정확도 : 0.9318\n",
      "f14 정확도 : 0.9740\n",
      "f15 정확도 : 0.5000\n",
      "=================G12Result====================\n",
      "f1 정확도 : 0.9760\n",
      "f2 정확도 : 0.9808\n",
      "f3 정확도 : 0.9833\n",
      "f4 정확도 : 0.9786\n",
      "f5 정확도 : 0.6522\n",
      "f6 정확도 : 0.9750\n",
      "f7 정확도 : 0.8958\n",
      "f8 정확도 : 0.9884\n",
      "f9 정확도 : 0.8929\n",
      "f10 정확도 : 0.9365\n",
      "f11 정확도 : 0.7849\n",
      "f12 정확도 : 0.9375\n",
      "f13 정확도 : 0.9570\n",
      "f14 정확도 : 0.9929\n",
      "f15 정확도 : 0.9867\n",
      "=================G13Result====================\n",
      "f1 정확도 : 0.9396\n",
      "f2 정확도 : 0.9219\n",
      "f3 정확도 : 0.8889\n",
      "f4 정확도 : 0.7800\n",
      "f5 정확도 : 0.8406\n",
      "f6 정확도 : 0.8413\n",
      "f7 정확도 : 0.8934\n",
      "f8 정확도 : 0.7596\n",
      "f9 정확도 : 0.7871\n",
      "f10 정확도 : 0.3812\n",
      "f11 정확도 : 0.8793\n",
      "f12 정확도 : 0.5147\n",
      "f13 정확도 : 0.8594\n",
      "f14 정확도 : 0.7474\n",
      "f15 정확도 : 0.8836\n",
      "=================G21Result====================\n",
      "f1 정확도 : 0.9878\n",
      "f2 정확도 : 0.8816\n",
      "f3 정확도 : 0.8824\n",
      "f4 정확도 : 0.9114\n",
      "f5 정확도 : 0.8971\n",
      "f6 정확도 : 0.9357\n",
      "f7 정확도 : 0.8652\n",
      "f8 정확도 : 0.9029\n",
      "f9 정확도 : 0.6914\n",
      "f10 정확도 : 0.5075\n",
      "f11 정확도 : 0.8623\n",
      "f12 정확도 : 1.0000\n",
      "f13 정확도 : 0.8043\n",
      "f14 정확도 : 0.7685\n",
      "f15 정확도 : 0.8605\n",
      "=================G22Result====================\n",
      "f1 정확도 : 0.9333\n",
      "f2 정확도 : 0.9608\n",
      "f3 정확도 : 0.9070\n",
      "f4 정확도 : 0.7719\n",
      "f5 정확도 : 0.8966\n",
      "f6 정확도 : 0.7419\n",
      "f7 정확도 : 0.7931\n",
      "f8 정확도 : 0.9762\n",
      "f9 정확도 : 1.0000\n",
      "f10 정확도 : 0.9429\n",
      "f11 정확도 : 0.6339\n",
      "f12 정확도 : 0.9318\n",
      "f13 정확도 : 1.0000\n",
      "f14 정확도 : 0.9767\n",
      "f15 정확도 : 0.7234\n",
      "=================G23Result====================\n",
      "f1 정확도 : 0.9733\n",
      "f2 정확도 : 0.7551\n",
      "f3 정확도 : 0.9032\n",
      "f4 정확도 : 0.9762\n",
      "f5 정확도 : 0.5000\n",
      "f6 정확도 : 0.8909\n",
      "f7 정확도 : 0.9900\n",
      "f8 정확도 : 1.0000\n",
      "f9 정확도 : 0.9667\n",
      "f10 정확도 : 0.9727\n",
      "f11 정확도 : 1.0000\n",
      "f12 정확도 : 0.9818\n",
      "f13 정확도 : 0.9455\n",
      "f14 정확도 : 0.9923\n",
      "f15 정확도 : 0.9545\n"
     ]
    }
   ],
   "source": [
    "print('=================G11Result====================')\n",
    "G11dataF1predictions=clf.predict(G11dataF1_X_test)\n",
    "print('f1 정확도 : {0:.4f}'.format(accuracy_score(G11dataF1_y_test,G11dataF1predictions)))\n",
    "G11dataF2predictions=clf.predict(G11dataF2_X_test)\n",
    "print('f2 정확도 : {0:.4f}'.format(accuracy_score(G11dataF2_y_test,G11dataF2predictions)))\n",
    "G11dataF3predictions=clf.predict(G11dataF3_X_test)\n",
    "print('f3 정확도 : {0:.4f}'.format(accuracy_score(G11dataF3_y_test,G11dataF3predictions)))\n",
    "G11dataF4predictions=clf.predict(G11dataF4_X_test)\n",
    "print('f4 정확도 : {0:.4f}'.format(accuracy_score(G11dataF4_y_test,G11dataF4predictions)))\n",
    "G11dataF5predictions=clf.predict(G11dataF5_X_test)\n",
    "print('f5 정확도 : {0:.4f}'.format(accuracy_score(G11dataF5_y_test,G11dataF5predictions)))\n",
    "G11dataF6predictions=clf.predict(G11dataF6_X_test)\n",
    "print('f6 정확도 : {0:.4f}'.format(accuracy_score(G11dataF6_y_test,G11dataF6predictions)))\n",
    "G11dataF7predictions=clf.predict(G11dataF7_X_test)\n",
    "print('f7 정확도 : {0:.4f}'.format(accuracy_score(G11dataF7_y_test,G11dataF7predictions)))\n",
    "G11dataF8predictions=clf.predict(G11dataF8_X_test)\n",
    "print('f8 정확도 : {0:.4f}'.format(accuracy_score(G11dataF8_y_test,G11dataF8predictions)))\n",
    "G11dataF9predictions=clf.predict(G11dataF9_X_test)\n",
    "print('f9 정확도 : {0:.4f}'.format(accuracy_score(G11dataF9_y_test,G11dataF9predictions)))\n",
    "G11dataF10predictions=clf.predict(G11dataF10_X_test)\n",
    "print('f10 정확도 : {0:.4f}'.format(accuracy_score(G11dataF10_y_test,G11dataF10predictions)))\n",
    "G11dataF11predictions=clf.predict(G11dataF11_X_test)\n",
    "print('f11 정확도 : {0:.4f}'.format(accuracy_score(G11dataF11_y_test,G11dataF11predictions)))\n",
    "G11dataF12predictions=clf.predict(G11dataF12_X_test)\n",
    "print('f12 정확도 : {0:.4f}'.format(accuracy_score(G11dataF12_y_test,G11dataF12predictions)))\n",
    "G11dataF13predictions=clf.predict(G11dataF13_X_test)\n",
    "print('f13 정확도 : {0:.4f}'.format(accuracy_score(G11dataF13_y_test,G11dataF13predictions)))\n",
    "G11dataF14predictions=clf.predict(G11dataF14_X_test)\n",
    "print('f14 정확도 : {0:.4f}'.format(accuracy_score(G11dataF14_y_test,G11dataF14predictions)))\n",
    "G11dataF15predictions=clf.predict(G11dataF15_X_test)\n",
    "print('f15 정확도 : {0:.4f}'.format(accuracy_score(G11dataF15_y_test,G11dataF15predictions)))\n",
    "print('=================G12Result====================')\n",
    "G12dataF1predictions=clf.predict(G12dataF1_X_test)\n",
    "print('f1 정확도 : {0:.4f}'.format(accuracy_score(G12dataF1_y_test,G12dataF1predictions)))\n",
    "G12dataF2predictions=clf.predict(G12dataF2_X_test)\n",
    "print('f2 정확도 : {0:.4f}'.format(accuracy_score(G12dataF2_y_test,G12dataF2predictions)))\n",
    "G12dataF3predictions=clf.predict(G12dataF3_X_test)\n",
    "print('f3 정확도 : {0:.4f}'.format(accuracy_score(G12dataF3_y_test,G12dataF3predictions)))\n",
    "G12dataF4predictions=clf.predict(G12dataF4_X_test)\n",
    "print('f4 정확도 : {0:.4f}'.format(accuracy_score(G12dataF4_y_test,G12dataF4predictions)))\n",
    "G12dataF5predictions=clf.predict(G12dataF5_X_test)\n",
    "print('f5 정확도 : {0:.4f}'.format(accuracy_score(G12dataF5_y_test,G12dataF5predictions)))\n",
    "G12dataF6predictions=clf.predict(G12dataF6_X_test)\n",
    "print('f6 정확도 : {0:.4f}'.format(accuracy_score(G12dataF6_y_test,G12dataF6predictions)))\n",
    "G12dataF7predictions=clf.predict(G12dataF7_X_test)\n",
    "print('f7 정확도 : {0:.4f}'.format(accuracy_score(G12dataF7_y_test,G12dataF7predictions)))\n",
    "G12dataF8predictions=clf.predict(G12dataF8_X_test)\n",
    "print('f8 정확도 : {0:.4f}'.format(accuracy_score(G12dataF8_y_test,G12dataF8predictions)))\n",
    "G12dataF9predictions=clf.predict(G12dataF9_X_test)\n",
    "print('f9 정확도 : {0:.4f}'.format(accuracy_score(G12dataF9_y_test,G12dataF9predictions)))\n",
    "G12dataF10predictions=clf.predict(G12dataF10_X_test)\n",
    "print('f10 정확도 : {0:.4f}'.format(accuracy_score(G12dataF10_y_test,G12dataF10predictions)))\n",
    "G12dataF11predictions=clf.predict(G12dataF11_X_test)\n",
    "print('f11 정확도 : {0:.4f}'.format(accuracy_score(G12dataF11_y_test,G12dataF11predictions)))\n",
    "G12dataF12predictions=clf.predict(G12dataF12_X_test)\n",
    "print('f12 정확도 : {0:.4f}'.format(accuracy_score(G12dataF12_y_test,G12dataF12predictions)))\n",
    "G12dataF13predictions=clf.predict(G12dataF13_X_test)\n",
    "print('f13 정확도 : {0:.4f}'.format(accuracy_score(G12dataF13_y_test,G12dataF13predictions)))\n",
    "G12dataF14predictions=clf.predict(G12dataF14_X_test)\n",
    "print('f14 정확도 : {0:.4f}'.format(accuracy_score(G12dataF14_y_test,G12dataF14predictions)))\n",
    "G12dataF15predictions=clf.predict(G12dataF15_X_test)\n",
    "print('f15 정확도 : {0:.4f}'.format(accuracy_score(G12dataF15_y_test,G12dataF15predictions)))\n",
    "print('=================G13Result====================')\n",
    "G13dataF1predictions=clf.predict(G13dataF1_X_test)\n",
    "print('f1 정확도 : {0:.4f}'.format(accuracy_score(G13dataF1_y_test,G13dataF1predictions)))\n",
    "G13dataF2predictions=clf.predict(G13dataF2_X_test)\n",
    "print('f2 정확도 : {0:.4f}'.format(accuracy_score(G13dataF2_y_test,G13dataF2predictions)))\n",
    "G13dataF3predictions=clf.predict(G13dataF3_X_test)\n",
    "print('f3 정확도 : {0:.4f}'.format(accuracy_score(G13dataF3_y_test,G13dataF3predictions)))\n",
    "G13dataF4predictions=clf.predict(G13dataF4_X_test)\n",
    "print('f4 정확도 : {0:.4f}'.format(accuracy_score(G13dataF4_y_test,G13dataF4predictions)))\n",
    "G13dataF5predictions=clf.predict(G13dataF5_X_test)\n",
    "print('f5 정확도 : {0:.4f}'.format(accuracy_score(G13dataF5_y_test,G13dataF5predictions)))\n",
    "G13dataF6predictions=clf.predict(G13dataF6_X_test)\n",
    "print('f6 정확도 : {0:.4f}'.format(accuracy_score(G13dataF6_y_test,G13dataF6predictions)))\n",
    "G13dataF7predictions=clf.predict(G13dataF7_X_test)\n",
    "print('f7 정확도 : {0:.4f}'.format(accuracy_score(G13dataF7_y_test,G13dataF7predictions)))\n",
    "G13dataF8predictions=clf.predict(G13dataF8_X_test)\n",
    "print('f8 정확도 : {0:.4f}'.format(accuracy_score(G13dataF8_y_test,G13dataF8predictions)))\n",
    "G13dataF9predictions=clf.predict(G13dataF9_X_test)\n",
    "print('f9 정확도 : {0:.4f}'.format(accuracy_score(G13dataF9_y_test,G13dataF9predictions)))\n",
    "G13dataF10predictions=clf.predict(G13dataF10_X_test)\n",
    "print('f10 정확도 : {0:.4f}'.format(accuracy_score(G13dataF10_y_test,G13dataF10predictions)))\n",
    "G13dataF11predictions=clf.predict(G13dataF11_X_test)\n",
    "print('f11 정확도 : {0:.4f}'.format(accuracy_score(G13dataF11_y_test,G13dataF11predictions)))\n",
    "G13dataF12predictions=clf.predict(G13dataF12_X_test)\n",
    "print('f12 정확도 : {0:.4f}'.format(accuracy_score(G13dataF12_y_test,G13dataF12predictions)))\n",
    "G13dataF13predictions=clf.predict(G13dataF13_X_test)\n",
    "print('f13 정확도 : {0:.4f}'.format(accuracy_score(G13dataF13_y_test,G13dataF13predictions)))\n",
    "G13dataF14predictions=clf.predict(G13dataF14_X_test)\n",
    "print('f14 정확도 : {0:.4f}'.format(accuracy_score(G13dataF14_y_test,G13dataF14predictions)))\n",
    "G13dataF15predictions=clf.predict(G13dataF15_X_test)\n",
    "print('f15 정확도 : {0:.4f}'.format(accuracy_score(G13dataF15_y_test,G13dataF15predictions)))\n",
    "print('=================G21Result====================')\n",
    "G21dataF1predictions=clf.predict(G21dataF1_X_test)\n",
    "print('f1 정확도 : {0:.4f}'.format(accuracy_score(G21dataF1_y_test,G21dataF1predictions)))\n",
    "G21dataF2predictions=clf.predict(G21dataF2_X_test)\n",
    "print('f2 정확도 : {0:.4f}'.format(accuracy_score(G21dataF2_y_test,G21dataF2predictions)))\n",
    "G21dataF3predictions=clf.predict(G21dataF3_X_test)\n",
    "print('f3 정확도 : {0:.4f}'.format(accuracy_score(G21dataF3_y_test,G21dataF3predictions)))\n",
    "G21dataF4predictions=clf.predict(G21dataF4_X_test)\n",
    "print('f4 정확도 : {0:.4f}'.format(accuracy_score(G21dataF4_y_test,G21dataF4predictions)))\n",
    "G21dataF5predictions=clf.predict(G21dataF5_X_test)\n",
    "print('f5 정확도 : {0:.4f}'.format(accuracy_score(G21dataF5_y_test,G21dataF5predictions)))\n",
    "G21dataF6predictions=clf.predict(G21dataF6_X_test)\n",
    "print('f6 정확도 : {0:.4f}'.format(accuracy_score(G21dataF6_y_test,G21dataF6predictions)))\n",
    "G21dataF7predictions=clf.predict(G21dataF7_X_test)\n",
    "print('f7 정확도 : {0:.4f}'.format(accuracy_score(G21dataF7_y_test,G21dataF7predictions)))\n",
    "G21dataF8predictions=clf.predict(G21dataF8_X_test)\n",
    "print('f8 정확도 : {0:.4f}'.format(accuracy_score(G21dataF8_y_test,G21dataF8predictions)))\n",
    "G21dataF9predictions=clf.predict(G21dataF9_X_test)\n",
    "print('f9 정확도 : {0:.4f}'.format(accuracy_score(G21dataF9_y_test,G21dataF9predictions)))\n",
    "G21dataF10predictions=clf.predict(G21dataF10_X_test)\n",
    "print('f10 정확도 : {0:.4f}'.format(accuracy_score(G21dataF10_y_test,G21dataF10predictions)))\n",
    "G21dataF11predictions=clf.predict(G21dataF11_X_test)\n",
    "print('f11 정확도 : {0:.4f}'.format(accuracy_score(G21dataF11_y_test,G21dataF11predictions)))\n",
    "G21dataF12predictions=clf.predict(G21dataF12_X_test)\n",
    "print('f12 정확도 : {0:.4f}'.format(accuracy_score(G21dataF12_y_test,G21dataF12predictions)))\n",
    "G21dataF13predictions=clf.predict(G21dataF13_X_test)\n",
    "print('f13 정확도 : {0:.4f}'.format(accuracy_score(G21dataF13_y_test,G21dataF13predictions)))\n",
    "G21dataF14predictions=clf.predict(G21dataF14_X_test)\n",
    "print('f14 정확도 : {0:.4f}'.format(accuracy_score(G21dataF14_y_test,G21dataF14predictions)))\n",
    "G21dataF15predictions=clf.predict(G21dataF15_X_test)\n",
    "print('f15 정확도 : {0:.4f}'.format(accuracy_score(G21dataF15_y_test,G21dataF15predictions)))\n",
    "print('=================G22Result====================')\n",
    "G22dataF1predictions=clf.predict(G22dataF1_X_test)\n",
    "print('f1 정확도 : {0:.4f}'.format(accuracy_score(G22dataF1_y_test,G22dataF1predictions)))\n",
    "G22dataF2predictions=clf.predict(G22dataF2_X_test)\n",
    "print('f2 정확도 : {0:.4f}'.format(accuracy_score(G22dataF2_y_test,G22dataF2predictions)))\n",
    "G22dataF3predictions=clf.predict(G22dataF3_X_test)\n",
    "print('f3 정확도 : {0:.4f}'.format(accuracy_score(G22dataF3_y_test,G22dataF3predictions)))\n",
    "G22dataF4predictions=clf.predict(G22dataF4_X_test)\n",
    "print('f4 정확도 : {0:.4f}'.format(accuracy_score(G22dataF4_y_test,G22dataF4predictions)))\n",
    "G22dataF5predictions=clf.predict(G22dataF5_X_test)\n",
    "print('f5 정확도 : {0:.4f}'.format(accuracy_score(G22dataF5_y_test,G22dataF5predictions)))\n",
    "G22dataF6predictions=clf.predict(G22dataF6_X_test)\n",
    "print('f6 정확도 : {0:.4f}'.format(accuracy_score(G22dataF6_y_test,G22dataF6predictions)))\n",
    "G22dataF7predictions=clf.predict(G22dataF7_X_test)\n",
    "print('f7 정확도 : {0:.4f}'.format(accuracy_score(G22dataF7_y_test,G22dataF7predictions)))\n",
    "G22dataF8predictions=clf.predict(G22dataF8_X_test)\n",
    "print('f8 정확도 : {0:.4f}'.format(accuracy_score(G22dataF8_y_test,G22dataF8predictions)))\n",
    "G22dataF9predictions=clf.predict(G22dataF9_X_test)\n",
    "print('f9 정확도 : {0:.4f}'.format(accuracy_score(G22dataF9_y_test,G22dataF9predictions)))\n",
    "G22dataF10predictions=clf.predict(G22dataF10_X_test)\n",
    "print('f10 정확도 : {0:.4f}'.format(accuracy_score(G22dataF10_y_test,G22dataF10predictions)))\n",
    "G22dataF11predictions=clf.predict(G22dataF11_X_test)\n",
    "print('f11 정확도 : {0:.4f}'.format(accuracy_score(G22dataF11_y_test,G22dataF11predictions)))\n",
    "G22dataF12predictions=clf.predict(G22dataF12_X_test)\n",
    "print('f12 정확도 : {0:.4f}'.format(accuracy_score(G22dataF12_y_test,G22dataF12predictions)))\n",
    "G22dataF13predictions=clf.predict(G22dataF13_X_test)\n",
    "print('f13 정확도 : {0:.4f}'.format(accuracy_score(G22dataF13_y_test,G22dataF13predictions)))\n",
    "G22dataF14predictions=clf.predict(G22dataF14_X_test)\n",
    "print('f14 정확도 : {0:.4f}'.format(accuracy_score(G22dataF14_y_test,G22dataF14predictions)))\n",
    "G22dataF15predictions=clf.predict(G22dataF15_X_test)\n",
    "print('f15 정확도 : {0:.4f}'.format(accuracy_score(G22dataF15_y_test,G22dataF15predictions)))\n",
    "print('=================G23Result====================')\n",
    "G23dataF1predictions=clf.predict(G23dataF1_X_test)\n",
    "print('f1 정확도 : {0:.4f}'.format(accuracy_score(G23dataF1_y_test,G23dataF1predictions)))\n",
    "G23dataF2predictions=clf.predict(G23dataF2_X_test)\n",
    "print('f2 정확도 : {0:.4f}'.format(accuracy_score(G23dataF2_y_test,G23dataF2predictions)))\n",
    "G23dataF3predictions=clf.predict(G23dataF3_X_test)\n",
    "print('f3 정확도 : {0:.4f}'.format(accuracy_score(G23dataF3_y_test,G23dataF3predictions)))\n",
    "G23dataF4predictions=clf.predict(G23dataF4_X_test)\n",
    "print('f4 정확도 : {0:.4f}'.format(accuracy_score(G23dataF4_y_test,G23dataF4predictions)))\n",
    "G23dataF5predictions=clf.predict(G23dataF5_X_test)\n",
    "print('f5 정확도 : {0:.4f}'.format(accuracy_score(G23dataF5_y_test,G23dataF5predictions)))\n",
    "G23dataF6predictions=clf.predict(G23dataF6_X_test)\n",
    "print('f6 정확도 : {0:.4f}'.format(accuracy_score(G23dataF6_y_test,G23dataF6predictions)))\n",
    "G23dataF7predictions=clf.predict(G23dataF7_X_test)\n",
    "print('f7 정확도 : {0:.4f}'.format(accuracy_score(G23dataF7_y_test,G23dataF7predictions)))\n",
    "G23dataF8predictions=clf.predict(G23dataF8_X_test)\n",
    "print('f8 정확도 : {0:.4f}'.format(accuracy_score(G23dataF8_y_test,G23dataF8predictions)))\n",
    "G23dataF9predictions=clf.predict(G23dataF9_X_test)\n",
    "print('f9 정확도 : {0:.4f}'.format(accuracy_score(G23dataF9_y_test,G23dataF9predictions)))\n",
    "G23dataF10predictions=clf.predict(G23dataF10_X_test)\n",
    "print('f10 정확도 : {0:.4f}'.format(accuracy_score(G23dataF10_y_test,G23dataF10predictions)))\n",
    "G23dataF11predictions=clf.predict(G23dataF11_X_test)\n",
    "print('f11 정확도 : {0:.4f}'.format(accuracy_score(G23dataF11_y_test,G23dataF11predictions)))\n",
    "G23dataF12predictions=clf.predict(G23dataF12_X_test)\n",
    "print('f12 정확도 : {0:.4f}'.format(accuracy_score(G23dataF12_y_test,G23dataF12predictions)))\n",
    "G23dataF13predictions=clf.predict(G23dataF13_X_test)\n",
    "print('f13 정확도 : {0:.4f}'.format(accuracy_score(G23dataF13_y_test,G23dataF13predictions)))\n",
    "G23dataF14predictions=clf.predict(G23dataF14_X_test)\n",
    "print('f14 정확도 : {0:.4f}'.format(accuracy_score(G23dataF14_y_test,G23dataF14predictions)))\n",
    "G23dataF15predictions=clf.predict(G23dataF15_X_test)\n",
    "print('f15 정확도 : {0:.4f}'.format(accuracy_score(G23dataF15_y_test,G23dataF15predictions)))"
   ]
  },
  {
   "cell_type": "code",
   "execution_count": 46,
   "id": "b2b21f49",
   "metadata": {},
   "outputs": [
    {
     "name": "stdout",
     "output_type": "stream",
     "text": [
      "1132    0.0\n",
      "1133    0.0\n",
      "1134    0.0\n",
      "1135    0.0\n",
      "1136    0.0\n",
      "       ... \n",
      "1245    0.0\n",
      "1246    0.0\n",
      "1247    0.0\n",
      "1248    0.0\n",
      "1249    0.0\n",
      "Name: label, Length: 118, dtype: float64\n",
      "[0. 0. 0. 0. 0. 0. 0. 0. 0. 0. 0. 0. 0. 0. 0. 0. 0. 0. 0. 0. 0. 0. 0. 0.\n",
      " 0. 0. 0. 0. 0. 0. 0. 0. 0. 0. 0. 0. 0. 0. 0. 0. 0. 0. 0. 0. 0. 0. 0. 0.\n",
      " 0. 0. 0. 0. 0. 0. 0. 0. 0. 0. 0. 0. 0. 0. 0. 0. 0. 0. 0. 0. 0. 0. 0. 0.\n",
      " 0. 0. 0. 0. 0. 0. 0. 0. 0. 0. 0. 0. 0. 0. 0. 0. 0. 0. 0. 0. 0. 0. 0. 0.\n",
      " 0. 0. 0. 0. 0. 0. 0. 0. 0. 0. 0. 0. 0. 0. 0. 0. 0. 0. 0. 0. 0. 0.]\n",
      "[1132, 0.0, 1133, 0.0, 1134, 0.0, 1135, 0.0, 1136, 0.0, 1137, 0.0, 1138, 0.0, 1139, 0.0, 1140, 0.0, 1141, 0.0, 1142, 0.0, 1143, 0.0, 1144, 0.0, 1145, 0.0, 1146, 0.0, 1147, 0.0, 1148, 0.0, 1149, 0.0, 1150, 0.0, 1151, 0.0, 1152, 0.0, 1153, 0.0, 1154, 0.0, 1155, 0.0, 1156, 0.0, 1157, 0.0, 1158, 0.0, 1159, 0.0, 1160, 0.0, 1161, 0.0, 1162, 0.0, 1163, 0.0, 1164, 0.0, 1165, 0.0, 1166, 0.0, 1167, 0.0, 1168, 0.0, 1169, 0.0, 1170, 0.0, 1171, 0.0, 1172, 0.0, 1173, 0.0, 1174, 0.0, 1175, 0.0, 1176, 0.0, 1177, 0.0, 1178, 0.0, 1179, 0.0, 1180, 0.0, 1181, 0.0, 1182, 0.0, 1183, 0.0, 1184, 0.0, 1185, 0.0, 1186, 0.0, 1187, 0.0, 1188, 0.0, 1189, 0.0, 1190, 0.0, 1191, 0.0, 1192, 0.0, 1193, 0.0, 1194, 0.0, 1195, 0.0, 1196, 0.0, 1197, 0.0, 1198, 0.0, 1199, 0.0, 1200, 0.0, 1201, 0.0, 1202, 0.0, 1203, 0.0, 1204, 0.0, 1205, 0.0, 1206, 0.0, 1207, 0.0, 1208, 0.0, 1209, 0.0, 1210, 0.0, 1211, 0.0, 1212, 0.0, 1213, 0.0, 1214, 0.0, 1215, 0.0, 1216, 0.0, 1217, 0.0, 1218, 0.0, 1219, 0.0, 1220, 0.0, 1221, 0.0, 1222, 0.0, 1223, 0.0, 1224, 0.0, 1225, 0.0, 1226, 0.0, 1227, 0.0, 1228, 0.0, 1229, 0.0, 1230, 0.0, 1231, 0.0, 1232, 0.0, 1233, 0.0, 1234, 0.0, 1235, 0.0, 1236, 0.0, 1237, 0.0, 1238, 0.0, 1239, 0.0, 1240, 0.0, 1241, 0.0, 1242, 0.0, 1243, 0.0, 1244, 0.0, 1245, 0.0, 1246, 0.0, 1247, 0.0, 1248, 0.0, 1249, 0.0]\n"
     ]
    }
   ],
   "source": [
    "predict = []\n",
    "print(G23dataF5_y_test)\n",
    "print(G23dataF5predictions)\n",
    "# print(G13dataF10predictions[0])\n",
    "\n",
    "j = 1132\n",
    "for i in range(0,len(G23dataF5predictions)):\n",
    "    predict.append(j)\n",
    "    predict.append(G23dataF5predictions[i])\n",
    "    j = j+ 1\n",
    "print(predict)"
   ]
  },
  {
   "cell_type": "code",
   "execution_count": 47,
   "id": "0d5b04f9",
   "metadata": {},
   "outputs": [
    {
     "name": "stdout",
     "output_type": "stream",
     "text": [
      "[0, array([0.]), 1, array([0.]), 2, array([0.]), 3, array([0.]), 4, array([0.]), 5, array([0.]), 6, array([0.]), 7, array([0.]), 8, array([0.]), 9, array([0.]), 10, array([0.]), 11, array([0.]), 12, array([0.]), 13, array([0.]), 14, array([0.]), 15, array([0.]), 16, array([0.]), 17, array([0.]), 18, array([0.]), 19, array([0.]), 20, array([0.]), 21, array([0.]), 22, array([0.]), 23, array([0.]), 24, array([0.]), 25, array([0.]), 26, array([0.]), 27, array([0.]), 28, array([0.]), 29, array([0.]), 30, array([0.]), 31, array([0.]), 32, array([0.]), 33, array([0.]), 34, array([0.]), 35, array([0.]), 36, array([0.]), 37, array([0.]), 38, array([0.]), 39, array([0.]), 40, array([0.]), 41, array([0.]), 42, array([0.]), 43, array([0.]), 44, array([0.]), 45, array([0.]), 46, array([0.]), 47, array([0.]), 48, array([0.]), 49, array([0.]), 50, array([0.]), 51, array([0.]), 52, array([0.]), 53, array([0.]), 54, array([0.]), 55, array([0.]), 56, array([0.]), 57, array([0.]), 58, array([0.]), 59, array([0.]), 60, array([0.]), 61, array([0.]), 62, array([0.]), 63, array([0.]), 64, array([0.]), 65, array([0.]), 66, array([0.]), 67, array([0.]), 68, array([0.]), 69, array([0.]), 70, array([0.]), 71, array([0.]), 72, array([0.]), 73, array([0.]), 74, array([0.]), 75, array([0.]), 76, array([0.]), 77, array([0.]), 78, array([0.]), 79, array([0.]), 80, array([0.]), 81, array([0.]), 82, array([0.]), 83, array([0.]), 84, array([0.]), 85, array([0.]), 86, array([0.]), 87, array([0.]), 88, array([0.]), 89, array([0.]), 90, array([0.]), 91, array([0.]), 92, array([0.]), 93, array([0.]), 94, array([0.]), 95, array([0.]), 96, array([0.]), 97, array([0.]), 98, array([0.]), 99, array([0.]), 100, array([0.]), 101, array([0.]), 102, array([0.]), 103, array([0.]), 104, array([0.]), 105, array([0.]), 106, array([0.]), 107, array([0.]), 108, array([0.]), 109, array([0.]), 110, array([0.]), 111, array([0.]), 112, array([0.]), 113, array([0.]), 114, array([0.]), 115, array([0.]), 116, array([0.]), 117, array([0.]), 118, array([0.]), 119, array([0.]), 120, array([0.]), 121, array([0.]), 122, array([0.]), 123, array([0.]), 124, array([0.]), 125, array([0.]), 126, array([0.]), 127, array([0.]), 128, array([0.]), 129, array([0.]), 130, array([0.]), 131, array([0.]), 132, array([0.]), 133, array([0.]), 134, array([0.]), 135, array([0.]), 136, array([0.]), 137, array([0.]), 138, array([0.]), 139, array([0.]), 140, array([0.]), 141, array([0.]), 142, array([0.]), 143, array([0.]), 144, array([0.]), 145, array([0.]), 146, array([0.]), 147, array([0.]), 148, array([0.]), 149, array([0.]), 150, array([0.]), 151, array([0.]), 152, array([0.]), 153, array([0.]), 154, array([0.]), 155, array([0.]), 156, array([0.]), 157, array([0.]), 158, array([0.]), 159, array([0.]), 160, array([0.]), 161, array([0.]), 162, array([0.]), 163, array([0.]), 164, array([0.]), 165, array([0.]), 166, array([0.]), 167, array([0.]), 168, array([0.]), 169, array([0.]), 170, array([0.]), 171, array([0.]), 172, array([0.]), 173, array([0.]), 174, array([0.]), 175, array([0.]), 176, array([0.]), 177, array([0.]), 178, array([0.]), 179, array([0.]), 180, array([0.]), 181, array([0.]), 182, array([0.]), 183, array([0.]), 184, array([0.]), 185, array([0.]), 186, array([0.]), 187, array([0.]), 188, array([0.]), 189, array([0.]), 190, array([0.]), 191, array([0.]), 192, array([0.]), 193, array([0.]), 194, array([0.]), 195, array([0.]), 196, array([0.]), 197, array([0.]), 198, array([0.]), 199, array([0.]), 200, array([0.]), 201, array([0.]), 202, array([0.]), 203, array([0.]), 204, array([0.]), 205, array([0.]), 206, array([0.]), 207, array([0.]), 208, array([0.]), 209, array([0.]), 210, array([0.]), 211, array([0.]), 212, array([0.]), 213, array([0.]), 214, array([0.]), 215, array([0.]), 216, array([0.]), 217, array([0.]), 218, array([0.]), 219, array([0.]), 220, array([0.]), 221, array([0.]), 222, array([0.]), 223, array([0.]), 224, array([0.]), 225, array([0.]), 226, array([0.]), 227, array([0.]), 228, array([0.]), 229, array([0.]), 230, array([0.]), 231, array([0.]), 232, array([0.]), 233, array([0.]), 234, array([0.]), 235, array([0.]), 236, array([1.]), 237, array([1.]), 238, array([1.]), 239, array([1.]), 240, array([1.]), 241, array([1.]), 242, array([1.]), 243, array([1.]), 244, array([1.]), 245, array([1.]), 246, array([1.]), 247, array([1.]), 248, array([1.]), 249, array([1.]), 250, array([1.]), 251, array([1.]), 252, array([1.]), 253, array([1.]), 254, array([1.]), 255, array([1.]), 256, array([1.]), 257, array([1.]), 258, array([1.]), 259, array([1.]), 260, array([1.]), 261, array([1.]), 262, array([1.]), 263, array([1.]), 264, array([1.]), 265, array([1.]), 266, array([1.]), 267, array([1.]), 268, array([1.]), 269, array([1.]), 270, array([1.]), 271, array([1.]), 272, array([1.]), 273, array([1.]), 274, array([1.]), 275, array([1.]), 276, array([1.]), 277, array([1.]), 278, array([1.]), 279, array([1.]), 280, array([1.]), 281, array([1.]), 282, array([1.]), 283, array([1.]), 284, array([1.]), 285, array([1.]), 286, array([1.]), 287, array([1.]), 288, array([1.]), 289, array([1.]), 290, array([1.]), 291, array([1.]), 292, array([1.]), 293, array([1.]), 294, array([1.]), 295, array([1.]), 296, array([1.]), 297, array([1.]), 298, array([1.]), 299, array([1.]), 300, array([1.]), 301, array([0.]), 302, array([0.]), 303, array([0.]), 304, array([0.]), 305, array([0.]), 306, array([0.]), 307, array([0.]), 308, array([0.]), 309, array([0.]), 310, array([0.]), 311, array([0.]), 312, array([0.]), 313, array([0.]), 314, array([0.]), 315, array([0.]), 316, array([0.]), 317, array([0.]), 318, array([0.]), 319, array([0.]), 320, array([0.]), 321, array([0.]), 322, array([0.]), 323, array([0.]), 324, array([0.]), 325, array([0.]), 326, array([0.]), 327, array([0.]), 328, array([0.]), 329, array([0.]), 330, array([0.]), 331, array([0.]), 332, array([0.]), 333, array([0.]), 334, array([0.]), 335, array([0.]), 336, array([0.]), 337, array([0.]), 338, array([0.]), 339, array([0.]), 340, array([0.]), 341, array([0.]), 342, array([0.]), 343, array([0.]), 344, array([0.]), 345, array([0.]), 346, array([0.]), 347, array([0.]), 348, array([0.]), 349, array([0.]), 350, array([0.]), 351, array([0.]), 352, array([0.]), 353, array([0.]), 354, array([0.]), 355, array([0.]), 356, array([0.]), 357, array([0.]), 358, array([0.]), 359, array([0.]), 360, array([0.]), 361, array([0.]), 362, array([0.]), 363, array([0.]), 364, array([0.]), 365, array([0.]), 366, array([0.]), 367, array([0.]), 368, array([0.]), 369, array([0.]), 370, array([0.]), 371, array([0.]), 372, array([0.]), 373, array([0.]), 374, array([0.]), 375, array([0.]), 376, array([0.]), 377, array([0.]), 378, array([0.]), 379, array([0.]), 380, array([0.]), 381, array([0.]), 382, array([0.]), 383, array([0.]), 384, array([0.]), 385, array([0.]), 386, array([0.]), 387, array([0.]), 388, array([0.]), 389, array([0.]), 390, array([0.]), 391, array([0.]), 392, array([0.]), 393, array([0.]), 394, array([0.]), 395, array([0.]), 396, array([0.]), 397, array([0.]), 398, array([0.]), 399, array([0.]), 400, array([0.]), 401, array([0.]), 402, array([0.]), 403, array([0.]), 404, array([0.]), 405, array([0.]), 406, array([0.]), 407, array([0.]), 408, array([0.]), 409, array([0.]), 410, array([0.]), 411, array([0.]), 412, array([0.]), 413, array([0.]), 414, array([0.]), 415, array([0.]), 416, array([0.]), 417, array([0.]), 418, array([0.]), 419, array([0.]), 420, array([0.]), 421, array([0.]), 422, array([0.]), 423, array([0.]), 424, array([0.]), 425, array([0.]), 426, array([0.]), 427, array([0.]), 428, array([0.]), 429, array([0.]), 430, array([0.]), 431, array([0.]), 432, array([0.]), 433, array([0.]), 434, array([0.]), 435, array([0.]), 436, array([0.]), 437, array([0.]), 438, array([0.]), 439, array([0.]), 440, array([0.]), 441, array([0.]), 442, array([0.]), 443, array([0.]), 444, array([0.]), 445, array([0.]), 446, array([0.]), 447, array([0.]), 448, array([0.]), 449, array([0.]), 450, array([0.]), 451, array([0.]), 452, array([0.]), 453, array([0.]), 454, array([0.]), 455, array([0.]), 456, array([0.]), 457, array([0.]), 458, array([0.]), 459, array([0.]), 460, array([0.]), 461, array([0.]), 462, array([0.]), 463, array([0.]), 464, array([0.]), 465, array([0.]), 466, array([0.]), 467, array([0.]), 468, array([0.]), 469, array([0.]), 470, array([0.]), 471, array([0.]), 472, array([0.]), 473, array([0.]), 474, array([0.]), 475, array([0.]), 476, array([0.]), 477, array([0.]), 478, array([0.]), 479, array([0.]), 480, array([0.]), 481, array([0.]), 482, array([0.]), 483, array([0.]), 484, array([0.]), 485, array([0.]), 486, array([0.]), 487, array([0.]), 488, array([0.]), 489, array([0.]), 490, array([0.]), 491, array([0.]), 492, array([0.]), 493, array([0.]), 494, array([0.]), 495, array([0.]), 496, array([0.]), 497, array([0.]), 498, array([0.]), 499, array([0.]), 500, array([0.]), 501, array([0.]), 502, array([0.]), 503, array([0.]), 504, array([0.]), 505, array([0.]), 506, array([0.]), 507, array([0.]), 508, array([0.]), 509, array([0.]), 510, array([0.]), 511, array([0.]), 512, array([0.]), 513, array([0.]), 514, array([0.]), 515, array([0.]), 516, array([0.]), 517, array([0.]), 518, array([0.]), 519, array([0.]), 520, array([0.]), 521, array([0.]), 522, array([0.]), 523, array([0.]), 524, array([0.]), 525, array([0.]), 526, array([0.]), 527, array([0.]), 528, array([0.]), 529, array([1.]), 530, array([1.]), 531, array([1.]), 532, array([1.]), 533, array([1.]), 534, array([1.]), 535, array([1.]), 536, array([1.]), 537, array([1.]), 538, array([1.]), 539, array([1.]), 540, array([1.]), 541, array([1.]), 542, array([1.]), 543, array([1.]), 544, array([1.]), 545, array([1.]), 546, array([1.]), 547, array([1.]), 548, array([1.]), 549, array([1.]), 550, array([1.]), 551, array([1.]), 552, array([1.]), 553, array([1.]), 554, array([1.]), 555, array([1.]), 556, array([1.]), 557, array([1.]), 558, array([1.]), 559, array([1.]), 560, array([1.]), 561, array([1.]), 562, array([1.]), 563, array([1.]), 564, array([1.]), 565, array([1.]), 566, array([1.]), 567, array([1.]), 568, array([1.]), 569, array([1.]), 570, array([1.]), 571, array([1.]), 572, array([1.]), 573, array([1.]), 574, array([1.]), 575, array([1.]), 576, array([1.]), 577, array([1.]), 578, array([1.]), 579, array([1.]), 580, array([1.]), 581, array([1.]), 582, array([1.]), 583, array([1.]), 584, array([1.]), 585, array([1.]), 586, array([1.]), 587, array([1.]), 588, array([1.]), 589, array([1.]), 590, array([1.]), 591, array([1.]), 592, array([1.]), 593, array([1.]), 594, array([1.]), 595, array([1.]), 596, array([1.]), 597, array([1.]), 598, array([1.]), 599, array([1.]), 600, array([1.]), 601, array([1.]), 602, array([1.]), 603, array([1.]), 604, array([1.]), 605, array([1.]), 606, array([1.]), 607, array([1.]), 608, array([1.]), 609, array([1.]), 610, array([1.]), 611, array([1.]), 612, array([1.]), 613, array([1.]), 614, array([1.]), 615, array([1.]), 616, array([1.]), 617, array([1.]), 618, array([1.]), 619, array([1.]), 620, array([1.]), 621, array([0.]), 622, array([1.]), 623, array([1.]), 624, array([1.]), 625, array([1.]), 626, array([1.]), 627, array([1.]), 628, array([1.]), 629, array([1.]), 630, array([1.]), 631, array([1.]), 632, array([1.]), 633, array([1.]), 634, array([1.]), 635, array([1.]), 636, array([1.]), 637, array([1.]), 638, array([1.]), 639, array([1.]), 640, array([1.]), 641, array([1.]), 642, array([1.]), 643, array([1.]), 644, array([1.]), 645, array([1.]), 646, array([1.]), 647, array([1.]), 648, array([1.]), 649, array([1.]), 650, array([1.]), 651, array([1.]), 652, array([1.]), 653, array([1.]), 654, array([1.]), 655, array([1.]), 656, array([1.]), 657, array([1.]), 658, array([1.]), 659, array([1.]), 660, array([1.]), 661, array([1.]), 662, array([1.]), 663, array([1.]), 664, array([1.]), 665, array([1.]), 666, array([1.]), 667, array([1.]), 668, array([1.]), 669, array([1.]), 670, array([1.]), 671, array([1.]), 672, array([1.]), 673, array([1.]), 674, array([1.]), 675, array([1.]), 676, array([1.]), 677, array([1.]), 678, array([1.]), 679, array([1.]), 680, array([1.]), 681, array([1.]), 682, array([1.]), 683, array([1.]), 684, array([1.]), 685, array([0.]), 686, array([0.]), 687, array([0.]), 688, array([0.]), 689, array([0.]), 690, array([0.]), 691, array([0.]), 692, array([0.]), 693, array([0.]), 694, array([0.]), 695, array([0.]), 696, array([0.]), 697, array([0.]), 698, array([0.]), 699, array([0.]), 700, array([0.]), 701, array([0.]), 702, array([0.]), 703, array([0.]), 704, array([0.]), 705, array([0.]), 706, array([0.]), 707, array([0.]), 708, array([0.]), 709, array([0.]), 710, array([0.]), 711, array([0.]), 712, array([0.]), 713, array([0.]), 714, array([0.]), 715, array([0.]), 716, array([0.]), 717, array([0.]), 718, array([0.]), 719, array([0.]), 720, array([0.]), 721, array([0.]), 722, array([0.]), 723, array([0.]), 724, array([0.]), 725, array([0.]), 726, array([0.]), 727, array([0.]), 728, array([0.]), 729, array([0.]), 730, array([0.]), 731, array([0.]), 732, array([0.]), 733, array([0.]), 734, array([0.]), 735, array([0.]), 736, array([0.]), 737, array([0.]), 738, array([0.]), 739, array([0.]), 740, array([0.]), 741, array([0.]), 742, array([0.]), 743, array([0.]), 744, array([0.]), 745, array([0.]), 746, array([0.]), 747, array([0.]), 748, array([0.]), 749, array([0.]), 750, array([0.]), 751, array([0.]), 752, array([0.]), 753, array([0.]), 754, array([0.]), 755, array([0.]), 756, array([0.]), 757, array([0.]), 758, array([0.]), 759, array([0.]), 760, array([0.]), 761, array([0.]), 762, array([0.]), 763, array([0.]), 764, array([0.]), 765, array([0.]), 766, array([0.]), 767, array([0.]), 768, array([0.]), 769, array([0.]), 770, array([0.]), 771, array([0.]), 772, array([0.]), 773, array([0.]), 774, array([0.]), 775, array([0.]), 776, array([0.]), 777, array([0.]), 778, array([0.]), 779, array([0.]), 780, array([0.]), 781, array([0.]), 782, array([0.]), 783, array([0.]), 784, array([0.]), 785, array([0.]), 786, array([0.]), 787, array([0.]), 788, array([0.]), 789, array([0.]), 790, array([0.]), 791, array([0.]), 792, array([0.]), 793, array([0.]), 794, array([0.]), 795, array([0.]), 796, array([0.]), 797, array([0.]), 798, array([0.]), 799, array([0.]), 800, array([0.]), 801, array([0.]), 802, array([0.]), 803, array([0.]), 804, array([0.]), 805, array([0.]), 806, array([0.]), 807, array([0.]), 808, array([0.]), 809, array([0.]), 810, array([0.]), 811, array([0.]), 812, array([0.]), 813, array([0.]), 814, array([0.]), 815, array([0.]), 816, array([0.]), 817, array([0.]), 818, array([0.]), 819, array([0.]), 820, array([0.]), 821, array([0.]), 822, array([0.]), 823, array([0.]), 824, array([0.]), 825, array([0.]), 826, array([0.]), 827, array([0.]), 828, array([0.]), 829, array([0.]), 830, array([0.]), 831, array([0.]), 832, array([0.]), 833, array([0.]), 834, array([0.]), 835, array([0.]), 836, array([0.]), 837, array([0.]), 838, array([0.]), 839, array([0.]), 840, array([0.]), 841, array([0.]), 842, array([0.]), 843, array([0.]), 844, array([0.]), 845, array([0.]), 846, array([0.]), 847, array([0.]), 848, array([0.]), 849, array([0.]), 850, array([0.]), 851, array([0.]), 852, array([0.]), 853, array([0.]), 854, array([0.]), 855, array([0.]), 856, array([0.]), 857, array([0.]), 858, array([0.]), 859, array([0.]), 860, array([0.]), 861, array([0.]), 862, array([0.]), 863, array([0.]), 864, array([0.]), 865, array([0.]), 866, array([0.]), 867, array([0.]), 868, array([0.]), 869, array([0.]), 870, array([0.]), 871, array([0.]), 872, array([0.]), 873, array([0.]), 874, array([0.]), 875, array([0.]), 876, array([0.]), 877, array([0.]), 878, array([0.]), 879, array([0.]), 880, array([0.]), 881, array([0.]), 882, array([0.]), 883, array([0.]), 884, array([0.]), 885, array([0.]), 886, array([0.]), 887, array([0.]), 888, array([0.]), 889, array([0.]), 890, array([0.]), 891, array([0.]), 892, array([0.]), 893, array([0.]), 894, array([0.]), 895, array([0.]), 896, array([0.]), 897, array([0.]), 898, array([0.]), 899, array([0.]), 900, array([0.]), 901, array([0.]), 902, array([0.]), 903, array([0.]), 904, array([0.]), 905, array([0.]), 906, array([0.]), 907, array([0.]), 908, array([0.]), 909, array([0.]), 910, array([0.]), 911, array([0.]), 912, array([0.]), 913, array([0.]), 914, array([0.]), 915, array([1.]), 916, array([1.]), 917, array([1.]), 918, array([1.]), 919, array([1.]), 920, array([1.]), 921, array([1.]), 922, array([1.]), 923, array([1.]), 924, array([1.]), 925, array([1.]), 926, array([1.]), 927, array([1.]), 928, array([1.]), 929, array([1.]), 930, array([1.]), 931, array([1.]), 932, array([1.]), 933, array([1.]), 934, array([1.]), 935, array([1.]), 936, array([1.]), 937, array([1.]), 938, array([1.]), 939, array([1.]), 940, array([1.]), 941, array([1.]), 942, array([1.]), 943, array([1.]), 944, array([1.]), 945, array([1.]), 946, array([1.]), 947, array([1.]), 948, array([1.]), 949, array([1.]), 950, array([1.]), 951, array([1.]), 952, array([1.]), 953, array([1.]), 954, array([1.]), 955, array([1.]), 956, array([1.]), 957, array([1.]), 958, array([1.]), 959, array([1.]), 960, array([1.]), 961, array([1.]), 962, array([1.]), 963, array([1.]), 964, array([1.]), 965, array([1.]), 966, array([1.]), 967, array([1.]), 968, array([1.]), 969, array([1.]), 970, array([1.]), 971, array([1.]), 972, array([1.]), 973, array([1.]), 974, array([1.]), 975, array([1.]), 976, array([1.]), 977, array([1.]), 978, array([1.]), 979, array([1.]), 980, array([1.]), 981, array([1.]), 982, array([1.]), 983, array([1.]), 984, array([1.]), 985, array([1.]), 986, array([1.]), 987, array([1.]), 988, array([1.]), 989, array([1.]), 990, array([1.]), 991, array([1.]), 992, array([1.]), 993, array([1.]), 994, array([1.]), 995, array([1.]), 996, array([1.]), 997, array([1.]), 998, array([1.]), 999, array([1.]), 1000, array([0.]), 1001, array([0.]), 1002, array([0.]), 1003, array([1.]), 1004, array([1.]), 1005, array([1.]), 1006, array([1.]), 1007, array([1.]), 1008, array([1.]), 1009, array([1.]), 1010, array([1.]), 1011, array([1.]), 1012, array([1.]), 1013, array([1.]), 1014, array([1.]), 1015, array([1.]), 1016, array([1.]), 1017, array([1.]), 1018, array([1.]), 1019, array([0.]), 1020, array([1.]), 1021, array([1.]), 1022, array([1.]), 1023, array([1.]), 1024, array([1.]), 1025, array([1.]), 1026, array([1.]), 1027, array([1.]), 1028, array([1.]), 1029, array([1.]), 1030, array([1.]), 1031, array([0.]), 1032, array([0.]), 1033, array([0.]), 1034, array([0.]), 1035, array([0.]), 1036, array([0.]), 1037, array([0.]), 1038, array([0.]), 1039, array([0.]), 1040, array([0.]), 1041, array([0.]), 1042, array([0.]), 1043, array([0.]), 1044, array([0.]), 1045, array([0.]), 1046, array([0.]), 1047, array([0.]), 1048, array([0.]), 1049, array([0.]), 1050, array([0.]), 1051, array([0.]), 1052, array([0.]), 1053, array([0.]), 1054, array([0.]), 1055, array([0.]), 1056, array([0.]), 1057, array([0.]), 1058, array([0.]), 1059, array([0.]), 1060, array([0.]), 1061, array([0.]), 1062, array([0.]), 1063, array([0.]), 1064, array([0.]), 1065, array([0.]), 1066, array([0.]), 1067, array([0.]), 1068, array([0.]), 1069, array([0.]), 1070, array([0.]), 1071, array([0.]), 1072, array([0.]), 1073, array([0.]), 1074, array([0.]), 1075, array([0.]), 1076, array([0.]), 1077, array([0.]), 1078, array([0.]), 1079, array([0.]), 1080, array([0.]), 1081, array([0.]), 1082, array([0.]), 1083, array([0.]), 1084, array([0.]), 1085, array([0.]), 1086, array([0.]), 1087, array([0.]), 1088, array([0.]), 1089, array([0.]), 1090, array([0.]), 1091, array([0.]), 1092, array([0.]), 1093, array([0.]), 1094, array([0.]), 1095, array([0.]), 1096, array([0.]), 1097, array([0.]), 1098, array([0.]), 1099, array([0.]), 1100, array([0.]), 1101, array([0.]), 1102, array([0.]), 1103, array([0.]), 1104, array([0.]), 1105, array([0.]), 1106, array([0.]), 1107, array([0.]), 1108, array([0.]), 1109, array([0.]), 1110, array([0.]), 1111, array([0.]), 1112, array([0.]), 1113, array([0.]), 1114, array([0.]), 1115, array([0.]), 1116, array([0.]), 1117, array([0.]), 1118, array([0.]), 1119, array([0.]), 1120, array([0.]), 1121, array([0.]), 1122, array([0.]), 1123, array([0.]), 1124, array([0.]), 1125, array([0.]), 1126, array([0.]), 1127, array([0.]), 1128, array([0.]), 1129, array([0.]), 1130, array([0.]), 1131, array([0.]), 1132, array([0.]), 1133, array([0.]), 1134, array([0.]), 1135, array([0.]), 1136, array([0.]), 1137, array([0.]), 1138, array([0.]), 1139, array([0.]), 1140, array([0.]), 1141, array([0.]), 1142, array([0.]), 1143, array([0.]), 1144, array([0.]), 1145, array([0.]), 1146, array([0.]), 1147, array([0.]), 1148, array([0.]), 1149, array([0.]), 1150, array([0.]), 1151, array([0.]), 1152, array([0.]), 1153, array([0.]), 1154, array([0.]), 1155, array([0.]), 1156, array([0.]), 1157, array([0.]), 1158, array([0.]), 1159, array([0.]), 1160, array([0.]), 1161, array([0.]), 1162, array([0.]), 1163, array([0.]), 1164, array([0.]), 1165, array([0.]), 1166, array([0.]), 1167, array([0.]), 1168, array([0.]), 1169, array([0.]), 1170, array([0.]), 1171, array([0.]), 1172, array([0.]), 1173, array([0.]), 1174, array([0.]), 1175, array([0.]), 1176, array([0.]), 1177, array([0.]), 1178, array([0.]), 1179, array([0.]), 1180, array([0.]), 1181, array([0.]), 1182, array([0.]), 1183, array([0.]), 1184, array([0.]), 1185, array([0.]), 1186, array([0.]), 1187, array([0.]), 1188, array([0.]), 1189, array([0.]), 1190, array([0.]), 1191, array([0.]), 1192, array([0.]), 1193, array([0.]), 1194, array([0.]), 1195, array([0.]), 1196, array([0.]), 1197, array([0.]), 1198, array([0.]), 1199, array([0.]), 1200, array([0.]), 1201, array([0.]), 1202, array([0.]), 1203, array([0.]), 1204, array([0.]), 1205, array([0.]), 1206, array([0.]), 1207, array([0.]), 1208, array([0.]), 1209, array([0.]), 1210, array([0.]), 1211, array([0.]), 1212, array([0.]), 1213, array([0.]), 1214, array([0.]), 1215, array([0.]), 1216, array([0.]), 1217, array([0.]), 1218, array([0.]), 1219, array([0.]), 1220, array([0.]), 1221, array([0.]), 1222, array([0.]), 1223, array([0.]), 1224, array([0.]), 1225, array([0.]), 1226, array([0.]), 1227, array([0.]), 1228, array([0.]), 1229, array([0.]), 1230, array([0.]), 1231, array([0.]), 1232, array([0.]), 1233, array([0.]), 1234, array([0.]), 1235, array([0.]), 1236, array([0.]), 1237, array([0.]), 1238, array([0.]), 1239, array([0.]), 1240, array([0.]), 1241, array([0.]), 1242, array([0.]), 1243, array([1.]), 1244, array([1.]), 1245, array([1.]), 1246, array([1.]), 1247, array([1.]), 1248, array([1.]), 1249, array([1.]), 1250, array([1.]), 1251, array([1.]), 1252, array([1.]), 1253, array([1.]), 1254, array([1.]), 1255, array([1.]), 1256, array([1.]), 1257, array([1.]), 1258, array([1.]), 1259, array([1.]), 1260, array([1.]), 1261, array([1.]), 1262, array([1.]), 1263, array([1.]), 1264, array([1.]), 1265, array([1.]), 1266, array([1.]), 1267, array([1.]), 1268, array([1.]), 1269, array([1.]), 1270, array([1.]), 1271, array([1.]), 1272, array([1.]), 1273, array([1.]), 1274, array([1.]), 1275, array([1.]), 1276, array([1.]), 1277, array([1.]), 1278, array([1.]), 1279, array([1.]), 1280, array([1.]), 1281, array([1.]), 1282, array([1.]), 1283, array([1.]), 1284, array([1.]), 1285, array([1.]), 1286, array([1.]), 1287, array([1.]), 1288, array([1.]), 1289, array([1.]), 1290, array([1.]), 1291, array([1.]), 1292, array([1.]), 1293, array([1.]), 1294, array([1.]), 1295, array([1.]), 1296, array([1.]), 1297, array([1.]), 1298, array([1.]), 1299, array([1.]), 1300, array([1.]), 1301, array([1.]), 1302, array([1.]), 1303, array([1.]), 1304, array([1.]), 1305, array([1.]), 1306, array([1.]), 1307, array([1.]), 1308, array([1.]), 1309, array([1.]), 1310, array([1.]), 1311, array([1.]), 1312, array([1.]), 1313, array([1.]), 1314, array([1.]), 1315, array([1.]), 1316, array([1.]), 1317, array([1.]), 1318, array([1.]), 1319, array([1.]), 1320, array([1.]), 1321, array([1.]), 1322, array([1.]), 1323, array([1.]), 1324, array([1.]), 1325, array([1.]), 1326, array([1.]), 1327, array([1.]), 1328, array([1.]), 1329, array([1.]), 1330, array([1.]), 1331, array([1.]), 1332, array([1.]), 1333, array([1.]), 1334, array([1.]), 1335, array([1.]), 1336, array([1.]), 1337, array([1.]), 1338, array([1.]), 1339, array([1.]), 1340, array([1.]), 1341, array([1.]), 1342, array([1.]), 1343, array([1.]), 1344, array([1.]), 1345, array([1.]), 1346, array([1.]), 1347, array([1.]), 1348, array([1.]), 1349, array([1.]), 1350, array([1.]), 1351, array([1.]), 1352, array([1.]), 1353, array([0.]), 1354, array([0.]), 1355, array([0.]), 1356, array([0.]), 1357, array([0.]), 1358, array([0.]), 1359, array([0.]), 1360, array([0.]), 1361, array([0.]), 1362, array([0.]), 1363, array([0.]), 1364, array([0.]), 1365, array([0.]), 1366, array([0.]), 1367, array([0.]), 1368, array([0.]), 1369, array([0.]), 1370, array([0.]), 1371, array([0.]), 1372, array([0.]), 1373, array([0.]), 1374, array([0.]), 1375, array([0.]), 1376, array([0.]), 1377, array([0.]), 1378, array([0.]), 1379, array([0.]), 1380, array([0.]), 1381, array([0.]), 1382, array([0.]), 1383, array([0.]), 1384, array([0.]), 1385, array([0.]), 1386, array([0.]), 1387, array([0.]), 1388, array([0.]), 1389, array([0.]), 1390, array([0.]), 1391, array([0.]), 1392, array([0.]), 1393, array([0.]), 1394, array([0.]), 1395, array([0.]), 1396, array([0.]), 1397, array([0.]), 1398, array([0.]), 1399, array([0.]), 1400, array([0.]), 1401, array([0.]), 1402, array([0.]), 1403, array([0.]), 1404, array([0.]), 1405, array([0.]), 1406, array([0.]), 1407, array([0.]), 1408, array([0.]), 1409, array([0.]), 1410, array([0.]), 1411, array([0.]), 1412, array([0.]), 1413, array([0.]), 1414, array([0.]), 1415, array([0.]), 1416, array([0.]), 1417, array([0.]), 1418, array([0.]), 1419, array([0.]), 1420, array([0.]), 1421, array([0.]), 1422, array([0.]), 1423, array([0.]), 1424, array([0.]), 1425, array([0.]), 1426, array([0.]), 1427, array([0.]), 1428, array([0.]), 1429, array([0.]), 1430, array([0.]), 1431, array([0.]), 1432, array([0.]), 1433, array([0.]), 1434, array([0.]), 1435, array([0.]), 1436, array([0.]), 1437, array([0.]), 1438, array([0.]), 1439, array([0.]), 1440, array([0.]), 1441, array([0.]), 1442, array([0.]), 1443, array([0.]), 1444, array([0.]), 1445, array([0.]), 1446, array([0.]), 1447, array([0.]), 1448, array([0.]), 1449, array([0.]), 1450, array([0.]), 1451, array([0.]), 1452, array([0.]), 1453, array([0.]), 1454, array([0.]), 1455, array([0.]), 1456, array([0.]), 1457, array([0.]), 1458, array([0.]), 1459, array([0.]), 1460, array([0.]), 1461, array([0.]), 1462, array([0.]), 1463, array([0.]), 1464, array([0.]), 1465, array([0.]), 1466, array([0.]), 1467, array([0.]), 1468, array([0.]), 1469, array([0.]), 1470, array([0.]), 1471, array([0.]), 1472, array([0.]), 1473, array([0.]), 1474, array([0.]), 1475, array([0.]), 1476, array([0.]), 1477, array([0.]), 1478, array([0.]), 1479, array([0.]), 1480, array([0.]), 1481, array([0.]), 1482, array([0.]), 1483, array([0.]), 1484, array([0.]), 1485, array([0.]), 1486, array([0.]), 1487, array([0.]), 1488, array([0.]), 1489, array([0.]), 1490, array([0.]), 1491, array([0.]), 1492, array([0.]), 1493, array([0.]), 1494, array([0.]), 1495, array([0.]), 1496, array([0.]), 1497, array([0.]), 1498, array([0.]), 1499, array([0.]), 1500, array([0.]), 1501, array([0.]), 1502, array([0.]), 1503, array([0.]), 1504, array([0.]), 1505, array([0.]), 1506, array([0.]), 1507, array([0.]), 1508, array([0.]), 1509, array([0.]), 1510, array([0.]), 1511, array([0.]), 1512, array([0.]), 1513, array([0.]), 1514, array([0.]), 1515, array([0.]), 1516, array([0.]), 1517, array([0.]), 1518, array([0.]), 1519, array([0.]), 1520, array([0.]), 1521, array([0.]), 1522, array([0.]), 1523, array([0.]), 1524, array([0.]), 1525, array([0.]), 1526, array([0.]), 1527, array([0.]), 1528, array([0.]), 1529, array([0.]), 1530, array([0.]), 1531, array([0.]), 1532, array([0.]), 1533, array([0.]), 1534, array([0.]), 1535, array([0.]), 1536, array([0.]), 1537, array([0.]), 1538, array([0.]), 1539, array([0.]), 1540, array([0.]), 1541, array([0.]), 1542, array([0.]), 1543, array([0.]), 1544, array([0.]), 1545, array([0.]), 1546, array([0.]), 1547, array([0.]), 1548, array([0.]), 1549, array([0.]), 1550, array([0.]), 1551, array([0.]), 1552, array([0.]), 1553, array([0.]), 1554, array([0.]), 1555, array([0.]), 1556, array([0.]), 1557, array([0.]), 1558, array([0.]), 1559, array([0.]), 1560, array([0.]), 1561, array([0.]), 1562, array([0.]), 1563, array([0.]), 1564, array([0.]), 1565, array([0.]), 1566, array([0.]), 1567, array([0.]), 1568, array([0.]), 1569, array([0.]), 1570, array([0.]), 1571, array([0.]), 1572, array([0.]), 1573, array([0.]), 1574, array([0.]), 1575, array([0.]), 1576, array([0.]), 1577, array([0.]), 1578, array([0.]), 1579, array([0.]), 1580, array([0.]), 1581, array([0.]), 1582, array([0.]), 1583, array([0.]), 1584, array([0.]), 1585, array([0.]), 1586, array([0.]), 1587, array([0.]), 1588, array([0.]), 1589, array([0.]), 1590, array([0.]), 1591, array([0.]), 1592, array([0.]), 1593, array([0.]), 1594, array([0.]), 1595, array([1.]), 1596, array([1.]), 1597, array([1.]), 1598, array([1.]), 1599, array([1.]), 1600, array([1.]), 1601, array([1.]), 1602, array([1.]), 1603, array([1.]), 1604, array([1.]), 1605, array([1.]), 1606, array([1.]), 1607, array([1.]), 1608, array([1.]), 1609, array([1.]), 1610, array([1.]), 1611, array([1.]), 1612, array([1.]), 1613, array([1.]), 1614, array([1.]), 1615, array([1.]), 1616, array([1.]), 1617, array([1.]), 1618, array([1.]), 1619, array([1.]), 1620, array([1.]), 1621, array([1.]), 1622, array([1.]), 1623, array([1.]), 1624, array([1.]), 1625, array([1.]), 1626, array([1.]), 1627, array([1.]), 1628, array([1.]), 1629, array([1.]), 1630, array([1.]), 1631, array([1.]), 1632, array([1.]), 1633, array([1.]), 1634, array([1.]), 1635, array([1.]), 1636, array([1.]), 1637, array([1.]), 1638, array([1.]), 1639, array([1.]), 1640, array([1.]), 1641, array([1.]), 1642, array([1.]), 1643, array([1.]), 1644, array([1.]), 1645, array([1.]), 1646, array([1.]), 1647, array([1.]), 1648, array([1.]), 1649, array([1.]), 1650, array([1.]), 1651, array([1.]), 1652, array([1.]), 1653, array([1.]), 1654, array([1.]), 1655, array([1.]), 1656, array([1.]), 1657, array([1.]), 1658, array([1.]), 1659, array([1.]), 1660, array([1.]), 1661, array([1.]), 1662, array([1.]), 1663, array([1.]), 1664, array([1.]), 1665, array([1.]), 1666, array([1.]), 1667, array([1.]), 1668, array([1.]), 1669, array([1.]), 1670, array([1.]), 1671, array([1.]), 1672, array([1.]), 1673, array([1.]), 1674, array([1.]), 1675, array([1.]), 1676, array([1.]), 1677, array([1.]), 1678, array([1.]), 1679, array([1.]), 1680, array([1.]), 1681, array([1.]), 1682, array([1.]), 1683, array([1.]), 1684, array([1.]), 1685, array([1.]), 1686, array([1.]), 1687, array([1.]), 1688, array([1.]), 1689, array([1.]), 1690, array([1.]), 1691, array([1.]), 1692, array([1.]), 1693, array([1.]), 1694, array([1.]), 1695, array([1.]), 1696, array([1.]), 1697, array([1.]), 1698, array([1.]), 1699, array([1.]), 1700, array([1.]), 1701, array([1.]), 1702, array([1.]), 1703, array([1.]), 1704, array([1.]), 1705, array([1.]), 1706, array([1.]), 1707, array([1.]), 1708, array([1.]), 1709, array([1.]), 1710, array([1.]), 1711, array([1.]), 1712, array([1.]), 1713, array([1.]), 1714, array([1.]), 1715, array([1.]), 1716, array([1.]), 1717, array([1.]), 1718, array([1.]), 1719, array([1.]), 1720, array([1.]), 1721, array([1.]), 1722, array([1.]), 1723, array([1.]), 1724, array([1.]), 1725, array([1.]), 1726, array([1.]), 1727, array([1.]), 1728, array([1.]), 1729, array([1.])]\n"
     ]
    }
   ],
   "source": [
    "mat_file_io = io.loadmat('./sensors-19-04565-s001/eHomeSeniors dataset/melexis sensor/datos matlab/melexis-G1-2-f02-data.mat')\n",
    "y_predict = []\n",
    "for i in range(len(mat_file_io.get('melexisG12f02'))):\n",
    "    y_predict.append(i)\n",
    "    y_predict.append(clf.predict(mat_file_io.get('melexisG12f02')[i].reshape((1,-1))))\n",
    "    \n",
    "print(y_predict)"
   ]
  },
  {
   "cell_type": "code",
   "execution_count": 48,
   "id": "4a1dfe68",
   "metadata": {},
   "outputs": [
    {
     "name": "stdout",
     "output_type": "stream",
     "text": [
      "[0, array([0.]), 1, array([0.]), 2, array([0.]), 3, array([0.]), 4, array([0.]), 5, array([0.]), 6, array([0.]), 7, array([0.]), 8, array([0.]), 9, array([0.]), 10, array([0.]), 11, array([0.]), 12, array([0.]), 13, array([0.]), 14, array([0.]), 15, array([0.]), 16, array([0.]), 17, array([0.]), 18, array([0.]), 19, array([0.]), 20, array([0.]), 21, array([0.]), 22, array([0.]), 23, array([0.]), 24, array([0.]), 25, array([0.]), 26, array([0.]), 27, array([0.]), 28, array([0.]), 29, array([0.]), 30, array([0.]), 31, array([0.]), 32, array([0.]), 33, array([0.]), 34, array([0.]), 35, array([0.]), 36, array([0.]), 37, array([0.]), 38, array([0.]), 39, array([0.]), 40, array([0.]), 41, array([0.]), 42, array([0.]), 43, array([0.]), 44, array([0.]), 45, array([0.]), 46, array([0.]), 47, array([0.]), 48, array([0.]), 49, array([0.]), 50, array([0.]), 51, array([0.]), 52, array([0.]), 53, array([0.]), 54, array([0.]), 55, array([0.]), 56, array([0.]), 57, array([0.]), 58, array([0.]), 59, array([0.]), 60, array([0.]), 61, array([0.]), 62, array([0.]), 63, array([0.]), 64, array([0.]), 65, array([0.]), 66, array([0.]), 67, array([0.]), 68, array([0.]), 69, array([0.]), 70, array([0.]), 71, array([0.]), 72, array([0.]), 73, array([0.]), 74, array([0.]), 75, array([0.]), 76, array([0.]), 77, array([0.]), 78, array([0.]), 79, array([0.]), 80, array([0.]), 81, array([0.]), 82, array([0.]), 83, array([0.]), 84, array([0.]), 85, array([0.]), 86, array([0.]), 87, array([0.]), 88, array([0.]), 89, array([0.]), 90, array([0.]), 91, array([0.]), 92, array([0.]), 93, array([0.]), 94, array([0.]), 95, array([0.]), 96, array([0.]), 97, array([0.]), 98, array([0.]), 99, array([0.]), 100, array([0.]), 101, array([0.]), 102, array([0.]), 103, array([0.]), 104, array([0.]), 105, array([0.]), 106, array([0.]), 107, array([0.]), 108, array([0.]), 109, array([0.]), 110, array([0.]), 111, array([0.]), 112, array([0.]), 113, array([0.]), 114, array([0.]), 115, array([0.]), 116, array([0.]), 117, array([0.]), 118, array([0.]), 119, array([0.]), 120, array([0.]), 121, array([0.]), 122, array([0.]), 123, array([0.]), 124, array([0.]), 125, array([0.]), 126, array([0.]), 127, array([0.]), 128, array([0.]), 129, array([0.]), 130, array([0.]), 131, array([0.]), 132, array([0.]), 133, array([0.]), 134, array([0.]), 135, array([0.]), 136, array([0.]), 137, array([0.]), 138, array([0.]), 139, array([0.]), 140, array([0.]), 141, array([0.]), 142, array([0.]), 143, array([0.]), 144, array([0.]), 145, array([0.]), 146, array([0.]), 147, array([0.]), 148, array([0.]), 149, array([0.]), 150, array([0.]), 151, array([0.]), 152, array([0.]), 153, array([0.]), 154, array([0.]), 155, array([0.]), 156, array([0.]), 157, array([0.]), 158, array([0.]), 159, array([0.]), 160, array([0.]), 161, array([0.]), 162, array([0.]), 163, array([0.]), 164, array([0.]), 165, array([0.]), 166, array([0.]), 167, array([0.]), 168, array([0.]), 169, array([0.]), 170, array([0.]), 171, array([0.]), 172, array([0.]), 173, array([0.]), 174, array([0.]), 175, array([0.]), 176, array([0.]), 177, array([0.]), 178, array([0.]), 179, array([0.]), 180, array([0.]), 181, array([0.]), 182, array([0.]), 183, array([0.]), 184, array([0.]), 185, array([0.]), 186, array([0.]), 187, array([0.]), 188, array([0.]), 189, array([0.]), 190, array([0.]), 191, array([0.]), 192, array([0.]), 193, array([0.]), 194, array([0.]), 195, array([0.]), 196, array([0.]), 197, array([0.]), 198, array([0.]), 199, array([0.]), 200, array([0.]), 201, array([0.]), 202, array([0.]), 203, array([0.]), 204, array([0.]), 205, array([0.]), 206, array([0.]), 207, array([0.]), 208, array([0.]), 209, array([0.]), 210, array([0.]), 211, array([0.]), 212, array([0.]), 213, array([0.]), 214, array([0.]), 215, array([1.]), 216, array([1.]), 217, array([1.]), 218, array([1.]), 219, array([1.]), 220, array([1.]), 221, array([1.]), 222, array([1.]), 223, array([1.]), 224, array([1.]), 225, array([1.]), 226, array([1.]), 227, array([1.]), 228, array([1.]), 229, array([1.]), 230, array([1.]), 231, array([1.]), 232, array([1.]), 233, array([1.]), 234, array([1.]), 235, array([1.]), 236, array([1.]), 237, array([1.]), 238, array([1.]), 239, array([1.]), 240, array([1.]), 241, array([1.]), 242, array([1.]), 243, array([1.]), 244, array([1.]), 245, array([1.]), 246, array([1.]), 247, array([1.]), 248, array([1.]), 249, array([1.]), 250, array([1.]), 251, array([1.]), 252, array([1.]), 253, array([1.]), 254, array([1.]), 255, array([1.]), 256, array([1.]), 257, array([1.]), 258, array([1.]), 259, array([1.]), 260, array([1.]), 261, array([1.]), 262, array([1.]), 263, array([1.]), 264, array([1.]), 265, array([1.]), 266, array([1.]), 267, array([1.]), 268, array([1.]), 269, array([1.]), 270, array([1.]), 271, array([1.]), 272, array([1.]), 273, array([1.]), 274, array([1.]), 275, array([1.]), 276, array([1.]), 277, array([1.]), 278, array([1.]), 279, array([1.]), 280, array([1.]), 281, array([1.]), 282, array([1.]), 283, array([1.]), 284, array([1.]), 285, array([1.]), 286, array([1.]), 287, array([1.]), 288, array([1.]), 289, array([0.]), 290, array([0.]), 291, array([0.]), 292, array([0.]), 293, array([0.]), 294, array([0.]), 295, array([0.]), 296, array([0.]), 297, array([0.]), 298, array([0.]), 299, array([0.]), 300, array([0.]), 301, array([0.]), 302, array([0.]), 303, array([0.]), 304, array([0.]), 305, array([0.]), 306, array([0.]), 307, array([0.]), 308, array([0.]), 309, array([0.]), 310, array([0.]), 311, array([0.]), 312, array([0.]), 313, array([0.]), 314, array([0.]), 315, array([0.]), 316, array([0.]), 317, array([0.]), 318, array([0.]), 319, array([0.]), 320, array([0.]), 321, array([0.]), 322, array([0.]), 323, array([0.]), 324, array([0.]), 325, array([0.]), 326, array([0.]), 327, array([0.]), 328, array([0.]), 329, array([0.]), 330, array([0.]), 331, array([0.]), 332, array([0.]), 333, array([0.]), 334, array([0.]), 335, array([0.]), 336, array([0.]), 337, array([0.]), 338, array([0.]), 339, array([0.]), 340, array([0.]), 341, array([0.]), 342, array([0.]), 343, array([0.]), 344, array([0.]), 345, array([0.]), 346, array([0.]), 347, array([0.]), 348, array([0.]), 349, array([0.]), 350, array([0.]), 351, array([0.]), 352, array([0.]), 353, array([0.]), 354, array([0.]), 355, array([0.]), 356, array([0.]), 357, array([0.]), 358, array([0.]), 359, array([0.]), 360, array([0.]), 361, array([0.]), 362, array([0.]), 363, array([0.]), 364, array([0.]), 365, array([0.]), 366, array([0.]), 367, array([0.]), 368, array([0.]), 369, array([0.]), 370, array([0.]), 371, array([0.]), 372, array([0.]), 373, array([0.]), 374, array([0.]), 375, array([0.]), 376, array([0.]), 377, array([0.]), 378, array([0.]), 379, array([0.]), 380, array([0.]), 381, array([0.]), 382, array([0.]), 383, array([0.]), 384, array([0.]), 385, array([0.]), 386, array([0.]), 387, array([0.]), 388, array([0.]), 389, array([0.]), 390, array([0.]), 391, array([0.]), 392, array([0.]), 393, array([0.]), 394, array([0.]), 395, array([0.]), 396, array([0.]), 397, array([0.]), 398, array([0.]), 399, array([0.]), 400, array([0.]), 401, array([0.]), 402, array([0.]), 403, array([0.]), 404, array([0.]), 405, array([0.]), 406, array([0.]), 407, array([0.]), 408, array([0.]), 409, array([0.]), 410, array([0.]), 411, array([0.]), 412, array([0.]), 413, array([0.]), 414, array([0.]), 415, array([0.]), 416, array([0.]), 417, array([0.]), 418, array([0.]), 419, array([0.]), 420, array([0.]), 421, array([0.]), 422, array([0.]), 423, array([0.]), 424, array([0.]), 425, array([0.]), 426, array([0.]), 427, array([0.]), 428, array([0.]), 429, array([0.]), 430, array([0.]), 431, array([0.]), 432, array([0.]), 433, array([0.]), 434, array([0.]), 435, array([0.]), 436, array([0.]), 437, array([0.]), 438, array([0.]), 439, array([0.]), 440, array([0.]), 441, array([0.]), 442, array([0.]), 443, array([0.]), 444, array([0.]), 445, array([0.]), 446, array([0.]), 447, array([0.]), 448, array([0.]), 449, array([0.]), 450, array([0.]), 451, array([0.]), 452, array([0.]), 453, array([0.]), 454, array([0.]), 455, array([0.]), 456, array([0.]), 457, array([0.]), 458, array([0.]), 459, array([0.]), 460, array([0.]), 461, array([0.]), 462, array([0.]), 463, array([0.]), 464, array([0.]), 465, array([0.]), 466, array([0.]), 467, array([0.]), 468, array([0.]), 469, array([0.]), 470, array([0.]), 471, array([0.]), 472, array([0.]), 473, array([0.]), 474, array([0.]), 475, array([0.]), 476, array([0.]), 477, array([0.]), 478, array([0.]), 479, array([0.]), 480, array([0.]), 481, array([0.]), 482, array([0.]), 483, array([0.]), 484, array([0.]), 485, array([0.]), 486, array([0.]), 487, array([0.]), 488, array([0.]), 489, array([0.]), 490, array([0.]), 491, array([0.]), 492, array([0.]), 493, array([0.]), 494, array([0.]), 495, array([0.]), 496, array([0.]), 497, array([0.]), 498, array([0.]), 499, array([0.]), 500, array([0.]), 501, array([0.]), 502, array([0.]), 503, array([0.]), 504, array([0.]), 505, array([0.]), 506, array([0.]), 507, array([0.]), 508, array([0.]), 509, array([0.]), 510, array([1.]), 511, array([1.]), 512, array([1.]), 513, array([1.]), 514, array([1.]), 515, array([1.]), 516, array([1.]), 517, array([1.]), 518, array([1.]), 519, array([1.]), 520, array([1.]), 521, array([1.]), 522, array([1.]), 523, array([1.]), 524, array([1.]), 525, array([1.]), 526, array([1.]), 527, array([1.]), 528, array([1.]), 529, array([1.]), 530, array([1.]), 531, array([1.]), 532, array([1.]), 533, array([1.]), 534, array([1.]), 535, array([1.]), 536, array([1.]), 537, array([1.]), 538, array([1.]), 539, array([1.]), 540, array([1.]), 541, array([1.]), 542, array([1.]), 543, array([1.]), 544, array([1.]), 545, array([1.]), 546, array([1.]), 547, array([1.]), 548, array([1.]), 549, array([1.]), 550, array([1.]), 551, array([1.]), 552, array([1.]), 553, array([1.]), 554, array([1.]), 555, array([1.]), 556, array([1.]), 557, array([1.]), 558, array([1.]), 559, array([1.]), 560, array([1.]), 561, array([1.]), 562, array([1.]), 563, array([1.]), 564, array([1.]), 565, array([1.]), 566, array([1.]), 567, array([1.]), 568, array([1.]), 569, array([1.]), 570, array([1.]), 571, array([1.]), 572, array([1.]), 573, array([1.]), 574, array([1.]), 575, array([1.]), 576, array([1.]), 577, array([1.]), 578, array([1.]), 579, array([1.]), 580, array([1.]), 581, array([1.]), 582, array([1.]), 583, array([1.]), 584, array([1.]), 585, array([1.]), 586, array([1.]), 587, array([1.]), 588, array([1.]), 589, array([1.]), 590, array([1.]), 591, array([1.]), 592, array([1.]), 593, array([1.]), 594, array([1.]), 595, array([1.]), 596, array([1.]), 597, array([1.]), 598, array([1.]), 599, array([1.]), 600, array([1.]), 601, array([1.]), 602, array([1.]), 603, array([1.]), 604, array([1.]), 605, array([1.]), 606, array([1.]), 607, array([1.]), 608, array([1.]), 609, array([1.]), 610, array([1.]), 611, array([1.]), 612, array([1.]), 613, array([1.]), 614, array([1.]), 615, array([1.]), 616, array([1.]), 617, array([1.]), 618, array([1.]), 619, array([1.]), 620, array([1.]), 621, array([1.]), 622, array([1.]), 623, array([1.]), 624, array([1.]), 625, array([1.]), 626, array([1.]), 627, array([1.]), 628, array([1.]), 629, array([1.]), 630, array([1.]), 631, array([1.]), 632, array([1.]), 633, array([1.]), 634, array([1.]), 635, array([1.]), 636, array([1.]), 637, array([1.]), 638, array([1.]), 639, array([1.]), 640, array([1.]), 641, array([1.]), 642, array([1.]), 643, array([1.]), 644, array([1.]), 645, array([1.]), 646, array([1.]), 647, array([1.]), 648, array([1.]), 649, array([1.]), 650, array([1.]), 651, array([1.]), 652, array([1.]), 653, array([1.]), 654, array([1.]), 655, array([1.]), 656, array([1.]), 657, array([1.]), 658, array([1.]), 659, array([1.]), 660, array([1.]), 661, array([1.]), 662, array([1.]), 663, array([1.]), 664, array([1.]), 665, array([1.]), 666, array([1.]), 667, array([1.]), 668, array([1.]), 669, array([1.]), 670, array([1.]), 671, array([1.]), 672, array([1.]), 673, array([1.]), 674, array([1.]), 675, array([1.]), 676, array([1.]), 677, array([0.]), 678, array([0.]), 679, array([0.]), 680, array([0.]), 681, array([0.]), 682, array([0.]), 683, array([1.]), 684, array([0.]), 685, array([0.]), 686, array([0.]), 687, array([0.]), 688, array([0.]), 689, array([0.]), 690, array([0.]), 691, array([0.]), 692, array([0.]), 693, array([0.]), 694, array([0.]), 695, array([0.]), 696, array([0.]), 697, array([0.]), 698, array([0.]), 699, array([0.]), 700, array([0.]), 701, array([0.]), 702, array([0.]), 703, array([0.]), 704, array([0.]), 705, array([0.]), 706, array([0.]), 707, array([0.]), 708, array([0.]), 709, array([1.]), 710, array([1.]), 711, array([1.]), 712, array([1.]), 713, array([1.]), 714, array([1.]), 715, array([1.]), 716, array([1.]), 717, array([1.]), 718, array([1.]), 719, array([1.]), 720, array([1.]), 721, array([1.]), 722, array([0.]), 723, array([1.]), 724, array([1.]), 725, array([1.]), 726, array([0.]), 727, array([1.]), 728, array([1.]), 729, array([1.]), 730, array([1.]), 731, array([1.]), 732, array([1.]), 733, array([1.]), 734, array([1.]), 735, array([1.]), 736, array([1.]), 737, array([1.]), 738, array([1.]), 739, array([1.]), 740, array([1.]), 741, array([1.]), 742, array([1.]), 743, array([1.]), 744, array([1.]), 745, array([1.]), 746, array([1.]), 747, array([1.]), 748, array([1.]), 749, array([1.]), 750, array([1.]), 751, array([1.]), 752, array([1.]), 753, array([1.]), 754, array([1.]), 755, array([1.]), 756, array([1.]), 757, array([1.]), 758, array([1.]), 759, array([1.]), 760, array([1.]), 761, array([1.]), 762, array([1.]), 763, array([0.]), 764, array([0.]), 765, array([0.]), 766, array([0.]), 767, array([0.]), 768, array([0.]), 769, array([0.]), 770, array([0.]), 771, array([0.]), 772, array([0.]), 773, array([0.]), 774, array([0.]), 775, array([0.]), 776, array([0.]), 777, array([0.]), 778, array([0.]), 779, array([0.]), 780, array([0.]), 781, array([0.]), 782, array([0.]), 783, array([0.]), 784, array([0.]), 785, array([0.]), 786, array([0.]), 787, array([0.]), 788, array([0.]), 789, array([0.]), 790, array([0.]), 791, array([0.]), 792, array([0.]), 793, array([0.]), 794, array([0.]), 795, array([0.]), 796, array([0.]), 797, array([0.]), 798, array([0.]), 799, array([0.]), 800, array([0.]), 801, array([0.]), 802, array([0.]), 803, array([0.]), 804, array([0.]), 805, array([0.]), 806, array([0.]), 807, array([0.]), 808, array([0.]), 809, array([0.]), 810, array([0.]), 811, array([0.]), 812, array([0.]), 813, array([0.]), 814, array([0.]), 815, array([0.]), 816, array([0.]), 817, array([0.]), 818, array([0.]), 819, array([0.]), 820, array([0.]), 821, array([0.]), 822, array([0.]), 823, array([0.]), 824, array([0.]), 825, array([0.]), 826, array([0.]), 827, array([0.]), 828, array([0.]), 829, array([0.]), 830, array([0.]), 831, array([0.]), 832, array([0.]), 833, array([0.]), 834, array([0.]), 835, array([0.]), 836, array([0.]), 837, array([0.]), 838, array([0.]), 839, array([0.]), 840, array([0.]), 841, array([0.]), 842, array([0.]), 843, array([0.]), 844, array([0.]), 845, array([0.]), 846, array([0.]), 847, array([0.]), 848, array([0.]), 849, array([0.]), 850, array([0.]), 851, array([0.]), 852, array([0.]), 853, array([0.]), 854, array([0.]), 855, array([0.]), 856, array([0.]), 857, array([0.]), 858, array([0.]), 859, array([0.]), 860, array([0.]), 861, array([0.]), 862, array([0.]), 863, array([0.]), 864, array([0.]), 865, array([0.]), 866, array([0.]), 867, array([0.]), 868, array([0.]), 869, array([0.]), 870, array([0.]), 871, array([0.]), 872, array([0.]), 873, array([0.]), 874, array([0.]), 875, array([0.]), 876, array([0.]), 877, array([0.]), 878, array([0.]), 879, array([0.]), 880, array([0.]), 881, array([0.]), 882, array([0.]), 883, array([0.]), 884, array([0.]), 885, array([0.]), 886, array([0.]), 887, array([0.]), 888, array([0.]), 889, array([0.]), 890, array([0.]), 891, array([0.]), 892, array([0.]), 893, array([0.]), 894, array([0.]), 895, array([0.]), 896, array([0.]), 897, array([0.]), 898, array([0.]), 899, array([0.]), 900, array([0.]), 901, array([0.]), 902, array([0.]), 903, array([0.]), 904, array([0.]), 905, array([0.]), 906, array([0.]), 907, array([0.]), 908, array([0.]), 909, array([0.]), 910, array([0.]), 911, array([0.]), 912, array([0.]), 913, array([0.]), 914, array([0.]), 915, array([0.]), 916, array([0.]), 917, array([0.]), 918, array([0.]), 919, array([0.]), 920, array([0.]), 921, array([0.]), 922, array([0.]), 923, array([0.]), 924, array([0.]), 925, array([0.]), 926, array([0.]), 927, array([0.]), 928, array([0.]), 929, array([0.]), 930, array([0.]), 931, array([0.]), 932, array([0.]), 933, array([0.]), 934, array([0.]), 935, array([0.]), 936, array([0.]), 937, array([0.]), 938, array([0.]), 939, array([0.]), 940, array([0.]), 941, array([0.]), 942, array([0.]), 943, array([0.]), 944, array([0.]), 945, array([0.]), 946, array([0.]), 947, array([0.]), 948, array([0.]), 949, array([0.]), 950, array([0.]), 951, array([0.]), 952, array([0.]), 953, array([0.]), 954, array([0.]), 955, array([0.]), 956, array([0.]), 957, array([0.]), 958, array([0.]), 959, array([0.]), 960, array([0.]), 961, array([0.]), 962, array([0.]), 963, array([0.]), 964, array([0.]), 965, array([0.]), 966, array([0.]), 967, array([0.]), 968, array([0.]), 969, array([0.]), 970, array([0.]), 971, array([0.]), 972, array([0.]), 973, array([0.]), 974, array([0.]), 975, array([0.]), 976, array([0.]), 977, array([0.]), 978, array([0.]), 979, array([0.]), 980, array([0.]), 981, array([0.]), 982, array([0.]), 983, array([0.]), 984, array([0.]), 985, array([0.]), 986, array([0.]), 987, array([0.]), 988, array([0.]), 989, array([0.]), 990, array([0.]), 991, array([0.]), 992, array([0.]), 993, array([0.]), 994, array([0.]), 995, array([0.]), 996, array([0.]), 997, array([0.]), 998, array([0.]), 999, array([0.]), 1000, array([0.]), 1001, array([0.]), 1002, array([0.]), 1003, array([0.]), 1004, array([0.]), 1005, array([0.]), 1006, array([0.]), 1007, array([0.]), 1008, array([0.]), 1009, array([0.]), 1010, array([0.]), 1011, array([0.]), 1012, array([0.]), 1013, array([0.]), 1014, array([0.]), 1015, array([0.]), 1016, array([0.]), 1017, array([0.]), 1018, array([0.]), 1019, array([0.]), 1020, array([0.]), 1021, array([0.]), 1022, array([0.]), 1023, array([0.]), 1024, array([0.]), 1025, array([0.]), 1026, array([0.]), 1027, array([0.]), 1028, array([0.]), 1029, array([0.]), 1030, array([0.]), 1031, array([0.]), 1032, array([0.]), 1033, array([0.]), 1034, array([0.]), 1035, array([0.]), 1036, array([0.]), 1037, array([0.]), 1038, array([0.]), 1039, array([0.]), 1040, array([0.]), 1041, array([0.]), 1042, array([0.]), 1043, array([0.]), 1044, array([0.]), 1045, array([0.]), 1046, array([0.]), 1047, array([0.]), 1048, array([0.]), 1049, array([0.]), 1050, array([0.]), 1051, array([0.]), 1052, array([0.]), 1053, array([0.]), 1054, array([0.]), 1055, array([0.]), 1056, array([0.]), 1057, array([0.]), 1058, array([0.]), 1059, array([0.]), 1060, array([0.]), 1061, array([0.]), 1062, array([0.]), 1063, array([0.]), 1064, array([0.]), 1065, array([0.]), 1066, array([0.]), 1067, array([0.]), 1068, array([0.]), 1069, array([0.]), 1070, array([0.]), 1071, array([0.]), 1072, array([0.]), 1073, array([0.]), 1074, array([0.]), 1075, array([0.]), 1076, array([0.]), 1077, array([0.]), 1078, array([0.]), 1079, array([0.]), 1080, array([0.]), 1081, array([0.]), 1082, array([0.]), 1083, array([0.]), 1084, array([0.]), 1085, array([0.]), 1086, array([0.]), 1087, array([0.]), 1088, array([0.]), 1089, array([0.]), 1090, array([0.]), 1091, array([0.]), 1092, array([0.]), 1093, array([0.]), 1094, array([0.]), 1095, array([0.]), 1096, array([0.]), 1097, array([1.]), 1098, array([1.]), 1099, array([1.]), 1100, array([1.]), 1101, array([1.]), 1102, array([1.]), 1103, array([1.]), 1104, array([1.]), 1105, array([1.]), 1106, array([1.]), 1107, array([1.]), 1108, array([1.]), 1109, array([1.]), 1110, array([1.]), 1111, array([1.]), 1112, array([1.]), 1113, array([1.]), 1114, array([1.]), 1115, array([1.]), 1116, array([1.]), 1117, array([1.]), 1118, array([1.]), 1119, array([1.]), 1120, array([1.]), 1121, array([1.]), 1122, array([1.]), 1123, array([1.]), 1124, array([1.]), 1125, array([1.]), 1126, array([1.]), 1127, array([1.]), 1128, array([1.]), 1129, array([1.]), 1130, array([1.]), 1131, array([1.]), 1132, array([1.]), 1133, array([1.]), 1134, array([1.]), 1135, array([1.]), 1136, array([1.]), 1137, array([1.]), 1138, array([1.]), 1139, array([1.]), 1140, array([1.]), 1141, array([1.]), 1142, array([1.]), 1143, array([1.]), 1144, array([1.]), 1145, array([1.]), 1146, array([1.]), 1147, array([1.]), 1148, array([1.]), 1149, array([1.]), 1150, array([1.]), 1151, array([1.]), 1152, array([1.]), 1153, array([1.]), 1154, array([1.]), 1155, array([1.]), 1156, array([1.]), 1157, array([1.]), 1158, array([1.]), 1159, array([1.]), 1160, array([1.]), 1161, array([1.]), 1162, array([1.]), 1163, array([1.]), 1164, array([1.]), 1165, array([1.]), 1166, array([1.]), 1167, array([1.]), 1168, array([1.]), 1169, array([1.]), 1170, array([1.]), 1171, array([1.]), 1172, array([1.]), 1173, array([1.]), 1174, array([1.]), 1175, array([1.]), 1176, array([1.]), 1177, array([1.]), 1178, array([1.]), 1179, array([1.]), 1180, array([1.]), 1181, array([1.]), 1182, array([1.]), 1183, array([1.]), 1184, array([1.]), 1185, array([1.]), 1186, array([1.]), 1187, array([1.]), 1188, array([1.]), 1189, array([1.]), 1190, array([1.]), 1191, array([1.]), 1192, array([1.]), 1193, array([1.]), 1194, array([1.]), 1195, array([1.]), 1196, array([1.]), 1197, array([1.]), 1198, array([1.]), 1199, array([1.]), 1200, array([1.]), 1201, array([1.]), 1202, array([1.]), 1203, array([1.]), 1204, array([1.]), 1205, array([1.]), 1206, array([1.]), 1207, array([1.]), 1208, array([1.]), 1209, array([1.]), 1210, array([1.]), 1211, array([1.]), 1212, array([1.]), 1213, array([1.]), 1214, array([1.]), 1215, array([1.]), 1216, array([1.]), 1217, array([1.]), 1218, array([1.]), 1219, array([1.]), 1220, array([1.]), 1221, array([0.]), 1222, array([0.]), 1223, array([0.]), 1224, array([0.]), 1225, array([0.]), 1226, array([0.]), 1227, array([0.]), 1228, array([0.]), 1229, array([0.]), 1230, array([0.]), 1231, array([0.]), 1232, array([0.]), 1233, array([0.]), 1234, array([0.]), 1235, array([0.]), 1236, array([0.]), 1237, array([0.]), 1238, array([0.]), 1239, array([0.]), 1240, array([0.]), 1241, array([0.]), 1242, array([0.]), 1243, array([0.]), 1244, array([0.]), 1245, array([0.]), 1246, array([0.]), 1247, array([0.]), 1248, array([0.]), 1249, array([0.]), 1250, array([0.]), 1251, array([0.]), 1252, array([0.]), 1253, array([0.]), 1254, array([0.]), 1255, array([0.]), 1256, array([0.]), 1257, array([0.]), 1258, array([0.]), 1259, array([0.]), 1260, array([0.]), 1261, array([0.]), 1262, array([0.]), 1263, array([0.]), 1264, array([0.]), 1265, array([0.]), 1266, array([0.]), 1267, array([0.]), 1268, array([0.]), 1269, array([0.]), 1270, array([0.]), 1271, array([0.]), 1272, array([0.]), 1273, array([0.]), 1274, array([0.]), 1275, array([0.]), 1276, array([0.]), 1277, array([0.]), 1278, array([0.]), 1279, array([0.]), 1280, array([0.]), 1281, array([0.]), 1282, array([0.]), 1283, array([0.]), 1284, array([0.]), 1285, array([0.]), 1286, array([0.]), 1287, array([0.]), 1288, array([0.]), 1289, array([0.]), 1290, array([0.]), 1291, array([0.]), 1292, array([0.]), 1293, array([0.]), 1294, array([0.]), 1295, array([0.]), 1296, array([0.]), 1297, array([0.]), 1298, array([0.]), 1299, array([0.]), 1300, array([0.]), 1301, array([0.]), 1302, array([0.]), 1303, array([0.]), 1304, array([0.]), 1305, array([0.]), 1306, array([0.]), 1307, array([0.]), 1308, array([0.]), 1309, array([0.]), 1310, array([0.]), 1311, array([0.]), 1312, array([0.]), 1313, array([0.]), 1314, array([0.]), 1315, array([0.]), 1316, array([0.]), 1317, array([0.]), 1318, array([0.]), 1319, array([0.]), 1320, array([0.]), 1321, array([0.]), 1322, array([0.]), 1323, array([0.]), 1324, array([0.]), 1325, array([0.]), 1326, array([0.]), 1327, array([0.]), 1328, array([0.]), 1329, array([0.]), 1330, array([0.]), 1331, array([0.]), 1332, array([0.]), 1333, array([0.]), 1334, array([0.]), 1335, array([0.]), 1336, array([0.]), 1337, array([0.]), 1338, array([0.]), 1339, array([0.]), 1340, array([0.]), 1341, array([0.]), 1342, array([0.]), 1343, array([0.]), 1344, array([0.]), 1345, array([0.]), 1346, array([0.]), 1347, array([0.]), 1348, array([0.]), 1349, array([0.]), 1350, array([0.]), 1351, array([0.]), 1352, array([0.]), 1353, array([0.]), 1354, array([0.]), 1355, array([0.]), 1356, array([0.]), 1357, array([0.]), 1358, array([0.]), 1359, array([0.]), 1360, array([0.]), 1361, array([0.]), 1362, array([0.]), 1363, array([0.]), 1364, array([0.]), 1365, array([0.]), 1366, array([0.]), 1367, array([0.]), 1368, array([0.]), 1369, array([0.]), 1370, array([0.]), 1371, array([0.]), 1372, array([0.]), 1373, array([0.]), 1374, array([0.]), 1375, array([0.]), 1376, array([0.]), 1377, array([0.]), 1378, array([0.]), 1379, array([0.]), 1380, array([0.]), 1381, array([0.]), 1382, array([0.]), 1383, array([0.]), 1384, array([0.]), 1385, array([0.]), 1386, array([0.]), 1387, array([0.]), 1388, array([0.]), 1389, array([0.]), 1390, array([0.]), 1391, array([0.]), 1392, array([0.]), 1393, array([0.]), 1394, array([0.]), 1395, array([0.]), 1396, array([0.]), 1397, array([0.]), 1398, array([0.]), 1399, array([0.]), 1400, array([0.]), 1401, array([0.]), 1402, array([0.]), 1403, array([0.]), 1404, array([0.]), 1405, array([0.]), 1406, array([0.]), 1407, array([0.]), 1408, array([0.]), 1409, array([0.]), 1410, array([0.]), 1411, array([0.]), 1412, array([0.]), 1413, array([0.]), 1414, array([0.]), 1415, array([0.]), 1416, array([0.]), 1417, array([0.]), 1418, array([0.]), 1419, array([0.]), 1420, array([0.]), 1421, array([0.]), 1422, array([0.]), 1423, array([0.]), 1424, array([0.]), 1425, array([0.]), 1426, array([0.]), 1427, array([0.]), 1428, array([0.]), 1429, array([0.]), 1430, array([0.]), 1431, array([0.]), 1432, array([0.]), 1433, array([0.]), 1434, array([0.]), 1435, array([0.]), 1436, array([0.]), 1437, array([0.]), 1438, array([0.]), 1439, array([0.]), 1440, array([0.]), 1441, array([0.]), 1442, array([0.]), 1443, array([0.]), 1444, array([0.]), 1445, array([0.]), 1446, array([0.]), 1447, array([0.]), 1448, array([0.]), 1449, array([0.]), 1450, array([0.]), 1451, array([0.]), 1452, array([0.]), 1453, array([0.]), 1454, array([0.]), 1455, array([0.]), 1456, array([0.]), 1457, array([0.]), 1458, array([0.]), 1459, array([0.]), 1460, array([0.]), 1461, array([0.]), 1462, array([0.]), 1463, array([0.]), 1464, array([0.]), 1465, array([0.]), 1466, array([0.]), 1467, array([0.]), 1468, array([0.]), 1469, array([0.]), 1470, array([0.]), 1471, array([0.]), 1472, array([0.]), 1473, array([0.]), 1474, array([0.]), 1475, array([0.]), 1476, array([0.]), 1477, array([0.]), 1478, array([0.]), 1479, array([0.]), 1480, array([0.]), 1481, array([0.]), 1482, array([0.]), 1483, array([0.]), 1484, array([0.]), 1485, array([0.]), 1486, array([0.]), 1487, array([0.]), 1488, array([0.]), 1489, array([0.]), 1490, array([0.]), 1491, array([0.]), 1492, array([0.]), 1493, array([0.]), 1494, array([0.]), 1495, array([0.]), 1496, array([0.]), 1497, array([0.]), 1498, array([0.]), 1499, array([0.]), 1500, array([0.]), 1501, array([0.]), 1502, array([0.]), 1503, array([0.]), 1504, array([0.]), 1505, array([0.]), 1506, array([0.]), 1507, array([0.]), 1508, array([0.]), 1509, array([0.]), 1510, array([0.]), 1511, array([0.]), 1512, array([0.]), 1513, array([0.]), 1514, array([0.]), 1515, array([0.]), 1516, array([0.]), 1517, array([0.]), 1518, array([0.]), 1519, array([0.]), 1520, array([0.]), 1521, array([0.]), 1522, array([0.]), 1523, array([0.]), 1524, array([0.]), 1525, array([0.]), 1526, array([0.]), 1527, array([0.]), 1528, array([0.]), 1529, array([0.]), 1530, array([0.]), 1531, array([0.]), 1532, array([0.]), 1533, array([0.]), 1534, array([0.]), 1535, array([0.]), 1536, array([0.]), 1537, array([0.]), 1538, array([0.]), 1539, array([0.]), 1540, array([0.]), 1541, array([0.]), 1542, array([0.]), 1543, array([0.]), 1544, array([0.]), 1545, array([0.]), 1546, array([0.]), 1547, array([0.]), 1548, array([0.]), 1549, array([0.]), 1550, array([0.]), 1551, array([0.]), 1552, array([0.]), 1553, array([0.]), 1554, array([0.]), 1555, array([0.]), 1556, array([0.]), 1557, array([0.]), 1558, array([0.]), 1559, array([0.]), 1560, array([0.]), 1561, array([0.]), 1562, array([0.]), 1563, array([1.]), 1564, array([1.]), 1565, array([1.]), 1566, array([1.]), 1567, array([1.]), 1568, array([1.]), 1569, array([1.]), 1570, array([1.]), 1571, array([1.]), 1572, array([1.]), 1573, array([1.]), 1574, array([1.]), 1575, array([1.]), 1576, array([1.]), 1577, array([1.]), 1578, array([1.]), 1579, array([1.]), 1580, array([1.]), 1581, array([1.]), 1582, array([1.]), 1583, array([1.]), 1584, array([1.]), 1585, array([1.]), 1586, array([1.]), 1587, array([1.]), 1588, array([1.]), 1589, array([1.]), 1590, array([1.]), 1591, array([1.]), 1592, array([1.]), 1593, array([1.]), 1594, array([1.]), 1595, array([1.]), 1596, array([1.]), 1597, array([1.]), 1598, array([1.]), 1599, array([1.]), 1600, array([1.]), 1601, array([1.]), 1602, array([1.]), 1603, array([1.]), 1604, array([1.]), 1605, array([1.]), 1606, array([1.]), 1607, array([1.]), 1608, array([1.]), 1609, array([1.]), 1610, array([1.]), 1611, array([1.]), 1612, array([1.]), 1613, array([1.]), 1614, array([1.]), 1615, array([1.]), 1616, array([1.]), 1617, array([1.]), 1618, array([1.]), 1619, array([1.]), 1620, array([1.]), 1621, array([1.]), 1622, array([1.]), 1623, array([1.]), 1624, array([1.]), 1625, array([1.]), 1626, array([0.]), 1627, array([0.]), 1628, array([0.]), 1629, array([0.]), 1630, array([0.]), 1631, array([0.]), 1632, array([0.]), 1633, array([0.]), 1634, array([0.]), 1635, array([0.]), 1636, array([0.]), 1637, array([0.]), 1638, array([0.]), 1639, array([0.]), 1640, array([0.]), 1641, array([0.]), 1642, array([0.]), 1643, array([0.]), 1644, array([0.]), 1645, array([0.]), 1646, array([0.]), 1647, array([0.]), 1648, array([0.]), 1649, array([0.]), 1650, array([0.]), 1651, array([0.]), 1652, array([0.]), 1653, array([0.]), 1654, array([0.]), 1655, array([0.]), 1656, array([0.]), 1657, array([0.]), 1658, array([0.]), 1659, array([0.]), 1660, array([0.]), 1661, array([0.]), 1662, array([0.]), 1663, array([0.]), 1664, array([0.]), 1665, array([0.]), 1666, array([0.]), 1667, array([0.]), 1668, array([0.]), 1669, array([0.]), 1670, array([0.]), 1671, array([0.]), 1672, array([0.]), 1673, array([0.]), 1674, array([0.]), 1675, array([0.]), 1676, array([0.]), 1677, array([0.]), 1678, array([0.]), 1679, array([0.]), 1680, array([0.]), 1681, array([0.]), 1682, array([0.]), 1683, array([0.]), 1684, array([0.]), 1685, array([0.]), 1686, array([0.]), 1687, array([0.]), 1688, array([0.]), 1689, array([0.]), 1690, array([0.]), 1691, array([0.]), 1692, array([0.]), 1693, array([0.]), 1694, array([0.]), 1695, array([0.]), 1696, array([0.]), 1697, array([0.]), 1698, array([0.]), 1699, array([0.]), 1700, array([0.]), 1701, array([0.]), 1702, array([0.]), 1703, array([0.]), 1704, array([0.]), 1705, array([0.]), 1706, array([0.]), 1707, array([0.]), 1708, array([0.]), 1709, array([0.]), 1710, array([0.]), 1711, array([0.]), 1712, array([0.]), 1713, array([0.]), 1714, array([0.]), 1715, array([0.]), 1716, array([0.]), 1717, array([0.]), 1718, array([0.]), 1719, array([0.]), 1720, array([0.]), 1721, array([0.]), 1722, array([0.]), 1723, array([0.]), 1724, array([0.]), 1725, array([0.]), 1726, array([0.]), 1727, array([0.]), 1728, array([0.]), 1729, array([0.]), 1730, array([0.]), 1731, array([0.]), 1732, array([0.]), 1733, array([0.]), 1734, array([0.]), 1735, array([0.]), 1736, array([0.]), 1737, array([0.]), 1738, array([0.]), 1739, array([0.]), 1740, array([0.]), 1741, array([0.]), 1742, array([0.]), 1743, array([0.]), 1744, array([0.]), 1745, array([0.]), 1746, array([0.]), 1747, array([0.]), 1748, array([0.]), 1749, array([0.]), 1750, array([0.]), 1751, array([0.]), 1752, array([0.]), 1753, array([0.]), 1754, array([0.]), 1755, array([0.]), 1756, array([0.]), 1757, array([0.]), 1758, array([0.]), 1759, array([0.]), 1760, array([0.]), 1761, array([0.]), 1762, array([0.]), 1763, array([0.]), 1764, array([0.]), 1765, array([0.]), 1766, array([0.]), 1767, array([0.]), 1768, array([0.]), 1769, array([0.]), 1770, array([0.]), 1771, array([0.]), 1772, array([0.]), 1773, array([0.]), 1774, array([0.]), 1775, array([0.]), 1776, array([0.]), 1777, array([0.]), 1778, array([0.]), 1779, array([0.]), 1780, array([0.]), 1781, array([0.]), 1782, array([0.]), 1783, array([0.]), 1784, array([0.]), 1785, array([0.]), 1786, array([0.]), 1787, array([0.]), 1788, array([0.]), 1789, array([0.]), 1790, array([0.]), 1791, array([0.]), 1792, array([0.]), 1793, array([0.]), 1794, array([0.]), 1795, array([0.]), 1796, array([0.]), 1797, array([0.]), 1798, array([0.]), 1799, array([0.]), 1800, array([0.]), 1801, array([0.]), 1802, array([0.]), 1803, array([0.]), 1804, array([0.]), 1805, array([0.]), 1806, array([0.]), 1807, array([0.]), 1808, array([0.]), 1809, array([0.]), 1810, array([0.]), 1811, array([0.]), 1812, array([0.]), 1813, array([0.]), 1814, array([0.]), 1815, array([0.]), 1816, array([0.]), 1817, array([0.]), 1818, array([0.]), 1819, array([0.]), 1820, array([0.]), 1821, array([0.]), 1822, array([0.]), 1823, array([0.]), 1824, array([0.]), 1825, array([0.]), 1826, array([0.]), 1827, array([0.]), 1828, array([0.]), 1829, array([0.]), 1830, array([0.]), 1831, array([0.]), 1832, array([0.]), 1833, array([0.]), 1834, array([0.]), 1835, array([0.]), 1836, array([0.]), 1837, array([0.]), 1838, array([0.]), 1839, array([0.]), 1840, array([0.]), 1841, array([0.]), 1842, array([0.]), 1843, array([0.]), 1844, array([0.]), 1845, array([0.]), 1846, array([0.]), 1847, array([0.]), 1848, array([0.]), 1849, array([0.]), 1850, array([0.]), 1851, array([0.]), 1852, array([0.]), 1853, array([0.]), 1854, array([0.]), 1855, array([0.]), 1856, array([0.]), 1857, array([0.]), 1858, array([0.]), 1859, array([0.]), 1860, array([0.]), 1861, array([0.]), 1862, array([0.]), 1863, array([0.]), 1864, array([0.]), 1865, array([0.]), 1866, array([0.]), 1867, array([0.]), 1868, array([0.]), 1869, array([0.]), 1870, array([0.]), 1871, array([0.]), 1872, array([0.]), 1873, array([0.]), 1874, array([0.]), 1875, array([0.]), 1876, array([0.]), 1877, array([1.]), 1878, array([1.]), 1879, array([1.]), 1880, array([1.]), 1881, array([1.]), 1882, array([1.]), 1883, array([1.]), 1884, array([1.]), 1885, array([1.]), 1886, array([1.]), 1887, array([1.]), 1888, array([1.]), 1889, array([1.]), 1890, array([1.]), 1891, array([1.]), 1892, array([1.]), 1893, array([1.]), 1894, array([1.]), 1895, array([1.]), 1896, array([1.]), 1897, array([1.]), 1898, array([1.]), 1899, array([1.]), 1900, array([1.]), 1901, array([1.]), 1902, array([1.]), 1903, array([1.]), 1904, array([1.]), 1905, array([1.]), 1906, array([1.]), 1907, array([1.]), 1908, array([1.]), 1909, array([1.]), 1910, array([1.]), 1911, array([1.]), 1912, array([1.]), 1913, array([1.]), 1914, array([1.]), 1915, array([1.]), 1916, array([1.]), 1917, array([1.]), 1918, array([1.]), 1919, array([1.]), 1920, array([1.]), 1921, array([1.]), 1922, array([1.]), 1923, array([1.]), 1924, array([1.]), 1925, array([1.]), 1926, array([1.]), 1927, array([1.]), 1928, array([1.]), 1929, array([1.]), 1930, array([1.]), 1931, array([1.]), 1932, array([1.]), 1933, array([1.]), 1934, array([1.]), 1935, array([1.]), 1936, array([1.]), 1937, array([1.]), 1938, array([1.]), 1939, array([1.]), 1940, array([1.]), 1941, array([1.]), 1942, array([1.]), 1943, array([1.]), 1944, array([1.]), 1945, array([1.]), 1946, array([1.]), 1947, array([1.]), 1948, array([1.]), 1949, array([1.]), 1950, array([1.]), 1951, array([1.]), 1952, array([1.]), 1953, array([1.]), 1954, array([1.]), 1955, array([1.]), 1956, array([1.]), 1957, array([1.]), 1958, array([1.]), 1959, array([1.]), 1960, array([1.]), 1961, array([1.]), 1962, array([1.]), 1963, array([1.]), 1964, array([1.]), 1965, array([1.]), 1966, array([1.]), 1967, array([1.]), 1968, array([1.]), 1969, array([1.])]\n"
     ]
    }
   ],
   "source": [
    "mat_file_io = io.loadmat('./sensors-19-04565-s001/eHomeSeniors dataset/melexis sensor/datos matlab/melexis-G1-2-f03-data.mat')\n",
    "y_predict = []\n",
    "for i in range(len(mat_file_io.get('melexisG12f03'))):\n",
    "    y_predict.append(i)\n",
    "    y_predict.append(clf.predict(mat_file_io.get('melexisG12f03')[i].reshape((1,-1))))\n",
    "    \n",
    "print(y_predict)"
   ]
  },
  {
   "cell_type": "code",
   "execution_count": 49,
   "id": "3c8ff28e",
   "metadata": {},
   "outputs": [
    {
     "name": "stderr",
     "output_type": "stream",
     "text": [
      "C:\\Users\\Flora\\anaconda3\\envs\\silcream\\lib\\site-packages\\sklearn\\linear_model\\_logistic.py:818: ConvergenceWarning: lbfgs failed to converge (status=1):\n",
      "STOP: TOTAL NO. of ITERATIONS REACHED LIMIT.\n",
      "\n",
      "Increase the number of iterations (max_iter) or scale the data as shown in:\n",
      "    https://scikit-learn.org/stable/modules/preprocessing.html\n",
      "Please also refer to the documentation for alternative solver options:\n",
      "    https://scikit-learn.org/stable/modules/linear_model.html#logistic-regression\n",
      "  extra_warning_msg=_LOGISTIC_SOLVER_CONVERGENCE_MSG,\n",
      "C:\\Users\\Flora\\anaconda3\\envs\\silcream\\lib\\site-packages\\sklearn\\linear_model\\_logistic.py:818: ConvergenceWarning: lbfgs failed to converge (status=1):\n",
      "STOP: TOTAL NO. of ITERATIONS REACHED LIMIT.\n",
      "\n",
      "Increase the number of iterations (max_iter) or scale the data as shown in:\n",
      "    https://scikit-learn.org/stable/modules/preprocessing.html\n",
      "Please also refer to the documentation for alternative solver options:\n",
      "    https://scikit-learn.org/stable/modules/linear_model.html#logistic-regression\n",
      "  extra_warning_msg=_LOGISTIC_SOLVER_CONVERGENCE_MSG,\n",
      "C:\\Users\\Flora\\anaconda3\\envs\\silcream\\lib\\site-packages\\sklearn\\linear_model\\_logistic.py:818: ConvergenceWarning: lbfgs failed to converge (status=1):\n",
      "STOP: TOTAL NO. of ITERATIONS REACHED LIMIT.\n",
      "\n",
      "Increase the number of iterations (max_iter) or scale the data as shown in:\n",
      "    https://scikit-learn.org/stable/modules/preprocessing.html\n",
      "Please also refer to the documentation for alternative solver options:\n",
      "    https://scikit-learn.org/stable/modules/linear_model.html#logistic-regression\n",
      "  extra_warning_msg=_LOGISTIC_SOLVER_CONVERGENCE_MSG,\n"
     ]
    },
    {
     "data": {
      "text/plain": [
       "array([0.86103393, 0.89401141, 0.77738374])"
      ]
     },
     "execution_count": 49,
     "metadata": {},
     "output_type": "execute_result"
    }
   ],
   "source": [
    "from sklearn.model_selection import cross_val_score\n",
    "cross_val_score(clf, X_train, y_train, cv=3, scoring=\"accuracy\")"
   ]
  },
  {
   "cell_type": "code",
   "execution_count": 50,
   "id": "bfd56cf7",
   "metadata": {},
   "outputs": [
    {
     "name": "stderr",
     "output_type": "stream",
     "text": [
      "C:\\Users\\Flora\\anaconda3\\envs\\silcream\\lib\\site-packages\\sklearn\\linear_model\\_logistic.py:818: ConvergenceWarning: lbfgs failed to converge (status=1):\n",
      "STOP: TOTAL NO. of ITERATIONS REACHED LIMIT.\n",
      "\n",
      "Increase the number of iterations (max_iter) or scale the data as shown in:\n",
      "    https://scikit-learn.org/stable/modules/preprocessing.html\n",
      "Please also refer to the documentation for alternative solver options:\n",
      "    https://scikit-learn.org/stable/modules/linear_model.html#logistic-regression\n",
      "  extra_warning_msg=_LOGISTIC_SOLVER_CONVERGENCE_MSG,\n",
      "C:\\Users\\Flora\\anaconda3\\envs\\silcream\\lib\\site-packages\\sklearn\\linear_model\\_logistic.py:818: ConvergenceWarning: lbfgs failed to converge (status=1):\n",
      "STOP: TOTAL NO. of ITERATIONS REACHED LIMIT.\n",
      "\n",
      "Increase the number of iterations (max_iter) or scale the data as shown in:\n",
      "    https://scikit-learn.org/stable/modules/preprocessing.html\n",
      "Please also refer to the documentation for alternative solver options:\n",
      "    https://scikit-learn.org/stable/modules/linear_model.html#logistic-regression\n",
      "  extra_warning_msg=_LOGISTIC_SOLVER_CONVERGENCE_MSG,\n",
      "C:\\Users\\Flora\\anaconda3\\envs\\silcream\\lib\\site-packages\\sklearn\\linear_model\\_logistic.py:818: ConvergenceWarning: lbfgs failed to converge (status=1):\n",
      "STOP: TOTAL NO. of ITERATIONS REACHED LIMIT.\n",
      "\n",
      "Increase the number of iterations (max_iter) or scale the data as shown in:\n",
      "    https://scikit-learn.org/stable/modules/preprocessing.html\n",
      "Please also refer to the documentation for alternative solver options:\n",
      "    https://scikit-learn.org/stable/modules/linear_model.html#logistic-regression\n",
      "  extra_warning_msg=_LOGISTIC_SOLVER_CONVERGENCE_MSG,\n",
      "C:\\Users\\Flora\\anaconda3\\envs\\silcream\\lib\\site-packages\\sklearn\\linear_model\\_logistic.py:818: ConvergenceWarning: lbfgs failed to converge (status=1):\n",
      "STOP: TOTAL NO. of ITERATIONS REACHED LIMIT.\n",
      "\n",
      "Increase the number of iterations (max_iter) or scale the data as shown in:\n",
      "    https://scikit-learn.org/stable/modules/preprocessing.html\n",
      "Please also refer to the documentation for alternative solver options:\n",
      "    https://scikit-learn.org/stable/modules/linear_model.html#logistic-regression\n",
      "  extra_warning_msg=_LOGISTIC_SOLVER_CONVERGENCE_MSG,\n"
     ]
    },
    {
     "data": {
      "text/plain": [
       "array([0.86103393, 0.89401141, 0.77738374])"
      ]
     },
     "execution_count": 50,
     "metadata": {},
     "output_type": "execute_result"
    }
   ],
   "source": [
    "from sklearn.preprocessing import StandardScaler\n",
    "\n",
    "scaler = StandardScaler()\n",
    "X_train_scale = scaler.fit_transform(X_train)\n",
    "\n",
    "clf.fit(X_train_scale, y_train)\n",
    "cross_val_score(clf, X_train, y_train, cv=3, scoring=\"accuracy\")"
   ]
  },
  {
   "cell_type": "code",
   "execution_count": 51,
   "id": "617249c1",
   "metadata": {},
   "outputs": [
    {
     "name": "stdout",
     "output_type": "stream",
     "text": [
      "0.713012958963283\n"
     ]
    }
   ],
   "source": [
    "X_test_scale = scaler.fit_transform(X_test)\n",
    "prediction = clf.predict(X_test_scale)\n",
    "result = (prediction == y_test).mean()\n",
    "print(result)"
   ]
  },
  {
   "cell_type": "code",
   "execution_count": 52,
   "id": "c5d15b0a",
   "metadata": {},
   "outputs": [],
   "source": [
    "# fig = plt.figure()\n",
    "# random_pick = np.random.randint(low=0, high=1879, size= 10)\n",
    "# print(y[random_pick])\n",
    "# for i in range(10):\n",
    "#     idx = random_pick[i]\n",
    "#     img = np.reshape(X[idx], (24, 32))\n",
    "#     plot = fig.add_subplot(1, 10, i+ 1)\n",
    "#     plot.imshow(img)"
   ]
  },
  {
   "cell_type": "code",
   "execution_count": 53,
   "id": "deddcee0",
   "metadata": {},
   "outputs": [],
   "source": [
    "# mat_file = io.loadmat('./sensors-19-04565-s001/eHomeSeniors dataset/melexis sensor/datos matlab/melexis-G1-1-f01-data.mat')\n",
    "# print(mat_file)\n",
    "# print(mat_file.get('melexisG11f01'))\n",
    "# print(mat_file.get('melexisG11f01').shape)\n",
    "# print(mat_file.get('melexisG11f01'))\n",
    "# #print(mat_file.get('depo1')[-1])\n",
    "\n",
    "# img = np.array(mat_file.get('melexisG11f01')[10]).reshape(24,32)\n",
    "# print(img.shape)\n",
    "# print(img)\n",
    "# fig = plt.rcParams['figure.figsize'] = [24, 32]\n",
    "# plt.imsave('./img.png',img, vmin=17,vmax=23,cmap='viridis', interpolation='nearest')\n",
    "# #plt.colorbar(ax)\n",
    "# #plt.savefig('./img.png')"
   ]
  },
  {
   "cell_type": "code",
   "execution_count": 54,
   "id": "718f0674",
   "metadata": {},
   "outputs": [],
   "source": [
    "# # after \n",
    "# frames = []\n",
    "\n",
    "# for i in range(len(mat_file.get('melexisG11f03'))):\n",
    "#     img = np.array(mat_file.get('melexisG11f03')[i]).reshape(24,32)\n",
    "#     fig = plt.rcParams['figure.figsize'] = [24, 32]\n",
    "#     #ax = plt.imshow(img, vmin=17,vmax=23,cmap='viridis', interpolation='nearest')\n",
    "#     #plt.colorbar(ax)\n",
    "#     frames.append([plt.imshow(img, vmin=17,vmax=23,cmap='viridis',animated=True ,interpolation='nearest')])\n"
   ]
  },
  {
   "cell_type": "code",
   "execution_count": 55,
   "id": "0c6e3f46",
   "metadata": {},
   "outputs": [],
   "source": [
    "# fig, ax = plt.subplots()\n",
    "# ims = []\n",
    "# for i in range(len(mat_file.get('melexisG11f03'))):\n",
    "#     im = ax.imshow(np.array(mat_file.get('melexisG11f03')[i]).reshape(24,32))\n",
    "#     ims.append([im])\n",
    "\n",
    "# ani = animation.ArtistAnimation(fig, ims, interval=50, blit=True, repeat_delay=1000)\n",
    "# ani.save(\"melexisG11f03.gif\")"
   ]
  },
  {
   "cell_type": "code",
   "execution_count": null,
   "id": "f3b9c8c5",
   "metadata": {},
   "outputs": [],
   "source": []
  },
  {
   "cell_type": "code",
   "execution_count": 56,
   "id": "d2a66d6b",
   "metadata": {},
   "outputs": [],
   "source": [
    "# ani = animation.Animation(fig, frames, blit=True)\n",
    "# ani.save('1.mp4', fps=30, extra_args=['-vcodec', 'libx264'])"
   ]
  },
  {
   "cell_type": "code",
   "execution_count": 57,
   "id": "e054e8d2",
   "metadata": {},
   "outputs": [],
   "source": [
    "# for i in range(len(mat_file.get('melexisG21f01'))):\n",
    "#     img = np.array(mat_file.get('melexisG21f01')[i]).reshape(24,32)\n",
    "#     fig = plt.rcParams['figure.figsize'] = [24, 32]\n",
    "#     ax = plt.imshow(img, vmin=17,vmax=23,cmap='viridis', interpolation='nearest')\n",
    "#     ani = FuncAnimation(fig,img)\n",
    "#     plt.colorbar(ax)\n",
    "#     plt.show()\n",
    "# # print(len(mat_file.get('melexisG21f01')))\n"
   ]
  },
  {
   "cell_type": "code",
   "execution_count": 58,
   "id": "0f173f83",
   "metadata": {},
   "outputs": [],
   "source": [
    "# ani = FuncAnimation(fig, frames=)"
   ]
  },
  {
   "cell_type": "code",
   "execution_count": null,
   "id": "eab880e2",
   "metadata": {},
   "outputs": [],
   "source": [
    "\n",
    "    "
   ]
  },
  {
   "cell_type": "code",
   "execution_count": 59,
   "id": "a95ab2d2",
   "metadata": {},
   "outputs": [],
   "source": [
    "# print(len(mat_file.get('melexisG11f11')))\n",
    "# print(len(mat_file.get('melexisG11f11')[0]))\n",
    "# print(mat_file.get('melexisG11f11')[0])\n",
    "# for i in range(0, len(mat_file.get('melexisG11f11'))):\n",
    "#     img = np.array(mat_file.get('melexisG11f11')[i]).reshape(32,24)\n",
    "#     plt.rcParams['figure.figsize'] = [32, 24]\n",
    "#     plt.imshow(img, cmap='hot', interpolation='nearest')\n",
    "#     plt.savefig(f'{i}.png')\n",
    "               \n",
    "\n"
   ]
  },
  {
   "cell_type": "code",
   "execution_count": 60,
   "id": "2bff2d81",
   "metadata": {},
   "outputs": [],
   "source": [
    "# img = np.array(mat_file.get('melexisG11f11')[0]).reshape(32,24)\n",
    "# plt.rcParams['figure.figsize'] = [32, 24]\n",
    "# plt.imshow(img, cmap='hot', interpolation='nearest')\n",
    "# plt.show()"
   ]
  },
  {
   "cell_type": "code",
   "execution_count": 61,
   "id": "55cef188",
   "metadata": {},
   "outputs": [],
   "source": [
    "# mat_file = io.loadmat('./sensors-19-04565-s001/eHomeSeniors dataset/melexis sensor/datos matlab/melexis-G2-1-f01-data.mat')\n",
    "# fig, ax = plt.subplots()\n",
    "# ims = []\n",
    "# for i in range(len(mat_file.get('melexisG21f01'))):\n",
    "#     im = ax.imshow(np.array(mat_file.get('melexisG21f01')[i]).reshape(24,32))\n",
    "#     ims.append([im])\n",
    "\n",
    "# ani = animation.ArtistAnimation(fig, ims, interval=50, blit=True, repeat_delay=1000)\n",
    "# ani.save(\"melexisG21f01.gif\")"
   ]
  },
  {
   "cell_type": "code",
   "execution_count": 62,
   "id": "ce5bdf2b",
   "metadata": {},
   "outputs": [],
   "source": [
    "# mat_file = io.loadmat('./sensors-19-04565-s001/eHomeSeniors dataset/melexis sensor/datos matlab/melexis-G2-1-f02-data.mat')\n",
    "# fig, ax = plt.subplots()\n",
    "# ims = []\n",
    "# for i in range(len(mat_file.get('melexisG21f02'))):\n",
    "#     im = ax.imshow(np.array(mat_file.get('melexisG21f02')[i]).reshape(24,32))\n",
    "#     ims.append([im])\n",
    "\n",
    "# ani = animation.ArtistAnimation(fig, ims, interval=50, blit=True, repeat_delay=1000)\n",
    "# ani.save(\"melexisG21f02.gif\")"
   ]
  },
  {
   "cell_type": "code",
   "execution_count": 63,
   "id": "a7eac612",
   "metadata": {},
   "outputs": [],
   "source": [
    "# # melexisG12f03 다시 만들고 melexisG13f03 생성\n",
    "# mat_file = io.loadmat('./sensors-19-04565-s001/eHomeSeniors dataset/melexis sensor/datos matlab/melexis-G2-1-f03-data.mat')\n",
    "# fig, ax = plt.subplots()\n",
    "# ims = []\n",
    "# for i in range(len(mat_file.get('melexisG21f03'))):\n",
    "#     im = ax.imshow(np.array(mat_file.get('melexisG21f03')[i]).reshape(24,32))\n",
    "#     ims.append([im])\n",
    "\n",
    "# ani = animation.ArtistAnimation(fig, ims, interval=50, blit=True, repeat_delay=1000)\n",
    "# ani.save(\"melexisG21f03.gif\")"
   ]
  },
  {
   "cell_type": "code",
   "execution_count": 64,
   "id": "a73da4e8",
   "metadata": {},
   "outputs": [],
   "source": [
    "# mat_file = io.loadmat('./sensors-19-04565-s001/eHomeSeniors dataset/melexis sensor/datos matlab/melexis-G2-1-f04-data.mat')"
   ]
  },
  {
   "cell_type": "code",
   "execution_count": 65,
   "id": "f15f3de7",
   "metadata": {},
   "outputs": [],
   "source": [
    "# fig, ax = plt.subplots()\n",
    "# ims = []\n",
    "# for i in range(len(mat_file.get('melexisG21f04'))):\n",
    "#     im = ax.imshow(np.array(mat_file.get('melexisG21f04')[i]).reshape(24,32))\n",
    "#     ims.append([im])\n",
    "\n",
    "# ani = animation.ArtistAnimation(fig, ims, interval=50, blit=True, repeat_delay=1000)\n",
    "# ani.save(\"melexisG21f04.gif\")"
   ]
  },
  {
   "cell_type": "code",
   "execution_count": 66,
   "id": "09151007",
   "metadata": {},
   "outputs": [],
   "source": [
    "# mat_file = io.loadmat('./sensors-19-04565-s001/eHomeSeniors dataset/melexis sensor/datos matlab/melexis-G2-1-f05-data.mat')\n",
    "# fig, ax = plt.subplots()\n",
    "# ims = []\n",
    "# for i in range(len(mat_file.get('melexisG21f05'))):\n",
    "#     im = ax.imshow(np.array(mat_file.get('melexisG21f05')[i]).reshape(24,32))\n",
    "#     ims.append([im])\n",
    "\n",
    "# ani = animation.ArtistAnimation(fig, ims, interval=50, blit=True, repeat_delay=1000)\n",
    "# ani.save(\"melexisG21f05.gif\")"
   ]
  },
  {
   "cell_type": "code",
   "execution_count": 67,
   "id": "150baacb",
   "metadata": {},
   "outputs": [],
   "source": [
    "# mat_file = io.loadmat('./sensors-19-04565-s001/eHomeSeniors dataset/melexis sensor/datos matlab/melexis-G2-1-f06-data.mat')\n",
    "# fig, ax = plt.subplots()\n",
    "# ims = []\n",
    "# for i in range(len(mat_file.get('melexisG21f06'))):\n",
    "#     im = ax.imshow(np.array(mat_file.get('melexisG21f06')[i]).reshape(24,32))\n",
    "#     ims.append([im])\n",
    "\n",
    "# ani = animation.ArtistAnimation(fig, ims, interval=50, blit=True, repeat_delay=1000)\n",
    "# ani.save(\"melexisG21f06.gif\")"
   ]
  },
  {
   "cell_type": "code",
   "execution_count": 68,
   "id": "a911b3bc",
   "metadata": {},
   "outputs": [],
   "source": [
    "# mat_file = io.loadmat('./sensors-19-04565-s001/eHomeSeniors dataset/melexis sensor/datos matlab/melexis-G2-1-f07-data.mat')\n",
    "# fig, ax = plt.subplots()\n",
    "# ims = []\n",
    "# for i in range(len(mat_file.get('melexisG21f07'))):\n",
    "#     im = ax.imshow(np.array(mat_file.get('melexisG21f07')[i]).reshape(24,32))\n",
    "#     ims.append([im])\n",
    "\n",
    "# ani = animation.ArtistAnimation(fig, ims, interval=50, blit=True, repeat_delay=1000)\n",
    "# ani.save(\"melexisG21f07.gif\")"
   ]
  },
  {
   "cell_type": "code",
   "execution_count": 69,
   "id": "fdbb867b",
   "metadata": {},
   "outputs": [],
   "source": [
    "# mat_file = io.loadmat('./sensors-19-04565-s001/eHomeSeniors dataset/melexis sensor/datos matlab/melexis-G2-1-f08-data.mat')\n",
    "# fig, ax = plt.subplots()\n",
    "# ims = []\n",
    "# for i in range(len(mat_file.get('melexisG21f08'))):\n",
    "#     im = ax.imshow(np.array(mat_file.get('melexisG21f08')[i]).reshape(24,32))\n",
    "#     ims.append([im])\n",
    "\n",
    "# ani = animation.ArtistAnimation(fig, ims, interval=50, blit=True, repeat_delay=1000)\n",
    "# ani.save(\"melexisG21f08.gif\")"
   ]
  },
  {
   "cell_type": "code",
   "execution_count": 70,
   "id": "566e8f90",
   "metadata": {},
   "outputs": [],
   "source": [
    "# mat_file = io.loadmat('./sensors-19-04565-s001/eHomeSeniors dataset/melexis sensor/datos matlab/melexis-G2-1-f09-data.mat')\n",
    "# fig, ax = plt.subplots()\n",
    "# ims = []\n",
    "# for i in range(len(mat_file.get('melexisG21f09'))):\n",
    "#     im = ax.imshow(np.array(mat_file.get('melexisG21f09')[i]).reshape(24,32))\n",
    "#     ims.append([im])\n",
    "\n",
    "# ani = animation.ArtistAnimation(fig, ims, interval=50, blit=True, repeat_delay=1000)\n",
    "# ani.save(\"melexisG21f09.gif\")"
   ]
  },
  {
   "cell_type": "code",
   "execution_count": 71,
   "id": "69a58235",
   "metadata": {},
   "outputs": [],
   "source": [
    "# mat_file = io.loadmat('./sensors-19-04565-s001/eHomeSeniors dataset/melexis sensor/datos matlab/melexis-G2-1-f10-data.mat')\n",
    "# fig, ax = plt.subplots()\n",
    "# ims = []\n",
    "# for i in range(len(mat_file.get('melexisG21f10'))):\n",
    "#     im = ax.imshow(np.array(mat_file.get('melexisG21f10')[i]).reshape(24,32))\n",
    "#     ims.append([im])\n",
    "\n",
    "# ani = animation.ArtistAnimation(fig, ims, interval=50, blit=True, repeat_delay=1000)\n",
    "# ani.save(\"melexisG21f10.gif\")"
   ]
  },
  {
   "cell_type": "code",
   "execution_count": 72,
   "id": "b04f4785",
   "metadata": {},
   "outputs": [],
   "source": [
    "# mat_file = io.loadmat('./sensors-19-04565-s001/eHomeSeniors dataset/melexis sensor/datos matlab/melexis-G2-1-f11-data.mat')\n",
    "# fig, ax = plt.subplots()\n",
    "# ims = []\n",
    "# for i in range(len(mat_file.get('melexisG21f11'))):\n",
    "#     im = ax.imshow(np.array(mat_file.get('melexisG21f11')[i]).reshape(24,32))\n",
    "#     ims.append([im])\n",
    "\n",
    "# ani = animation.ArtistAnimation(fig, ims, interval=50, blit=True, repeat_delay=1000)\n",
    "# ani.save(\"melexisG21f11.gif\")"
   ]
  },
  {
   "cell_type": "code",
   "execution_count": 73,
   "id": "73c51da2",
   "metadata": {},
   "outputs": [],
   "source": [
    "# mat_file = io.loadmat('./sensors-19-04565-s001/eHomeSeniors dataset/melexis sensor/datos matlab/melexis-G2-1-f12-data.mat')\n",
    "# fig, ax = plt.subplots()\n",
    "# ims = []\n",
    "# for i in range(len(mat_file.get('melexisG21f12'))):\n",
    "#     im = ax.imshow(np.array(mat_file.get('melexisG21f12')[i]).reshape(24,32))\n",
    "#     ims.append([im])\n",
    "\n",
    "# ani = animation.ArtistAnimation(fig, ims, interval=50, blit=True, repeat_delay=1000)\n",
    "# ani.save(\"melexisG21f12.gif\")"
   ]
  },
  {
   "cell_type": "code",
   "execution_count": 74,
   "id": "3f041139",
   "metadata": {},
   "outputs": [],
   "source": [
    "# mat_file = io.loadmat('./sensors-19-04565-s001/eHomeSeniors dataset/melexis sensor/datos matlab/melexis-G2-1-f13-data.mat')\n",
    "# fig, ax = plt.subplots()\n",
    "# ims = []\n",
    "# for i in range(len(mat_file.get('melexisG21f13'))):\n",
    "#     im = ax.imshow(np.array(mat_file.get('melexisG21f13')[i]).reshape(24,32))\n",
    "#     ims.append([im])\n",
    "\n",
    "# ani = animation.ArtistAnimation(fig, ims, interval=50, blit=True, repeat_delay=1000)\n",
    "# ani.save(\"melexisG21f13.gif\")"
   ]
  },
  {
   "cell_type": "code",
   "execution_count": 75,
   "id": "b015563d",
   "metadata": {},
   "outputs": [],
   "source": [
    "# mat_file = io.loadmat('./sensors-19-04565-s001/eHomeSeniors dataset/melexis sensor/datos matlab/melexis-G2-1-f14-data.mat')\n",
    "# fig, ax = plt.subplots()\n",
    "# ims = []\n",
    "# for i in range(len(mat_file.get('melexisG21f14'))):\n",
    "#     im = ax.imshow(np.array(mat_file.get('melexisG21f14')[i]).reshape(24,32))\n",
    "#     ims.append([im])\n",
    "\n",
    "# ani = animation.ArtistAnimation(fig, ims, interval=50, blit=True, repeat_delay=1000)\n",
    "# ani.save(\"melexisG21f14.gif\")"
   ]
  },
  {
   "cell_type": "code",
   "execution_count": 76,
   "id": "f9630c30",
   "metadata": {},
   "outputs": [],
   "source": [
    "# mat_file = io.loadmat('./sensors-19-04565-s001/eHomeSeniors dataset/melexis sensor/datos matlab/melexis-G2-1-f15-data.mat')\n",
    "# fig, ax = plt.subplots()\n",
    "# ims = []\n",
    "# for i in range(len(mat_file.get('melexisG21f15'))):\n",
    "#     im = ax.imshow(np.array(mat_file.get('melexisG21f15')[i]).reshape(24,32))\n",
    "#     ims.append([im])\n",
    "\n",
    "# ani = animation.ArtistAnimation(fig, ims, interval=50, blit=True, repeat_delay=1000)\n",
    "# ani.save(\"melexisG21f15.gif\")"
   ]
  },
  {
   "cell_type": "code",
   "execution_count": null,
   "id": "2329031a",
   "metadata": {},
   "outputs": [],
   "source": []
  }
 ],
 "metadata": {
  "kernelspec": {
   "display_name": "silcream",
   "language": "python",
   "name": "silcream"
  },
  "language_info": {
   "codemirror_mode": {
    "name": "ipython",
    "version": 3
   },
   "file_extension": ".py",
   "mimetype": "text/x-python",
   "name": "python",
   "nbconvert_exporter": "python",
   "pygments_lexer": "ipython3",
   "version": "3.7.13"
  }
 },
 "nbformat": 4,
 "nbformat_minor": 5
}
